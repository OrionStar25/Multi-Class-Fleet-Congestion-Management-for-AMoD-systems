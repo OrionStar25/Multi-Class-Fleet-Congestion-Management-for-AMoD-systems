{
 "cells": [
  {
   "cell_type": "code",
   "execution_count": 24,
   "metadata": {
    "colab": {
     "base_uri": "https://localhost:8080/",
     "height": 627
    },
    "colab_type": "code",
    "id": "Anm_vCtg02sJ",
    "outputId": "0c28fba4-cd5a-4117-c879-deb2fd650842"
   },
   "outputs": [],
   "source": [
    "import osmnx as ox\n",
    "import networkx as nx\n",
    "import pandas as pd\n",
    "import json\n",
    "import requests\n",
    "import random\n",
    "\n",
    "from rtree import index\n",
    "from shapely.geometry import box\n",
    "from utils import *\n",
    "from collections import defaultdict"
   ]
  },
  {
   "cell_type": "code",
   "execution_count": 2,
   "metadata": {
    "colab": {
     "base_uri": "https://localhost:8080/",
     "height": 52
    },
    "colab_type": "code",
    "id": "RShXcYwX02sk",
    "outputId": "58552f50-8d53-40f8-d879-ad656cef7a2f"
   },
   "outputs": [
    {
     "name": "stdout",
     "output_type": "stream",
     "text": [
      "<class 'networkx.classes.multidigraph.MultiDiGraph'>\n"
     ]
    }
   ],
   "source": [
    "G = ox.save_load.load_graphml(filename=\"Singapore_drive.graphml\")\n",
    "G_ped = ox.save_load.load_graphml(filename=\"Singapore_walk.graphml\")\n",
    "nodes_central = pd.read_pickle('data/Central_nodes.pkl')\n",
    "nodes, edges = ox.graph_to_gdfs(G, nodes=True, edges=True)\n",
    "\n",
    "print(type(G))"
   ]
  },
  {
   "cell_type": "code",
   "execution_count": 3,
   "metadata": {
    "colab": {
     "base_uri": "https://localhost:8080/",
     "height": 104
    },
    "colab_type": "code",
    "id": "yiJwQczp02ti",
    "outputId": "a4428a9c-25e5-455c-8c50-d527851fee00"
   },
   "outputs": [
    {
     "name": "stderr",
     "output_type": "stream",
     "text": [
      "/home/orionstar25/Semester-8-Major-Project/Open Street Maps/Phase 5 - System Optimal Social Model/utils.py:52: SettingWithCopyWarning: \n",
      "A value is trying to be set on a copy of a slice from a DataFrame\n",
      "\n",
      "See the caveats in the documentation: https://pandas.pydata.org/pandas-docs/stable/user_guide/indexing.html#returning-a-view-versus-a-copy\n",
      "  df['MaximumSpeed'][i] = '80'\n"
     ]
    },
    {
     "data": {
      "text/html": [
       "<div>\n",
       "<style scoped>\n",
       "    .dataframe tbody tr th:only-of-type {\n",
       "        vertical-align: middle;\n",
       "    }\n",
       "\n",
       "    .dataframe tbody tr th {\n",
       "        vertical-align: top;\n",
       "    }\n",
       "\n",
       "    .dataframe thead th {\n",
       "        text-align: right;\n",
       "    }\n",
       "</style>\n",
       "<table border=\"1\" class=\"dataframe\">\n",
       "  <thead>\n",
       "    <tr style=\"text-align: right;\">\n",
       "      <th></th>\n",
       "      <th>u</th>\n",
       "      <th>v</th>\n",
       "      <th>key</th>\n",
       "      <th>osmid</th>\n",
       "      <th>oneway</th>\n",
       "      <th>name</th>\n",
       "      <th>highway</th>\n",
       "      <th>maxspeed</th>\n",
       "      <th>length</th>\n",
       "      <th>travel_time</th>\n",
       "      <th>Location</th>\n",
       "      <th>geometry</th>\n",
       "      <th>observed_speed</th>\n",
       "      <th>capacity</th>\n",
       "    </tr>\n",
       "  </thead>\n",
       "  <tbody>\n",
       "    <tr>\n",
       "      <th>0</th>\n",
       "      <td>1820000257</td>\n",
       "      <td>1865254946</td>\n",
       "      <td>0</td>\n",
       "      <td>174765824</td>\n",
       "      <td>True</td>\n",
       "      <td>Tampines Avenue 8</td>\n",
       "      <td>tertiary</td>\n",
       "      <td>60.0</td>\n",
       "      <td>14.248</td>\n",
       "      <td>0.85488</td>\n",
       "      <td>(1.3565805, 103.9326163, 1.3566943, 103.9326752)</td>\n",
       "      <td>LINESTRING (103.93262 1.35658, 103.93268 1.35669)</td>\n",
       "      <td>31.5</td>\n",
       "      <td>4</td>\n",
       "    </tr>\n",
       "    <tr>\n",
       "      <th>1</th>\n",
       "      <td>1820000257</td>\n",
       "      <td>4662056865</td>\n",
       "      <td>0</td>\n",
       "      <td>587044201</td>\n",
       "      <td>True</td>\n",
       "      <td>Tampines Avenue 5</td>\n",
       "      <td>primary</td>\n",
       "      <td>60.0</td>\n",
       "      <td>27.282</td>\n",
       "      <td>1.63692</td>\n",
       "      <td>(1.3565805, 103.9323996, 1.3566955, 103.9326163)</td>\n",
       "      <td>LINESTRING (103.93262 1.35658, 103.93240 1.35670)</td>\n",
       "      <td>31.5</td>\n",
       "      <td>8</td>\n",
       "    </tr>\n",
       "    <tr>\n",
       "      <th>2</th>\n",
       "      <td>3874553858</td>\n",
       "      <td>6995781882</td>\n",
       "      <td>0</td>\n",
       "      <td>384254693</td>\n",
       "      <td>False</td>\n",
       "      <td>Fidelio Street</td>\n",
       "      <td>tertiary</td>\n",
       "      <td>40.0</td>\n",
       "      <td>20.740</td>\n",
       "      <td>1.8666</td>\n",
       "      <td>(1.3191823, 103.9212368, 1.3192215, 103.9214192)</td>\n",
       "      <td>LINESTRING (103.92124 1.31918, 103.92142 1.31922)</td>\n",
       "      <td>34</td>\n",
       "      <td>9</td>\n",
       "    </tr>\n",
       "    <tr>\n",
       "      <th>3</th>\n",
       "      <td>3874553858</td>\n",
       "      <td>3874553861</td>\n",
       "      <td>0</td>\n",
       "      <td>384254631</td>\n",
       "      <td>True</td>\n",
       "      <td>Fidelio Street</td>\n",
       "      <td>tertiary</td>\n",
       "      <td>40.0</td>\n",
       "      <td>15.191</td>\n",
       "      <td>1.3671900000000001</td>\n",
       "      <td>(1.3191111, 103.9211207, 1.3191823, 103.9212368)</td>\n",
       "      <td>LINESTRING (103.92124 1.31918, 103.92112 1.31911)</td>\n",
       "      <td>34</td>\n",
       "      <td>7</td>\n",
       "    </tr>\n",
       "    <tr>\n",
       "      <th>4</th>\n",
       "      <td>1820000259</td>\n",
       "      <td>245190289</td>\n",
       "      <td>0</td>\n",
       "      <td>170861145</td>\n",
       "      <td>True</td>\n",
       "      <td>Tampines Avenue 8</td>\n",
       "      <td>tertiary</td>\n",
       "      <td>60.0</td>\n",
       "      <td>13.573</td>\n",
       "      <td>0.8143800000000001</td>\n",
       "      <td>(1.3565404, 103.9326858, 1.3566471, 103.9327451)</td>\n",
       "      <td>LINESTRING (103.93275 1.35665, 103.93269 1.35654)</td>\n",
       "      <td>31.5</td>\n",
       "      <td>4</td>\n",
       "    </tr>\n",
       "  </tbody>\n",
       "</table>\n",
       "</div>"
      ],
      "text/plain": [
       "            u           v  key      osmid  oneway               name  \\\n",
       "0  1820000257  1865254946    0  174765824    True  Tampines Avenue 8   \n",
       "1  1820000257  4662056865    0  587044201    True  Tampines Avenue 5   \n",
       "2  3874553858  6995781882    0  384254693   False     Fidelio Street   \n",
       "3  3874553858  3874553861    0  384254631    True     Fidelio Street   \n",
       "4  1820000259   245190289    0  170861145    True  Tampines Avenue 8   \n",
       "\n",
       "    highway maxspeed  length         travel_time  \\\n",
       "0  tertiary     60.0  14.248             0.85488   \n",
       "1   primary     60.0  27.282             1.63692   \n",
       "2  tertiary     40.0  20.740              1.8666   \n",
       "3  tertiary     40.0  15.191  1.3671900000000001   \n",
       "4  tertiary     60.0  13.573  0.8143800000000001   \n",
       "\n",
       "                                           Location  \\\n",
       "0  (1.3565805, 103.9326163, 1.3566943, 103.9326752)   \n",
       "1  (1.3565805, 103.9323996, 1.3566955, 103.9326163)   \n",
       "2  (1.3191823, 103.9212368, 1.3192215, 103.9214192)   \n",
       "3  (1.3191111, 103.9211207, 1.3191823, 103.9212368)   \n",
       "4  (1.3565404, 103.9326858, 1.3566471, 103.9327451)   \n",
       "\n",
       "                                            geometry observed_speed  capacity  \n",
       "0  LINESTRING (103.93262 1.35658, 103.93268 1.35669)           31.5         4  \n",
       "1  LINESTRING (103.93262 1.35658, 103.93240 1.35670)           31.5         8  \n",
       "2  LINESTRING (103.92124 1.31918, 103.92142 1.31922)             34         9  \n",
       "3  LINESTRING (103.92124 1.31918, 103.92112 1.31911)             34         7  \n",
       "4  LINESTRING (103.93275 1.35665, 103.93269 1.35654)           31.5         4  "
      ]
     },
     "execution_count": 3,
     "metadata": {},
     "output_type": "execute_result"
    }
   ],
   "source": [
    "# Calculate congestion of network for a time slice\n",
    "\n",
    "f = open(\"../../Traffic speed bands/Fri Feb 14 09_06_16 2020.json\", \"r\").read()\n",
    "x = json.loads(f)\n",
    "speed_bands = pd.DataFrame.from_dict(x, orient='columns')\n",
    "process_speed_band(speed_bands)\n",
    "calculate_congestion(G, edges, speed_bands)\n",
    "\n",
    "edges.head()"
   ]
  },
  {
   "cell_type": "code",
   "execution_count": 4,
   "metadata": {},
   "outputs": [],
   "source": [
    "# Filter out only central SG nodes for trip requests\n",
    "# key: node label ,value: location\n",
    "idx = index.Index()\n",
    "\n",
    "xx = nodes['x'].astype(float)\n",
    "yy = nodes['y'].astype(float)\n",
    "node_id = nodes['osmid']\n",
    "\n",
    "for node, x, y in zip(node_id, xx, yy):\n",
    "    idx.insert(int(node), (x,y,x,y))"
   ]
  },
  {
   "cell_type": "code",
   "execution_count": null,
   "metadata": {},
   "outputs": [],
   "source": [
    "# NEED TO CHANGE INTO NEW SG.OSM FOR DIFFERENT TIME SLICE (BECAUSE OF BPR VALUES AS WEIGHT)"
   ]
  },
  {
   "cell_type": "markdown",
   "metadata": {
    "colab_type": "text",
    "id": "5GdlUOcM02uV"
   },
   "source": [
    "### Middle mile routing"
   ]
  },
  {
   "cell_type": "code",
   "execution_count": 5,
   "metadata": {},
   "outputs": [],
   "source": [
    "def modified_hybrid_search(G, x):\n",
    "    n = len(x)\n",
    "    cutoff = math.floor(n/math.exp(1))\n",
    "    min_pair = x[0]\n",
    "    source = min_pair[0][0]\n",
    "    dest = min_pair[0][1]\n",
    "    min_tt = float('inf')\n",
    "\n",
    "    for i in range(n):\n",
    "        source_x = nodes[nodes['osmid'] == source]['x'].values[0]\n",
    "        source_y = nodes[nodes['osmid'] == source]['y'].values[0]\n",
    "        dest_x = nodes[nodes['osmid'] == dest]['x'].values[0]\n",
    "        dest_y = nodes[nodes['osmid'] == dest]['y'].values[0]\n",
    "\n",
    "        url = \"http://0.0.0.0:5000/route/v1/driving/{},{};{},{}\".format(source_x, source_y, dest_x, dest_y)\n",
    "        r = requests.get(url)\n",
    "        json = r.json()            \n",
    "        travel_time = json['routes'][0]['weight']\n",
    "\n",
    "        # have reached cutoff and didnt find optimal yet\n",
    "        if i > cutoff:\n",
    "            if travel_time < min_tt:\n",
    "                min_tt = travel_time\n",
    "                min_pair = x[i]\n",
    "                break\n",
    "            else:\n",
    "                break\n",
    "        else:\n",
    "            if travel_time < min_tt:\n",
    "                min_tt = travel_time\n",
    "                min_pair = x[i]\n",
    "\n",
    "                if i < n-1:\n",
    "                    if travel_time < x[i+1][1]:\n",
    "                        break\n",
    "                    else:\n",
    "                        source = x[i+1][0][0]\n",
    "                        dest = x[i+1][0][1]\n",
    "                else:\n",
    "                    break\n",
    "            else:\n",
    "                if i < n-1:\n",
    "                    if min_tt < x[i+1][1]:\n",
    "                        break\n",
    "                    else:\n",
    "                        source = x[i+1][0][0]\n",
    "                        dest = x[i+1][0][1]\n",
    "                else:\n",
    "                    break\n",
    "\n",
    "    return min_tt, min_pair[0]"
   ]
  },
  {
   "cell_type": "code",
   "execution_count": 7,
   "metadata": {},
   "outputs": [
    {
     "name": "stdout",
     "output_type": "stream",
     "text": [
      "4715586520 378006753\n",
      "4715586520 309872846\n",
      "4715586520 388122028\n",
      "4715586520 3371653868\n",
      "4715586520 4593195725\n",
      "5992286923 378006753\n",
      "5992286923 309872846\n",
      "5992286923 388122028\n",
      "5992286923 3371653868\n",
      "5992286923 4593195725\n",
      "7030663130 378006753\n",
      "7030663130 309872846\n",
      "7030663130 388122028\n",
      "7030663130 3371653868\n",
      "7030663130 4593195725\n",
      "5239943342 378006753\n",
      "5239943342 309872846\n",
      "5239943342 388122028\n",
      "5239943342 3371653868\n",
      "5239943342 4593195725\n"
     ]
    }
   ],
   "source": [
    "# get 10 random sources from central SG\n",
    "sources = []\n",
    "for i in range(4):\n",
    "    r = random.randint(0,5640)\n",
    "    s = nodes_central['osmid'].values[r]\n",
    "    sources.append(s)\n",
    "\n",
    "# get 20 corresponding random targets from central SG\n",
    "targets = []\n",
    "for i in range(5):\n",
    "    r = random.randint(0,5640)\n",
    "    t = nodes_central['osmid'].values[r]\n",
    "    targets.append(t)\n",
    "\n",
    "# Find optimal transit points for the middle mile\n",
    "AD = []\n",
    "demand = []\n",
    "all_miles = dict()\n",
    "\n",
    "for s in sources:\n",
    "    for t in targets:\n",
    "        print(s, t)\n",
    "        AD.append([s,t])\n",
    "        \n",
    "        orig_point = nodes[nodes['osmid'] == s].geometry.values[0]\n",
    "        target_point = nodes[nodes['osmid'] == t].geometry.values[0]\n",
    "        orig_xy = (orig_point.y, orig_point.x)\n",
    "        target_xy = (target_point.y, target_point.x)\n",
    "\n",
    "        # Max distance for walking is 720m (10 min * 1.2 m/s)\n",
    "        # Find all nodes within 720 m from candidate sources and candidate destinations\n",
    "        candidate_dest = find_nearest_nodes(nodes, target_xy, 400, idx)\n",
    "        candidate_source = find_nearest_nodes(nodes, orig_xy, 400, idx)\n",
    "\n",
    "        if len(candidate_dest) == 0:\n",
    "            candidate_dest.append(ox.get_nearest_node(G, target_xy))\n",
    "\n",
    "        if len(candidate_source) == 0:\n",
    "            candidate_source.append(ox.get_nearest_node(G, orig_xy))\n",
    "\n",
    "        euclidean = get_length_dict(nodes, candidate_source, candidate_dest)\n",
    "        _, OD = modified_hybrid_search(G, euclidean)\n",
    "        demand.append(OD)\n",
    "        \n",
    "        # first mile\n",
    "        all_miles[()]\n",
    "        # last mile\n",
    "    \n",
    "trips = dict()\n",
    "for d in demand:\n",
    "    trips[d[0]] = list()\n",
    "    \n",
    "for d in demand:\n",
    "    trips[d[0]].append(d[1])\n",
    "trips"
   ]
  },
  {
   "cell_type": "code",
   "execution_count": 57,
   "metadata": {},
   "outputs": [
    {
     "name": "stdout",
     "output_type": "stream",
     "text": [
      "No. of requests:  40\n"
     ]
    }
   ],
   "source": [
    "# Convert to .tntp files for Frank Wolfe\n",
    "# make_nodes_tntp(nodes)\n",
    "# make_net_tntp(edges)\n",
    "# make_trips_tntp(trips)"
   ]
  },
  {
   "cell_type": "markdown",
   "metadata": {
    "colab_type": "text",
    "id": "KYKbhy7YB5QM"
   },
   "source": [
    "## First mile"
   ]
  },
  {
   "cell_type": "code",
   "execution_count": 12,
   "metadata": {
    "colab": {},
    "colab_type": "code",
    "id": "KmaI4xB0h9P7"
   },
   "outputs": [],
   "source": [
    "# use pedestrain network only----> change this\n",
    "def print_route(route):\n",
    "  i = 0\n",
    "  n = len(route)\n",
    "\n",
    "  for i in range(n):\n",
    "    for nei,w in G_whole[route[i]].items():\n",
    "      if i+1 != n:\n",
    "        if nei == route[i+1]:\n",
    "          print(w[0].get('highway'), w[0].get('length'))"
   ]
  },
  {
   "cell_type": "code",
   "execution_count": 31,
   "metadata": {
    "colab": {
     "base_uri": "https://localhost:8080/",
     "height": 139
    },
    "colab_type": "code",
    "id": "3tZfPILUdfcV",
    "outputId": "090cb355-ed73-4bf1-92a0-e812179c0a11"
   },
   "outputs": [
    {
     "name": "stdout",
     "output_type": "stream",
     "text": [
      "residential 102.051\n",
      "residential 7.747\n",
      "residential 32.174\n",
      "residential 124.57300000000001\n",
      "residential 56.33\n",
      "Distance from X to A:  482.23028553412615\n",
      "Distance from A to B:  322.875\n"
     ]
    }
   ],
   "source": [
    "orig_point = nodes[nodes['osmid'] == AD[0][0]].geometry.values[0]\n",
    "orig_xy = (orig_point.y, orig_point.x)\n",
    "orig_node, dist = ox.get_nearest_node(G_ped, orig_xy, method='haversine', return_dist = True)\n",
    "\n",
    "target_point = nodes[nodes['osmid'] == demand[0][0]].geometry.values[0]\n",
    "target_xy = (target_point.y, target_point.x)\n",
    "target_node = demand[0][0]\n",
    "\n",
    "first_mile_length, first_mile = nx.single_source_dijkstra(G_ped, orig_node, target_node, weight='length')\n",
    "\n",
    "print_route(first_mile)\n",
    "print(\"Distance from X to A: \", dist) # in metres\n",
    "print(\"Distance from A to B: \", first_mile_length) # in metres"
   ]
  },
  {
   "cell_type": "markdown",
   "metadata": {
    "colab_type": "text",
    "id": "J7fMJfToCaRX"
   },
   "source": [
    "### Last Mile"
   ]
  },
  {
   "cell_type": "code",
   "execution_count": 32,
   "metadata": {
    "colab": {
     "base_uri": "https://localhost:8080/",
     "height": 225
    },
    "colab_type": "code",
    "id": "dvp8SlVrj3ji",
    "outputId": "8f006230-837f-4064-c26b-557298b67465"
   },
   "outputs": [
    {
     "name": "stdout",
     "output_type": "stream",
     "text": [
      "primary 561.0409999999999\n",
      "primary 31.486\n",
      "primary 10.98\n",
      "primary 17.553\n",
      "primary 11.666\n",
      "primary 26.612\n",
      "primary 256.842\n",
      "primary 9.377\n",
      "tertiary 13.573\n",
      "primary 8.92\n",
      "Distance from C to D:  948.0499999999998\n",
      "Distance from D to Y:  0.0\n"
     ]
    }
   ],
   "source": [
    "target_node, dist = ox.get_nearest_node(G_whole, target_xy, method='haversine', return_dist= True)\n",
    "last_mile = nx.shortest_path(G_whole, sd_pair[0][1], target_node, weight='length', method='dijkstra')\n",
    "last_mile_length = nx.shortest_path_length(G_whole, sd_pair[0][1], target_node, weight='length', method='dijkstra')\n",
    "\n",
    "print_route(last_mile)\n",
    "print(\"Distance from C to D: \", last_mile_length)\n",
    "print(\"Distance from D to Y: \", dist)"
   ]
  },
  {
   "cell_type": "code",
   "execution_count": null,
   "metadata": {},
   "outputs": [],
   "source": []
  }
 ],
 "metadata": {
  "accelerator": "GPU",
  "colab": {
   "collapsed_sections": [],
   "name": "Hybrid_congestion_aware_routing.ipynb",
   "provenance": []
  },
  "kernelspec": {
   "display_name": "Python 3",
   "language": "python",
   "name": "python3"
  },
  "language_info": {
   "codemirror_mode": {
    "name": "ipython",
    "version": 3
   },
   "file_extension": ".py",
   "mimetype": "text/x-python",
   "name": "python",
   "nbconvert_exporter": "python",
   "pygments_lexer": "ipython3",
   "version": "3.6.10"
  }
 },
 "nbformat": 4,
 "nbformat_minor": 1
}
