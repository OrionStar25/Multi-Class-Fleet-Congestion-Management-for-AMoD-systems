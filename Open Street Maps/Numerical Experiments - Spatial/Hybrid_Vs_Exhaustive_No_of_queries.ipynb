{
 "cells": [
  {
   "cell_type": "code",
   "execution_count": 0,
   "metadata": {
    "colab": {
     "base_uri": "https://localhost:8080/",
     "height": 193
    },
    "colab_type": "code",
    "id": "mF0kte2iEAEU",
    "outputId": "59585347-7399-436a-eca5-763dca5562ea"
   },
   "outputs": [
    {
     "name": "stdout",
     "output_type": "stream",
     "text": [
      "Go to this URL in a browser: https://accounts.google.com/o/oauth2/auth?client_id=947318989803-6bn6qk8qdgf4n4g3pfee6491hc0brc4i.apps.googleusercontent.com&redirect_uri=urn%3aietf%3awg%3aoauth%3a2.0%3aoob&response_type=code&scope=email%20https%3a%2f%2fwww.googleapis.com%2fauth%2fdocs.test%20https%3a%2f%2fwww.googleapis.com%2fauth%2fdrive%20https%3a%2f%2fwww.googleapis.com%2fauth%2fdrive.photos.readonly%20https%3a%2f%2fwww.googleapis.com%2fauth%2fpeopleapi.readonly\n",
      "\n",
      "Enter your authorization code:\n",
      "··········\n",
      "Mounted at /content/drive/\n",
      "/content/drive/My Drive/Sem 8 files\n",
      " data\t\t\t\t  __pycache__\n",
      " euclidean_distances.json\t  Shortest_path_lengths.pkl\n",
      "'Fri Feb 14 09_06_16 2020.json'   utils.py\n"
     ]
    }
   ],
   "source": [
    "from google.colab import drive\n",
    "drive.mount('/content/drive/')\n",
    "%cd drive/My \\Drive/Sem \\8 \\files/\n",
    "!ls"
   ]
  },
  {
   "cell_type": "code",
   "execution_count": 0,
   "metadata": {
    "colab": {
     "base_uri": "https://localhost:8080/",
     "height": 1000
    },
    "colab_type": "code",
    "id": "Anm_vCtg02sJ",
    "outputId": "6d2c7d8d-a8a7-4993-b772-32dc1eadb357"
   },
   "outputs": [
    {
     "name": "stdout",
     "output_type": "stream",
     "text": [
      "Reading package lists... Done\n",
      "Building dependency tree       \n",
      "Reading state information... Done\n",
      "The following additional packages will be installed:\n",
      "  libspatialindex4v5\n",
      "The following NEW packages will be installed:\n",
      "  libspatialindex-c4v5 libspatialindex4v5\n",
      "0 upgraded, 2 newly installed, 0 to remove and 25 not upgraded.\n",
      "Need to get 270 kB of archives.\n",
      "After this operation, 1,107 kB of additional disk space will be used.\n",
      "Get:1 http://archive.ubuntu.com/ubuntu bionic/universe amd64 libspatialindex4v5 amd64 1.8.5-5 [219 kB]\n",
      "Get:2 http://archive.ubuntu.com/ubuntu bionic/universe amd64 libspatialindex-c4v5 amd64 1.8.5-5 [51.7 kB]\n",
      "Fetched 270 kB in 1s (366 kB/s)\n",
      "Selecting previously unselected package libspatialindex4v5:amd64.\n",
      "(Reading database ... 144568 files and directories currently installed.)\n",
      "Preparing to unpack .../libspatialindex4v5_1.8.5-5_amd64.deb ...\n",
      "Unpacking libspatialindex4v5:amd64 (1.8.5-5) ...\n",
      "Selecting previously unselected package libspatialindex-c4v5:amd64.\n",
      "Preparing to unpack .../libspatialindex-c4v5_1.8.5-5_amd64.deb ...\n",
      "Unpacking libspatialindex-c4v5:amd64 (1.8.5-5) ...\n",
      "Setting up libspatialindex4v5:amd64 (1.8.5-5) ...\n",
      "Setting up libspatialindex-c4v5:amd64 (1.8.5-5) ...\n",
      "Processing triggers for libc-bin (2.27-3ubuntu1) ...\n",
      "/sbin/ldconfig.real: /usr/local/lib/python3.6/dist-packages/ideep4py/lib/libmkldnn.so.0 is not a symbolic link\n",
      "\n",
      "Collecting osmnx\n",
      "\u001b[?25l  Downloading https://files.pythonhosted.org/packages/ec/b1/19db159f912ca27e35968c2b89cf70014535999c1213ae005c32dbb42f4c/osmnx-0.11.4-py2.py3-none-any.whl (77kB)\n",
      "\u001b[K     |████████████████████████████████| 81kB 3.0MB/s \n",
      "\u001b[?25hRequirement already satisfied: Shapely>=1.7 in /usr/local/lib/python3.6/dist-packages (from osmnx) (1.7.0)\n",
      "Collecting requests>=2.22\n",
      "\u001b[?25l  Downloading https://files.pythonhosted.org/packages/1a/70/1935c770cb3be6e3a8b78ced23d7e0f3b187f5cbfab4749523ed65d7c9b1/requests-2.23.0-py2.py3-none-any.whl (58kB)\n",
      "\u001b[K     |████████████████████████████████| 61kB 8.3MB/s \n",
      "\u001b[?25hCollecting pyproj>=2.4\n",
      "\u001b[?25l  Downloading https://files.pythonhosted.org/packages/ce/37/705ee471f71130d4ceee41bbcb06f3b52175cb89273cbb5755ed5e6374e0/pyproj-2.6.0-cp36-cp36m-manylinux2010_x86_64.whl (10.4MB)\n",
      "\u001b[K     |████████████████████████████████| 10.4MB 48.5MB/s \n",
      "\u001b[?25hCollecting Rtree>=0.9\n",
      "\u001b[?25l  Downloading https://files.pythonhosted.org/packages/56/6f/f1e91001d5ad9fa9bed65875152f5a1c7955c5763168cae309546e6e9fda/Rtree-0.9.4.tar.gz (62kB)\n",
      "\u001b[K     |████████████████████████████████| 71kB 9.2MB/s \n",
      "\u001b[?25hRequirement already satisfied: matplotlib>=3.1 in /usr/local/lib/python3.6/dist-packages (from osmnx) (3.2.1)\n",
      "Collecting geopandas>=0.6\n",
      "\u001b[?25l  Downloading https://files.pythonhosted.org/packages/83/c5/3cf9cdc39a6f2552922f79915f36b45a95b71fd343cfc51170a5b6ddb6e8/geopandas-0.7.0-py2.py3-none-any.whl (928kB)\n",
      "\u001b[K     |████████████████████████████████| 931kB 45.3MB/s \n",
      "\u001b[?25hRequirement already satisfied: networkx>=2.4 in /usr/local/lib/python3.6/dist-packages (from osmnx) (2.4)\n",
      "Requirement already satisfied: pandas>=1.0 in /usr/local/lib/python3.6/dist-packages (from osmnx) (1.0.3)\n",
      "Requirement already satisfied: descartes>=1.1 in /usr/local/lib/python3.6/dist-packages (from osmnx) (1.1.0)\n",
      "Requirement already satisfied: numpy>=1.17 in /usr/local/lib/python3.6/dist-packages (from osmnx) (1.18.2)\n",
      "Requirement already satisfied: certifi>=2017.4.17 in /usr/local/lib/python3.6/dist-packages (from requests>=2.22->osmnx) (2019.11.28)\n",
      "Requirement already satisfied: urllib3!=1.25.0,!=1.25.1,<1.26,>=1.21.1 in /usr/local/lib/python3.6/dist-packages (from requests>=2.22->osmnx) (1.24.3)\n",
      "Requirement already satisfied: chardet<4,>=3.0.2 in /usr/local/lib/python3.6/dist-packages (from requests>=2.22->osmnx) (3.0.4)\n",
      "Requirement already satisfied: idna<3,>=2.5 in /usr/local/lib/python3.6/dist-packages (from requests>=2.22->osmnx) (2.8)\n",
      "Requirement already satisfied: setuptools in /usr/local/lib/python3.6/dist-packages (from Rtree>=0.9->osmnx) (46.1.3)\n",
      "Requirement already satisfied: pyparsing!=2.0.4,!=2.1.2,!=2.1.6,>=2.0.1 in /usr/local/lib/python3.6/dist-packages (from matplotlib>=3.1->osmnx) (2.4.6)\n",
      "Requirement already satisfied: python-dateutil>=2.1 in /usr/local/lib/python3.6/dist-packages (from matplotlib>=3.1->osmnx) (2.8.1)\n",
      "Requirement already satisfied: kiwisolver>=1.0.1 in /usr/local/lib/python3.6/dist-packages (from matplotlib>=3.1->osmnx) (1.2.0)\n",
      "Requirement already satisfied: cycler>=0.10 in /usr/local/lib/python3.6/dist-packages (from matplotlib>=3.1->osmnx) (0.10.0)\n",
      "Collecting fiona\n",
      "\u001b[?25l  Downloading https://files.pythonhosted.org/packages/ec/20/4e63bc5c6e62df889297b382c3ccd4a7a488b00946aaaf81a118158c6f09/Fiona-1.8.13.post1-cp36-cp36m-manylinux1_x86_64.whl (14.7MB)\n",
      "\u001b[K     |████████████████████████████████| 14.7MB 34.3MB/s \n",
      "\u001b[?25hRequirement already satisfied: decorator>=4.3.0 in /usr/local/lib/python3.6/dist-packages (from networkx>=2.4->osmnx) (4.4.2)\n",
      "Requirement already satisfied: pytz>=2017.2 in /usr/local/lib/python3.6/dist-packages (from pandas>=1.0->osmnx) (2018.9)\n",
      "Requirement already satisfied: six>=1.5 in /usr/local/lib/python3.6/dist-packages (from python-dateutil>=2.1->matplotlib>=3.1->osmnx) (1.12.0)\n",
      "Requirement already satisfied: click<8,>=4.0 in /usr/local/lib/python3.6/dist-packages (from fiona->geopandas>=0.6->osmnx) (7.1.1)\n",
      "Collecting cligj>=0.5\n",
      "  Downloading https://files.pythonhosted.org/packages/e4/be/30a58b4b0733850280d01f8bd132591b4668ed5c7046761098d665ac2174/cligj-0.5.0-py3-none-any.whl\n",
      "Collecting click-plugins>=1.0\n",
      "  Downloading https://files.pythonhosted.org/packages/e9/da/824b92d9942f4e472702488857914bdd50f73021efea15b4cad9aca8ecef/click_plugins-1.1.1-py2.py3-none-any.whl\n",
      "Collecting munch\n",
      "  Downloading https://files.pythonhosted.org/packages/cc/ab/85d8da5c9a45e072301beb37ad7f833cd344e04c817d97e0cc75681d248f/munch-2.5.0-py2.py3-none-any.whl\n",
      "Requirement already satisfied: attrs>=17 in /usr/local/lib/python3.6/dist-packages (from fiona->geopandas>=0.6->osmnx) (19.3.0)\n",
      "Building wheels for collected packages: Rtree\n",
      "  Building wheel for Rtree (setup.py) ... \u001b[?25l\u001b[?25hdone\n",
      "  Created wheel for Rtree: filename=Rtree-0.9.4-cp36-none-any.whl size=21766 sha256=5dc0316ae75a87487151e9ecbb037f23b54bc4ca4d578e8fc9d854230da252a0\n",
      "  Stored in directory: /root/.cache/pip/wheels/ff/20/c5/0004ef7acb96745ec99be960053902b0b414a2aa2dcad5834e\n",
      "Successfully built Rtree\n",
      "\u001b[31mERROR: google-colab 1.0.0 has requirement requests~=2.21.0, but you'll have requests 2.23.0 which is incompatible.\u001b[0m\n",
      "\u001b[31mERROR: datascience 0.10.6 has requirement folium==0.2.1, but you'll have folium 0.8.3 which is incompatible.\u001b[0m\n",
      "Installing collected packages: requests, pyproj, Rtree, cligj, click-plugins, munch, fiona, geopandas, osmnx\n",
      "  Found existing installation: requests 2.21.0\n",
      "    Uninstalling requests-2.21.0:\n",
      "      Successfully uninstalled requests-2.21.0\n",
      "Successfully installed Rtree-0.9.4 click-plugins-1.1.1 cligj-0.5.0 fiona-1.8.13.post1 geopandas-0.7.0 munch-2.5.0 osmnx-0.11.4 pyproj-2.6.0 requests-2.23.0\n"
     ]
    }
   ],
   "source": [
    "!apt-get install -y libspatialindex-c4v5\n",
    "!pip3.6 install osmnx\n",
    "\n",
    "import osmnx as ox\n",
    "import networkx as nx\n",
    "import pandas as pd\n",
    "import json\n",
    "import random\n",
    "import statistics\n",
    "import numpy as np\n",
    "\n",
    "from rtree import index\n",
    "from utils import *"
   ]
  },
  {
   "cell_type": "code",
   "execution_count": 0,
   "metadata": {
    "colab": {
     "base_uri": "https://localhost:8080/",
     "height": 34
    },
    "colab_type": "code",
    "id": "RShXcYwX02sk",
    "outputId": "70928b05-3225-4e77-ba4a-f7b5f2818115"
   },
   "outputs": [
    {
     "data": {
      "text/plain": [
       "networkx.classes.multidigraph.MultiDiGraph"
      ]
     },
     "execution_count": 4,
     "metadata": {
      "tags": []
     },
     "output_type": "execute_result"
    }
   ],
   "source": [
    "place_name = \"Singapore, Central, Singapore\"\n",
    "G = ox.save_load.load_graphml(filename=\"Singapore_drive_processed.graphml\")\n",
    "\n",
    "# Stores nodes and edges mapped with speed bands along with other attributes\n",
    "type(G)"
   ]
  },
  {
   "cell_type": "code",
   "execution_count": 0,
   "metadata": {
    "colab": {},
    "colab_type": "code",
    "id": "S1NMV7e402s9"
   },
   "outputs": [],
   "source": [
    "edges = ox.graph_to_gdfs(G, nodes=False, edges=True)\n",
    "nodes = pd.read_pickle('data/nodes_drive.pkl')"
   ]
  },
  {
   "cell_type": "code",
   "execution_count": 0,
   "metadata": {
    "colab": {
     "base_uri": "https://localhost:8080/",
     "height": 104
    },
    "colab_type": "code",
    "id": "yiJwQczp02ti",
    "outputId": "426087ef-77c2-4cfb-a771-696d8ec5a4a0"
   },
   "outputs": [
    {
     "name": "stderr",
     "output_type": "stream",
     "text": [
      "/content/drive/My Drive/Sem 8 files/utils.py:51: SettingWithCopyWarning: \n",
      "A value is trying to be set on a copy of a slice from a DataFrame\n",
      "\n",
      "See the caveats in the documentation: https://pandas.pydata.org/pandas-docs/stable/user_guide/indexing.html#returning-a-view-versus-a-copy\n",
      "  df['MaximumSpeed'][i] = '80'\n"
     ]
    }
   ],
   "source": [
    "f = open(\"Fri Feb 14 09_06_16 2020.json\", \"r\").read()\n",
    "x = json.loads(f)\n",
    "\n",
    "speed_bands = pd.DataFrame.from_dict(x, orient='columns')\n",
    "process_speed_band(speed_bands)"
   ]
  },
  {
   "cell_type": "code",
   "execution_count": 0,
   "metadata": {
    "colab": {},
    "colab_type": "code",
    "id": "j4ucj9bU02uI"
   },
   "outputs": [],
   "source": [
    "calculate_congestion(G, edges, speed_bands)"
   ]
  },
  {
   "cell_type": "code",
   "execution_count": 0,
   "metadata": {
    "colab": {},
    "colab_type": "code",
    "id": "DXvM1T3-D588"
   },
   "outputs": [],
   "source": [
    "# Filter out all bus stop nodes\n",
    "# key: node label ,value: location\n",
    "idx = index.Index()\n",
    "\n",
    "xx = nodes['x'].astype(float)\n",
    "yy = nodes['y'].astype(float)\n",
    "node_id = nodes['osmid']\n",
    "node_type = nodes['highway']\n",
    "\n",
    "# nan = 18823\n",
    "\n",
    "# speed_camera = 2\n",
    "# motorway_junction = 222\n",
    "# turning_circle = 79\n",
    "# crossing = 27\n",
    "# turning_loop = 26\n",
    "# mini_roundabout = 6\n",
    "# traffic signals = 4031\n",
    "\n",
    "for node, x, y, kind in zip(node_id, xx, yy, node_type):\n",
    "    if type(kind) == float:\n",
    "      idx.insert(int(node), (x,y,x,y))"
   ]
  },
  {
   "cell_type": "markdown",
   "metadata": {
    "colab_type": "text",
    "id": "pCb2mwI6D584"
   },
   "source": [
    "### Calculate Variance"
   ]
  },
  {
   "cell_type": "code",
   "execution_count": 0,
   "metadata": {
    "colab": {},
    "colab_type": "code",
    "id": "W8E0y9fFD59I"
   },
   "outputs": [],
   "source": [
    "def find_nearest_nodes(nodes, source, dist, idx):\n",
    "    # Create a bounding box around source of min distance in all directions\n",
    "    (north, south, east, west) = ox.bbox_from_point(point=source, distance=dist)\n",
    "    \n",
    "    candidate_nodes = []\n",
    "    initial = list(idx.intersection((west, south, east, north)))   \n",
    "    for node in initial:\n",
    "      x = haversine_distance(nodes, node, source)\n",
    "      if x <= dist:\n",
    "        candidate_nodes.append(node)\n",
    "\n",
    "    return candidate_nodes"
   ]
  },
  {
   "cell_type": "code",
   "execution_count": 0,
   "metadata": {
    "colab": {},
    "colab_type": "code",
    "id": "Q-zt3gxTD59T"
   },
   "outputs": [],
   "source": [
    "def get_length_dict(sources, destinations, method='euclidean'):\n",
    "    distances = dict()\n",
    "    \n",
    "    if method == 'euclidean':\n",
    "        for source in sources:        \n",
    "            for dest in destinations:\n",
    "                ed = haversine_distance(nodes, source, dest)\n",
    "                distances[source,dest] = ed/13.8889\n",
    "    else:\n",
    "        for source in sources:        \n",
    "            for dest in destinations:\n",
    "                try:\n",
    "                    # dijsktra distance in sec\n",
    "                    d = nx.shortest_path_length(G, source, dest, weight='BPR', method='dijkstra')\n",
    "                except nx.NetworkXUnfeasible:\n",
    "                    d = float('inf')\n",
    "                distances[(source,dest)] = d\n",
    "       \n",
    "    # sort the dictionary in ascending order using distances\n",
    "    x = sorted(distances.items(), key = lambda kv:(kv[1], kv[0]))\n",
    "    return x    "
   ]
  },
  {
   "cell_type": "code",
   "execution_count": 0,
   "metadata": {
    "colab": {},
    "colab_type": "code",
    "id": "0HqgnHbT4fmx"
   },
   "outputs": [],
   "source": [
    "def hybrid_search_count(G, x):\n",
    "    n = len(x)\n",
    "    min_pair = x[0]\n",
    "    source = min_pair[0][0]\n",
    "    dest = min_pair[0][1]\n",
    "    min_tt = float('inf')\n",
    "    final_route = []\n",
    "    count = 0\n",
    "\n",
    "    for i in range(n):\n",
    "        try:            \n",
    "            travel_time = nx.shortest_path_length(G, source, dest, weight='BPR', method='dijkstra')\n",
    "            count = count + 1\n",
    "        except nx.NetworkXUnfeasible:\n",
    "            continue\n",
    "\n",
    "        if travel_time < min_tt:\n",
    "            min_tt = travel_time\n",
    "            min_pair = x[i]\n",
    "\n",
    "            if i < n-1:\n",
    "                if travel_time < x[i+1][1]:\n",
    "                    break\n",
    "                else:\n",
    "                    source = x[i+1][0][0]\n",
    "                    dest = x[i+1][0][1]\n",
    "            else:\n",
    "                break\n",
    "        else:\n",
    "            if i < n-1:\n",
    "                if min_tt < x[i+1][1]:\n",
    "                    break\n",
    "                else:\n",
    "                    source = x[i+1][0][0]\n",
    "                    dest = x[i+1][0][1]\n",
    "            else:\n",
    "                break\n",
    "\n",
    "    return count, min_tt"
   ]
  },
  {
   "cell_type": "code",
   "execution_count": 0,
   "metadata": {
    "colab": {},
    "colab_type": "code",
    "id": "KU0UougTpgBK"
   },
   "outputs": [],
   "source": [
    "def lets_do_this():\n",
    "  # get 10 random sources\n",
    "  sources = []\n",
    "  for i in range(20):\n",
    "      r = random.randint(0,23210)\n",
    "      s = nodes['osmid'].values[r]\n",
    "      sources.append(s)\n",
    "      \n",
    "  # get 10 correspondig random targets\n",
    "  targets = []\n",
    "  for i in range(20):\n",
    "      r = random.randint(0,23210)\n",
    "      t = nodes['osmid'].values[r]\n",
    "      targets.append(t)\n",
    "\n",
    "  exhaustive = []\n",
    "  hybrid = []\n",
    "  for s,t in zip(sources,targets):\n",
    "      orig_point = nodes[nodes['osmid'] == s].geometry.values[0]\n",
    "      target_point = nodes[nodes['osmid'] == t].geometry.values[0]\n",
    "      orig_xy = (orig_point.y, orig_point.x)\n",
    "      target_xy = (target_point.y, target_point.x)\n",
    "      \n",
    "      # Max distance for walking is 720m (10 min * 1.2 m/s)\n",
    "      # Find all nodes within 720 m from candidate sources and candidate destinations\n",
    "      candidate_dest = find_nearest_nodes(nodes, target_xy, 500, idx)\n",
    "      candidate_source = find_nearest_nodes(nodes, orig_xy, 500, idx)\n",
    "\n",
    "      if len(candidate_dest) == 0:\n",
    "        candidate_dest.append(ox.get_nearest_node(G, target_xy))\n",
    "      \n",
    "      if len(candidate_source) == 0:\n",
    "        candidate_source.append(ox.get_nearest_node(G, orig_xy))\n",
    "\n",
    "      value1 = len(candidate_dest) * len(candidate_source)\n",
    "      print(value1)\n",
    "      exhaustive.append(value1)\n",
    "           \n",
    "      euclidean = get_length_dict(candidate_source, candidate_dest)\n",
    "      value2, tt = hybrid_search_count(G, euclidean)\n",
    "      hybrid.append(value2)\n",
    "\n",
    "      saved = ((value1 - value2)/value1) * 100\n",
    "      \n",
    "      print(saved)\n",
    "      \n",
    "  return exhaustive, hybrid"
   ]
  },
  {
   "cell_type": "code",
   "execution_count": 0,
   "metadata": {
    "colab": {},
    "colab_type": "code",
    "id": "CVprJshmD59h"
   },
   "outputs": [],
   "source": [
    "exhaustive, hybrid = lets_do_this()"
   ]
  },
  {
   "cell_type": "code",
   "execution_count": 0,
   "metadata": {
    "colab": {},
    "colab_type": "code",
    "id": "--wOISEHJv2k"
   },
   "outputs": [],
   "source": [
    "exhaustive = [2166, 1425, 3150, 340, 2144, 1587, 1575, 2686, 1778, 7072, 5600, 3096, 455, 5967, 1116, 1056, 2380, 812, 3672, 200, 2277, 5396, 442, 1652, 1705, 3740, 1836, 2310, 5452, 6004, 465, 864, 2352, 3009, 7316, 2656, 1920, 729, 280, 858]"
   ]
  },
  {
   "cell_type": "code",
   "execution_count": 0,
   "metadata": {
    "colab": {},
    "colab_type": "code",
    "id": "R9RIZu7qJx-c"
   },
   "outputs": [],
   "source": [
    "hybrid = [2166, 190, 3150, 0, 2144, 225, 1575, 236, 1778, 7072, 172, 3096, 165, 1415, 1116, 1056, 0, 10, 373, 200, 2277, 5396, 2, 1652, 1705, 3740, 1836, 2310, 5452, 5924, 465, 864, 19, 3009, 7316, 2656, 171, 729, 280, 29]"
   ]
  },
  {
   "cell_type": "code",
   "execution_count": 100,
   "metadata": {
    "colab": {
     "base_uri": "https://localhost:8080/",
     "height": 746
    },
    "colab_type": "code",
    "id": "eaUNXkGnO3YP",
    "outputId": "24ada20d-81fd-4933-a4bc-6d96af64ad6a"
   },
   "outputs": [
    {
     "name": "stdout",
     "output_type": "stream",
     "text": [
      "Number of queries\n",
      "Exhaustive || Hybrid || Saved %\n",
      "2166 2166 0.0\n",
      "1425 190 86.66666666666667\n",
      "3150 3150 0.0\n",
      "340 0 100.0\n",
      "2144 2144 0.0\n",
      "1587 225 85.82230623818525\n",
      "1575 1575 0.0\n",
      "2686 236 91.21370067014148\n",
      "1778 1778 0.0\n",
      "7072 7072 0.0\n",
      "5600 172 96.92857142857143\n",
      "3096 3096 0.0\n",
      "455 165 63.73626373626373\n",
      "5967 1415 76.28624099212334\n",
      "1116 1116 0.0\n",
      "1056 1056 0.0\n",
      "2380 0 100.0\n",
      "812 10 98.76847290640394\n",
      "3672 373 89.84204793028321\n",
      "200 200 0.0\n",
      "2277 2277 0.0\n",
      "5396 5396 0.0\n",
      "442 2 99.5475113122172\n",
      "1652 1652 0.0\n",
      "1705 1705 0.0\n",
      "3740 3740 0.0\n",
      "1836 1836 0.0\n",
      "2310 2310 0.0\n",
      "5452 5452 0.0\n",
      "6004 5924 1.3324450366422385\n",
      "465 465 0.0\n",
      "864 864 0.0\n",
      "2352 19 99.1921768707483\n",
      "3009 3009 0.0\n",
      "7316 7316 0.0\n",
      "2656 2656 0.0\n",
      "1920 171 91.09375\n",
      "729 729 0.0\n",
      "280 280 0.0\n",
      "858 29 96.62004662004662\n"
     ]
    }
   ],
   "source": [
    "print(\"Number of queries\")\n",
    "print(\"Exhaustive || Hybrid || Saved %\")\n",
    "sav = []\n",
    "for e,h in zip(exhaustive, hybrid):\n",
    "  saved = ((e-h)/e)*100\n",
    "  print(e,h,saved)\n",
    "  sav.append(saved)"
   ]
  },
  {
   "cell_type": "code",
   "execution_count": 101,
   "metadata": {
    "colab": {
     "base_uri": "https://localhost:8080/",
     "height": 86
    },
    "colab_type": "code",
    "id": "7LgU3jZVMxiS",
    "outputId": "4d347f60-af28-43ff-fb0c-44b399ee60c4"
   },
   "outputs": [
    {
     "name": "stdout",
     "output_type": "stream",
     "text": [
      "Average\n",
      "Exhaustive: 2488.5\n",
      "Hybrid: 1799.275\n",
      "Saved%: 31.926255010207335\n"
     ]
    }
   ],
   "source": [
    "print(\"Average\")\n",
    "print(\"Exhaustive:\", statistics.mean(exhaustive))\n",
    "print(\"Hybrid:\", statistics.mean(hybrid))\n",
    "print(\"Saved%:\", statistics.mean(sav))"
   ]
  }
 ],
 "metadata": {
  "accelerator": "TPU",
  "colab": {
   "collapsed_sections": [],
   "name": "Hybrid Vs Exhaustive: No of queries.ipynb",
   "provenance": []
  },
  "kernelspec": {
   "display_name": "Python 3",
   "language": "python",
   "name": "python3"
  },
  "language_info": {
   "codemirror_mode": {
    "name": "ipython",
    "version": 3
   },
   "file_extension": ".py",
   "mimetype": "text/x-python",
   "name": "python",
   "nbconvert_exporter": "python",
   "pygments_lexer": "ipython3",
   "version": "3.6.10"
  }
 },
 "nbformat": 4,
 "nbformat_minor": 1
}
