{
 "cells": [
  {
   "cell_type": "code",
   "execution_count": 1,
   "metadata": {
    "colab": {
     "base_uri": "https://localhost:8080/",
     "height": 1000
    },
    "colab_type": "code",
    "id": "Anm_vCtg02sJ",
    "outputId": "97319dbc-8ceb-4855-a8f4-412ea96bd836"
   },
   "outputs": [],
   "source": [
    "import osmnx as ox\n",
    "import networkx as nx\n",
    "import pandas as pd\n",
    "import json\n",
    "import random\n",
    "import statistics\n",
    "import numpy as np\n",
    "import matplotlib.pyplot as plt\n",
    "import requests\n",
    "\n",
    "from rtree import index\n",
    "from utils import *"
   ]
  },
  {
   "cell_type": "code",
   "execution_count": 2,
   "metadata": {
    "colab": {
     "base_uri": "https://localhost:8080/",
     "height": 34
    },
    "colab_type": "code",
    "id": "RShXcYwX02sk",
    "outputId": "d6e88837-528b-4ae5-9718-f75976e5e857"
   },
   "outputs": [
    {
     "data": {
      "text/plain": [
       "networkx.classes.multidigraph.MultiDiGraph"
      ]
     },
     "execution_count": 2,
     "metadata": {},
     "output_type": "execute_result"
    }
   ],
   "source": [
    "place_name = \"Singapore, Central, Singapore\"\n",
    "G = ox.save_load.load_graphml(filename=\"Singapore_drive_processed.graphml\")\n",
    "\n",
    "# Stores nodes and edges mapped with speed bands along with other attributes\n",
    "type(G)"
   ]
  },
  {
   "cell_type": "code",
   "execution_count": 3,
   "metadata": {
    "colab": {},
    "colab_type": "code",
    "id": "S1NMV7e402s9"
   },
   "outputs": [],
   "source": [
    "edges = ox.graph_to_gdfs(G, nodes=False, edges=True)\n",
    "nodes = pd.read_pickle('data/nodes_drive.pkl')"
   ]
  },
  {
   "cell_type": "code",
   "execution_count": 4,
   "metadata": {
    "colab": {
     "base_uri": "https://localhost:8080/",
     "height": 104
    },
    "colab_type": "code",
    "id": "yiJwQczp02ti",
    "outputId": "c310723d-fcc4-493b-bba6-5e6455fd05c2"
   },
   "outputs": [
    {
     "name": "stderr",
     "output_type": "stream",
     "text": [
      "/home/orionstar25/Semester-8-Major-Project/Open Street Maps/Numerical Experiments/utils.py:51: SettingWithCopyWarning: \n",
      "A value is trying to be set on a copy of a slice from a DataFrame\n",
      "\n",
      "See the caveats in the documentation: https://pandas.pydata.org/pandas-docs/stable/user_guide/indexing.html#returning-a-view-versus-a-copy\n",
      "  df['MaximumSpeed'][i] = '80'\n"
     ]
    }
   ],
   "source": [
    "f = open(\"../../Traffic speed bands/Fri Feb 14 09_06_16 2020.json\", \"r\").read()\n",
    "x = json.loads(f)\n",
    "\n",
    "speed_bands = pd.DataFrame.from_dict(x, orient='columns')\n",
    "process_speed_band(speed_bands)"
   ]
  },
  {
   "cell_type": "code",
   "execution_count": 5,
   "metadata": {
    "colab": {},
    "colab_type": "code",
    "id": "j4ucj9bU02uI"
   },
   "outputs": [],
   "source": [
    "calculate_congestion(G, edges, speed_bands)"
   ]
  },
  {
   "cell_type": "code",
   "execution_count": 6,
   "metadata": {
    "colab": {},
    "colab_type": "code",
    "id": "DXvM1T3-D588"
   },
   "outputs": [],
   "source": [
    "# Filter out all bus stop nodes\n",
    "# key: node label ,value: location\n",
    "idx = index.Index()\n",
    "\n",
    "xx = nodes['x'].astype(float)\n",
    "yy = nodes['y'].astype(float)\n",
    "node_id = nodes['osmid']\n",
    "node_type = nodes['highway']\n",
    "\n",
    "# nan = 18823\n",
    "\n",
    "# speed_camera = 2\n",
    "# motorway_junction = 222\n",
    "# turning_circle = 79\n",
    "# crossing = 27\n",
    "# turning_loop = 26\n",
    "# mini_roundabout = 6\n",
    "# traffic signals = 4031\n",
    "\n",
    "for node, x, y, kind in zip(node_id, xx, yy, node_type):\n",
    "    if type(kind) == float:\n",
    "      idx.insert(int(node), (x,y,x,y))"
   ]
  },
  {
   "cell_type": "code",
   "execution_count": 7,
   "metadata": {
    "colab": {},
    "colab_type": "code",
    "id": "W8E0y9fFD59I"
   },
   "outputs": [],
   "source": [
    "def find_nearest_nodes(nodes, source, dist, idx):\n",
    "    # Create a bounding box around source of min distance in all directions\n",
    "    (north, south, east, west) = ox.bbox_from_point(point=source, distance=dist)\n",
    "    \n",
    "    candidate_nodes = []\n",
    "    initial = list(idx.intersection((west, south, east, north)))   \n",
    "    for node in initial:\n",
    "      x = haversine_distance(nodes, node, source)\n",
    "      if x <= dist:\n",
    "        candidate_nodes.append(node)\n",
    "\n",
    "    return candidate_nodes"
   ]
  },
  {
   "cell_type": "code",
   "execution_count": 8,
   "metadata": {
    "colab": {},
    "colab_type": "code",
    "id": "Q-zt3gxTD59T"
   },
   "outputs": [],
   "source": [
    "def get_length_dict(sources, destinations):\n",
    "    distances = dict()\n",
    "  \n",
    "    for source in sources:        \n",
    "        for dest in destinations:\n",
    "            ed = haversine_distance(nodes, source, dest)\n",
    "            distances[source,dest] = ed/13.8889\n",
    "       \n",
    "    # sort the dictionary in ascending order using distances\n",
    "    x = sorted(distances.items(), key = lambda kv:(kv[1], kv[0]))\n",
    "    return x    "
   ]
  },
  {
   "cell_type": "markdown",
   "metadata": {
    "colab_type": "text",
    "id": "7UiLRAEw6LwE"
   },
   "source": [
    "## Hybrid Algorithm"
   ]
  },
  {
   "cell_type": "code",
   "execution_count": 9,
   "metadata": {
    "colab": {},
    "colab_type": "code",
    "id": "ZFT_PkWm6LwG"
   },
   "outputs": [],
   "source": [
    "def hybrid_search(G, x):\n",
    "    n = len(x)\n",
    "    min_pair = x[0]\n",
    "    source = min_pair[0][0]\n",
    "    dest = min_pair[0][1]\n",
    "    min_tt = float('inf')\n",
    "    final_route = []\n",
    "    count = 0\n",
    "\n",
    "    for i in range(n):\n",
    "        try:\n",
    "            source_x = nodes[nodes['osmid'] == source]['x'].values[0]\n",
    "            source_y = nodes[nodes['osmid'] == source]['y'].values[0]\n",
    "            dest_x = nodes[nodes['osmid'] == dest]['x'].values[0]\n",
    "            dest_y = nodes[nodes['osmid'] == dest]['y'].values[0]\n",
    "            \n",
    "            url = \"http://0.0.0.0:5000/route/v1/driving/{},{};{},{}\".format(source_x, source_y, dest_x, dest_y)\n",
    "            r = requests.get(url)\n",
    "            json = r.json()\n",
    "            \n",
    "            travel_time = json['routes'][0]['weight']\n",
    "            count = count + 1\n",
    "        except nx.NetworkXUnfeasible:\n",
    "            continue\n",
    "\n",
    "        if travel_time < min_tt:\n",
    "            min_tt = travel_time\n",
    "            min_pair = x[i]\n",
    "\n",
    "            if i < n-1:\n",
    "                if travel_time < x[i+1][1]:\n",
    "                    break\n",
    "                else:\n",
    "                    source = x[i+1][0][0]\n",
    "                    dest = x[i+1][0][1]\n",
    "            else:\n",
    "                break\n",
    "        else:\n",
    "            if i < n-1:\n",
    "                if min_tt < x[i+1][1]:\n",
    "                    break\n",
    "                else:\n",
    "                    source = x[i+1][0][0]\n",
    "                    dest = x[i+1][0][1]\n",
    "            else:\n",
    "                break\n",
    "\n",
    "    return min_tt, count"
   ]
  },
  {
   "cell_type": "markdown",
   "metadata": {
    "colab_type": "text",
    "id": "hEYJkAY66LwR"
   },
   "source": [
    "## Modified Hybrid Search (n/e+1)"
   ]
  },
  {
   "cell_type": "code",
   "execution_count": 10,
   "metadata": {
    "colab": {},
    "colab_type": "code",
    "id": "_njaaSxl6LwV"
   },
   "outputs": [],
   "source": [
    "def modified_hybrid_search(G, x):\n",
    "    n = len(x)\n",
    "    cutoff = math.floor(n/math.exp(1))\n",
    "    print(cutoff)\n",
    "    min_pair = x[0]\n",
    "    source = min_pair[0][0]\n",
    "    dest = min_pair[0][1]\n",
    "    min_tt = float('inf')\n",
    "    count = 0\n",
    "\n",
    "    for i in range(n):\n",
    "        try:\n",
    "            source_x = nodes[nodes['osmid'] == source]['x'].values[0]\n",
    "            source_y = nodes[nodes['osmid'] == source]['y'].values[0]\n",
    "            dest_x = nodes[nodes['osmid'] == dest]['x'].values[0]\n",
    "            dest_y = nodes[nodes['osmid'] == dest]['y'].values[0]\n",
    "            \n",
    "            url = \"http://0.0.0.0:5000/route/v1/driving/{},{};{},{}\".format(source_x, source_y, dest_x, dest_y)\n",
    "            r = requests.get(url)\n",
    "            json = r.json()\n",
    "            \n",
    "            travel_time = json['routes'][0]['weight']\n",
    "            count = count + 1\n",
    "        except nx.NetworkXUnfeasible:\n",
    "            continue\n",
    "\n",
    "        # have reached cutoff and didnt find optimal yet\n",
    "        if i > cutoff:\n",
    "            if travel_time < min_tt:\n",
    "                min_tt = travel_time\n",
    "                min_pair = x[i]\n",
    "                break\n",
    "            else:\n",
    "                break\n",
    "        else:\n",
    "            if travel_time < min_tt:\n",
    "                min_tt = travel_time\n",
    "                min_pair = x[i]\n",
    "\n",
    "                if i < n-1:\n",
    "                    if travel_time < x[i+1][1]:\n",
    "                        break\n",
    "                    else:\n",
    "                        source = x[i+1][0][0]\n",
    "                        dest = x[i+1][0][1]\n",
    "                else:\n",
    "                    break\n",
    "            else:\n",
    "                if i < n-1:\n",
    "                    if min_tt < x[i+1][1]:\n",
    "                        break\n",
    "                    else:\n",
    "                        source = x[i+1][0][0]\n",
    "                        dest = x[i+1][0][1]\n",
    "                else:\n",
    "                    break\n",
    "\n",
    "    return min_tt, count"
   ]
  },
  {
   "cell_type": "markdown",
   "metadata": {
    "colab_type": "text",
    "id": "pCb2mwI6D584"
   },
   "source": [
    "### Calculate number of queries and deviation of travel times"
   ]
  },
  {
   "cell_type": "code",
   "execution_count": 11,
   "metadata": {
    "colab": {},
    "colab_type": "code",
    "id": "KU0UougTpgBK"
   },
   "outputs": [],
   "source": [
    "def lets_do_this():\n",
    "    # get 10 random sources\n",
    "    sources = []\n",
    "    for i in range(50):\n",
    "        r = random.randint(0,23210)\n",
    "        s = nodes['osmid'].values[r]\n",
    "        sources.append(s)\n",
    "\n",
    "    # get 10 correspondig random targets\n",
    "    targets = []\n",
    "    for i in range(50):\n",
    "        r = random.randint(0,23210)\n",
    "        t = nodes['osmid'].values[r]\n",
    "        targets.append(t)\n",
    "\n",
    "    mod_hybrid_q = []\n",
    "    mod_hybrid_t = []\n",
    "    hybrid_q = []\n",
    "    hybrid_t = []\n",
    "    exhaustive_q = []\n",
    "  \n",
    "    for s,t in zip(sources,targets):\n",
    "        orig_point = nodes[nodes['osmid'] == s].geometry.values[0]\n",
    "        target_point = nodes[nodes['osmid'] == t].geometry.values[0]\n",
    "        orig_xy = (orig_point.y, orig_point.x)\n",
    "        target_xy = (target_point.y, target_point.x)\n",
    "\n",
    "        # Max distance for walking is 720m (10 min * 1.2 m/s)\n",
    "        # Find all nodes within 720 m from candidate sources and candidate destinations\n",
    "        candidate_dest = find_nearest_nodes(nodes, target_xy, 500, idx)\n",
    "        candidate_source = find_nearest_nodes(nodes, orig_xy, 500, idx)\n",
    "\n",
    "        if len(candidate_dest) == 0:\n",
    "            candidate_dest.append(ox.get_nearest_node(G, target_xy))\n",
    "      \n",
    "        if len(candidate_source) == 0:\n",
    "            candidate_source.append(ox.get_nearest_node(G, orig_xy))\n",
    "\n",
    "        value = len(candidate_dest) * len(candidate_source)\n",
    "        print(s,t,value)\n",
    "        exhaustive_q.append(value)\n",
    "\n",
    "        euclidean = get_length_dict(candidate_source, candidate_dest)\n",
    "        value1_t, value1_q = hybrid_search(G, euclidean)\n",
    "        hybrid_t.append(value1_t)\n",
    "        hybrid_q.append(value1_q)\n",
    "        \n",
    "        value2_t, value2_q = modified_hybrid_search(G, euclidean)\n",
    "        mod_hybrid_t.append(value2_t)\n",
    "        mod_hybrid_q.append(value2_q)\n",
    "\n",
    "    return mod_hybrid_q, mod_hybrid_t, hybrid_q, hybrid_t, exhaustive_q"
   ]
  },
  {
   "cell_type": "code",
   "execution_count": 12,
   "metadata": {
    "colab": {
     "base_uri": "https://localhost:8080/",
     "height": 1000
    },
    "colab_type": "code",
    "id": "CVprJshmD59h",
    "outputId": "d73f007a-e9c2-4367-e42a-f1edf78999fc"
   },
   "outputs": [
    {
     "name": "stdout",
     "output_type": "stream",
     "text": [
      "401518869 6703954123 4056\n",
      "1492\n",
      "247749689 4733003100 1562\n",
      "574\n",
      "3067114709 2708140604 4482\n",
      "1648\n",
      "419832608 3106501867 6314\n",
      "2322\n",
      "206256158 237296695 5846\n",
      "2150\n",
      "2927544665 2618496852 2397\n",
      "881\n",
      "206089912 4612331160 425\n",
      "156\n",
      "6053707014 1199539791 2448\n",
      "900\n",
      "4598978568 1307501557 936\n",
      "344\n",
      "1411348485 4600485786 765\n",
      "281\n",
      "2391354934 1867272466 1462\n",
      "537\n",
      "6805732397 5189193324 2366\n",
      "870\n",
      "243713557 6257251194 897\n",
      "329\n",
      "247658398 4591817550 3922\n",
      "1442\n",
      "378612865 244131855 540\n",
      "198\n",
      "6491801769 1363297015 8484\n",
      "3121\n",
      "1119647353 5218422733 2262\n",
      "832\n",
      "2604187060 246629734 1312\n",
      "482\n",
      "5015699339 3054875049 2376\n",
      "874\n",
      "7108056547 7117912454 20227\n",
      "7441\n",
      "246580902 246960843 2332\n",
      "857\n",
      "4668479523 5189193324 624\n",
      "229\n",
      "4602245716 246175093 1120\n",
      "412\n",
      "244963671 7168049100 2950\n",
      "1085\n",
      "1740970587 682927642 1196\n",
      "439\n",
      "5272221495 4598827399 3132\n",
      "1152\n",
      "2523841754 249797272 693\n",
      "254\n",
      "1531170860 237170391 4588\n",
      "1687\n",
      "2327164424 419832586 2550\n",
      "938\n",
      "7053400923 439228231 1155\n",
      "424\n",
      "4607076208 392680106 2232\n",
      "821\n",
      "375767150 3063321303 3055\n",
      "1123\n",
      "4592883245 1387646699 1898\n",
      "698\n",
      "243671009 2382469821 3960\n",
      "1456\n",
      "244148717 4612317113 26\n",
      "9\n",
      "6011856832 3577968419 1650\n",
      "607\n",
      "5556880665 1972141951 203\n",
      "74\n",
      "243674314 3925335612 3277\n",
      "1205\n",
      "1363236276 246181962 840\n",
      "309\n",
      "5684366677 4598953288 2318\n",
      "852\n",
      "4151977963 5684428032 1920\n",
      "706\n",
      "2649095158 1143899970 767\n",
      "282\n",
      "410926260 3325195479 2660\n",
      "978\n",
      "1717842317 246141189 989\n",
      "363\n",
      "259200745 4602350830 7820\n",
      "2876\n",
      "369158425 2959627100 243\n",
      "89\n",
      "213012250 4459074738 504\n",
      "185\n",
      "5686515384 377682571 1178\n",
      "433\n",
      "74408900 248011169 1425\n",
      "524\n",
      "5272260494 5148334249 925\n",
      "340\n"
     ]
    }
   ],
   "source": [
    "mod_hybrid_q, mod_hybrid_t, hybrid_q, hybrid_t, exhaustive = lets_do_this()"
   ]
  },
  {
   "cell_type": "markdown",
   "metadata": {
    "colab_type": "text",
    "id": "4Vnbe2LD98bP"
   },
   "source": [
    "## Deviation between travel times calculated by hybrid and modified hybrid"
   ]
  },
  {
   "cell_type": "code",
   "execution_count": 20,
   "metadata": {
    "colab": {},
    "colab_type": "code",
    "id": "f_FaRmhQ-u-9"
   },
   "outputs": [],
   "source": [
    "deviations = []\n",
    "for h, mod_h in zip(hybrid_t, mod_hybrid_t):\n",
    "#     stddev = statistics.stdev([h, mod_h])\n",
    "    stddev = mod_h - h\n",
    "    deviations.append(stddev)"
   ]
  },
  {
   "cell_type": "code",
   "execution_count": 21,
   "metadata": {
    "colab": {
     "base_uri": "https://localhost:8080/",
     "height": 369
    },
    "colab_type": "code",
    "id": "4N5ZVU9eTK2A",
    "outputId": "002907fd-1fde-486c-d110-39209ae3bbf6"
   },
   "outputs": [
    {
     "data": {
      "image/png": "[encoded data removed]",
      "text/plain": [
       "<Figure size 1080x360 with 1 Axes>"
      ]
     },
     "metadata": {
      "needs_background": "light"
     },
     "output_type": "display_data"
    }
   ],
   "source": [
    "# Plot what hybrid gave and what modified hybrid gave\n",
    "labels = [x for x in range(1,51)]\n",
    "\n",
    "x = np.arange(len(labels))  # the label locations\n",
    "width = 0.35  # the width of the bars\n",
    "\n",
    "fig, ax = plt.subplots(figsize=(15,5))\n",
    "rects1 = ax.bar(x - width/2, hybrid_t, width, label='Hybrid')\n",
    "rects2 = ax.bar(x + width/2, mod_hybrid_t, width, label='Modified Hybrid')\n",
    "\n",
    "# Add some text for labels, title and custom x-axis tick labels, etc.\n",
    "ax.set_ylabel('Travel times (in sec)')\n",
    "ax.set_xlabel('Customer requests')\n",
    "ax.set_title('Travel times calculated by hybrid and modified hybrid')\n",
    "ax.set_xticks(x)\n",
    "ax.set_xticklabels(labels)\n",
    "ax.legend()\n",
    "\n",
    "fig.tight_layout()"
   ]
  },
  {
   "cell_type": "code",
   "execution_count": 22,
   "metadata": {
    "colab": {
     "base_uri": "https://localhost:8080/",
     "height": 369
    },
    "colab_type": "code",
    "id": "Sxqbb5pqCJwq",
    "outputId": "21ae485c-070b-4e7d-c45c-ec56e3df932a"
   },
   "outputs": [
    {
     "data": {
      "image/png": "[encoded data removed]",
      "text/plain": [
       "<Figure size 1080x360 with 1 Axes>"
      ]
     },
     "metadata": {
      "needs_background": "light"
     },
     "output_type": "display_data"
    }
   ],
   "source": [
    "labels = [x for x in range(1,51)]\n",
    "\n",
    "x = np.arange(len(labels))  # the label locations\n",
    "width = 0.35  # the width of the bars\n",
    "\n",
    "fig, ax = plt.subplots(figsize=(15,5))\n",
    "rects1 = ax.bar(x - width/2, deviations, width, label='Deviations')\n",
    "\n",
    "# Add some text for labels, title and custom x-axis tick labels, etc.\n",
    "ax.set_ylabel('Travel times (in sec)')\n",
    "ax.set_xlabel('Customer requests')\n",
    "ax.set_title('Deviation between travel times calculated by hybrid and modified hybrid')\n",
    "ax.set_xticks(x)\n",
    "ax.set_xticklabels(labels)\n",
    "ax.legend()\n",
    "\n",
    "fig.tight_layout()"
   ]
  },
  {
   "cell_type": "code",
   "execution_count": 23,
   "metadata": {
    "colab": {
     "base_uri": "https://localhost:8080/",
     "height": 34
    },
    "colab_type": "code",
    "id": "0z-pFeIBSEtu",
    "outputId": "318ed024-e0c4-41b2-a435-e8e6b62496d2"
   },
   "outputs": [
    {
     "name": "stdout",
     "output_type": "stream",
     "text": [
      "Average deviation in secs: 5.43600000000001\n"
     ]
    }
   ],
   "source": [
    "print(\"Average deviation in secs:\", statistics.mean(deviations))"
   ]
  },
  {
   "cell_type": "markdown",
   "metadata": {
    "colab_type": "text",
    "id": "lAi5CahcDn_n"
   },
   "source": [
    "## Number of queries"
   ]
  },
  {
   "cell_type": "code",
   "execution_count": 17,
   "metadata": {
    "colab": {
     "base_uri": "https://localhost:8080/",
     "height": 920
    },
    "colab_type": "code",
    "id": "zo-Xqk-SDnF5",
    "outputId": "5099525f-9e49-442f-e36a-b118e7efab28"
   },
   "outputs": [
    {
     "name": "stdout",
     "output_type": "stream",
     "text": [
      "Number of queries\n",
      "Exhaustive   ||    Hybrid    ||    Modified Hybrid   ||    Saved% (Ex-Hyb)   ||    Saved% (Ex-Mod)\n",
      "4056                4056                1494              0.0             63.165680473372774\n",
      "1562                1562                576              0.0             63.124199743918055\n",
      "4482                4482                1650              0.0             63.186077643908966\n",
      "6314                6314                2324              0.0             63.19290465631929\n",
      "5846                5846                2152              0.0             63.18850496065686\n",
      "2397                2397                883              0.0             63.16228619107217\n",
      "425                425                158              0.0             62.82352941176471\n",
      "2448                395                395              83.86437908496733             83.86437908496733\n",
      "936                936                346              0.0             63.034188034188034\n",
      "765                765                283              0.0             63.006535947712415\n",
      "1462                1462                539              0.0             63.132694938440494\n",
      "2366                2366                872              0.0             63.14454775993238\n",
      "897                897                331              0.0             63.09921962095875\n",
      "3922                2420                1444              38.296787353391124             63.18204997450281\n",
      "540                540                200              0.0             62.96296296296296\n",
      "8484                8484                3123              0.0             63.189533239038184\n",
      "2262                2262                834              0.0             63.12997347480106\n",
      "1312                1259                484              4.039634146341464             63.109756097560975\n",
      "2376                2376                876              0.0             63.13131313131313\n",
      "20227                20227                7443              0.0             63.202649923369755\n",
      "2332                2332                859              0.0             63.164665523156096\n",
      "624                624                231              0.0             62.980769230769226\n",
      "1120                1120                414              0.0             63.035714285714285\n",
      "2950                2950                1087              0.0             63.152542372881356\n",
      "1196                1196                441              0.0             63.12709030100334\n",
      "3132                3041                1154              2.905491698595147             63.15453384418902\n",
      "693                693                256              0.0             63.05916305916306\n",
      "4588                4588                1689              0.0             63.18657367044464\n",
      "2550                2550                940              0.0             63.13725490196078\n",
      "1155                1155                426              0.0             63.116883116883116\n",
      "2232                2232                823              0.0             63.12724014336918\n",
      "3055                11                11              99.63993453355155             99.63993453355155\n",
      "1898                1585                700              16.491043203371973             63.1190727081138\n",
      "3960                3960                1458              0.0             63.18181818181819\n",
      "26                26                11              0.0             57.692307692307686\n",
      "1650                1246                609              24.484848484848484             63.090909090909086\n",
      "203                203                76              0.0             62.5615763546798\n",
      "3277                3277                1207              0.0             63.16753127860848\n",
      "840                840                311              0.0             62.976190476190474\n",
      "2318                2318                854              0.0             63.1578947368421\n",
      "1920                1920                708              0.0             63.125\n",
      "767                767                284              0.0             62.97262059973925\n",
      "2660                2660                980              0.0             63.1578947368421\n",
      "989                989                365              0.0             63.094034378159755\n",
      "7820                7820                2878              0.0             63.196930946291566\n",
      "243                243                91              0.0             62.55144032921811\n",
      "504                504                187              0.0             62.89682539682539\n",
      "1178                1178                435              0.0             63.07300509337861\n",
      "1425                1425                526              0.0             63.08771929824562\n",
      "925                925                342              0.0             63.027027027027025\n"
     ]
    }
   ],
   "source": [
    "print(\"Number of queries\")\n",
    "print(\"Exhaustive   ||    Hybrid    ||    Modified Hybrid   ||    Saved% (Ex-Hyb)   ||    Saved% (Ex-Mod)\")\n",
    "\n",
    "hyb = []\n",
    "mod = []\n",
    "for e,h,m in zip(exhaustive, hybrid_q, mod_hybrid_q):\n",
    "    saved_hyb = ((e-h)/e)*100\n",
    "    hyb.append(saved_hyb)\n",
    "    saved_mod = ((e-m)/e)*100\n",
    "    mod.append(saved_mod)\n",
    "\n",
    "    print(e, \"              \", h,\"              \",m, \"            \",saved_hyb,\"           \",saved_mod)"
   ]
  },
  {
   "cell_type": "code",
   "execution_count": 18,
   "metadata": {
    "colab": {
     "base_uri": "https://localhost:8080/",
     "height": 34
    },
    "colab_type": "code",
    "id": "Sn5QDb-u2Aub",
    "outputId": "0c3452c3-5bf7-4360-d8de-6e09c8a35c40"
   },
   "outputs": [
    {
     "name": "stdout",
     "output_type": "stream",
     "text": [
      "Average numbers of queries saved for modified hybrid%: 64.12090301158088\n"
     ]
    }
   ],
   "source": [
    "print(\"Average numbers of queries saved for modified hybrid%:\", statistics.mean(mod))"
   ]
  },
  {
   "cell_type": "code",
   "execution_count": 19,
   "metadata": {
    "colab": {
     "base_uri": "https://localhost:8080/",
     "height": 34
    },
    "colab_type": "code",
    "id": "8tQ-vsww2bck",
    "outputId": "1a3dcbae-2786-4f77-a324-d338876c14fd"
   },
   "outputs": [
    {
     "name": "stdout",
     "output_type": "stream",
     "text": [
      "Average numbers of queries saved for hybrid%: 5.394442370101341\n"
     ]
    }
   ],
   "source": [
    "print(\"Average numbers of queries saved for hybrid%:\", statistics.mean(hyb))"
   ]
  }
 ],
 "metadata": {
  "accelerator": "GPU",
  "colab": {
   "collapsed_sections": [],
   "name": "Hybrid_Vs_Modified_Hybrid.ipynb",
   "provenance": []
  },
  "kernelspec": {
   "display_name": "Python 3",
   "language": "python",
   "name": "python3"
  },
  "language_info": {
   "codemirror_mode": {
    "name": "ipython",
    "version": 3
   },
   "file_extension": ".py",
   "mimetype": "text/x-python",
   "name": "python",
   "nbconvert_exporter": "python",
   "pygments_lexer": "ipython3",
   "version": "3.6.10"
  }
 },
 "nbformat": 4,
 "nbformat_minor": 1
}
