{
 "cells": [
  {
   "cell_type": "code",
   "execution_count": 1,
   "metadata": {
    "colab": {
     "base_uri": "https://localhost:8080/",
     "height": 1000
    },
    "colab_type": "code",
    "id": "Anm_vCtg02sJ",
    "outputId": "97319dbc-8ceb-4855-a8f4-412ea96bd836"
   },
   "outputs": [],
   "source": [
    "import osmnx as ox\n",
    "import networkx as nx\n",
    "import pandas as pd\n",
    "import json\n",
    "import random\n",
    "import statistics\n",
    "import numpy as np\n",
    "import matplotlib.pyplot as plt\n",
    "import requests\n",
    "\n",
    "from rtree import index\n",
    "from utils import *"
   ]
  },
  {
   "cell_type": "code",
   "execution_count": 2,
   "metadata": {
    "colab": {
     "base_uri": "https://localhost:8080/",
     "height": 34
    },
    "colab_type": "code",
    "id": "RShXcYwX02sk",
    "outputId": "d6e88837-528b-4ae5-9718-f75976e5e857"
   },
   "outputs": [
    {
     "data": {
      "text/plain": [
       "networkx.classes.multidigraph.MultiDiGraph"
      ]
     },
     "execution_count": 2,
     "metadata": {},
     "output_type": "execute_result"
    }
   ],
   "source": [
    "place_name = \"Singapore, Central, Singapore\"\n",
    "G = ox.save_load.load_graphml(filename=\"Singapore_drive_processed.graphml\")\n",
    "\n",
    "# Stores nodes and edges mapped with speed bands along with other attributes\n",
    "type(G)"
   ]
  },
  {
   "cell_type": "code",
   "execution_count": 3,
   "metadata": {
    "colab": {},
    "colab_type": "code",
    "id": "S1NMV7e402s9"
   },
   "outputs": [],
   "source": [
    "edges = ox.graph_to_gdfs(G, nodes=False, edges=True)\n",
    "nodes = pd.read_pickle('data/nodes_drive.pkl')"
   ]
  },
  {
   "cell_type": "code",
   "execution_count": 4,
   "metadata": {
    "colab": {
     "base_uri": "https://localhost:8080/",
     "height": 104
    },
    "colab_type": "code",
    "id": "yiJwQczp02ti",
    "outputId": "c310723d-fcc4-493b-bba6-5e6455fd05c2"
   },
   "outputs": [
    {
     "name": "stderr",
     "output_type": "stream",
     "text": [
      "/home/orionstar25/Semester-8-Major-Project/Open Street Maps/Numerical Experiments/utils.py:51: SettingWithCopyWarning: \n",
      "A value is trying to be set on a copy of a slice from a DataFrame\n",
      "\n",
      "See the caveats in the documentation: https://pandas.pydata.org/pandas-docs/stable/user_guide/indexing.html#returning-a-view-versus-a-copy\n",
      "  df['MaximumSpeed'][i] = '80'\n"
     ]
    }
   ],
   "source": [
    "f = open(\"../../Traffic speed bands/Fri Feb 14 09_06_16 2020.json\", \"r\").read()\n",
    "x = json.loads(f)\n",
    "\n",
    "speed_bands = pd.DataFrame.from_dict(x, orient='columns')\n",
    "process_speed_band(speed_bands)"
   ]
  },
  {
   "cell_type": "code",
   "execution_count": 5,
   "metadata": {
    "colab": {},
    "colab_type": "code",
    "id": "j4ucj9bU02uI"
   },
   "outputs": [],
   "source": [
    "calculate_congestion(G, edges, speed_bands)"
   ]
  },
  {
   "cell_type": "code",
   "execution_count": 6,
   "metadata": {
    "colab": {},
    "colab_type": "code",
    "id": "DXvM1T3-D588"
   },
   "outputs": [],
   "source": [
    "# Filter out all bus stop nodes\n",
    "# key: node label ,value: location\n",
    "idx = index.Index()\n",
    "\n",
    "xx = nodes['x'].astype(float)\n",
    "yy = nodes['y'].astype(float)\n",
    "node_id = nodes['osmid']\n",
    "node_type = nodes['highway']\n",
    "\n",
    "# nan = 18823\n",
    "\n",
    "# speed_camera = 2\n",
    "# motorway_junction = 222\n",
    "# turning_circle = 79\n",
    "# crossing = 27\n",
    "# turning_loop = 26\n",
    "# mini_roundabout = 6\n",
    "# traffic signals = 4031\n",
    "\n",
    "for node, x, y, kind in zip(node_id, xx, yy, node_type):\n",
    "    if type(kind) == float:\n",
    "      idx.insert(int(node), (x,y,x,y))"
   ]
  },
  {
   "cell_type": "code",
   "execution_count": 7,
   "metadata": {
    "colab": {},
    "colab_type": "code",
    "id": "W8E0y9fFD59I"
   },
   "outputs": [],
   "source": [
    "def find_nearest_nodes(nodes, source, dist, idx):\n",
    "    # Create a bounding box around source of min distance in all directions\n",
    "    (north, south, east, west) = ox.bbox_from_point(point=source, distance=dist)\n",
    "    \n",
    "    candidate_nodes = []\n",
    "    initial = list(idx.intersection((west, south, east, north)))   \n",
    "    for node in initial:\n",
    "      x = haversine_distance(nodes, node, source)\n",
    "      if x <= dist:\n",
    "        candidate_nodes.append(node)\n",
    "\n",
    "    return candidate_nodes"
   ]
  },
  {
   "cell_type": "code",
   "execution_count": 8,
   "metadata": {
    "colab": {},
    "colab_type": "code",
    "id": "Q-zt3gxTD59T"
   },
   "outputs": [],
   "source": [
    "def get_length_dict(sources, destinations):\n",
    "    distances = dict()\n",
    "  \n",
    "    for source in sources:        \n",
    "        for dest in destinations:\n",
    "            ed = haversine_distance(nodes, source, dest)\n",
    "            distances[source,dest] = ed/13.8889\n",
    "       \n",
    "    # sort the dictionary in ascending order using distances\n",
    "    x = sorted(distances.items(), key = lambda kv:(kv[1], kv[0]))\n",
    "    return x    "
   ]
  },
  {
   "cell_type": "markdown",
   "metadata": {
    "colab_type": "text",
    "id": "hEYJkAY66LwR"
   },
   "source": [
    "## Modified Hybrid Search (n/e+1) with CH"
   ]
  },
  {
   "cell_type": "code",
   "execution_count": 9,
   "metadata": {
    "colab": {},
    "colab_type": "code",
    "id": "_njaaSxl6LwV"
   },
   "outputs": [],
   "source": [
    "def modified_hybrid_search(G, x):\n",
    "    n = len(x)\n",
    "    cutoff = math.floor(n/math.exp(1))\n",
    "    print(cutoff)\n",
    "    min_pair = x[0]\n",
    "    source = min_pair[0][0]\n",
    "    dest = min_pair[0][1]\n",
    "    min_tt = float('inf')\n",
    "\n",
    "    for i in range(n):\n",
    "        source_x = nodes[nodes['osmid'] == source]['x'].values[0]\n",
    "        source_y = nodes[nodes['osmid'] == source]['y'].values[0]\n",
    "        dest_x = nodes[nodes['osmid'] == dest]['x'].values[0]\n",
    "        dest_y = nodes[nodes['osmid'] == dest]['y'].values[0]\n",
    "\n",
    "        url = \"http://0.0.0.0:5000/route/v1/driving/{},{};{},{}\".format(source_x, source_y, dest_x, dest_y)\n",
    "        r = requests.get(url)\n",
    "        json = r.json()\n",
    "        \n",
    "        if json['code'] == 'Ok':\n",
    "            travel_time = json['routes'][0]['weight']\n",
    "        else:\n",
    "            continue \n",
    "\n",
    "        # have reached cutoff and didnt find optimal yet\n",
    "        if i > cutoff:\n",
    "            if travel_time < min_tt:\n",
    "                min_tt = travel_time\n",
    "                min_pair = x[i]\n",
    "                break\n",
    "            else:\n",
    "                break\n",
    "        else:\n",
    "            if travel_time < min_tt:\n",
    "                min_tt = travel_time\n",
    "                min_pair = x[i]\n",
    "\n",
    "                if i < n-1:\n",
    "                    if travel_time < x[i+1][1]:\n",
    "                        break\n",
    "                    else:\n",
    "                        source = x[i+1][0][0]\n",
    "                        dest = x[i+1][0][1]\n",
    "                else:\n",
    "                    break\n",
    "            else:\n",
    "                if i < n-1:\n",
    "                    if min_tt < x[i+1][1]:\n",
    "                        break\n",
    "                    else:\n",
    "                        source = x[i+1][0][0]\n",
    "                        dest = x[i+1][0][1]\n",
    "                else:\n",
    "                    break\n",
    "\n",
    "    return min_pair"
   ]
  },
  {
   "cell_type": "markdown",
   "metadata": {},
   "source": [
    "## Modified Hybrid Search (n/e+1) with Dijkstra"
   ]
  },
  {
   "cell_type": "code",
   "execution_count": 10,
   "metadata": {},
   "outputs": [],
   "source": [
    "def modified_hybrid_search_d(G, x):\n",
    "    n = len(x)\n",
    "    cutoff = math.floor(n/math.exp(1))\n",
    "    min_pair = x[0]\n",
    "    source = min_pair[0][0]\n",
    "    dest = min_pair[0][1]\n",
    "    min_tt = float('inf')\n",
    "\n",
    "    for i in range(n):\n",
    "        try:            \n",
    "            travel_time = nx.shortest_path_length(G, source, dest, weight='BPR', method='dijkstra')\n",
    "        except nx.NetworkXUnfeasible:\n",
    "            continue \n",
    "\n",
    "        # have reached cutoff and didnt find optimal yet\n",
    "        if i > cutoff:\n",
    "            if travel_time < min_tt:\n",
    "                min_tt = travel_time\n",
    "                min_pair = x[i]\n",
    "                break\n",
    "            else:\n",
    "                break\n",
    "        else:\n",
    "            if travel_time < min_tt:\n",
    "                min_tt = travel_time\n",
    "                min_pair = x[i]\n",
    "\n",
    "                if i < n-1:\n",
    "                    if travel_time < x[i+1][1]:\n",
    "                        break\n",
    "                    else:\n",
    "                        source = x[i+1][0][0]\n",
    "                        dest = x[i+1][0][1]\n",
    "                else:\n",
    "                    break\n",
    "            else:\n",
    "                if i < n-1:\n",
    "                    if min_tt < x[i+1][1]:\n",
    "                        break\n",
    "                    else:\n",
    "                        source = x[i+1][0][0]\n",
    "                        dest = x[i+1][0][1]\n",
    "                else:\n",
    "                    break\n",
    "\n",
    "    return min_pair"
   ]
  },
  {
   "cell_type": "markdown",
   "metadata": {
    "colab_type": "text",
    "id": "pCb2mwI6D584"
   },
   "source": [
    "### Calculate number of queries and deviation of travel times"
   ]
  },
  {
   "cell_type": "code",
   "execution_count": 11,
   "metadata": {
    "colab": {},
    "colab_type": "code",
    "id": "KU0UougTpgBK"
   },
   "outputs": [],
   "source": [
    "def lets_do_this():\n",
    "    # get 10 random sources\n",
    "    sources = []\n",
    "    for i in range(10):\n",
    "        r = random.randint(0,23210)\n",
    "        s = nodes['osmid'].values[r]\n",
    "        sources.append(s)\n",
    "\n",
    "    # get 10 correspondig random targets\n",
    "    targets = []\n",
    "    for i in range(10):\n",
    "        r = random.randint(0,23210)\n",
    "        t = nodes['osmid'].values[r]\n",
    "        targets.append(t)\n",
    "    \n",
    "    count = 0\n",
    "    for s,t in zip(sources,targets):\n",
    "        orig_point = nodes[nodes['osmid'] == s].geometry.values[0]\n",
    "        target_point = nodes[nodes['osmid'] == t].geometry.values[0]\n",
    "        orig_xy = (orig_point.y, orig_point.x)\n",
    "        target_xy = (target_point.y, target_point.x)\n",
    "\n",
    "        # Max distance for walking is 720m (10 min * 1.2 m/s)\n",
    "        # Find all nodes within 720 m from candidate sources and candidate destinations\n",
    "        candidate_dest = find_nearest_nodes(nodes, target_xy, 500, idx)\n",
    "        candidate_source = find_nearest_nodes(nodes, orig_xy, 500, idx)\n",
    "\n",
    "        if len(candidate_dest) == 0:\n",
    "            candidate_dest.append(ox.get_nearest_node(G, target_xy))\n",
    "      \n",
    "        if len(candidate_source) == 0:\n",
    "            candidate_source.append(ox.get_nearest_node(G, orig_xy))\n",
    "\n",
    "        value = len(candidate_dest) * len(candidate_source)\n",
    "        print(s,t,value)\n",
    "\n",
    "        euclidean = get_length_dict(candidate_source, candidate_dest)\n",
    "        value1 = modified_hybrid_search(G, euclidean)\n",
    "        print(value1)\n",
    "        \n",
    "        value2 = modified_hybrid_search_d(G, euclidean)\n",
    "        print(value2)\n",
    "        \n",
    "        if(value1[0][0] != value2[0][0] or value1[0][1] != value2[0][1]):\n",
    "            count = count + 1\n",
    "            print(count)        "
   ]
  },
  {
   "cell_type": "code",
   "execution_count": 32,
   "metadata": {
    "colab": {
     "base_uri": "https://localhost:8080/",
     "height": 1000
    },
    "colab_type": "code",
    "id": "CVprJshmD59h",
    "outputId": "d73f007a-e9c2-4367-e42a-f1edf78999fc"
   },
   "outputs": [
    {
     "name": "stdout",
     "output_type": "stream",
     "text": [
      "1617421478 4594224834 1551\n",
      "570\n",
      "((1858802340, 5792331377), 1220.1648618712711)\n",
      "((243988610, 245209179), 1234.0262239310623)\n",
      "1\n",
      "247644096 410926260 3420\n",
      "1258\n",
      "((2385498612, 4735196546), 505.690476369972)\n",
      "((2382464472, 1347469893), 514.3136656997818)\n",
      "2\n",
      "388122013 2792083652 8701\n",
      "3200\n",
      "((2125049047, 2327257415), 84.63635126520653)\n",
      "((388121994, 245404153), 92.71310300667)\n",
      "3\n",
      "4459074478 254626394 2332\n",
      "857\n",
      "((5264498105, 1264495657), 1830.8824740920804)\n",
      "((4745691294, 259761206), 1835.4633947571199)\n",
      "4\n",
      "4172966167 1167567954 1224\n",
      "450\n",
      "((4172964538, 1748996424), 1681.2224868955882)\n",
      "((4810944503, 4598672229), 1686.2954359036535)\n",
      "5\n",
      "5218807960 425240314 2750\n",
      "1011\n",
      "((1779685883, 244893820), 562.5914186439066)\n",
      "((4697831199, 440556702), 583.6939727927686)\n",
      "6\n",
      "244492687 3718729231 1144\n",
      "420\n",
      "((4607055246, 6948155807), 1031.0485174927364)\n",
      "((4607055246, 6948155807), 1031.0485174927364)\n",
      "243508831 244148977 105\n",
      "38\n",
      "((4685465114, 244148977), 1856.7686602256726)\n",
      "((4685465114, 244148977), 1856.7686602256726)\n",
      "4600339275 378015758 800\n",
      "294\n",
      "((2674330607, 378015709), 748.8562345182884)\n",
      "((4650819881, 378015709), 736.5286696307085)\n",
      "7\n",
      "5233169169 4745629729 189\n",
      "69\n",
      "((6791911567, 7182945273), 606.6892732090733)\n",
      "((6791911567, 7182945273), 606.6892732090733)\n"
     ]
    }
   ],
   "source": [
    "lets_do_this()"
   ]
  },
  {
   "cell_type": "code",
   "execution_count": null,
   "metadata": {},
   "outputs": [],
   "source": []
  }
 ],
 "metadata": {
  "accelerator": "GPU",
  "colab": {
   "collapsed_sections": [],
   "name": "Hybrid_Vs_Modified_Hybrid.ipynb",
   "provenance": []
  },
  "kernelspec": {
   "display_name": "Python 3",
   "language": "python",
   "name": "python3"
  },
  "language_info": {
   "codemirror_mode": {
    "name": "ipython",
    "version": 3
   },
   "file_extension": ".py",
   "mimetype": "text/x-python",
   "name": "python",
   "nbconvert_exporter": "python",
   "pygments_lexer": "ipython3",
   "version": "3.6.10"
  }
 },
 "nbformat": 4,
 "nbformat_minor": 1
}
