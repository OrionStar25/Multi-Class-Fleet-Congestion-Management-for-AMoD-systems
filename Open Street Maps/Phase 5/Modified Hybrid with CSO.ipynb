{
 "cells": [
  {
   "cell_type": "code",
   "execution_count": 1,
   "metadata": {
    "colab": {
     "base_uri": "https://localhost:8080/",
     "height": 627
    },
    "colab_type": "code",
    "id": "Anm_vCtg02sJ",
    "outputId": "0c28fba4-cd5a-4117-c879-deb2fd650842"
   },
   "outputs": [],
   "source": [
    "import osmnx as ox\n",
    "import networkx as nx\n",
    "import pandas as pd\n",
    "import json\n",
    "import requests\n",
    "import random\n",
    "\n",
    "from rtree import index\n",
    "from shapely.geometry import box\n",
    "from utils import *"
   ]
  },
  {
   "cell_type": "code",
   "execution_count": 2,
   "metadata": {
    "colab": {
     "base_uri": "https://localhost:8080/",
     "height": 52
    },
    "colab_type": "code",
    "id": "RShXcYwX02sk",
    "outputId": "58552f50-8d53-40f8-d879-ad656cef7a2f"
   },
   "outputs": [
    {
     "name": "stdout",
     "output_type": "stream",
     "text": [
      "<class 'networkx.classes.multidigraph.MultiDiGraph'>\n",
      "<class 'networkx.classes.multidigraph.MultiDiGraph'>\n"
     ]
    }
   ],
   "source": [
    "G = ox.save_load.load_graphml(filename=\"Central_SG_drive_processed.graphml\")\n",
    "G_ped = ox.save_load.load_graphml(filename=\"Central_SG_walk.graphml\")\n",
    "\n",
    "# Stores nodes and edges mapped with speed bands along with other attributes\n",
    "print(type(G))\n",
    "print(type(G_ped))"
   ]
  },
  {
   "cell_type": "code",
   "execution_count": 3,
   "metadata": {
    "colab": {},
    "colab_type": "code",
    "id": "S1NMV7e402s9"
   },
   "outputs": [],
   "source": [
    "nodes, edges = ox.graph_to_gdfs(G, nodes=True, edges=True)"
   ]
  },
  {
   "cell_type": "code",
   "execution_count": 4,
   "metadata": {
    "colab": {
     "base_uri": "https://localhost:8080/",
     "height": 104
    },
    "colab_type": "code",
    "id": "yiJwQczp02ti",
    "outputId": "a4428a9c-25e5-455c-8c50-d527851fee00"
   },
   "outputs": [
    {
     "name": "stderr",
     "output_type": "stream",
     "text": [
      "/home/orionstar25/Semester-8-Major-Project/Open Street Maps/Phase 5/utils.py:51: SettingWithCopyWarning: \n",
      "A value is trying to be set on a copy of a slice from a DataFrame\n",
      "\n",
      "See the caveats in the documentation: https://pandas.pydata.org/pandas-docs/stable/user_guide/indexing.html#returning-a-view-versus-a-copy\n",
      "  df['MaximumSpeed'][i] = '80'\n"
     ]
    }
   ],
   "source": [
    "f = open(\"../../Traffic speed bands/Fri Feb 14 09_06_16 2020.json\", \"r\").read()\n",
    "x = json.loads(f)\n",
    "\n",
    "speed_bands = pd.DataFrame.from_dict(x, orient='columns')\n",
    "process_speed_band(speed_bands)"
   ]
  },
  {
   "cell_type": "code",
   "execution_count": 5,
   "metadata": {
    "colab": {},
    "colab_type": "code",
    "id": "j4ucj9bU02uI"
   },
   "outputs": [],
   "source": [
    "calculate_congestion(G, edges, speed_bands)"
   ]
  },
  {
   "cell_type": "code",
   "execution_count": 6,
   "metadata": {},
   "outputs": [],
   "source": [
    "# ox.save_load.save_graph_shapefile(G, filename='Central_SG')"
   ]
  },
  {
   "cell_type": "code",
   "execution_count": 7,
   "metadata": {},
   "outputs": [],
   "source": [
    "# Filter out all bus stop nodes\n",
    "# key: node label ,value: location\n",
    "idx = index.Index()\n",
    "\n",
    "xx = nodes['x'].astype(float)\n",
    "yy = nodes['y'].astype(float)\n",
    "node_id = nodes['osmid']\n",
    "\n",
    "for node, x, y in zip(node_id, xx, yy):\n",
    "    idx.insert(int(node), (x,y,x,y))"
   ]
  },
  {
   "cell_type": "markdown",
   "metadata": {
    "colab_type": "text",
    "id": "5GdlUOcM02uV"
   },
   "source": [
    "### Middle mile routing"
   ]
  },
  {
   "cell_type": "code",
   "execution_count": 8,
   "metadata": {},
   "outputs": [],
   "source": [
    "def modified_hybrid_search(G, x):\n",
    "    n = len(x)\n",
    "    cutoff = math.floor(n/math.exp(1))\n",
    "    min_pair = x[0]\n",
    "    source = min_pair[0][0]\n",
    "    dest = min_pair[0][1]\n",
    "    min_tt = float('inf')\n",
    "\n",
    "    for i in range(n):\n",
    "        try:            \n",
    "            travel_time = nx.shortest_path_length(G, source, dest, weight='BPR', method='dijkstra')\n",
    "        except nx.NetworkXUnfeasible:\n",
    "            print(\"tch\")\n",
    "            continue\n",
    "\n",
    "        # have reached cutoff and didnt find optimal yet\n",
    "        if i > cutoff:\n",
    "            if travel_time < min_tt:\n",
    "                min_tt = travel_time\n",
    "                min_pair = x[i]\n",
    "                break\n",
    "            else:\n",
    "                break\n",
    "        else:\n",
    "            if travel_time < min_tt:\n",
    "                min_tt = travel_time\n",
    "                min_pair = x[i]\n",
    "\n",
    "                if i < n-1:\n",
    "                    if travel_time < x[i+1][1]:\n",
    "                        break\n",
    "                    else:\n",
    "                        source = x[i+1][0][0]\n",
    "                        dest = x[i+1][0][1]\n",
    "                else:\n",
    "                    break\n",
    "            else:\n",
    "                if i < n-1:\n",
    "                    if min_tt < x[i+1][1]:\n",
    "                        break\n",
    "                    else:\n",
    "                        source = x[i+1][0][0]\n",
    "                        dest = x[i+1][0][1]\n",
    "                else:\n",
    "                    break\n",
    "\n",
    "    return min_tt, min_pair[0]"
   ]
  },
  {
   "cell_type": "code",
   "execution_count": 10,
   "metadata": {},
   "outputs": [
    {
     "name": "stdout",
     "output_type": "stream",
     "text": [
      "425482453 4744279229\n"
     ]
    },
    {
     "ename": "ValueError",
     "evalue": "('Contradictory paths found:', 'negative weights?')",
     "output_type": "error",
     "traceback": [
      "\u001b[0;31m---------------------------------------------------------------------------\u001b[0m",
      "\u001b[0;31mValueError\u001b[0m                                Traceback (most recent call last)",
      "\u001b[0;32m<ipython-input-10-7718ff144e5c>\u001b[0m in \u001b[0;36m<module>\u001b[0;34m\u001b[0m\n\u001b[1;32m     37\u001b[0m \u001b[0;34m\u001b[0m\u001b[0m\n\u001b[1;32m     38\u001b[0m         \u001b[0meuclidean\u001b[0m \u001b[0;34m=\u001b[0m \u001b[0mget_length_dict\u001b[0m\u001b[0;34m(\u001b[0m\u001b[0mnodes\u001b[0m\u001b[0;34m,\u001b[0m \u001b[0mcandidate_source\u001b[0m\u001b[0;34m,\u001b[0m \u001b[0mcandidate_dest\u001b[0m\u001b[0;34m)\u001b[0m\u001b[0;34m\u001b[0m\u001b[0;34m\u001b[0m\u001b[0m\n\u001b[0;32m---> 39\u001b[0;31m         \u001b[0m_\u001b[0m\u001b[0;34m,\u001b[0m \u001b[0mOD\u001b[0m \u001b[0;34m=\u001b[0m \u001b[0mmodified_hybrid_search\u001b[0m\u001b[0;34m(\u001b[0m\u001b[0mG\u001b[0m\u001b[0;34m,\u001b[0m \u001b[0meuclidean\u001b[0m\u001b[0;34m)\u001b[0m\u001b[0;34m\u001b[0m\u001b[0;34m\u001b[0m\u001b[0m\n\u001b[0m\u001b[1;32m     40\u001b[0m         \u001b[0mdemand\u001b[0m\u001b[0;34m.\u001b[0m\u001b[0mappend\u001b[0m\u001b[0;34m(\u001b[0m\u001b[0mOD\u001b[0m\u001b[0;34m)\u001b[0m\u001b[0;34m\u001b[0m\u001b[0;34m\u001b[0m\u001b[0m\n",
      "\u001b[0;32m<ipython-input-8-22ec5da0a05d>\u001b[0m in \u001b[0;36mmodified_hybrid_search\u001b[0;34m(G, x)\u001b[0m\n\u001b[1;32m      9\u001b[0m     \u001b[0;32mfor\u001b[0m \u001b[0mi\u001b[0m \u001b[0;32min\u001b[0m \u001b[0mrange\u001b[0m\u001b[0;34m(\u001b[0m\u001b[0mn\u001b[0m\u001b[0;34m)\u001b[0m\u001b[0;34m:\u001b[0m\u001b[0;34m\u001b[0m\u001b[0;34m\u001b[0m\u001b[0m\n\u001b[1;32m     10\u001b[0m         \u001b[0;32mtry\u001b[0m\u001b[0;34m:\u001b[0m\u001b[0;34m\u001b[0m\u001b[0;34m\u001b[0m\u001b[0m\n\u001b[0;32m---> 11\u001b[0;31m             \u001b[0mtravel_time\u001b[0m \u001b[0;34m=\u001b[0m \u001b[0mnx\u001b[0m\u001b[0;34m.\u001b[0m\u001b[0mshortest_path_length\u001b[0m\u001b[0;34m(\u001b[0m\u001b[0mG\u001b[0m\u001b[0;34m,\u001b[0m \u001b[0msource\u001b[0m\u001b[0;34m,\u001b[0m \u001b[0mdest\u001b[0m\u001b[0;34m,\u001b[0m \u001b[0mweight\u001b[0m\u001b[0;34m=\u001b[0m\u001b[0;34m'BPR'\u001b[0m\u001b[0;34m,\u001b[0m \u001b[0mmethod\u001b[0m\u001b[0;34m=\u001b[0m\u001b[0;34m'dijkstra'\u001b[0m\u001b[0;34m)\u001b[0m\u001b[0;34m\u001b[0m\u001b[0;34m\u001b[0m\u001b[0m\n\u001b[0m\u001b[1;32m     12\u001b[0m         \u001b[0;32mexcept\u001b[0m \u001b[0mnx\u001b[0m\u001b[0;34m.\u001b[0m\u001b[0mNetworkXUnfeasible\u001b[0m\u001b[0;34m:\u001b[0m\u001b[0;34m\u001b[0m\u001b[0;34m\u001b[0m\u001b[0m\n\u001b[1;32m     13\u001b[0m             \u001b[0mprint\u001b[0m\u001b[0;34m(\u001b[0m\u001b[0;34m\"tch\"\u001b[0m\u001b[0;34m)\u001b[0m\u001b[0;34m\u001b[0m\u001b[0;34m\u001b[0m\u001b[0m\n",
      "\u001b[0;32m/usr/local/lib/python3.6/dist-packages/networkx/algorithms/shortest_paths/generic.py\u001b[0m in \u001b[0;36mshortest_path_length\u001b[0;34m(G, source, target, weight, method)\u001b[0m\n\u001b[1;32m    313\u001b[0m                 \u001b[0mpaths\u001b[0m \u001b[0;34m=\u001b[0m \u001b[0mlen\u001b[0m\u001b[0;34m(\u001b[0m\u001b[0mp\u001b[0m\u001b[0;34m)\u001b[0m \u001b[0;34m-\u001b[0m \u001b[0;36m1\u001b[0m\u001b[0;34m\u001b[0m\u001b[0;34m\u001b[0m\u001b[0m\n\u001b[1;32m    314\u001b[0m             \u001b[0;32melif\u001b[0m \u001b[0mmethod\u001b[0m \u001b[0;34m==\u001b[0m \u001b[0;34m'dijkstra'\u001b[0m\u001b[0;34m:\u001b[0m\u001b[0;34m\u001b[0m\u001b[0;34m\u001b[0m\u001b[0m\n\u001b[0;32m--> 315\u001b[0;31m                 \u001b[0mpaths\u001b[0m \u001b[0;34m=\u001b[0m \u001b[0mnx\u001b[0m\u001b[0;34m.\u001b[0m\u001b[0mdijkstra_path_length\u001b[0m\u001b[0;34m(\u001b[0m\u001b[0mG\u001b[0m\u001b[0;34m,\u001b[0m \u001b[0msource\u001b[0m\u001b[0;34m,\u001b[0m \u001b[0mtarget\u001b[0m\u001b[0;34m,\u001b[0m \u001b[0mweight\u001b[0m\u001b[0;34m)\u001b[0m\u001b[0;34m\u001b[0m\u001b[0;34m\u001b[0m\u001b[0m\n\u001b[0m\u001b[1;32m    316\u001b[0m             \u001b[0;32melse\u001b[0m\u001b[0;34m:\u001b[0m  \u001b[0;31m# method == 'bellman-ford':\u001b[0m\u001b[0;34m\u001b[0m\u001b[0;34m\u001b[0m\u001b[0m\n\u001b[1;32m    317\u001b[0m                 \u001b[0mpaths\u001b[0m \u001b[0;34m=\u001b[0m \u001b[0mnx\u001b[0m\u001b[0;34m.\u001b[0m\u001b[0mbellman_ford_path_length\u001b[0m\u001b[0;34m(\u001b[0m\u001b[0mG\u001b[0m\u001b[0;34m,\u001b[0m \u001b[0msource\u001b[0m\u001b[0;34m,\u001b[0m \u001b[0mtarget\u001b[0m\u001b[0;34m,\u001b[0m \u001b[0mweight\u001b[0m\u001b[0;34m)\u001b[0m\u001b[0;34m\u001b[0m\u001b[0;34m\u001b[0m\u001b[0m\n",
      "\u001b[0;32m/usr/local/lib/python3.6/dist-packages/networkx/algorithms/shortest_paths/weighted.py\u001b[0m in \u001b[0;36mdijkstra_path_length\u001b[0;34m(G, source, target, weight)\u001b[0m\n\u001b[1;32m    238\u001b[0m         \u001b[0;32mreturn\u001b[0m \u001b[0;36m0\u001b[0m\u001b[0;34m\u001b[0m\u001b[0;34m\u001b[0m\u001b[0m\n\u001b[1;32m    239\u001b[0m     \u001b[0mweight\u001b[0m \u001b[0;34m=\u001b[0m \u001b[0m_weight_function\u001b[0m\u001b[0;34m(\u001b[0m\u001b[0mG\u001b[0m\u001b[0;34m,\u001b[0m \u001b[0mweight\u001b[0m\u001b[0;34m)\u001b[0m\u001b[0;34m\u001b[0m\u001b[0;34m\u001b[0m\u001b[0m\n\u001b[0;32m--> 240\u001b[0;31m     \u001b[0mlength\u001b[0m \u001b[0;34m=\u001b[0m \u001b[0m_dijkstra\u001b[0m\u001b[0;34m(\u001b[0m\u001b[0mG\u001b[0m\u001b[0;34m,\u001b[0m \u001b[0msource\u001b[0m\u001b[0;34m,\u001b[0m \u001b[0mweight\u001b[0m\u001b[0;34m,\u001b[0m \u001b[0mtarget\u001b[0m\u001b[0;34m=\u001b[0m\u001b[0mtarget\u001b[0m\u001b[0;34m)\u001b[0m\u001b[0;34m\u001b[0m\u001b[0;34m\u001b[0m\u001b[0m\n\u001b[0m\u001b[1;32m    241\u001b[0m     \u001b[0;32mtry\u001b[0m\u001b[0;34m:\u001b[0m\u001b[0;34m\u001b[0m\u001b[0;34m\u001b[0m\u001b[0m\n\u001b[1;32m    242\u001b[0m         \u001b[0;32mreturn\u001b[0m \u001b[0mlength\u001b[0m\u001b[0;34m[\u001b[0m\u001b[0mtarget\u001b[0m\u001b[0;34m]\u001b[0m\u001b[0;34m\u001b[0m\u001b[0;34m\u001b[0m\u001b[0m\n",
      "\u001b[0;32m/usr/local/lib/python3.6/dist-packages/networkx/algorithms/shortest_paths/weighted.py\u001b[0m in \u001b[0;36m_dijkstra\u001b[0;34m(G, source, weight, pred, paths, cutoff, target)\u001b[0m\n\u001b[1;32m    758\u001b[0m     \"\"\"\n\u001b[1;32m    759\u001b[0m     return _dijkstra_multisource(G, [source], weight, pred=pred, paths=paths,\n\u001b[0;32m--> 760\u001b[0;31m                                  cutoff=cutoff, target=target)\n\u001b[0m\u001b[1;32m    761\u001b[0m \u001b[0;34m\u001b[0m\u001b[0m\n\u001b[1;32m    762\u001b[0m \u001b[0;34m\u001b[0m\u001b[0m\n",
      "\u001b[0;32m/usr/local/lib/python3.6/dist-packages/networkx/algorithms/shortest_paths/weighted.py\u001b[0m in \u001b[0;36m_dijkstra_multisource\u001b[0;34m(G, sources, weight, pred, paths, cutoff, target)\u001b[0m\n\u001b[1;32m    844\u001b[0m                 \u001b[0;32mif\u001b[0m \u001b[0mvu_dist\u001b[0m \u001b[0;34m<\u001b[0m \u001b[0mdist\u001b[0m\u001b[0;34m[\u001b[0m\u001b[0mu\u001b[0m\u001b[0;34m]\u001b[0m\u001b[0;34m:\u001b[0m\u001b[0;34m\u001b[0m\u001b[0;34m\u001b[0m\u001b[0m\n\u001b[1;32m    845\u001b[0m                     raise ValueError('Contradictory paths found:',\n\u001b[0;32m--> 846\u001b[0;31m                                      'negative weights?')\n\u001b[0m\u001b[1;32m    847\u001b[0m             \u001b[0;32melif\u001b[0m \u001b[0mu\u001b[0m \u001b[0;32mnot\u001b[0m \u001b[0;32min\u001b[0m \u001b[0mseen\u001b[0m \u001b[0;32mor\u001b[0m \u001b[0mvu_dist\u001b[0m \u001b[0;34m<\u001b[0m \u001b[0mseen\u001b[0m\u001b[0;34m[\u001b[0m\u001b[0mu\u001b[0m\u001b[0;34m]\u001b[0m\u001b[0;34m:\u001b[0m\u001b[0;34m\u001b[0m\u001b[0;34m\u001b[0m\u001b[0m\n\u001b[1;32m    848\u001b[0m                 \u001b[0mseen\u001b[0m\u001b[0;34m[\u001b[0m\u001b[0mu\u001b[0m\u001b[0;34m]\u001b[0m \u001b[0;34m=\u001b[0m \u001b[0mvu_dist\u001b[0m\u001b[0;34m\u001b[0m\u001b[0;34m\u001b[0m\u001b[0m\n",
      "\u001b[0;31mValueError\u001b[0m: ('Contradictory paths found:', 'negative weights?')"
     ]
    }
   ],
   "source": [
    "# get 10 random sources\n",
    "sources = []\n",
    "for i in range(10):\n",
    "    r = random.randint(0,5640)\n",
    "    s = nodes['osmid'].values[r]\n",
    "    sources.append(s)\n",
    "\n",
    "# get 10 correspondig random targets\n",
    "targets = []\n",
    "for i in range(20):\n",
    "    r = random.randint(0,5640)\n",
    "    t = nodes['osmid'].values[r]\n",
    "    targets.append(t)\n",
    "    \n",
    "AD = []\n",
    "demand = []\n",
    "\n",
    "for s in sources:\n",
    "    for t in targets:\n",
    "        print(s, t)\n",
    "        AD.append([s,t])\n",
    "        orig_point = nodes[nodes['osmid'] == s].geometry.values[0]\n",
    "        target_point = nodes[nodes['osmid'] == t].geometry.values[0]\n",
    "        orig_xy = (orig_point.y, orig_point.x)\n",
    "        target_xy = (target_point.y, target_point.x)\n",
    "\n",
    "        # Max distance for walking is 720m (10 min * 1.2 m/s)\n",
    "        # Find all nodes within 720 m from candidate sources and candidate destinations\n",
    "        candidate_dest = find_nearest_nodes(nodes, target_xy, 400, idx)\n",
    "        candidate_source = find_nearest_nodes(nodes, orig_xy, 400, idx)\n",
    "\n",
    "        if len(candidate_dest) == 0:\n",
    "            candidate_dest.append(ox.get_nearest_node(G, target_xy))\n",
    "\n",
    "        if len(candidate_source) == 0:\n",
    "            candidate_source.append(ox.get_nearest_node(G, orig_xy))\n",
    "\n",
    "        euclidean = get_length_dict(nodes, candidate_source, candidate_dest)\n",
    "        _, OD = modified_hybrid_search(G, euclidean)\n",
    "        demand.append(OD)"
   ]
  },
  {
   "cell_type": "markdown",
   "metadata": {
    "colab_type": "text",
    "id": "KYKbhy7YB5QM"
   },
   "source": [
    "## First mile"
   ]
  },
  {
   "cell_type": "code",
   "execution_count": 12,
   "metadata": {
    "colab": {},
    "colab_type": "code",
    "id": "KmaI4xB0h9P7"
   },
   "outputs": [],
   "source": [
    "# use pedestrain network only----> change this\n",
    "def print_route(route):\n",
    "  i = 0\n",
    "  n = len(route)\n",
    "\n",
    "  for i in range(n):\n",
    "    for nei,w in G_whole[route[i]].items():\n",
    "      if i+1 != n:\n",
    "        if nei == route[i+1]:\n",
    "          print(w[0].get('highway'), w[0].get('length'))"
   ]
  },
  {
   "cell_type": "code",
   "execution_count": 31,
   "metadata": {
    "colab": {
     "base_uri": "https://localhost:8080/",
     "height": 139
    },
    "colab_type": "code",
    "id": "3tZfPILUdfcV",
    "outputId": "090cb355-ed73-4bf1-92a0-e812179c0a11"
   },
   "outputs": [
    {
     "name": "stdout",
     "output_type": "stream",
     "text": [
      "residential 102.051\n",
      "residential 7.747\n",
      "residential 32.174\n",
      "residential 124.57300000000001\n",
      "residential 56.33\n",
      "Distance from X to A:  482.23028553412615\n",
      "Distance from A to B:  322.875\n"
     ]
    }
   ],
   "source": [
    "orig_point = nodes[nodes['osmid'] == AD[0][0]].geometry.values[0]\n",
    "orig_xy = (orig_point.y, orig_point.x)\n",
    "orig_node, dist = ox.get_nearest_node(G_ped, orig_xy, method='haversine', return_dist = True)\n",
    "\n",
    "target_point = nodes[nodes['osmid'] == demand[0][0]].geometry.values[0]\n",
    "target_xy = (target_point.y, target_point.x)\n",
    "target_node = demand[0][0]\n",
    "\n",
    "first_mile_length, first_mile = nx.single_source_dijkstra(G_ped, orig_node, target_node, weight='length')\n",
    "\n",
    "print_route(first_mile)\n",
    "print(\"Distance from X to A: \", dist) # in metres\n",
    "print(\"Distance from A to B: \", first_mile_length) # in metres"
   ]
  },
  {
   "cell_type": "markdown",
   "metadata": {
    "colab_type": "text",
    "id": "J7fMJfToCaRX"
   },
   "source": [
    "### Last Mile"
   ]
  },
  {
   "cell_type": "code",
   "execution_count": 32,
   "metadata": {
    "colab": {
     "base_uri": "https://localhost:8080/",
     "height": 225
    },
    "colab_type": "code",
    "id": "dvp8SlVrj3ji",
    "outputId": "8f006230-837f-4064-c26b-557298b67465"
   },
   "outputs": [
    {
     "name": "stdout",
     "output_type": "stream",
     "text": [
      "primary 561.0409999999999\n",
      "primary 31.486\n",
      "primary 10.98\n",
      "primary 17.553\n",
      "primary 11.666\n",
      "primary 26.612\n",
      "primary 256.842\n",
      "primary 9.377\n",
      "tertiary 13.573\n",
      "primary 8.92\n",
      "Distance from C to D:  948.0499999999998\n",
      "Distance from D to Y:  0.0\n"
     ]
    }
   ],
   "source": [
    "target_node, dist = ox.get_nearest_node(G_whole, target_xy, method='haversine', return_dist= True)\n",
    "last_mile = nx.shortest_path(G_whole, sd_pair[0][1], target_node, weight='length', method='dijkstra')\n",
    "last_mile_length = nx.shortest_path_length(G_whole, sd_pair[0][1], target_node, weight='length', method='dijkstra')\n",
    "\n",
    "print_route(last_mile)\n",
    "print(\"Distance from C to D: \", last_mile_length)\n",
    "print(\"Distance from D to Y: \", dist)"
   ]
  },
  {
   "cell_type": "code",
   "execution_count": null,
   "metadata": {},
   "outputs": [],
   "source": []
  }
 ],
 "metadata": {
  "accelerator": "GPU",
  "colab": {
   "collapsed_sections": [],
   "name": "Hybrid_congestion_aware_routing.ipynb",
   "provenance": []
  },
  "kernelspec": {
   "display_name": "Python 3",
   "language": "python",
   "name": "python3"
  },
  "language_info": {
   "codemirror_mode": {
    "name": "ipython",
    "version": 3
   },
   "file_extension": ".py",
   "mimetype": "text/x-python",
   "name": "python",
   "nbconvert_exporter": "python",
   "pygments_lexer": "ipython3",
   "version": "3.6.10"
  }
 },
 "nbformat": 4,
 "nbformat_minor": 1
}
