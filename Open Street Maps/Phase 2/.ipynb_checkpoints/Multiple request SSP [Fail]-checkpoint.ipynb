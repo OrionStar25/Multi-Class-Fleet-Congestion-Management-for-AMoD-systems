{
 "cells": [
  {
   "cell_type": "code",
   "execution_count": 1,
   "metadata": {},
   "outputs": [],
   "source": [
    "import networkx as nx"
   ]
  },
  {
   "cell_type": "code",
   "execution_count": 2,
   "metadata": {},
   "outputs": [],
   "source": [
    "G = nx.DiGraph()\n",
    "\n",
    "# Intended requests are:\n",
    "# a-->d\n",
    "# b-->e\n",
    "# All sources (a,b) are given demand as -1 (send one unit of flow)\n",
    "# All sinks (d,e) are given demand +1 (receive one unit of flow)\n",
    "\n",
    "G.add_node('a', demand = -1)\n",
    "G.add_node('d', demand = 1)\n",
    "G.add_node('b', demand = -1)\n",
    "G.add_node('e', demand = 1)\n",
    "\n",
    "G.add_edge('a', 'b', weight = 3, capacity = 10)\n",
    "G.add_edge('a', 'c', weight = 1, capacity = 10)\n",
    "G.add_edge('b', 'd', weight = 2, capacity = 10)\n",
    "G.add_edge('c', 'd', weight = 3, capacity = 10)\n",
    "G.add_edge('c', 'e', weight = 1, capacity = 10)\n",
    "G.add_edge('d', 'c', weight = 1, capacity = 10)"
   ]
  },
  {
   "cell_type": "code",
   "execution_count": 3,
   "metadata": {},
   "outputs": [
    {
     "name": "stdout",
     "output_type": "stream",
     "text": [
      "['a', 'c', 'd']\n",
      "4\n"
     ]
    }
   ],
   "source": [
    "print(nx.shortest_path(G, 'a', 'd', weight='weight', method='dijkstra'))\n",
    "print(nx.shortest_path_length(G, 'a', 'd', weight='weight', method='dijkstra'))"
   ]
  },
  {
   "cell_type": "code",
   "execution_count": 4,
   "metadata": {},
   "outputs": [
    {
     "name": "stdout",
     "output_type": "stream",
     "text": [
      "['b', 'd', 'c', 'e']\n",
      "4\n"
     ]
    }
   ],
   "source": [
    "print(nx.shortest_path(G, 'b', 'e', weight='weight', method='dijkstra'))\n",
    "print(nx.shortest_path_length(G, 'b', 'e', weight='weight', method='dijkstra'))"
   ]
  },
  {
   "cell_type": "code",
   "execution_count": 5,
   "metadata": {},
   "outputs": [
    {
     "name": "stdout",
     "output_type": "stream",
     "text": [
      "{'a': {'b': 0, 'c': 1}, 'd': {'c': 0}, 'b': {'d': 1}, 'e': {}, 'c': {'d': 0, 'e': 1}}\n",
      "4\n"
     ]
    }
   ],
   "source": [
    "d, flowDict = nx.capacity_scaling(G)\n",
    "print(flowDict)\n",
    "print(d)"
   ]
  },
  {
   "cell_type": "code",
   "execution_count": 6,
   "metadata": {},
   "outputs": [],
   "source": [
    "# From above, it shows that\n",
    "# a-->c-->e (cost:2)\n",
    "# b-->d (cost:2)\n",
    "# total cost = 4\n",
    "\n",
    "# this is not routing for the intended request but instead\n",
    "# just calculating how to send maximum flow in minimum cost \n",
    "\n",
    "# there is no way to specify that (a) needs to go to (d) and not (e)\n",
    "# and (b) needs to go to (e) and not (d)\n",
    "\n",
    "# hence this cant process batch requests simulatenously.\n",
    "\n",
    "# thus, routing one commodity at a time, is essentially dijkstra with edge weights as BPR"
   ]
  },
  {
   "cell_type": "code",
   "execution_count": null,
   "metadata": {},
   "outputs": [],
   "source": []
  }
 ],
 "metadata": {
  "kernelspec": {
   "display_name": "Python 3",
   "language": "python",
   "name": "python3"
  },
  "language_info": {
   "codemirror_mode": {
    "name": "ipython",
    "version": 3
   },
   "file_extension": ".py",
   "mimetype": "text/x-python",
   "name": "python",
   "nbconvert_exporter": "python",
   "pygments_lexer": "ipython3",
   "version": "3.6.10"
  }
 },
 "nbformat": 4,
 "nbformat_minor": 4
}
