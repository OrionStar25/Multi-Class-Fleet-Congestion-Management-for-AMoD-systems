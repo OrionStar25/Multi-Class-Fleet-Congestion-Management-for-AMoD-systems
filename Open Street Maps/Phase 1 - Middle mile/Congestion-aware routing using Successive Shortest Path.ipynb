{
 "cells": [
  {
   "cell_type": "code",
   "execution_count": 1,
   "metadata": {
    "colab": {
     "base_uri": "https://localhost:8080/",
     "height": 159
    },
    "colab_type": "code",
    "id": "OxqaXyrU2rMK",
    "outputId": "7121bf6b-02a5-4872-e29b-283385b8ec6a"
   },
   "outputs": [
    {
     "name": "stdout",
     "output_type": "stream",
     "text": [
      "Go to this URL in a browser: https://accounts.google.com/o/oauth2/auth?client_id=947318989803-6bn6qk8qdgf4n4g3pfee6491hc0brc4i.apps.googleusercontent.com&redirect_uri=urn%3aietf%3awg%3aoauth%3a2.0%3aoob&response_type=code&scope=email%20https%3a%2f%2fwww.googleapis.com%2fauth%2fdocs.test%20https%3a%2f%2fwww.googleapis.com%2fauth%2fdrive%20https%3a%2f%2fwww.googleapis.com%2fauth%2fdrive.photos.readonly%20https%3a%2f%2fwww.googleapis.com%2fauth%2fpeopleapi.readonly\n",
      "\n",
      "Enter your authorization code:\n",
      "··········\n",
      "Mounted at /content/drive/\n",
      "/content/drive/My Drive/Sem 8 files\n",
      " data   euclidean_distances.json  'Fri Feb 14 09_06_16 2020.json'\n"
     ]
    }
   ],
   "source": [
    "from google.colab import drive\n",
    "drive.mount('/content/drive/')\n",
    "%cd drive/My \\Drive/Sem \\8 \\files/\n",
    "!ls"
   ]
  },
  {
   "cell_type": "code",
   "execution_count": 2,
   "metadata": {
    "colab": {
     "base_uri": "https://localhost:8080/",
     "height": 1000
    },
    "colab_type": "code",
    "id": "Anm_vCtg02sJ",
    "outputId": "0b1c4360-551a-439a-da91-6e9c167e7df8"
   },
   "outputs": [
    {
     "name": "stdout",
     "output_type": "stream",
     "text": [
      "Reading package lists... Done\n",
      "Building dependency tree       \n",
      "Reading state information... Done\n",
      "The following additional packages will be installed:\n",
      "  libspatialindex4v5\n",
      "The following NEW packages will be installed:\n",
      "  libspatialindex-c4v5 libspatialindex4v5\n",
      "0 upgraded, 2 newly installed, 0 to remove and 25 not upgraded.\n",
      "Need to get 270 kB of archives.\n",
      "After this operation, 1,107 kB of additional disk space will be used.\n",
      "Get:1 http://archive.ubuntu.com/ubuntu bionic/universe amd64 libspatialindex4v5 amd64 1.8.5-5 [219 kB]\n",
      "Get:2 http://archive.ubuntu.com/ubuntu bionic/universe amd64 libspatialindex-c4v5 amd64 1.8.5-5 [51.7 kB]\n",
      "Fetched 270 kB in 1s (371 kB/s)\n",
      "Selecting previously unselected package libspatialindex4v5:amd64.\n",
      "(Reading database ... 145118 files and directories currently installed.)\n",
      "Preparing to unpack .../libspatialindex4v5_1.8.5-5_amd64.deb ...\n",
      "Unpacking libspatialindex4v5:amd64 (1.8.5-5) ...\n",
      "Selecting previously unselected package libspatialindex-c4v5:amd64.\n",
      "Preparing to unpack .../libspatialindex-c4v5_1.8.5-5_amd64.deb ...\n",
      "Unpacking libspatialindex-c4v5:amd64 (1.8.5-5) ...\n",
      "Setting up libspatialindex4v5:amd64 (1.8.5-5) ...\n",
      "Setting up libspatialindex-c4v5:amd64 (1.8.5-5) ...\n",
      "Processing triggers for libc-bin (2.27-3ubuntu1) ...\n",
      "/sbin/ldconfig.real: /usr/local/lib/python3.6/dist-packages/ideep4py/lib/libmkldnn.so.0 is not a symbolic link\n",
      "\n",
      "Collecting osmnx\n",
      "\u001b[?25l  Downloading https://files.pythonhosted.org/packages/ec/b1/19db159f912ca27e35968c2b89cf70014535999c1213ae005c32dbb42f4c/osmnx-0.11.4-py2.py3-none-any.whl (77kB)\n",
      "\u001b[K     |████████████████████████████████| 81kB 2.3MB/s \n",
      "\u001b[?25hCollecting pyproj>=2.4\n",
      "\u001b[?25l  Downloading https://files.pythonhosted.org/packages/77/15/d93f446d253d26b91553f86cf21049183e9b0f51f8c8e6cb2cff081bcc02/pyproj-2.5.0-cp36-cp36m-manylinux2010_x86_64.whl (10.4MB)\n",
      "\u001b[K     |████████████████████████████████| 10.4MB 7.8MB/s \n",
      "\u001b[?25hRequirement already satisfied: descartes>=1.1 in /usr/local/lib/python3.6/dist-packages (from osmnx) (1.1.0)\n",
      "Collecting pandas>=1.0\n",
      "\u001b[?25l  Downloading https://files.pythonhosted.org/packages/08/ec/b5dd8cfb078380fb5ae9325771146bccd4e8cad2d3e4c72c7433010684eb/pandas-1.0.1-cp36-cp36m-manylinux1_x86_64.whl (10.1MB)\n",
      "\u001b[K     |████████████████████████████████| 10.1MB 67.8MB/s \n",
      "\u001b[?25hCollecting Rtree>=0.9\n",
      "\u001b[?25l  Downloading https://files.pythonhosted.org/packages/56/6f/f1e91001d5ad9fa9bed65875152f5a1c7955c5763168cae309546e6e9fda/Rtree-0.9.4.tar.gz (62kB)\n",
      "\u001b[K     |████████████████████████████████| 71kB 11.3MB/s \n",
      "\u001b[?25hRequirement already satisfied: Shapely>=1.7 in /usr/local/lib/python3.6/dist-packages (from osmnx) (1.7.0)\n",
      "Requirement already satisfied: numpy>=1.17 in /usr/local/lib/python3.6/dist-packages (from osmnx) (1.17.5)\n",
      "Requirement already satisfied: networkx>=2.4 in /usr/local/lib/python3.6/dist-packages (from osmnx) (2.4)\n",
      "Requirement already satisfied: matplotlib>=3.1 in /usr/local/lib/python3.6/dist-packages (from osmnx) (3.1.3)\n",
      "Collecting requests>=2.22\n",
      "\u001b[?25l  Downloading https://files.pythonhosted.org/packages/1a/70/1935c770cb3be6e3a8b78ced23d7e0f3b187f5cbfab4749523ed65d7c9b1/requests-2.23.0-py2.py3-none-any.whl (58kB)\n",
      "\u001b[K     |████████████████████████████████| 61kB 9.1MB/s \n",
      "\u001b[?25hCollecting geopandas>=0.6\n",
      "\u001b[?25l  Downloading https://files.pythonhosted.org/packages/83/c5/3cf9cdc39a6f2552922f79915f36b45a95b71fd343cfc51170a5b6ddb6e8/geopandas-0.7.0-py2.py3-none-any.whl (928kB)\n",
      "\u001b[K     |████████████████████████████████| 931kB 59.5MB/s \n",
      "\u001b[?25hRequirement already satisfied: python-dateutil>=2.6.1 in /usr/local/lib/python3.6/dist-packages (from pandas>=1.0->osmnx) (2.6.1)\n",
      "Requirement already satisfied: pytz>=2017.2 in /usr/local/lib/python3.6/dist-packages (from pandas>=1.0->osmnx) (2018.9)\n",
      "Requirement already satisfied: setuptools in /usr/local/lib/python3.6/dist-packages (from Rtree>=0.9->osmnx) (45.2.0)\n",
      "Requirement already satisfied: decorator>=4.3.0 in /usr/local/lib/python3.6/dist-packages (from networkx>=2.4->osmnx) (4.4.1)\n",
      "Requirement already satisfied: pyparsing!=2.0.4,!=2.1.2,!=2.1.6,>=2.0.1 in /usr/local/lib/python3.6/dist-packages (from matplotlib>=3.1->osmnx) (2.4.6)\n",
      "Requirement already satisfied: kiwisolver>=1.0.1 in /usr/local/lib/python3.6/dist-packages (from matplotlib>=3.1->osmnx) (1.1.0)\n",
      "Requirement already satisfied: cycler>=0.10 in /usr/local/lib/python3.6/dist-packages (from matplotlib>=3.1->osmnx) (0.10.0)\n",
      "Requirement already satisfied: chardet<4,>=3.0.2 in /usr/local/lib/python3.6/dist-packages (from requests>=2.22->osmnx) (3.0.4)\n",
      "Requirement already satisfied: certifi>=2017.4.17 in /usr/local/lib/python3.6/dist-packages (from requests>=2.22->osmnx) (2019.11.28)\n",
      "Requirement already satisfied: urllib3!=1.25.0,!=1.25.1,<1.26,>=1.21.1 in /usr/local/lib/python3.6/dist-packages (from requests>=2.22->osmnx) (1.24.3)\n",
      "Requirement already satisfied: idna<3,>=2.5 in /usr/local/lib/python3.6/dist-packages (from requests>=2.22->osmnx) (2.8)\n",
      "Collecting fiona\n",
      "\u001b[?25l  Downloading https://files.pythonhosted.org/packages/ec/20/4e63bc5c6e62df889297b382c3ccd4a7a488b00946aaaf81a118158c6f09/Fiona-1.8.13.post1-cp36-cp36m-manylinux1_x86_64.whl (14.7MB)\n",
      "\u001b[K     |████████████████████████████████| 14.7MB 211kB/s \n",
      "\u001b[?25hRequirement already satisfied: six>=1.5 in /usr/local/lib/python3.6/dist-packages (from python-dateutil>=2.6.1->pandas>=1.0->osmnx) (1.12.0)\n",
      "Collecting cligj>=0.5\n",
      "  Downloading https://files.pythonhosted.org/packages/e4/be/30a58b4b0733850280d01f8bd132591b4668ed5c7046761098d665ac2174/cligj-0.5.0-py3-none-any.whl\n",
      "Collecting click-plugins>=1.0\n",
      "  Downloading https://files.pythonhosted.org/packages/e9/da/824b92d9942f4e472702488857914bdd50f73021efea15b4cad9aca8ecef/click_plugins-1.1.1-py2.py3-none-any.whl\n",
      "Collecting munch\n",
      "  Downloading https://files.pythonhosted.org/packages/cc/ab/85d8da5c9a45e072301beb37ad7f833cd344e04c817d97e0cc75681d248f/munch-2.5.0-py2.py3-none-any.whl\n",
      "Requirement already satisfied: click<8,>=4.0 in /usr/local/lib/python3.6/dist-packages (from fiona->geopandas>=0.6->osmnx) (7.0)\n",
      "Requirement already satisfied: attrs>=17 in /usr/local/lib/python3.6/dist-packages (from fiona->geopandas>=0.6->osmnx) (19.3.0)\n",
      "Building wheels for collected packages: Rtree\n",
      "  Building wheel for Rtree (setup.py) ... \u001b[?25l\u001b[?25hdone\n",
      "  Created wheel for Rtree: filename=Rtree-0.9.4-cp36-none-any.whl size=21766 sha256=6d2c67c09dd56a7bcd56eef3d18bf1514a6e6ce89dab5328da2bd5d641b17980\n",
      "  Stored in directory: /root/.cache/pip/wheels/ff/20/c5/0004ef7acb96745ec99be960053902b0b414a2aa2dcad5834e\n",
      "Successfully built Rtree\n",
      "\u001b[31mERROR: google-colab 1.0.0 has requirement pandas~=0.25.0; python_version >= \"3.0\", but you'll have pandas 1.0.1 which is incompatible.\u001b[0m\n",
      "\u001b[31mERROR: google-colab 1.0.0 has requirement requests~=2.21.0, but you'll have requests 2.23.0 which is incompatible.\u001b[0m\n",
      "\u001b[31mERROR: datascience 0.10.6 has requirement folium==0.2.1, but you'll have folium 0.8.3 which is incompatible.\u001b[0m\n",
      "Installing collected packages: pyproj, pandas, Rtree, requests, cligj, click-plugins, munch, fiona, geopandas, osmnx\n",
      "  Found existing installation: pandas 0.25.3\n",
      "    Uninstalling pandas-0.25.3:\n",
      "      Successfully uninstalled pandas-0.25.3\n",
      "  Found existing installation: requests 2.21.0\n",
      "    Uninstalling requests-2.21.0:\n",
      "      Successfully uninstalled requests-2.21.0\n",
      "Successfully installed Rtree-0.9.4 click-plugins-1.1.1 cligj-0.5.0 fiona-1.8.13.post1 geopandas-0.7.0 munch-2.5.0 osmnx-0.11.4 pandas-1.0.1 pyproj-2.5.0 requests-2.23.0\n"
     ]
    }
   ],
   "source": [
    "!apt-get install -y libspatialindex-c4v5\n",
    "!pip3.6 install osmnx\n",
    "\n",
    "import osmnx as ox\n",
    "import matplotlib.pyplot as plt\n",
    "import networkx as nx\n",
    "import geopandas as gpd\n",
    "import pandas as pd\n",
    "import numpy as np\n",
    "import json\n",
    "import math\n",
    "\n",
    "from shapely.geometry import box\n",
    "from heapq import heappush, heappop\n",
    "from itertools import count\n",
    "from rtree import index"
   ]
  },
  {
   "cell_type": "code",
   "execution_count": 3,
   "metadata": {
    "colab": {
     "base_uri": "https://localhost:8080/",
     "height": 34
    },
    "colab_type": "code",
    "id": "RShXcYwX02sk",
    "outputId": "e91cd678-64d5-4785-a1a9-53edda4280cb"
   },
   "outputs": [
    {
     "data": {
      "text/plain": [
       "networkx.classes.multidigraph.MultiDiGraph"
      ]
     },
     "execution_count": 3,
     "metadata": {
      "tags": []
     },
     "output_type": "execute_result"
    }
   ],
   "source": [
    "place_name = \"Singapore, Central, Singapore\"\n",
    "G = ox.save_load.load_graphml(filename=\"Singapore_processed.graphml\")\n",
    "\n",
    "# Stores nodes and edges mapped with speed bands along with other attributes\n",
    "type(G)"
   ]
  },
  {
   "cell_type": "code",
   "execution_count": 0,
   "metadata": {
    "colab": {},
    "colab_type": "code",
    "id": "S1NMV7e402s9"
   },
   "outputs": [],
   "source": [
    "edges = ox.graph_to_gdfs(G, nodes=False, edges=True)\n",
    "nodes = pd.read_pickle('data/nodes.pkl')"
   ]
  },
  {
   "cell_type": "code",
   "execution_count": 0,
   "metadata": {
    "colab": {},
    "colab_type": "code",
    "id": "8fJPUAB102tP"
   },
   "outputs": [],
   "source": [
    "def process_speed_band(df):\n",
    "    \n",
    "    # Define Locations\n",
    "    def truncate(number, digits) -> float:\n",
    "        stepper = 10.0 ** digits\n",
    "        return math.trunc(stepper * number) / stepper\n",
    "    \n",
    "    location = df['Location'].values\n",
    "    i = 0\n",
    "    \n",
    "    for loc in location:\n",
    "        x1, y1, x2, y2 = [float(n) for n in loc.split(' ')]\n",
    "        \n",
    "        x1 = truncate(x1, 7)\n",
    "        y1 = truncate(y1, 7)\n",
    "        x2 = truncate(x2, 7)\n",
    "        y2 = truncate(y2, 7)\n",
    "        \n",
    "        if y1 < y2:\n",
    "            bottom = y1\n",
    "            top = y2\n",
    "        else:\n",
    "            bottom = y2\n",
    "            top = y1\n",
    "            \n",
    "        if x1 < x2:\n",
    "            left = x1\n",
    "            right = x2\n",
    "        else:\n",
    "            left = x2\n",
    "            right = x1\n",
    "        \n",
    "        df['Location'].values[i] = (left, bottom, right, top)\n",
    "        i += 1 \n",
    "    \n",
    "    # Process maximum speeds\n",
    "    i = 0\n",
    "    for x in df['SpeedBand']:\n",
    "        if x == 0:\n",
    "            df['MaximumSpeed'][i] = '50'\n",
    "        i += 1 "
   ]
  },
  {
   "cell_type": "code",
   "execution_count": 6,
   "metadata": {
    "colab": {
     "base_uri": "https://localhost:8080/",
     "height": 86
    },
    "colab_type": "code",
    "id": "yiJwQczp02ti",
    "outputId": "1df5134e-5646-4991-e420-97e7b5104e5c"
   },
   "outputs": [
    {
     "name": "stderr",
     "output_type": "stream",
     "text": [
      "/usr/local/lib/python3.6/dist-packages/ipykernel_launcher.py:40: SettingWithCopyWarning: \n",
      "A value is trying to be set on a copy of a slice from a DataFrame\n",
      "\n",
      "See the caveats in the documentation: http://pandas.pydata.org/pandas-docs/stable/user_guide/indexing.html#returning-a-view-versus-a-copy\n"
     ]
    }
   ],
   "source": [
    "f = open(\"Fri Feb 14 09_06_16 2020.json\", \"r\").read()\n",
    "x = json.loads(f)\n",
    "\n",
    "speed_bands = pd.DataFrame.from_dict(x, orient='columns')\n",
    "process_speed_band(speed_bands)\n",
    "# speed_bands.head()"
   ]
  },
  {
   "cell_type": "code",
   "execution_count": 0,
   "metadata": {
    "colab": {},
    "colab_type": "code",
    "id": "t3lzmw2902t7"
   },
   "outputs": [],
   "source": [
    "def calculate_congestion(G, edges, speed_bands):\n",
    "    # Define Location    \n",
    "    location = edges['geometry'].values\n",
    "    i = 0\n",
    "    Location = []\n",
    "    \n",
    "    for loc in location:        \n",
    "        x1 = loc.xy[1][-1]\n",
    "        y1 = loc.xy[0][-1]\n",
    "        x2 = loc.xy[1][0]\n",
    "        y2 = loc.xy[0][0]\n",
    "        \n",
    "        if y1 < y2:\n",
    "            bottom = y1\n",
    "            top = y2\n",
    "        else:\n",
    "            bottom = y2\n",
    "            top = y1\n",
    "            \n",
    "        if x1 < x2:\n",
    "            left = x1\n",
    "            right = x2\n",
    "        else:\n",
    "            left = x2\n",
    "            right = x1\n",
    "        \n",
    "        Location.append((left, bottom, right, top))\n",
    "        i += 1 \n",
    "        \n",
    "    edges['Location'] = Location\n",
    "    \n",
    "    \n",
    "    # Define observed_speed using speedband dataset \n",
    "    \n",
    "    # key: maximum speed ,value: location\n",
    "    idx = index.Index()\n",
    "    Location = speed_bands['Location']\n",
    "    Speed = speed_bands['MaximumSpeed'].astype(float)\n",
    "\n",
    "    for speed, loc in zip(Speed, Location):\n",
    "        idx.insert(int(speed), loc)\n",
    "    \n",
    "    # Find intersections\n",
    "    observed_speed = []\n",
    "    Location = edges['Location']\n",
    "\n",
    "    for loc in Location:\n",
    "        max_speeds = list(idx.intersection(loc))\n",
    "\n",
    "        if len(max_speeds) == 0: # edge didn't intersect with any speed band\n",
    "            observed_speed.append(70)\n",
    "        else:\n",
    "            observed_speed.append(sum(max_speeds)/len(max_speeds))  \n",
    "\n",
    "    edges['observed_speed'] = observed_speed\n",
    "    \n",
    "    \n",
    "    # Define BPR heuristic for each road link\n",
    "    bpr = dict()\n",
    "    n = len(edges['u'])\n",
    "\n",
    "    for i in range (n):\n",
    "        u = edges['u'][i]\n",
    "        v = edges['v'][i]\n",
    "        key = edges['key'][i]\n",
    "        time = float(edges['travel_time'][i])\n",
    "        flow = float(edges['observed_speed'][i])\n",
    "        capacity = float(edges['maxspeed'][i])\n",
    "        bpr[(u,v,key)] = time * (1 + 0.15*(flow/capacity)**4)\n",
    "        \n",
    "    nx.set_edge_attributes(G, bpr, 'BPR')"
   ]
  },
  {
   "cell_type": "code",
   "execution_count": 0,
   "metadata": {
    "colab": {},
    "colab_type": "code",
    "id": "j4ucj9bU02uI"
   },
   "outputs": [],
   "source": [
    "calculate_congestion(G, edges, speed_bands)\n",
    "# edges.head()"
   ]
  },
  {
   "cell_type": "markdown",
   "metadata": {
    "colab_type": "text",
    "id": "5GdlUOcM02uV"
   },
   "source": [
    "### Finding shortest route between centroid of map and another point"
   ]
  },
  {
   "cell_type": "code",
   "execution_count": 9,
   "metadata": {
    "colab": {
     "base_uri": "https://localhost:8080/",
     "height": 34
    },
    "colab_type": "code",
    "id": "OpAR_hir02ua",
    "outputId": "2a6dcce2-807d-4b19-aeb8-2d6d80e6b548"
   },
   "outputs": [
    {
     "name": "stdout",
     "output_type": "stream",
     "text": [
      "POINT (103.82129505 1.3515309)\n"
     ]
    }
   ],
   "source": [
    "# Boundary Box of entire area\n",
    "bbox = box(*edges.unary_union.bounds)\n",
    "orig_point = bbox.centroid\n",
    "print(orig_point)"
   ]
  },
  {
   "cell_type": "code",
   "execution_count": 10,
   "metadata": {
    "colab": {
     "base_uri": "https://localhost:8080/",
     "height": 34
    },
    "colab_type": "code",
    "id": "Sja5C9E_02uo",
    "outputId": "f5915d5f-9972-4a20-9ef8-81d374a6f1ee"
   },
   "outputs": [
    {
     "name": "stdout",
     "output_type": "stream",
     "text": [
      "POINT (103.9326163 1.3565805)\n"
     ]
    }
   ],
   "source": [
    "target_point = nodes[nodes['osmid'] == 1820000257].geometry.values[0]\n",
    "print(target_point)"
   ]
  },
  {
   "cell_type": "code",
   "execution_count": 0,
   "metadata": {
    "colab": {},
    "colab_type": "code",
    "id": "ngLGhn4802u2"
   },
   "outputs": [],
   "source": [
    "orig_xy = (orig_point.y, orig_point.x)\n",
    "target_xy = (target_point.y, target_point.x)"
   ]
  },
  {
   "cell_type": "code",
   "execution_count": 0,
   "metadata": {
    "colab": {},
    "colab_type": "code",
    "id": "kEtSgaJo02vE"
   },
   "outputs": [],
   "source": [
    "# key: node label ,value: location\n",
    "idx = index.Index()\n",
    "xx = nodes['x'].astype(float)\n",
    "yy = nodes['y'].astype(float)\n",
    "node_label = nodes['osmid']\n",
    "\n",
    "for node, x, y in zip(node_label, xx, yy):\n",
    "    idx.insert(int(node), (x,y,x,y))"
   ]
  },
  {
   "cell_type": "code",
   "execution_count": 0,
   "metadata": {
    "colab": {},
    "colab_type": "code",
    "id": "idiH1dZb02vU"
   },
   "outputs": [],
   "source": [
    "def find_nearest_nodes(source, dist, idx):\n",
    "    # Create a bounding box around source of min distance in all directions\n",
    "    (north, south, east, west) = ox.bbox_from_point(point=source, distance=dist)\n",
    "    \n",
    "    candidate_nodes = list(idx.intersection((west, south, east, north)))    \n",
    "    return candidate_nodes"
   ]
  },
  {
   "cell_type": "code",
   "execution_count": 0,
   "metadata": {
    "colab": {},
    "colab_type": "code",
    "id": "zgyXu9z402vi"
   },
   "outputs": [],
   "source": [
    "# Max distance for walking is 700m (10 min * 1.2 m/s)\n",
    "# Find all nodes within 720 m from candidate sources and candidate destinations\n",
    "candidate_dest = find_nearest_nodes(target_xy, 700, idx)\n",
    "candidate_source = find_nearest_nodes(orig_xy, 700, idx)"
   ]
  },
  {
   "cell_type": "code",
   "execution_count": 0,
   "metadata": {
    "colab": {},
    "colab_type": "code",
    "id": "nksfriVYSR_t"
   },
   "outputs": [],
   "source": [
    "def euclidean_distance(sources, destinations, nodes):\n",
    "    distances = dict()\n",
    "    \n",
    "    for source in sources:\n",
    "        x1 = nodes[nodes['osmid']==source]['x'].values[0]\n",
    "        y1 = nodes[nodes['osmid']==source]['y'].values[0]\n",
    "        \n",
    "        for dest in destinations:\n",
    "            x2 = nodes[nodes['osmid']==dest]['x'].values[0]\n",
    "            y2 = nodes[nodes['osmid']==dest]['y'].values[0]\n",
    "            \n",
    "            # distance in metres, store it in sec\n",
    "            d = 1000 * ((x1-x2)**2 + (y1-y2)**2)**0.5\n",
    "            distances[(source,dest)] = d/5.28\n",
    "    \n",
    "    # sort the dictionary in ascending order using distances\n",
    "    x = sorted(distances.items(), key = lambda kv:(kv[1], kv[0]))\n",
    "    return x"
   ]
  },
  {
   "cell_type": "code",
   "execution_count": 0,
   "metadata": {
    "colab": {},
    "colab_type": "code",
    "id": "plvgqhcZSSHX"
   },
   "outputs": [],
   "source": [
    "x = euclidean_distance(candidate_source, candidate_dest, nodes)"
   ]
  },
  {
   "cell_type": "code",
   "execution_count": 0,
   "metadata": {
    "colab": {},
    "colab_type": "code",
    "id": "s7IYc--5SgpT"
   },
   "outputs": [],
   "source": [
    "def hybrid_routing(x, G):\n",
    "    n = len(x)\n",
    "    min_pair = x[0]\n",
    "    source = min_pair[0][0]\n",
    "    dest = min_pair[0][1]\n",
    "    min_tt = float('inf')\n",
    "    final_route = dict()\n",
    "\n",
    "    for i in range(n):\n",
    "      G.add_node(source, demand = -1)\n",
    "      G.add_node(dest, demand = 1)\n",
    "      travel_time, flowDict = nx.capacity_scaling(G, weight='BPR')\n",
    "      G.add_node(source, demand = 0)\n",
    "      G.add_node(dest, demand = 0)\n",
    "      print(source, dest, travel_time)\n",
    "\n",
    "      if travel_time < min_tt:\n",
    "          min_tt = travel_time\n",
    "          min_pair = x[i]\n",
    "          final_route = flowDict\n",
    "\n",
    "          if i < n-1:\n",
    "              if travel_time < x[i+1][1]:\n",
    "                  break\n",
    "              else:\n",
    "                  source = x[i+1][0][0]\n",
    "                  dest = x[i+1][0][1]\n",
    "          else:\n",
    "              break\n",
    "      else:\n",
    "          break\n",
    "    \n",
    "    return final_route, min_tt, min_pair"
   ]
  },
  {
   "cell_type": "code",
   "execution_count": 19,
   "metadata": {
    "colab": {
     "base_uri": "https://localhost:8080/",
     "height": 69
    },
    "colab_type": "code",
    "id": "kI844RO002vr",
    "outputId": "16e2ed1f-c435-4f89-9179-0c3c8cc18f93",
    "scrolled": true
   },
   "outputs": [
    {
     "name": "stdout",
     "output_type": "stream",
     "text": [
      "4486815538 1819975126 3153.541456580273\n",
      "1318459153 1819975126 3144.2880933955053\n",
      "4486815537 1819975126 3148.954042562657\n"
     ]
    }
   ],
   "source": [
    "final_dict, travel_cost, sd_pair = hybrid_routing(x, G)"
   ]
  },
  {
   "cell_type": "code",
   "execution_count": 20,
   "metadata": {
    "colab": {
     "base_uri": "https://localhost:8080/",
     "height": 34
    },
    "colab_type": "code",
    "id": "s8e0sUNeWToB",
    "outputId": "4d273693-d625-4e73-c85a-66f3fb25b92e"
   },
   "outputs": [
    {
     "name": "stdout",
     "output_type": "stream",
     "text": [
      "52.40480155659176\n"
     ]
    }
   ],
   "source": [
    "print(travel_cost/60)"
   ]
  },
  {
   "cell_type": "code",
   "execution_count": 0,
   "metadata": {
    "colab": {},
    "colab_type": "code",
    "id": "e1hyQ8_J02v5"
   },
   "outputs": [],
   "source": [
    "def find_route(flow_dict, s ,t):\n",
    "    route = []\n",
    "    u = s #current node\n",
    "    \n",
    "    while(u != t):  \n",
    "        flag=0\n",
    "        for v,x in flow_dict[u].items():\n",
    "            for k,f in x.items():\n",
    "                if f > 0:\n",
    "                    route.append([u,v,k])\n",
    "                    u = v\n",
    "                    flag = 1\n",
    "                    break\n",
    "            if flag == 1:\n",
    "                break\n",
    "    \n",
    "    return route"
   ]
  },
  {
   "cell_type": "code",
   "execution_count": 0,
   "metadata": {
    "colab": {},
    "colab_type": "code",
    "id": "chOWUxSt02wE"
   },
   "outputs": [],
   "source": [
    "edged_route = find_route(final_dict, sd_pair[0][0], sd_pair[0][1])"
   ]
  },
  {
   "cell_type": "code",
   "execution_count": 0,
   "metadata": {
    "colab": {},
    "colab_type": "code",
    "id": "NxHP3ZGC02wM"
   },
   "outputs": [],
   "source": [
    "def plot_route(route, G, origin, destination):\n",
    "    final_route = []\n",
    "    \n",
    "    for node in route:\n",
    "        final_route.append(node[0])        \n",
    "    final_route.append(route[-1][1])\n",
    "    \n",
    "    fig, ax = ox.plot_graph_route(G, final_route, origin_point=origin, destination_point=destination)\n",
    "    plt.tight_layout()"
   ]
  },
  {
   "cell_type": "code",
   "execution_count": 24,
   "metadata": {
    "colab": {
     "base_uri": "https://localhost:8080/",
     "height": 374
    },
    "colab_type": "code",
    "id": "cLsgfo-H02wX",
    "outputId": "fca75624-c9c6-4953-e892-d15ff7ba91b1"
   },
   "outputs": [
    {
     "data": {
      "image/png": "[encoded data removed]",
      "text/plain": [
       "<Figure size 754.994x432 with 1 Axes>"
      ]
     },
     "metadata": {
      "tags": []
     },
     "output_type": "display_data"
    },
    {
     "data": {
      "text/plain": [
       "<Figure size 432x288 with 0 Axes>"
      ]
     },
     "metadata": {
      "tags": []
     },
     "output_type": "display_data"
    }
   ],
   "source": [
    "plot_route(edged_route, G, orig_xy, target_xy)"
   ]
  },
  {
   "cell_type": "code",
   "execution_count": 0,
   "metadata": {
    "colab": {},
    "colab_type": "code",
    "id": "aSRksBnp02wi"
   },
   "outputs": [],
   "source": []
  }
 ],
 "metadata": {
  "accelerator": "GPU",
  "colab": {
   "collapsed_sections": [],
   "name": "Congestion-aware routing using Successive Shortest Path.ipynb",
   "provenance": []
  },
  "kernelspec": {
   "display_name": "Python 3",
   "language": "python",
   "name": "python3"
  },
  "language_info": {
   "codemirror_mode": {
    "name": "ipython",
    "version": 3
   },
   "file_extension": ".py",
   "mimetype": "text/x-python",
   "name": "python",
   "nbconvert_exporter": "python",
   "pygments_lexer": "ipython3",
   "version": "3.6.10"
  }
 },
 "nbformat": 4,
 "nbformat_minor": 1
}
