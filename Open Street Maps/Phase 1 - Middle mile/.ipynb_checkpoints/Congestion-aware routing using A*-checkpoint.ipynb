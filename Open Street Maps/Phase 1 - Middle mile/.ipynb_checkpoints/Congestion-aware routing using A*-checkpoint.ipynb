{
 "cells": [
  {
   "cell_type": "code",
   "execution_count": 5,
   "metadata": {
    "colab": {
     "base_uri": "https://localhost:8080/",
     "height": 86
    },
    "colab_type": "code",
    "id": "jiJ1hgPaL34v",
    "outputId": "8256f7bd-0613-472f-ace3-34fc9ad097df"
   },
   "outputs": [
    {
     "name": "stdout",
     "output_type": "stream",
     "text": [
      "Drive already mounted at /content/drive/; to attempt to forcibly remount, call drive.mount(\"/content/drive/\", force_remount=True).\n",
      "[Errno 2] No such file or directory: 'drive/My Drive/Sem 8 files/'\n",
      "/content/drive/My Drive/Sem 8 files\n",
      " data   euclidean_distances.json  'Fri Feb 14 09_06_16 2020.json'\n"
     ]
    }
   ],
   "source": [
    "from google.colab import drive\n",
    "drive.mount('/content/drive/')\n",
    "%cd drive/My \\Drive/Sem \\8 \\files/\n",
    "!ls"
   ]
  },
  {
   "cell_type": "code",
   "execution_count": 6,
   "metadata": {
    "colab": {
     "base_uri": "https://localhost:8080/",
     "height": 1000
    },
    "colab_type": "code",
    "id": "RK69LfxmLkzM",
    "outputId": "8e922494-e466-45f6-bf9f-2329ee028631"
   },
   "outputs": [
    {
     "name": "stdout",
     "output_type": "stream",
     "text": [
      "Reading package lists... Done\n",
      "Building dependency tree       \n",
      "Reading state information... Done\n",
      "The following additional packages will be installed:\n",
      "  libspatialindex4v5\n",
      "The following NEW packages will be installed:\n",
      "  libspatialindex-c4v5 libspatialindex4v5\n",
      "0 upgraded, 2 newly installed, 0 to remove and 25 not upgraded.\n",
      "Need to get 270 kB of archives.\n",
      "After this operation, 1,107 kB of additional disk space will be used.\n",
      "Get:1 http://archive.ubuntu.com/ubuntu bionic/universe amd64 libspatialindex4v5 amd64 1.8.5-5 [219 kB]\n",
      "Get:2 http://archive.ubuntu.com/ubuntu bionic/universe amd64 libspatialindex-c4v5 amd64 1.8.5-5 [51.7 kB]\n",
      "Fetched 270 kB in 1s (366 kB/s)\n",
      "Selecting previously unselected package libspatialindex4v5:amd64.\n",
      "(Reading database ... 145118 files and directories currently installed.)\n",
      "Preparing to unpack .../libspatialindex4v5_1.8.5-5_amd64.deb ...\n",
      "Unpacking libspatialindex4v5:amd64 (1.8.5-5) ...\n",
      "Selecting previously unselected package libspatialindex-c4v5:amd64.\n",
      "Preparing to unpack .../libspatialindex-c4v5_1.8.5-5_amd64.deb ...\n",
      "Unpacking libspatialindex-c4v5:amd64 (1.8.5-5) ...\n",
      "Setting up libspatialindex4v5:amd64 (1.8.5-5) ...\n",
      "Setting up libspatialindex-c4v5:amd64 (1.8.5-5) ...\n",
      "Processing triggers for libc-bin (2.27-3ubuntu1) ...\n",
      "/sbin/ldconfig.real: /usr/local/lib/python3.6/dist-packages/ideep4py/lib/libmkldnn.so.0 is not a symbolic link\n",
      "\n",
      "Collecting osmnx\n",
      "\u001b[?25l  Downloading https://files.pythonhosted.org/packages/ec/b1/19db159f912ca27e35968c2b89cf70014535999c1213ae005c32dbb42f4c/osmnx-0.11.4-py2.py3-none-any.whl (77kB)\n",
      "\u001b[K     |████████████████████████████████| 81kB 2.7MB/s \n",
      "\u001b[?25hCollecting pyproj>=2.4\n",
      "\u001b[?25l  Downloading https://files.pythonhosted.org/packages/77/15/d93f446d253d26b91553f86cf21049183e9b0f51f8c8e6cb2cff081bcc02/pyproj-2.5.0-cp36-cp36m-manylinux2010_x86_64.whl (10.4MB)\n",
      "\u001b[K     |████████████████████████████████| 10.4MB 10.6MB/s \n",
      "\u001b[?25hRequirement already satisfied: matplotlib>=3.1 in /usr/local/lib/python3.6/dist-packages (from osmnx) (3.1.3)\n",
      "Collecting pandas>=1.0\n",
      "\u001b[?25l  Downloading https://files.pythonhosted.org/packages/08/ec/b5dd8cfb078380fb5ae9325771146bccd4e8cad2d3e4c72c7433010684eb/pandas-1.0.1-cp36-cp36m-manylinux1_x86_64.whl (10.1MB)\n",
      "\u001b[K     |████████████████████████████████| 10.1MB 48.4MB/s \n",
      "\u001b[?25hCollecting geopandas>=0.6\n",
      "\u001b[?25l  Downloading https://files.pythonhosted.org/packages/83/c5/3cf9cdc39a6f2552922f79915f36b45a95b71fd343cfc51170a5b6ddb6e8/geopandas-0.7.0-py2.py3-none-any.whl (928kB)\n",
      "\u001b[K     |████████████████████████████████| 931kB 34.8MB/s \n",
      "\u001b[?25hCollecting Rtree>=0.9\n",
      "\u001b[?25l  Downloading https://files.pythonhosted.org/packages/56/6f/f1e91001d5ad9fa9bed65875152f5a1c7955c5763168cae309546e6e9fda/Rtree-0.9.4.tar.gz (62kB)\n",
      "\u001b[K     |████████████████████████████████| 71kB 6.2MB/s \n",
      "\u001b[?25hRequirement already satisfied: descartes>=1.1 in /usr/local/lib/python3.6/dist-packages (from osmnx) (1.1.0)\n",
      "Collecting requests>=2.22\n",
      "\u001b[?25l  Downloading https://files.pythonhosted.org/packages/1a/70/1935c770cb3be6e3a8b78ced23d7e0f3b187f5cbfab4749523ed65d7c9b1/requests-2.23.0-py2.py3-none-any.whl (58kB)\n",
      "\u001b[K     |████████████████████████████████| 61kB 6.9MB/s \n",
      "\u001b[?25hRequirement already satisfied: networkx>=2.4 in /usr/local/lib/python3.6/dist-packages (from osmnx) (2.4)\n",
      "Requirement already satisfied: numpy>=1.17 in /usr/local/lib/python3.6/dist-packages (from osmnx) (1.17.5)\n",
      "Requirement already satisfied: Shapely>=1.7 in /usr/local/lib/python3.6/dist-packages (from osmnx) (1.7.0)\n",
      "Requirement already satisfied: pyparsing!=2.0.4,!=2.1.2,!=2.1.6,>=2.0.1 in /usr/local/lib/python3.6/dist-packages (from matplotlib>=3.1->osmnx) (2.4.6)\n",
      "Requirement already satisfied: python-dateutil>=2.1 in /usr/local/lib/python3.6/dist-packages (from matplotlib>=3.1->osmnx) (2.6.1)\n",
      "Requirement already satisfied: kiwisolver>=1.0.1 in /usr/local/lib/python3.6/dist-packages (from matplotlib>=3.1->osmnx) (1.1.0)\n",
      "Requirement already satisfied: cycler>=0.10 in /usr/local/lib/python3.6/dist-packages (from matplotlib>=3.1->osmnx) (0.10.0)\n",
      "Requirement already satisfied: pytz>=2017.2 in /usr/local/lib/python3.6/dist-packages (from pandas>=1.0->osmnx) (2018.9)\n",
      "Collecting fiona\n",
      "\u001b[?25l  Downloading https://files.pythonhosted.org/packages/ec/20/4e63bc5c6e62df889297b382c3ccd4a7a488b00946aaaf81a118158c6f09/Fiona-1.8.13.post1-cp36-cp36m-manylinux1_x86_64.whl (14.7MB)\n",
      "\u001b[K     |████████████████████████████████| 14.7MB 210kB/s \n",
      "\u001b[?25hRequirement already satisfied: setuptools in /usr/local/lib/python3.6/dist-packages (from Rtree>=0.9->osmnx) (45.2.0)\n",
      "Requirement already satisfied: urllib3!=1.25.0,!=1.25.1,<1.26,>=1.21.1 in /usr/local/lib/python3.6/dist-packages (from requests>=2.22->osmnx) (1.24.3)\n",
      "Requirement already satisfied: idna<3,>=2.5 in /usr/local/lib/python3.6/dist-packages (from requests>=2.22->osmnx) (2.8)\n",
      "Requirement already satisfied: certifi>=2017.4.17 in /usr/local/lib/python3.6/dist-packages (from requests>=2.22->osmnx) (2019.11.28)\n",
      "Requirement already satisfied: chardet<4,>=3.0.2 in /usr/local/lib/python3.6/dist-packages (from requests>=2.22->osmnx) (3.0.4)\n",
      "Requirement already satisfied: decorator>=4.3.0 in /usr/local/lib/python3.6/dist-packages (from networkx>=2.4->osmnx) (4.4.1)\n",
      "Requirement already satisfied: six>=1.5 in /usr/local/lib/python3.6/dist-packages (from python-dateutil>=2.1->matplotlib>=3.1->osmnx) (1.12.0)\n",
      "Requirement already satisfied: click<8,>=4.0 in /usr/local/lib/python3.6/dist-packages (from fiona->geopandas>=0.6->osmnx) (7.0)\n",
      "Collecting click-plugins>=1.0\n",
      "  Downloading https://files.pythonhosted.org/packages/e9/da/824b92d9942f4e472702488857914bdd50f73021efea15b4cad9aca8ecef/click_plugins-1.1.1-py2.py3-none-any.whl\n",
      "Requirement already satisfied: attrs>=17 in /usr/local/lib/python3.6/dist-packages (from fiona->geopandas>=0.6->osmnx) (19.3.0)\n",
      "Collecting cligj>=0.5\n",
      "  Downloading https://files.pythonhosted.org/packages/e4/be/30a58b4b0733850280d01f8bd132591b4668ed5c7046761098d665ac2174/cligj-0.5.0-py3-none-any.whl\n",
      "Collecting munch\n",
      "  Downloading https://files.pythonhosted.org/packages/cc/ab/85d8da5c9a45e072301beb37ad7f833cd344e04c817d97e0cc75681d248f/munch-2.5.0-py2.py3-none-any.whl\n",
      "Building wheels for collected packages: Rtree\n",
      "  Building wheel for Rtree (setup.py) ... \u001b[?25l\u001b[?25hdone\n",
      "  Created wheel for Rtree: filename=Rtree-0.9.4-cp36-none-any.whl size=21768 sha256=8ec1547b7ad179cafccd3465b5ad5afd6deadaa3eeeae5f4aa542a1edd31174d\n",
      "  Stored in directory: /root/.cache/pip/wheels/ff/20/c5/0004ef7acb96745ec99be960053902b0b414a2aa2dcad5834e\n",
      "Successfully built Rtree\n",
      "\u001b[31mERROR: google-colab 1.0.0 has requirement pandas~=0.25.0; python_version >= \"3.0\", but you'll have pandas 1.0.1 which is incompatible.\u001b[0m\n",
      "\u001b[31mERROR: google-colab 1.0.0 has requirement requests~=2.21.0, but you'll have requests 2.23.0 which is incompatible.\u001b[0m\n",
      "\u001b[31mERROR: datascience 0.10.6 has requirement folium==0.2.1, but you'll have folium 0.8.3 which is incompatible.\u001b[0m\n",
      "Installing collected packages: pyproj, pandas, click-plugins, cligj, munch, fiona, geopandas, Rtree, requests, osmnx\n",
      "  Found existing installation: pandas 0.25.3\n",
      "    Uninstalling pandas-0.25.3:\n",
      "      Successfully uninstalled pandas-0.25.3\n",
      "  Found existing installation: requests 2.21.0\n",
      "    Uninstalling requests-2.21.0:\n",
      "      Successfully uninstalled requests-2.21.0\n",
      "Successfully installed Rtree-0.9.4 click-plugins-1.1.1 cligj-0.5.0 fiona-1.8.13.post1 geopandas-0.7.0 munch-2.5.0 osmnx-0.11.4 pandas-1.0.1 pyproj-2.5.0 requests-2.23.0\n"
     ]
    }
   ],
   "source": [
    "!apt-get install -y libspatialindex-c4v5\n",
    "!pip3.6 install osmnx\n",
    "\n",
    "import osmnx as ox\n",
    "import matplotlib.pyplot as plt\n",
    "import networkx as nx\n",
    "import geopandas as gpd\n",
    "import pandas as pd\n",
    "import numpy as np\n",
    "import json\n",
    "import math\n",
    "\n",
    "from shapely.geometry import box\n",
    "from heapq import heappush, heappop\n",
    "from itertools import count\n",
    "from rtree import index"
   ]
  },
  {
   "cell_type": "code",
   "execution_count": 7,
   "metadata": {
    "colab": {
     "base_uri": "https://localhost:8080/",
     "height": 34
    },
    "colab_type": "code",
    "id": "I5qtdEtALkzp",
    "outputId": "e1e9e40e-40bb-4836-ee4e-17d0ee0f8098"
   },
   "outputs": [
    {
     "data": {
      "text/plain": [
       "networkx.classes.multidigraph.MultiDiGraph"
      ]
     },
     "execution_count": 7,
     "metadata": {
      "tags": []
     },
     "output_type": "execute_result"
    }
   ],
   "source": [
    "place_name = \"Singapore, Central, Singapore\"\n",
    "G = ox.save_load.load_graphml(filename=\"Singapore_processed.graphml\")\n",
    "\n",
    "# Stores nodes and edges mapped with speed bands along with other attributes\n",
    "type(G)"
   ]
  },
  {
   "cell_type": "code",
   "execution_count": 0,
   "metadata": {
    "colab": {},
    "colab_type": "code",
    "id": "B6KDdueXLk0D"
   },
   "outputs": [],
   "source": [
    "edges = ox.graph_to_gdfs(G, nodes=False, edges=True)\n",
    "nodes = pd.read_pickle('data/nodes.pkl')"
   ]
  },
  {
   "cell_type": "code",
   "execution_count": 0,
   "metadata": {
    "colab": {},
    "colab_type": "code",
    "id": "Tn06enlFLk0U"
   },
   "outputs": [],
   "source": [
    "def process_speed_band(df):\n",
    "    \n",
    "    # Define Locations\n",
    "    def truncate(number, digits) -> float:\n",
    "        stepper = 10.0 ** digits\n",
    "        return math.trunc(stepper * number) / stepper\n",
    "    \n",
    "    location = df['Location'].values\n",
    "    i = 0\n",
    "    \n",
    "    for loc in location:\n",
    "        x1, y1, x2, y2 = [float(n) for n in loc.split(' ')]\n",
    "        \n",
    "        x1 = truncate(x1, 7)\n",
    "        y1 = truncate(y1, 7)\n",
    "        x2 = truncate(x2, 7)\n",
    "        y2 = truncate(y2, 7)\n",
    "        \n",
    "        if y1 < y2:\n",
    "            bottom = y1\n",
    "            top = y2\n",
    "        else:\n",
    "            bottom = y2\n",
    "            top = y1\n",
    "            \n",
    "        if x1 < x2:\n",
    "            left = x1\n",
    "            right = x2\n",
    "        else:\n",
    "            left = x2\n",
    "            right = x1\n",
    "        \n",
    "        df['Location'].values[i] = (left, bottom, right, top)\n",
    "        i += 1 \n",
    "    \n",
    "    # Process maximum speeds\n",
    "    i = 0\n",
    "    for x in df['SpeedBand']:\n",
    "        if x == 0:\n",
    "            df['MaximumSpeed'][i] = '50'\n",
    "        i += 1 "
   ]
  },
  {
   "cell_type": "code",
   "execution_count": 10,
   "metadata": {
    "colab": {
     "base_uri": "https://localhost:8080/",
     "height": 86
    },
    "colab_type": "code",
    "id": "Zw1FC8UpLk0k",
    "outputId": "16f7a33b-5e65-4683-8845-ca8462084d9b"
   },
   "outputs": [
    {
     "name": "stderr",
     "output_type": "stream",
     "text": [
      "/usr/local/lib/python3.6/dist-packages/ipykernel_launcher.py:40: SettingWithCopyWarning: \n",
      "A value is trying to be set on a copy of a slice from a DataFrame\n",
      "\n",
      "See the caveats in the documentation: http://pandas.pydata.org/pandas-docs/stable/user_guide/indexing.html#returning-a-view-versus-a-copy\n"
     ]
    }
   ],
   "source": [
    "f = open(\"Fri Feb 14 09_06_16 2020.json\", \"r\").read()\n",
    "x = json.loads(f)\n",
    "\n",
    "speed_bands = pd.DataFrame.from_dict(x, orient='columns')\n",
    "process_speed_band(speed_bands)\n",
    "# speed_bands.head()"
   ]
  },
  {
   "cell_type": "code",
   "execution_count": 0,
   "metadata": {
    "colab": {},
    "colab_type": "code",
    "id": "n9pO9XDRLk00"
   },
   "outputs": [],
   "source": [
    "def calculate_congestion(G, edges, speed_bands):\n",
    "    # Define Location    \n",
    "    location = edges['geometry'].values\n",
    "    i = 0\n",
    "    Location = []\n",
    "    \n",
    "    for loc in location:        \n",
    "        x1 = loc.xy[1][-1]\n",
    "        y1 = loc.xy[0][-1]\n",
    "        x2 = loc.xy[1][0]\n",
    "        y2 = loc.xy[0][0]\n",
    "        \n",
    "        if y1 < y2:\n",
    "            bottom = y1\n",
    "            top = y2\n",
    "        else:\n",
    "            bottom = y2\n",
    "            top = y1\n",
    "            \n",
    "        if x1 < x2:\n",
    "            left = x1\n",
    "            right = x2\n",
    "        else:\n",
    "            left = x2\n",
    "            right = x1\n",
    "        \n",
    "        Location.append((left, bottom, right, top))\n",
    "        i += 1 \n",
    "        \n",
    "    edges['Location'] = Location\n",
    "    \n",
    "    \n",
    "    # Define observed_speed using speedband dataset \n",
    "    \n",
    "    # key: maximum speed ,value: location\n",
    "    idx = index.Index()\n",
    "    Location = speed_bands['Location']\n",
    "    Speed = speed_bands['MaximumSpeed'].astype(float)\n",
    "\n",
    "    for speed, loc in zip(Speed, Location):\n",
    "        idx.insert(int(speed), loc)\n",
    "    \n",
    "    # Find intersections\n",
    "    observed_speed = []\n",
    "    Location = edges['Location']\n",
    "\n",
    "    for loc in Location:\n",
    "        max_speeds = list(idx.intersection(loc))\n",
    "\n",
    "        if len(max_speeds) == 0: # edge didn't intersect with any speed band\n",
    "            observed_speed.append(70)\n",
    "        else:\n",
    "            observed_speed.append(sum(max_speeds)/len(max_speeds))  \n",
    "\n",
    "    edges['observed_speed'] = observed_speed\n",
    "    \n",
    "    \n",
    "    # Define BPR heuristic for each road link\n",
    "    bpr = dict()\n",
    "    n = len(edges['u'])\n",
    "\n",
    "    for i in range (n):\n",
    "        u = edges['u'][i]\n",
    "        v = edges['v'][i]\n",
    "        key = edges['key'][i]\n",
    "        time = float(edges['travel_time'][i])\n",
    "        flow = float(edges['observed_speed'][i])\n",
    "        capacity = float(edges['maxspeed'][i])\n",
    "        bpr[(u,v,key)] = time * (1 + 0.15*(flow/capacity)**4)\n",
    "        \n",
    "    nx.set_edge_attributes(G, bpr, 'BPR')"
   ]
  },
  {
   "cell_type": "code",
   "execution_count": 0,
   "metadata": {
    "colab": {},
    "colab_type": "code",
    "id": "eQuBFJADLk1B"
   },
   "outputs": [],
   "source": [
    "calculate_congestion(G, edges, speed_bands)\n",
    "# edges.head()"
   ]
  },
  {
   "cell_type": "markdown",
   "metadata": {
    "colab_type": "text",
    "id": "zysxIA7eLk1L"
   },
   "source": [
    "### Finding shortest route between centroid of map and another point"
   ]
  },
  {
   "cell_type": "code",
   "execution_count": 13,
   "metadata": {
    "colab": {
     "base_uri": "https://localhost:8080/",
     "height": 34
    },
    "colab_type": "code",
    "id": "b5P2YZDeLk1R",
    "outputId": "ccf208d0-2b1c-486b-8a0e-dbb47d64ee9b"
   },
   "outputs": [
    {
     "name": "stdout",
     "output_type": "stream",
     "text": [
      "POINT (103.82129505 1.3515309)\n"
     ]
    }
   ],
   "source": [
    "# Boundary Box of entire area\n",
    "bbox = box(*edges.unary_union.bounds)\n",
    "orig_point = bbox.centroid\n",
    "print(orig_point)"
   ]
  },
  {
   "cell_type": "code",
   "execution_count": 14,
   "metadata": {
    "colab": {
     "base_uri": "https://localhost:8080/",
     "height": 34
    },
    "colab_type": "code",
    "id": "uJXZTy3OLk1f",
    "outputId": "33dbd453-0115-4de8-848b-7941420bfd00"
   },
   "outputs": [
    {
     "name": "stdout",
     "output_type": "stream",
     "text": [
      "POINT (103.9326163 1.3565805)\n"
     ]
    }
   ],
   "source": [
    "target_point = nodes[nodes['osmid'] == 1820000257].geometry.values[0]\n",
    "print(target_point)"
   ]
  },
  {
   "cell_type": "code",
   "execution_count": 0,
   "metadata": {
    "colab": {},
    "colab_type": "code",
    "id": "zrJlV0_9Lk1s"
   },
   "outputs": [],
   "source": [
    "orig_xy = (orig_point.y, orig_point.x)\n",
    "target_xy = (target_point.y, target_point.x)"
   ]
  },
  {
   "cell_type": "code",
   "execution_count": 0,
   "metadata": {
    "colab": {},
    "colab_type": "code",
    "id": "tLfCsNbdLk17"
   },
   "outputs": [],
   "source": [
    "# key: node label ,value: location\n",
    "idx = index.Index()\n",
    "xx = nodes['x'].astype(float)\n",
    "yy = nodes['y'].astype(float)\n",
    "node_label = nodes['osmid']\n",
    "\n",
    "for node, x, y in zip(node_label, xx, yy):\n",
    "    idx.insert(int(node), (x,y,x,y))"
   ]
  },
  {
   "cell_type": "code",
   "execution_count": 0,
   "metadata": {
    "colab": {},
    "colab_type": "code",
    "id": "FeTXmKagLk2I"
   },
   "outputs": [],
   "source": [
    "def find_nearest_nodes(source, dist, idx):\n",
    "    # Create a bounding box around source of min distance in all directions\n",
    "    (north, south, east, west) = ox.bbox_from_point(point=source, distance=dist)\n",
    "    \n",
    "    candidate_nodes = list(idx.intersection((west, south, east, north)))    \n",
    "    return candidate_nodes"
   ]
  },
  {
   "cell_type": "code",
   "execution_count": 0,
   "metadata": {
    "colab": {},
    "colab_type": "code",
    "id": "CC7Xo_B9Lk2W"
   },
   "outputs": [],
   "source": [
    "# Max distance for walking is 700m (10 min * 1.2 m/s)\n",
    "# Find all nodes within 720 m from candidate sources and candidate destinations\n",
    "candidate_dest = find_nearest_nodes(target_xy, 700, idx)\n",
    "candidate_source = find_nearest_nodes(orig_xy, 700, idx)"
   ]
  },
  {
   "cell_type": "code",
   "execution_count": 0,
   "metadata": {
    "colab": {},
    "colab_type": "code",
    "id": "0PFOLFcqLk2h"
   },
   "outputs": [],
   "source": [
    "def euclidean_distance(sources, destinations, nodes):\n",
    "    distances = dict()\n",
    "    \n",
    "    for source in sources:\n",
    "        x1 = nodes[nodes['osmid']==source]['x'].values[0]\n",
    "        y1 = nodes[nodes['osmid']==source]['y'].values[0]\n",
    "        \n",
    "        for dest in destinations:\n",
    "            x2 = nodes[nodes['osmid']==dest]['x'].values[0]\n",
    "            y2 = nodes[nodes['osmid']==dest]['y'].values[0]\n",
    "            \n",
    "            # distance in metres, store it in sec\n",
    "            d = 1000 * ((x1-x2)**2 + (y1-y2)**2)**0.5\n",
    "            distances[(source,dest)] = d/5.28\n",
    "    \n",
    "    # sort the dictionary in ascending order using distances\n",
    "    x = sorted(distances.items(), key = lambda kv:(kv[1], kv[0]))\n",
    "    return x"
   ]
  },
  {
   "cell_type": "code",
   "execution_count": 0,
   "metadata": {
    "colab": {},
    "colab_type": "code",
    "id": "4nGf5W4HLk2t"
   },
   "outputs": [],
   "source": [
    "x = euclidean_distance(candidate_source, candidate_dest, nodes)"
   ]
  },
  {
   "cell_type": "code",
   "execution_count": 0,
   "metadata": {
    "colab": {},
    "colab_type": "code",
    "id": "MuziyiRILk24"
   },
   "outputs": [],
   "source": [
    "def heuristic(source, target, G):\n",
    "    # do error handling here\n",
    "    try:\n",
    "        d = nx.shortest_path_length(G, source, target, weight='BPR', method='dijkstra')\n",
    "        return d\n",
    "    except nx.NetworkXNoPath:\n",
    "        return None"
   ]
  },
  {
   "cell_type": "code",
   "execution_count": 0,
   "metadata": {
    "colab": {},
    "colab_type": "code",
    "id": "jPYgM5knLk3A"
   },
   "outputs": [],
   "source": [
    "\"\"\"\n",
    "Returns a list of nodes in a shortest path between source and target \n",
    "using the A* (\"A-star\") algorithm.\n",
    "\"\"\"\n",
    "\n",
    "def a_star(G, source, target, heuristic, weight='length'):\n",
    "    \n",
    "    if source not in G or target not in G:\n",
    "        msg = 'Either source {} or target {} is not in G'\n",
    "        raise nx.NodeNotFound(msg.format(source, target))\n",
    "        \n",
    "\n",
    "    push = heappush\n",
    "    pop = heappop\n",
    "\n",
    "    # The queue stores priority, node, cost to reach, and parent.\n",
    "    # Uses Python heapq to keep in priority order.\n",
    "    # Add a counter to the queue to prevent the underlying heap from\n",
    "    # attempting to compare the nodes themselves. The hash breaks ties in the\n",
    "    # priority and is guaranteed unique for all nodes in the graph.\n",
    "    c = count()\n",
    "    queue = [(0, next(c), source, 0, None)]\n",
    "\n",
    "    # Maps enqueued nodes to distance of discovered paths and the\n",
    "    # computed heuristics to target. We avoid computing the heuristics\n",
    "    # more than once and inserting the node into the queue too many times.\n",
    "    enqueued = {}\n",
    "    # Maps explored nodes to parent closest to the source.\n",
    "    explored = {}\n",
    "\n",
    "    while queue:\n",
    "        flag = 0\n",
    "        # Pop the smallest item from queue.\n",
    "        f, _, curnode, t, parent = pop(queue)\n",
    "\n",
    "        if curnode == target:\n",
    "            path = [curnode]\n",
    "            node = parent\n",
    "            while node is not None:\n",
    "                path.append(node)\n",
    "                node = explored[node]\n",
    "            path.reverse()\n",
    "            return path,f # Return route and travelled time for route \n",
    "\n",
    "        if curnode in explored:\n",
    "            # Do not override the parent of starting node\n",
    "            if explored[curnode] is None:\n",
    "                continue\n",
    "\n",
    "            # Skip bad paths that were enqueued before finding a better one\n",
    "            for key in range(0,3):\n",
    "                if (curnode, key) in enqueued:\n",
    "                    qcost, h = enqueued[(curnode,key)]\n",
    "                    if qcost < t:\n",
    "                        flag = 1\n",
    "                        break\n",
    "            \n",
    "            if flag == 1:\n",
    "                continue\n",
    "\n",
    "        explored[curnode] = parent\n",
    "\n",
    "        for neighbor, w in G[curnode].items():\n",
    "            \n",
    "            for key, edge in w.items():\n",
    "                # time from source to current node + current node to neighbour (length/speed of car in m/s)\n",
    "                g = t + edge.get(weight)/5.28\n",
    "                \n",
    "                if (neighbor,key) in enqueued:\n",
    "                    qcost, h = enqueued[(neighbor,key)]\n",
    "                    # if qcost <= g, a less costly path from the\n",
    "                    # neighbor to the source was already determined.\n",
    "                    # Therefore, we won't attempt to push this neighbor to the queue\n",
    "                    if qcost <= g:\n",
    "                        continue\n",
    "                else:\n",
    "                    # will give least congested path (travel time wise) from neighbour to target\n",
    "                    h = heuristic(neighbor, target, G)\n",
    "                    if h is None:\n",
    "                        break\n",
    "\n",
    "                enqueued[(neighbor,key)] = g, h\n",
    "                push(queue, (g + h, next(c), neighbor, g, curnode))\n",
    "        \n",
    "    raise nx.NetworkXNoPath(\"Node %s not reachable from %s\" % (target, source))"
   ]
  },
  {
   "cell_type": "code",
   "execution_count": 0,
   "metadata": {
    "colab": {},
    "colab_type": "code",
    "id": "a2mpsa6zLk3L"
   },
   "outputs": [],
   "source": [
    "def hybrid_routing(x, G, heuristic=heuristic):\n",
    "    n = len(x)\n",
    "    min_pair = x[0]\n",
    "    source = min_pair[0][0]\n",
    "    dest = min_pair[0][1]\n",
    "    min_tt = float('inf')\n",
    "    final_route = list()\n",
    "\n",
    "    for i in range(n):\n",
    "        route, travel_time = a_star(G, source, dest, heuristic)\n",
    "        print(source, dest, travel_time)\n",
    "\n",
    "        if travel_time < min_tt:\n",
    "            min_tt = travel_time\n",
    "            min_pair = x[i]\n",
    "            final_route = route\n",
    "\n",
    "            if i < n-1:\n",
    "                if travel_time < x[i+1][1]:\n",
    "                    break\n",
    "                else:\n",
    "                    source = x[i+1][0][0]\n",
    "                    dest = x[i+1][0][1]\n",
    "            else:\n",
    "                break\n",
    "        else:\n",
    "            break\n",
    "    \n",
    "    return final_route, min_tt"
   ]
  },
  {
   "cell_type": "code",
   "execution_count": 32,
   "metadata": {
    "colab": {
     "base_uri": "https://localhost:8080/",
     "height": 69
    },
    "colab_type": "code",
    "id": "Lh_Ph-fFLk3U",
    "outputId": "99fa8d7f-6f6c-475a-8cc5-1eac10df2c38"
   },
   "outputs": [
    {
     "name": "stdout",
     "output_type": "stream",
     "text": [
      "4486815538 1819975126 3043.6246212121214\n",
      "1318459153 1819975126 3024.2996212121216\n",
      "4486815537 1819975126 3034.044128787879\n"
     ]
    }
   ],
   "source": [
    "final_route, travel_time = hybrid_routing(x, G)"
   ]
  },
  {
   "cell_type": "code",
   "execution_count": 33,
   "metadata": {
    "colab": {
     "base_uri": "https://localhost:8080/",
     "height": 34
    },
    "colab_type": "code",
    "id": "ISiElHa8Lk3e",
    "outputId": "2f72b86e-65cd-4dbb-f100-2e36507a0c60"
   },
   "outputs": [
    {
     "name": "stdout",
     "output_type": "stream",
     "text": [
      "50.40499368686869\n"
     ]
    }
   ],
   "source": [
    "# least travel time in min\n",
    "print(travel_time/60)"
   ]
  },
  {
   "cell_type": "code",
   "execution_count": 34,
   "metadata": {
    "colab": {
     "base_uri": "https://localhost:8080/",
     "height": 374
    },
    "colab_type": "code",
    "id": "3f40VM1VLk3p",
    "outputId": "58d5799e-11d4-4d00-ee8b-32590e5936af"
   },
   "outputs": [
    {
     "data": {
      "image/png": "[encoded data removed]",
      "text/plain": [
       "<Figure size 754.994x432 with 1 Axes>"
      ]
     },
     "metadata": {
      "tags": []
     },
     "output_type": "display_data"
    },
    {
     "data": {
      "text/plain": [
       "<Figure size 432x288 with 0 Axes>"
      ]
     },
     "metadata": {
      "tags": []
     },
     "output_type": "display_data"
    }
   ],
   "source": [
    "fig, ax = ox.plot_graph_route(G, final_route, origin_point=orig_xy, destination_point=target_xy)\n",
    "plt.tight_layout()"
   ]
  },
  {
   "cell_type": "code",
   "execution_count": 0,
   "metadata": {
    "colab": {},
    "colab_type": "code",
    "id": "ygStYciCLk3z"
   },
   "outputs": [],
   "source": []
  }
 ],
 "metadata": {
  "accelerator": "GPU",
  "colab": {
   "collapsed_sections": [],
   "name": "Congestion-aware routing using A*.ipynb",
   "provenance": []
  },
  "kernelspec": {
   "display_name": "Python 3",
   "language": "python",
   "name": "python3"
  },
  "language_info": {
   "codemirror_mode": {
    "name": "ipython",
    "version": 3
   },
   "file_extension": ".py",
   "mimetype": "text/x-python",
   "name": "python",
   "nbconvert_exporter": "python",
   "pygments_lexer": "ipython3",
   "version": "3.6.10"
  }
 },
 "nbformat": 4,
 "nbformat_minor": 1
}
