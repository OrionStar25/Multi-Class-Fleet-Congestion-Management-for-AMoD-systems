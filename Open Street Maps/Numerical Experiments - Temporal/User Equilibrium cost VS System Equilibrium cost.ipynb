{
  "nbformat": 4,
  "nbformat_minor": 0,
  "metadata": {
    "accelerator": "GPU",
    "colab": {
      "name": "User-Equilibrium cost VS System-Equilibrium cost.ipynb",
      "provenance": [],
      "collapsed_sections": []
    },
    "kernelspec": {
      "display_name": "Python 3",
      "language": "python",
      "name": "python3"
    },
    "language_info": {
      "codemirror_mode": {
        "name": "ipython",
        "version": 3
      },
      "file_extension": ".py",
      "mimetype": "text/x-python",
      "name": "python",
      "nbconvert_exporter": "python",
      "pygments_lexer": "ipython3",
      "version": "3.6.10"
    }
  },
  "cells": [
    {
      "cell_type": "code",
      "metadata": {
        "colab_type": "code",
        "id": "ghMzxQyxI4FQ",
        "outputId": "d910f59a-4165-43ba-ac60-e9c1048db1e8",
        "colab": {
          "base_uri": "https://localhost:8080/",
          "height": 298
        }
      },
      "source": [
        "from google.colab import drive\n",
        "drive.mount('/content/drive/')\n",
        "%cd drive/My \\Drive/Sem \\8 \\files/\n",
        "!ls"
      ],
      "execution_count": 1,
      "outputs": [
        {
          "output_type": "stream",
          "text": [
            "Go to this URL in a browser: https://accounts.google.com/o/oauth2/auth?client_id=947318989803-6bn6qk8qdgf4n4g3pfee6491hc0brc4i.apps.googleusercontent.com&redirect_uri=urn%3aietf%3awg%3aoauth%3a2.0%3aoob&response_type=code&scope=email%20https%3a%2f%2fwww.googleapis.com%2fauth%2fdocs.test%20https%3a%2f%2fwww.googleapis.com%2fauth%2fdrive%20https%3a%2f%2fwww.googleapis.com%2fauth%2fdrive.photos.readonly%20https%3a%2f%2fwww.googleapis.com%2fauth%2fpeopleapi.readonly\n",
            "\n",
            "Enter your authorization code:\n",
            "··········\n",
            "Mounted at /content/drive/\n",
            "/content/drive/My Drive/Sem 8 files\n",
            " data\t\t\t\t  Singapore_net.tntp\n",
            " euclidean_distances.json\t  Singapore_node.tntp\n",
            " Frank_Wolfe.py\t\t\t  Singapore_trips_1000.tntp\n",
            "'Fri Feb 14 09_06_16 2020.json'   Singapore_trips_275.tntp\n",
            " __pycache__\t\t\t  Singapore_trips_2884.tntp\n",
            " Shortest_path_lengths.pkl\t  Singapore_trips_70.tntp\n",
            " Singapore_net_high.tntp\t  TransportationNetworks.py\n",
            " Singapore_net_mod.tntp\t\t  utils.py\n",
            " Singapore_net_off.tntp\n"
          ],
          "name": "stdout"
        }
      ]
    },
    {
      "cell_type": "code",
      "metadata": {
        "id": "jMd8Gkl3lAEu",
        "colab_type": "code",
        "colab": {}
      },
      "source": [
        "import networkx as nx\n",
        "import scipy.integrate as integrate \n",
        "from scipy.optimize import minimize_scalar\n",
        "import matplotlib.pyplot as plt\n",
        "import math\n",
        "import time\n",
        "\n",
        "import TransportationNetworks as tn\n",
        "from networkx.algorithms.flow import edmonds_karp\n",
        "from heapq import heappush, heappop\n",
        "from itertools import count"
      ],
      "execution_count": 0,
      "outputs": []
    },
    {
      "cell_type": "code",
      "metadata": {
        "colab_type": "code",
        "id": "_XGOQ0azI8hy",
        "colab": {}
      },
      "source": [
        "class Run:\n",
        "    def __init__(self, link_file, trip_file, node_file, SO=True):\n",
        "        self.SO = SO\n",
        "        \n",
        "        nw = tn.Network(link_file, trip_file, node_file, self.SO)\n",
        "        self.od_vols = nw.od_vols\n",
        "\n",
        "        ## initialization\n",
        "        self.network = {(u,v): {'t0':d['object'].t0, 'alpha':d['object'].alpha, \\\n",
        "                   'beta':d['object'].beta, 'capa':d['object'].capacity, 'flow':[], \\\n",
        "                   'auxiliary':[], 'cost':[]} for (u, v, d) in nw.graph.edges(data=True)}\n",
        "        \n",
        "        self.fwResult = {'theta':[], 'z':[]}\n",
        "        \n",
        "        nw.all_or_nothing_assignment()\n",
        "        nw.update_linkcost()\n",
        "        \n",
        "        for linkKey, linkVal in self.network.items():\n",
        "            linkVal['cost'].append(nw.graph[linkKey[0]][linkKey[1]]['weight'])\n",
        "            linkVal['auxiliary'].append(nw.graph[linkKey[0]][linkKey[1]]['object'].vol)\n",
        "            linkVal['flow'].append(nw.graph[linkKey[0]][linkKey[1]]['object'].vol)\n",
        "            \n",
        "        ## iterations\n",
        "        iterNum=0\n",
        "        iteration = True\n",
        "        start = time.time()\n",
        "        PERIOD_OF_TIME = 1800 # 30min\n",
        "\n",
        "        while iteration:\n",
        "            iterNum += 1\n",
        "            nw.all_or_nothing_assignment()\n",
        "            nw.update_linkcost()\n",
        "            \n",
        "            for linkKey, linkVal in self.network.items():\n",
        "                linkVal['auxiliary'].append(nw.graph[linkKey[0]][linkKey[1]]['object'].vol)\n",
        "                \n",
        "            theta = self.lineSearch()\n",
        "            self.fwResult['theta'].append(theta)\n",
        "            \n",
        "            for linkKey, linkVal in self.network.items():\n",
        "                aux = linkVal['auxiliary'][-1]\n",
        "                flow = linkVal['flow'][-1]\n",
        "                linkVal['flow'].append(flow + theta*(aux-flow))\n",
        "                \n",
        "                nw.graph[linkKey[0]][linkKey[1]]['object'].vol =  flow + theta * (aux - flow)\n",
        "                nw.graph[linkKey[0]][linkKey[1]]['object'].flow = flow + theta * (aux - flow)\n",
        "                \n",
        "            \n",
        "            nw.update_linkcost()\n",
        "            \n",
        "            z=0\n",
        "            for linkKey, linkVal in self.network.items():\n",
        "                linkVal['cost'].append(nw.graph[linkKey[0]][linkKey[1]]['weight'])\n",
        "                totalcost = nw.graph[linkKey[0]][linkKey[1]]['object'].get_objective_function()\n",
        "                z+=totalcost\n",
        "                \n",
        "            self.fwResult['z'].append(z)        \n",
        "            \n",
        "            if iterNum == 1:\n",
        "                iteration = True\n",
        "            else:\n",
        "                print(iterNum)\n",
        "                if abs(self.fwResult['z'][-2] - self.fwResult['z'][-1]) <= 0.002 or \\\n",
        "                   iterNum==1000 or \\\n",
        "                   time.time() > start + PERIOD_OF_TIME:\n",
        "                   iteration = False\n",
        "                \n",
        "        print(iterNum, abs(self.fwResult['z'][-2] - self.fwResult['z'][-1]))\n",
        "        self.graph = nw.graph\n",
        "                    \n",
        "    def BPR(self, t0, xa, ca, alpha, beta):\n",
        "        ta = t0 * (1 + alpha * pow((xa/ca), beta))\n",
        "        return ta\n",
        "    \n",
        "    def calculateZ(self, theta):\n",
        "        z = 0\n",
        "        for linkKey, linkVal in self.network.items():\n",
        "            t0 = linkVal['t0']\n",
        "            ca = linkVal['capa']\n",
        "            beta = linkVal['beta']\n",
        "            alpha = linkVal['alpha']\n",
        "            aux = linkVal['auxiliary'][-1]\n",
        "            flow = linkVal['flow'][-1]\n",
        "            \n",
        "            if SO == False:\n",
        "                z += integrate.quad(lambda x: self.BPR(t0, x, ca, alpha, beta), 0, flow+theta*(aux-flow))[0]\n",
        "            elif SO == True:\n",
        "                z += list(map(lambda x : x * self.BPR(t0, x, ca, alpha, beta), [flow+theta*(aux-flow)]))[0]\n",
        "        return z\n",
        "    \n",
        "    def lineSearch(self):\n",
        "        theta = minimize_scalar(lambda x: self.calculateZ(x), bounds = (0,1), method = 'Bounded')\n",
        "        return theta.x"
      ],
      "execution_count": 0,
      "outputs": []
    },
    {
      "cell_type": "code",
      "metadata": {
        "id": "64jUo9Y-lAFS",
        "colab_type": "code",
        "colab": {}
      },
      "source": [
        "node_file = 'Singapore_node.tntp'\n",
        "trip_file = 'Singapore_trips_1000.tntp'"
      ],
      "execution_count": 0,
      "outputs": []
    },
    {
      "cell_type": "markdown",
      "metadata": {
        "id": "ZnLVLn49lAFf",
        "colab_type": "text"
      },
      "source": [
        "## Off-peak"
      ]
    },
    {
      "cell_type": "code",
      "metadata": {
        "id": "WndyPK5LlAFj",
        "colab_type": "code",
        "colab": {}
      },
      "source": [
        "link_file = 'Singapore_net_off.tntp'"
      ],
      "execution_count": 0,
      "outputs": []
    },
    {
      "cell_type": "code",
      "metadata": {
        "id": "VpSjgeqplAFv",
        "colab_type": "code",
        "outputId": "29e404f1-c575-48bb-ee27-e1449019cbeb",
        "colab": {
          "base_uri": "https://localhost:8080/",
          "height": 1000
        }
      },
      "source": [
        "SO = True\n",
        "fw = Run(link_file, trip_file, node_file, SO)\n",
        "se_off = fw.fwResult['z'][-1]"
      ],
      "execution_count": 6,
      "outputs": [
        {
          "output_type": "stream",
          "text": [
            "2\n",
            "3\n",
            "4\n",
            "5\n",
            "6\n",
            "7\n",
            "8\n",
            "9\n",
            "10\n",
            "11\n",
            "12\n",
            "13\n",
            "14\n",
            "15\n",
            "16\n",
            "17\n",
            "18\n",
            "19\n",
            "20\n",
            "21\n",
            "22\n",
            "23\n",
            "24\n",
            "25\n",
            "26\n",
            "27\n",
            "28\n",
            "29\n",
            "30\n",
            "31\n",
            "32\n",
            "33\n",
            "34\n",
            "35\n",
            "36\n",
            "37\n",
            "38\n",
            "39\n",
            "40\n",
            "41\n",
            "42\n",
            "43\n",
            "44\n",
            "45\n",
            "46\n",
            "47\n",
            "48\n",
            "49\n",
            "50\n",
            "51\n",
            "52\n",
            "53\n",
            "54\n",
            "55\n",
            "56\n",
            "57\n",
            "58\n",
            "59\n",
            "60\n",
            "61\n",
            "62\n",
            "63\n",
            "64\n",
            "65\n",
            "66\n",
            "67\n",
            "68\n",
            "69\n",
            "70\n",
            "71\n",
            "72\n",
            "73\n",
            "74\n",
            "75\n",
            "76\n",
            "77\n",
            "78\n",
            "79\n",
            "79 0.8513264283537865\n"
          ],
          "name": "stdout"
        }
      ]
    },
    {
      "cell_type": "code",
      "metadata": {
        "id": "8tgmf1QglAF8",
        "colab_type": "code",
        "outputId": "9bdeded1-9488-4986-df8e-6b3c887bf458",
        "colab": {
          "base_uri": "https://localhost:8080/",
          "height": 1000
        }
      },
      "source": [
        "SO = False\n",
        "fw = Run(link_file, trip_file, node_file, SO)\n",
        "ue_off = fw.fwResult['z'][-1]"
      ],
      "execution_count": 9,
      "outputs": [
        {
          "output_type": "stream",
          "text": [
            "2 90692828.50967121\n",
            "3 11704315.110854086\n",
            "4 2163469.175943885\n",
            "5 735898.7675581239\n",
            "6 480978.7367859222\n",
            "7 183164.12503039837\n",
            "8 193702.35512268543\n",
            "9 98007.17516793497\n",
            "10 129449.76746731065\n",
            "11 60342.3662355151\n",
            "12 65967.30635476671\n",
            "13 49082.001171924174\n",
            "14 33825.46348457597\n",
            "15 38730.08087599464\n",
            "16 23660.312743449584\n",
            "17 21304.027280541137\n",
            "18 20871.350391788408\n",
            "19 27354.813049569726\n",
            "20 20363.762116301805\n",
            "21 17405.118245298043\n",
            "22 14728.175349721685\n",
            "23 18125.26856841147\n",
            "24 13705.388593547046\n",
            "25 11442.296483250335\n",
            "26 10196.885540235788\n",
            "27 9608.949541319162\n",
            "28 7283.672772936523\n",
            "29 7654.1384434998035\n",
            "30 8200.934527987614\n",
            "31 6119.3501063250005\n",
            "32 7132.077225446701\n",
            "33 7405.127632454038\n",
            "34 5552.842707833275\n",
            "35 5119.684046888724\n",
            "36 5000.284099144861\n",
            "37 3914.757134107873\n",
            "38 5796.422507317737\n",
            "39 3990.7879143990576\n",
            "40 3738.256192924455\n",
            "41 3146.1352569125593\n",
            "42 3655.9685878269374\n",
            "43 3432.024872208014\n",
            "44 2159.6169533394277\n",
            "45 2720.6036284845322\n",
            "46 2435.598401091993\n",
            "47 2514.0074791964144\n",
            "48 2327.634111698717\n",
            "49 2015.5223096814007\n",
            "50 2536.1020313724875\n",
            "51 1811.900367340073\n",
            "52 2027.9765154290944\n",
            "53 1891.265437791124\n",
            "54 1379.5807084348053\n",
            "55 1781.7442171014845\n",
            "56 1402.4925070554018\n",
            "57 1660.7576394975185\n",
            "58 1773.1472329460084\n",
            "59 1459.2778976280242\n",
            "60 1444.0175408944488\n",
            "60 1444.0175408944488\n"
          ],
          "name": "stdout"
        }
      ]
    },
    {
      "cell_type": "code",
      "metadata": {
        "id": "4kBBpmHEm6Xq",
        "colab_type": "code",
        "outputId": "6460c9a0-bce0-464f-d8f1-f57034595584",
        "colab": {
          "base_uri": "https://localhost:8080/",
          "height": 34
        }
      },
      "source": [
        "print(se_off, ue_off)"
      ],
      "execution_count": 10,
      "outputs": [
        {
          "output_type": "stream",
          "text": [
            "8606661.780461 8592748.165983964\n"
          ],
          "name": "stdout"
        }
      ]
    },
    {
      "cell_type": "markdown",
      "metadata": {
        "id": "ZdfVgkw4lAGF",
        "colab_type": "text"
      },
      "source": [
        "## Mod-peak"
      ]
    },
    {
      "cell_type": "code",
      "metadata": {
        "id": "BqOEH2i3lAGH",
        "colab_type": "code",
        "colab": {}
      },
      "source": [
        "link_file = 'Singapore_net_mod.tntp'"
      ],
      "execution_count": 0,
      "outputs": []
    },
    {
      "cell_type": "code",
      "metadata": {
        "id": "x1-0wCbWlAGR",
        "colab_type": "code",
        "outputId": "310b5489-4a43-4b70-f81d-b9723fcaf384",
        "colab": {
          "base_uri": "https://localhost:8080/",
          "height": 1000
        }
      },
      "source": [
        "SO = True\n",
        "fw = Run(link_file, trip_file, node_file, SO)\n",
        "se_mod = fw.fwResult['z'][-1]\n",
        "print(se_mod)"
      ],
      "execution_count": 15,
      "outputs": [
        {
          "output_type": "stream",
          "text": [
            "2\n",
            "3\n",
            "4\n",
            "5\n",
            "6\n",
            "7\n",
            "8\n",
            "9\n",
            "10\n",
            "11\n",
            "12\n",
            "13\n",
            "14\n",
            "15\n",
            "16\n",
            "17\n",
            "18\n",
            "19\n",
            "20\n",
            "21\n",
            "22\n",
            "23\n",
            "24\n",
            "25\n",
            "26\n",
            "27\n",
            "28\n",
            "29\n",
            "30\n",
            "31\n",
            "32\n",
            "33\n",
            "34\n",
            "35\n",
            "36\n",
            "37\n",
            "38\n",
            "39\n",
            "40\n",
            "41\n",
            "42\n",
            "43\n",
            "44\n",
            "45\n",
            "46\n",
            "47\n",
            "48\n",
            "49\n",
            "50\n",
            "51\n",
            "52\n",
            "53\n",
            "54\n",
            "55\n",
            "56\n",
            "57\n",
            "58\n",
            "59\n",
            "60\n",
            "61\n",
            "62\n",
            "63\n",
            "64\n",
            "65\n",
            "66\n",
            "67\n",
            "68\n",
            "69\n",
            "70\n",
            "70 1917.408978966996\n",
            "9233840.11403878\n"
          ],
          "name": "stdout"
        }
      ]
    },
    {
      "cell_type": "code",
      "metadata": {
        "id": "3mn8grValAGc",
        "colab_type": "code",
        "colab": {
          "base_uri": "https://localhost:8080/",
          "height": 1000
        },
        "outputId": "1fad11f3-c66f-45c7-c6e3-b581bd4e047b"
      },
      "source": [
        "SO = False\n",
        "fw = Run(link_file, trip_file, node_file, SO)\n",
        "ue_mod = fw.fwResult['z'][-1]\n",
        "print(ue_mod)"
      ],
      "execution_count": 16,
      "outputs": [
        {
          "output_type": "stream",
          "text": [
            "2\n",
            "3\n",
            "4\n",
            "5\n",
            "6\n",
            "7\n",
            "8\n",
            "9\n",
            "10\n",
            "11\n",
            "12\n",
            "13\n",
            "14\n",
            "15\n",
            "16\n",
            "17\n",
            "18\n",
            "19\n",
            "20\n",
            "21\n",
            "22\n",
            "23\n",
            "24\n",
            "25\n",
            "26\n",
            "27\n",
            "28\n",
            "29\n",
            "30\n",
            "31\n",
            "32\n",
            "33\n",
            "34\n",
            "35\n",
            "36\n",
            "37\n",
            "38\n",
            "39\n",
            "40\n",
            "41\n",
            "42\n",
            "43\n",
            "44\n",
            "45\n",
            "46\n",
            "47\n",
            "48\n",
            "49\n",
            "50\n",
            "51\n",
            "52\n",
            "53\n",
            "54\n",
            "55\n",
            "56\n",
            "56 2224.648595346138\n",
            "9222070.871894468\n"
          ],
          "name": "stdout"
        }
      ]
    },
    {
      "cell_type": "markdown",
      "metadata": {
        "id": "50TfRCoBlAGm",
        "colab_type": "text"
      },
      "source": [
        "## High-peak"
      ]
    },
    {
      "cell_type": "code",
      "metadata": {
        "id": "nRBTjYE8lAGo",
        "colab_type": "code",
        "colab": {}
      },
      "source": [
        "link_file = 'Singapore_net_high.tntp'"
      ],
      "execution_count": 0,
      "outputs": []
    },
    {
      "cell_type": "code",
      "metadata": {
        "id": "_63Sj89DlAGz",
        "colab_type": "code",
        "colab": {
          "base_uri": "https://localhost:8080/",
          "height": 1000
        },
        "outputId": "8949c90f-1bb2-4c83-edcc-d17f51f1e0dc"
      },
      "source": [
        "SO = True\n",
        "fw = Run(link_file, trip_file, node_file, SO)\n",
        "se_high = fw.fwResult['z'][-1]\n",
        "print(se_high)"
      ],
      "execution_count": 18,
      "outputs": [
        {
          "output_type": "stream",
          "text": [
            "2\n",
            "3\n",
            "4\n",
            "5\n",
            "6\n",
            "7\n",
            "8\n",
            "9\n",
            "10\n",
            "11\n",
            "12\n",
            "13\n",
            "14\n",
            "15\n",
            "16\n",
            "17\n",
            "18\n",
            "19\n",
            "20\n",
            "21\n",
            "22\n",
            "23\n",
            "24\n",
            "25\n",
            "26\n",
            "27\n",
            "28\n",
            "29\n",
            "30\n",
            "31\n",
            "32\n",
            "33\n",
            "34\n",
            "35\n",
            "36\n",
            "37\n",
            "38\n",
            "39\n",
            "40\n",
            "41\n",
            "42\n",
            "43\n",
            "44\n",
            "45\n",
            "46\n",
            "47\n",
            "48\n",
            "49\n",
            "50\n",
            "51\n",
            "52\n",
            "53\n",
            "54\n",
            "55\n",
            "56\n",
            "57\n",
            "58\n",
            "59\n",
            "60\n",
            "61\n",
            "62\n",
            "63\n",
            "64\n",
            "65\n",
            "66\n",
            "67\n",
            "68\n",
            "69\n",
            "69 2188.7049590256065\n",
            "9227780.609930813\n"
          ],
          "name": "stdout"
        }
      ]
    },
    {
      "cell_type": "code",
      "metadata": {
        "id": "jBtuGYl5lAG-",
        "colab_type": "code",
        "colab": {
          "base_uri": "https://localhost:8080/",
          "height": 1000
        },
        "outputId": "bed4f05e-29fb-4ae8-fd6c-f95ab7050d15"
      },
      "source": [
        "SO = False\n",
        "fw = Run(link_file, trip_file, node_file, SO)\n",
        "ue_high = fw.fwResult['z'][-1]\n",
        "print(ue_high)"
      ],
      "execution_count": 19,
      "outputs": [
        {
          "output_type": "stream",
          "text": [
            "2\n",
            "3\n",
            "4\n",
            "5\n",
            "6\n",
            "7\n",
            "8\n",
            "9\n",
            "10\n",
            "11\n",
            "12\n",
            "13\n",
            "14\n",
            "15\n",
            "16\n",
            "17\n",
            "18\n",
            "19\n",
            "20\n",
            "21\n",
            "22\n",
            "23\n",
            "24\n",
            "25\n",
            "26\n",
            "27\n",
            "28\n",
            "29\n",
            "30\n",
            "31\n",
            "32\n",
            "33\n",
            "34\n",
            "35\n",
            "36\n",
            "37\n",
            "38\n",
            "39\n",
            "40\n",
            "41\n",
            "42\n",
            "43\n",
            "44\n",
            "45\n",
            "46\n",
            "47\n",
            "48\n",
            "49\n",
            "50\n",
            "51\n",
            "52\n",
            "53\n",
            "54\n",
            "55\n",
            "56\n",
            "56 2533.762954266742\n",
            "9218512.712847428\n"
          ],
          "name": "stdout"
        }
      ]
    },
    {
      "cell_type": "markdown",
      "metadata": {
        "id": "7GHBWQ_zngko",
        "colab_type": "text"
      },
      "source": [
        "## Plot!"
      ]
    },
    {
      "cell_type": "code",
      "metadata": {
        "id": "A8yXBXvBlAHG",
        "colab_type": "code",
        "colab": {
          "base_uri": "https://localhost:8080/",
          "height": 441
        },
        "outputId": "00448eeb-eab4-456c-e5ac-5a3a4c299961"
      },
      "source": [
        "import numpy as np\n",
        "\n",
        "system = [se_off, se_mod, se_high] \n",
        "user = [ue_off, ue_mod, ue_high] \n",
        "\n",
        "labels = [\"Off-Peak(12:00 A.M.)\", \"Moderately-Peak(3:00 P.M.)\", \"High-Peak(6:00 P.M.)\"]\n",
        "x = np.arange(len(labels))  # the label locations\n",
        "width = 0.2  # the width of the bars\n",
        "\n",
        "def autolabel(rects, ax, xpos='center'):\n",
        "    for rect in rects:\n",
        "        height = rect.get_height()\n",
        "        ax.annotate('{}'.format(math.ceil(height)),\n",
        "                    xy=(rect.get_x() + rect.get_width() / 2, height),\n",
        "                    xytext=(0, 3),  # use 3 points offset\n",
        "                    textcoords=\"offset points\",  # in both directions\n",
        "                    ha='center', va='bottom')\n",
        "\n",
        "fig1, ax1 = plt.subplots(figsize=(10,6))\n",
        "rects2 = ax1.bar(x - width/2, system, width, label='System Equilibrium')\n",
        "rects1 = ax1.bar(x + width/2, user, width, label='User Equilibrium')\n",
        "\n",
        "# Add some text for labels, title and custom x-axis tick labels, etc.\n",
        "ax1.set_ylabel('Total network cost (in flow*time)')\n",
        "ax1.set_xlabel('Customer demand size (1000 trips)')\n",
        "ax1.set_title('Total Cost: System Equilibrium VS User Equilibrium')\n",
        "ax1.set_xticks(x)\n",
        "ax1.set_xticklabels(labels)\n",
        "ax1.legend(loc='center')\n",
        "\n",
        "autolabel(rects1, ax1)\n",
        "autolabel(rects2, ax1)\n",
        "fig1.tight_layout()"
      ],
      "execution_count": 41,
      "outputs": [
        {
          "output_type": "display_data",
          "data": {
            "image/png": "[encoded data removed]",
            "text/plain": [
              "<Figure size 720x432 with 1 Axes>"
            ]
          },
          "metadata": {
            "tags": [],
            "needs_background": "light"
          }
        }
      ]
    },
    {
      "cell_type": "code",
      "metadata": {
        "id": "IhdMpRW0lAHi",
        "colab_type": "code",
        "colab": {}
      },
      "source": [
        ""
      ],
      "execution_count": 0,
      "outputs": []
    }
  ]
}