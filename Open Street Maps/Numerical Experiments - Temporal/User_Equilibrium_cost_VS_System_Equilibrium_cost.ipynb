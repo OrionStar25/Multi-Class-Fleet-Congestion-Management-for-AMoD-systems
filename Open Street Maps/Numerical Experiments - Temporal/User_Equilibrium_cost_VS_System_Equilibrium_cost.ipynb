{
  "nbformat": 4,
  "nbformat_minor": 0,
  "metadata": {
    "accelerator": "GPU",
    "colab": {
      "name": "User-Equilibrium cost VS System-Equilibrium cost.ipynb",
      "provenance": [],
      "collapsed_sections": []
    },
    "kernelspec": {
      "display_name": "Python 3",
      "language": "python",
      "name": "python3"
    },
    "language_info": {
      "codemirror_mode": {
        "name": "ipython",
        "version": 3
      },
      "file_extension": ".py",
      "mimetype": "text/x-python",
      "name": "python",
      "nbconvert_exporter": "python",
      "pygments_lexer": "ipython3",
      "version": "3.6.10"
    }
  },
  "cells": [
    {
      "cell_type": "code",
      "metadata": {
        "colab_type": "code",
        "id": "ghMzxQyxI4FQ",
        "outputId": "c7d9ac5b-050c-49fd-ccea-5f0107b9a574",
        "colab": {
          "base_uri": "https://localhost:8080/",
          "height": 298
        }
      },
      "source": [
        "from google.colab import drive\n",
        "drive.mount('/content/drive/')\n",
        "%cd drive/My \\Drive/Sem \\8 \\files/\n",
        "!ls"
      ],
      "execution_count": 1,
      "outputs": [
        {
          "output_type": "stream",
          "text": [
            "Go to this URL in a browser: https://accounts.google.com/o/oauth2/auth?client_id=947318989803-6bn6qk8qdgf4n4g3pfee6491hc0brc4i.apps.googleusercontent.com&redirect_uri=urn%3aietf%3awg%3aoauth%3a2.0%3aoob&response_type=code&scope=email%20https%3a%2f%2fwww.googleapis.com%2fauth%2fdocs.test%20https%3a%2f%2fwww.googleapis.com%2fauth%2fdrive%20https%3a%2f%2fwww.googleapis.com%2fauth%2fdrive.photos.readonly%20https%3a%2f%2fwww.googleapis.com%2fauth%2fpeopleapi.readonly\n",
            "\n",
            "Enter your authorization code:\n",
            "··········\n",
            "Mounted at /content/drive/\n",
            "/content/drive/My Drive/Sem 8 files\n",
            " data\t\t\t\t  Singapore_net.tntp\n",
            " euclidean_distances.json\t  Singapore_node.tntp\n",
            " Frank_Wolfe.py\t\t\t  Singapore_trips_1000.tntp\n",
            "'Fri Feb 14 09_06_16 2020.json'   Singapore_trips_275.tntp\n",
            " __pycache__\t\t\t  Singapore_trips_2884.tntp\n",
            " Shortest_path_lengths.pkl\t  Singapore_trips_70.tntp\n",
            " Singapore_net_high.tntp\t  TransportationNetworks.py\n",
            " Singapore_net_mod.tntp\t\t  utils.py\n",
            " Singapore_net_off.tntp\n"
          ],
          "name": "stdout"
        }
      ]
    },
    {
      "cell_type": "code",
      "metadata": {
        "id": "jMd8Gkl3lAEu",
        "colab_type": "code",
        "colab": {}
      },
      "source": [
        "import networkx as nx\n",
        "import scipy.integrate as integrate \n",
        "from scipy.optimize import minimize_scalar\n",
        "import matplotlib.pyplot as plt\n",
        "import math\n",
        "import time\n",
        "\n",
        "import TransportationNetworks as tn\n",
        "from networkx.algorithms.flow import edmonds_karp\n",
        "from heapq import heappush, heappop\n",
        "from itertools import count"
      ],
      "execution_count": 0,
      "outputs": []
    },
    {
      "cell_type": "code",
      "metadata": {
        "colab_type": "code",
        "id": "_XGOQ0azI8hy",
        "colab": {}
      },
      "source": [
        "class Run:\n",
        "    def __init__(self, link_file, trip_file, node_file, SO=True):\n",
        "        self.SO = SO\n",
        "        \n",
        "        nw = tn.Network(link_file, trip_file, node_file, self.SO)\n",
        "        self.od_vols = nw.od_vols\n",
        "\n",
        "        ## initialization\n",
        "        self.network = {(u,v): {'t0':d['object'].t0, 'alpha':d['object'].alpha, \\\n",
        "                   'beta':d['object'].beta, 'capa':d['object'].capacity, 'flow':[], \\\n",
        "                   'auxiliary':[], 'cost':[]} for (u, v, d) in nw.graph.edges(data=True)}\n",
        "        \n",
        "        self.fwResult = {'theta':[], 'z':[]}\n",
        "        \n",
        "        nw.all_or_nothing_assignment()\n",
        "        nw.update_linkcost()\n",
        "        \n",
        "        for linkKey, linkVal in self.network.items():\n",
        "            linkVal['cost'].append(nw.graph[linkKey[0]][linkKey[1]]['weight'])\n",
        "            linkVal['auxiliary'].append(nw.graph[linkKey[0]][linkKey[1]]['object'].vol)\n",
        "            linkVal['flow'].append(nw.graph[linkKey[0]][linkKey[1]]['object'].vol)\n",
        "            \n",
        "        ## iterations\n",
        "        iterNum=0\n",
        "        iteration = True\n",
        "        start = time.time()\n",
        "        PERIOD_OF_TIME = 900 # 15min\n",
        "\n",
        "        while iteration:\n",
        "            iterNum += 1\n",
        "            nw.all_or_nothing_assignment()\n",
        "            nw.update_linkcost()\n",
        "            \n",
        "            for linkKey, linkVal in self.network.items():\n",
        "                linkVal['auxiliary'].append(nw.graph[linkKey[0]][linkKey[1]]['object'].vol)\n",
        "                \n",
        "            theta = self.lineSearch()\n",
        "            self.fwResult['theta'].append(theta)\n",
        "            \n",
        "            for linkKey, linkVal in self.network.items():\n",
        "                aux = linkVal['auxiliary'][-1]\n",
        "                flow = linkVal['flow'][-1]\n",
        "                linkVal['flow'].append(flow + theta*(aux-flow))\n",
        "                \n",
        "                nw.graph[linkKey[0]][linkKey[1]]['object'].vol =  flow + theta * (aux - flow)\n",
        "                nw.graph[linkKey[0]][linkKey[1]]['object'].flow = flow + theta * (aux - flow)\n",
        "                \n",
        "            \n",
        "            nw.update_linkcost()\n",
        "            \n",
        "            z=0\n",
        "            for linkKey, linkVal in self.network.items():\n",
        "                linkVal['cost'].append(nw.graph[linkKey[0]][linkKey[1]]['weight'])\n",
        "                totalcost = nw.graph[linkKey[0]][linkKey[1]]['object'].get_objective_function()\n",
        "                z+=totalcost\n",
        "                \n",
        "            self.fwResult['z'].append(z)        \n",
        "            \n",
        "            if iterNum == 1:\n",
        "                iteration = True\n",
        "            else:\n",
        "                if abs(self.fwResult['z'][-2] - self.fwResult['z'][-1]) <= 0.002 or \\\n",
        "                   iterNum==1000 or \\\n",
        "                   time.time() > start + PERIOD_OF_TIME:\n",
        "                   iteration = False\n",
        "                \n",
        "        print(iterNum, abs(self.fwResult['z'][-2] - self.fwResult['z'][-1]))\n",
        "        self.graph = nw.graph\n",
        "                    \n",
        "    def BPR(self, t0, xa, ca, alpha, beta):\n",
        "        ta = t0 * (1 + alpha * pow((xa/ca), beta))\n",
        "        return ta\n",
        "    \n",
        "    def calculateZ(self, theta):\n",
        "        z = 0\n",
        "        for linkKey, linkVal in self.network.items():\n",
        "            t0 = linkVal['t0']\n",
        "            ca = linkVal['capa']\n",
        "            beta = linkVal['beta']\n",
        "            alpha = linkVal['alpha']\n",
        "            aux = linkVal['auxiliary'][-1]\n",
        "            flow = linkVal['flow'][-1]\n",
        "            \n",
        "            if SO == False:\n",
        "                z += integrate.quad(lambda x: self.BPR(t0, x, ca, alpha, beta), 0, flow+theta*(aux-flow))[0]\n",
        "            elif SO == True:\n",
        "                z += list(map(lambda x : x * self.BPR(t0, x, ca, alpha, beta), [flow+theta*(aux-flow)]))[0]\n",
        "        return z\n",
        "    \n",
        "    def lineSearch(self):\n",
        "        theta = minimize_scalar(lambda x: self.calculateZ(x), bounds = (0,1), method = 'Bounded')\n",
        "        return theta.x\n",
        "\n",
        "\n",
        "    def shortest_successive_path(self, source, target):\n",
        "        if target == source:\n",
        "            return [target]\n",
        "\n",
        "        paths = {source: [source], target: []} # dictionary of paths\n",
        "        G_succ = self.graph._succ\n",
        "        push = heappush\n",
        "        pop = heappop        \n",
        "        dist = {}  # dictionary of final width\n",
        "        c = count() # use the count c to avoid comparing nodes\n",
        "        fringe = [] # fringe is heapq with 3-tuples (distance,c,node)\n",
        "\n",
        "        for n in self.graph.nodes:\n",
        "            dist[n] = float('inf')\n",
        "        dist[source] = 0\n",
        "        \n",
        "        push(fringe, (dist[source], next(c), source))\n",
        "        while fringe:\n",
        "            (w, _, v) = pop(fringe)\n",
        "            if v == target:\n",
        "                break\n",
        "\n",
        "            for u, e in G_succ[v].items():\n",
        "                # Check for only those edges who have enough capacity left\n",
        "                if e['capacity'] > 0:\n",
        "                    dist_vu = e['weight']\n",
        "                    alt = dist[v] + dist_vu\n",
        "\n",
        "                    if alt < dist[u]:\n",
        "                        dist[u] = alt\n",
        "                        push(fringe, (dist[u], next(c), u))\n",
        "                        paths[u] = paths[v] + [u]\n",
        "\n",
        "        return paths[target]\n",
        "\n",
        "    \n",
        "    def showODPath(self):\n",
        "        \"\"\"\n",
        "        Method for presenting table of the optimal traffic assignment of the Frank-Wolfe algorithm procedure\n",
        "        \"\"\"\n",
        "        capacity = dict()\n",
        "        for (u, v, d) in self.graph.edges(data=True):\n",
        "            capacity[(u,v)] = math.ceil(d['object'].vol)\n",
        "\n",
        "        nx.set_edge_attributes(self.graph, capacity, name='capacity')\n",
        "\n",
        "        # sort OD pairs according to least path options first\n",
        "        x = dict()\n",
        "        for (origin, dest), demand in self.od_vols.items():\n",
        "            if demand != 0:\n",
        "                path = nx.dijkstra_path(self.graph, origin, dest, weight=\"length\")\n",
        "\n",
        "                neighbours = 0\n",
        "                for p in path[:-1]:\n",
        "                    neighbours += len(list(nx.neighbors(self.graph, p)))\n",
        "\n",
        "                x[(origin, dest, demand)] = neighbours\n",
        "\n",
        "        OD = sorted(x.items(), key = lambda kv:(kv[1], kv[0]))\n",
        "\n",
        "        # Decomposing flow into a path for every request\n",
        "        infeasible = dict()\n",
        "        cost = 0\n",
        "\n",
        "        for (origin, dest, demand), _ in OD:\n",
        "            while demand > 0:\n",
        "                path = self.shortest_successive_path(origin, dest)\n",
        "\n",
        "                if path == []: # Add to waiting queue\n",
        "                    infeasible[(origin, dest)] = demand\n",
        "                    break\n",
        "                else:\n",
        "                    # Decrement capacity of chosen path by 1\n",
        "                    for i in range(len(path)-1):\n",
        "                        u = path[i]\n",
        "                        v = path[i+1]\n",
        "                        self.graph[u][v]['capacity'] -= 1\n",
        "                        cost += self.graph[u][v]['weight']\n",
        "                    demand = demand - 1                   \n",
        "\n",
        "        count = 0\n",
        "        for d in infeasible.values():\n",
        "            count += d\n",
        "        print(\"Number of infeasible trips:\", count)\n",
        "        print(\"Cost of system:\", cost)\n",
        "\n",
        "        # Route infeasible paths in a user equilibrium way\n",
        "        if len(infeasible) > 0:\n",
        "            new_capacity = dict()\n",
        "\n",
        "            for (u, v, d) in self.graph.edges(data=True):\n",
        "                new_capacity[(u,v)] = d['object'].capacity -\\\n",
        "                                      math.ceil(d['object'].vol) +\\\n",
        "                                      d['capacity']\n",
        "\n",
        "            nx.set_edge_attributes(self.graph, new_capacity, name='capacity')\n",
        "            \n",
        "            count = 0\n",
        "            for (origin, dest), demand in infeasible.items():\n",
        "                while demand > 0:\n",
        "                    path = self.shortest_successive_path(origin, dest)\n",
        "\n",
        "                    if path == []: # Add to waiting queue\n",
        "                        count += demand\n",
        "                        break\n",
        "                    else:\n",
        "                        # Decrement capacity of chosen path by 1\n",
        "                        for i in range(len(path)-1):\n",
        "                            u = path[i]\n",
        "                            v = path[i+1]\n",
        "                            self.graph[u][v]['capacity'] -= 1\n",
        "                            cost += self.graph[u][v]['weight']\n",
        "                        demand = demand - 1 \n",
        "\n",
        "            print(\"Number of infeasible trips after residual allocation:\", count)\n",
        "            print(\"New cost of system after CSO:\", cost)\n",
        "\n",
        "        print(\"DONE!\")\n",
        "        return cost"
      ],
      "execution_count": 0,
      "outputs": []
    },
    {
      "cell_type": "code",
      "metadata": {
        "id": "64jUo9Y-lAFS",
        "colab_type": "code",
        "colab": {}
      },
      "source": [
        "node_file = 'Singapore_node.tntp'\n",
        "trip_file = 'Singapore_trips_1000.tntp'"
      ],
      "execution_count": 0,
      "outputs": []
    },
    {
      "cell_type": "markdown",
      "metadata": {
        "id": "ZnLVLn49lAFf",
        "colab_type": "text"
      },
      "source": [
        "## Off-peak"
      ]
    },
    {
      "cell_type": "code",
      "metadata": {
        "id": "WndyPK5LlAFj",
        "colab_type": "code",
        "colab": {}
      },
      "source": [
        "link_file = 'Singapore_net_off.tntp'"
      ],
      "execution_count": 0,
      "outputs": []
    },
    {
      "cell_type": "code",
      "metadata": {
        "id": "VpSjgeqplAFv",
        "colab_type": "code",
        "colab": {
          "base_uri": "https://localhost:8080/",
          "height": 121
        },
        "outputId": "c7180cad-2d87-42e1-eb74-a2c8a1cf83a1"
      },
      "source": [
        "SO = True\n",
        "fw = Run(link_file, trip_file, node_file, SO)\n",
        "se_off = fw.showODPath()"
      ],
      "execution_count": 6,
      "outputs": [
        {
          "output_type": "stream",
          "text": [
            "41 5499.746619064361\n",
            "Number of infeasible trips: 31.0\n",
            "Cost of system: 15464345.197814113\n",
            "Number of infeasible trips after residual allocation: 31.0\n",
            "New cost of system after CSO: 15464345.197814113\n",
            "DONE!\n"
          ],
          "name": "stdout"
        }
      ]
    },
    {
      "cell_type": "code",
      "metadata": {
        "id": "8tgmf1QglAF8",
        "colab_type": "code",
        "colab": {
          "base_uri": "https://localhost:8080/",
          "height": 121
        },
        "outputId": "a579b39a-704e-4a54-83b3-02b291fc9af7"
      },
      "source": [
        "SO = False\n",
        "fw = Run(link_file, trip_file, node_file, SO)\n",
        "ue_off = fw.showODPath()"
      ],
      "execution_count": 7,
      "outputs": [
        {
          "output_type": "stream",
          "text": [
            "31 6119.3501063250005\n",
            "Number of infeasible trips: 49.0\n",
            "Cost of system: 15378675.74622567\n",
            "Number of infeasible trips after residual allocation: 46.0\n",
            "New cost of system after CSO: 15422945.901433166\n",
            "DONE!\n"
          ],
          "name": "stdout"
        }
      ]
    },
    {
      "cell_type": "code",
      "metadata": {
        "id": "4kBBpmHEm6Xq",
        "colab_type": "code",
        "colab": {
          "base_uri": "https://localhost:8080/",
          "height": 34
        },
        "outputId": "1d8fc41a-09f3-421b-b627-9d76bc0c0451"
      },
      "source": [
        "print(se_off, ue_off)"
      ],
      "execution_count": 8,
      "outputs": [
        {
          "output_type": "stream",
          "text": [
            "15464345.197814113 15422945.901433166\n"
          ],
          "name": "stdout"
        }
      ]
    },
    {
      "cell_type": "markdown",
      "metadata": {
        "id": "ZdfVgkw4lAGF",
        "colab_type": "text"
      },
      "source": [
        "## Mod-peak"
      ]
    },
    {
      "cell_type": "code",
      "metadata": {
        "id": "BqOEH2i3lAGH",
        "colab_type": "code",
        "colab": {}
      },
      "source": [
        "link_file = 'Singapore_net_mod.tntp'"
      ],
      "execution_count": 0,
      "outputs": []
    },
    {
      "cell_type": "code",
      "metadata": {
        "id": "x1-0wCbWlAGR",
        "colab_type": "code",
        "colab": {
          "base_uri": "https://localhost:8080/",
          "height": 347
        },
        "outputId": "b98df8af-67bf-424d-b62a-e82688243568"
      },
      "source": [
        "SO = True\n",
        "fw = Run(link_file, trip_file, node_file, SO)\n",
        "se_mod = fw.showODPath()"
      ],
      "execution_count": 10,
      "outputs": [
        {
          "output_type": "error",
          "ename": "KeyboardInterrupt",
          "evalue": "ignored",
          "traceback": [
            "\u001b[0;31m---------------------------------------------------------------------------\u001b[0m",
            "\u001b[0;31mKeyboardInterrupt\u001b[0m                         Traceback (most recent call last)",
            "\u001b[0;32m<ipython-input-10-5b5fa0a7eb7e>\u001b[0m in \u001b[0;36m<module>\u001b[0;34m()\u001b[0m\n\u001b[1;32m      1\u001b[0m \u001b[0mSO\u001b[0m \u001b[0;34m=\u001b[0m \u001b[0;32mTrue\u001b[0m\u001b[0;34m\u001b[0m\u001b[0;34m\u001b[0m\u001b[0m\n\u001b[0;32m----> 2\u001b[0;31m \u001b[0mfw\u001b[0m \u001b[0;34m=\u001b[0m \u001b[0mRun\u001b[0m\u001b[0;34m(\u001b[0m\u001b[0mlink_file\u001b[0m\u001b[0;34m,\u001b[0m \u001b[0mtrip_file\u001b[0m\u001b[0;34m,\u001b[0m \u001b[0mnode_file\u001b[0m\u001b[0;34m,\u001b[0m \u001b[0mSO\u001b[0m\u001b[0;34m)\u001b[0m\u001b[0;34m\u001b[0m\u001b[0;34m\u001b[0m\u001b[0m\n\u001b[0m\u001b[1;32m      3\u001b[0m \u001b[0mse_mod\u001b[0m \u001b[0;34m=\u001b[0m \u001b[0mfw\u001b[0m\u001b[0;34m.\u001b[0m\u001b[0mshowODPath\u001b[0m\u001b[0;34m(\u001b[0m\u001b[0;34m)\u001b[0m\u001b[0;34m\u001b[0m\u001b[0;34m\u001b[0m\u001b[0m\n",
            "\u001b[0;32m<ipython-input-3-d7c338b7499c>\u001b[0m in \u001b[0;36m__init__\u001b[0;34m(self, link_file, trip_file, node_file, SO)\u001b[0m\n\u001b[1;32m     33\u001b[0m                 \u001b[0mlinkVal\u001b[0m\u001b[0;34m[\u001b[0m\u001b[0;34m'auxiliary'\u001b[0m\u001b[0;34m]\u001b[0m\u001b[0;34m.\u001b[0m\u001b[0mappend\u001b[0m\u001b[0;34m(\u001b[0m\u001b[0mnw\u001b[0m\u001b[0;34m.\u001b[0m\u001b[0mgraph\u001b[0m\u001b[0;34m[\u001b[0m\u001b[0mlinkKey\u001b[0m\u001b[0;34m[\u001b[0m\u001b[0;36m0\u001b[0m\u001b[0;34m]\u001b[0m\u001b[0;34m]\u001b[0m\u001b[0;34m[\u001b[0m\u001b[0mlinkKey\u001b[0m\u001b[0;34m[\u001b[0m\u001b[0;36m1\u001b[0m\u001b[0;34m]\u001b[0m\u001b[0;34m]\u001b[0m\u001b[0;34m[\u001b[0m\u001b[0;34m'object'\u001b[0m\u001b[0;34m]\u001b[0m\u001b[0;34m.\u001b[0m\u001b[0mvol\u001b[0m\u001b[0;34m)\u001b[0m\u001b[0;34m\u001b[0m\u001b[0;34m\u001b[0m\u001b[0m\n\u001b[1;32m     34\u001b[0m \u001b[0;34m\u001b[0m\u001b[0m\n\u001b[0;32m---> 35\u001b[0;31m             \u001b[0mtheta\u001b[0m \u001b[0;34m=\u001b[0m \u001b[0mself\u001b[0m\u001b[0;34m.\u001b[0m\u001b[0mlineSearch\u001b[0m\u001b[0;34m(\u001b[0m\u001b[0;34m)\u001b[0m\u001b[0;34m\u001b[0m\u001b[0;34m\u001b[0m\u001b[0m\n\u001b[0m\u001b[1;32m     36\u001b[0m             \u001b[0mself\u001b[0m\u001b[0;34m.\u001b[0m\u001b[0mfwResult\u001b[0m\u001b[0;34m[\u001b[0m\u001b[0;34m'theta'\u001b[0m\u001b[0;34m]\u001b[0m\u001b[0;34m.\u001b[0m\u001b[0mappend\u001b[0m\u001b[0;34m(\u001b[0m\u001b[0mtheta\u001b[0m\u001b[0;34m)\u001b[0m\u001b[0;34m\u001b[0m\u001b[0;34m\u001b[0m\u001b[0m\n\u001b[1;32m     37\u001b[0m \u001b[0;34m\u001b[0m\u001b[0m\n",
            "\u001b[0;32m<ipython-input-3-d7c338b7499c>\u001b[0m in \u001b[0;36mlineSearch\u001b[0;34m(self)\u001b[0m\n\u001b[1;32m     85\u001b[0m \u001b[0;34m\u001b[0m\u001b[0m\n\u001b[1;32m     86\u001b[0m     \u001b[0;32mdef\u001b[0m \u001b[0mlineSearch\u001b[0m\u001b[0;34m(\u001b[0m\u001b[0mself\u001b[0m\u001b[0;34m)\u001b[0m\u001b[0;34m:\u001b[0m\u001b[0;34m\u001b[0m\u001b[0;34m\u001b[0m\u001b[0m\n\u001b[0;32m---> 87\u001b[0;31m         \u001b[0mtheta\u001b[0m \u001b[0;34m=\u001b[0m \u001b[0mminimize_scalar\u001b[0m\u001b[0;34m(\u001b[0m\u001b[0;32mlambda\u001b[0m \u001b[0mx\u001b[0m\u001b[0;34m:\u001b[0m \u001b[0mself\u001b[0m\u001b[0;34m.\u001b[0m\u001b[0mcalculateZ\u001b[0m\u001b[0;34m(\u001b[0m\u001b[0mx\u001b[0m\u001b[0;34m)\u001b[0m\u001b[0;34m,\u001b[0m \u001b[0mbounds\u001b[0m \u001b[0;34m=\u001b[0m \u001b[0;34m(\u001b[0m\u001b[0;36m0\u001b[0m\u001b[0;34m,\u001b[0m\u001b[0;36m1\u001b[0m\u001b[0;34m)\u001b[0m\u001b[0;34m,\u001b[0m \u001b[0mmethod\u001b[0m \u001b[0;34m=\u001b[0m \u001b[0;34m'Bounded'\u001b[0m\u001b[0;34m)\u001b[0m\u001b[0;34m\u001b[0m\u001b[0;34m\u001b[0m\u001b[0m\n\u001b[0m\u001b[1;32m     88\u001b[0m         \u001b[0;32mreturn\u001b[0m \u001b[0mtheta\u001b[0m\u001b[0;34m.\u001b[0m\u001b[0mx\u001b[0m\u001b[0;34m\u001b[0m\u001b[0;34m\u001b[0m\u001b[0m\n\u001b[1;32m     89\u001b[0m \u001b[0;34m\u001b[0m\u001b[0m\n",
            "\u001b[0;32m/usr/local/lib/python3.6/dist-packages/scipy/optimize/_minimize.py\u001b[0m in \u001b[0;36mminimize_scalar\u001b[0;34m(fun, bracket, bounds, args, method, tol, options)\u001b[0m\n\u001b[1;32m    788\u001b[0m         \u001b[0;32mif\u001b[0m \u001b[0misinstance\u001b[0m\u001b[0;34m(\u001b[0m\u001b[0mdisp\u001b[0m\u001b[0;34m,\u001b[0m \u001b[0mbool\u001b[0m\u001b[0;34m)\u001b[0m\u001b[0;34m:\u001b[0m\u001b[0;34m\u001b[0m\u001b[0;34m\u001b[0m\u001b[0m\n\u001b[1;32m    789\u001b[0m             \u001b[0moptions\u001b[0m\u001b[0;34m[\u001b[0m\u001b[0;34m'disp'\u001b[0m\u001b[0;34m]\u001b[0m \u001b[0;34m=\u001b[0m \u001b[0;36m2\u001b[0m \u001b[0;34m*\u001b[0m \u001b[0mint\u001b[0m\u001b[0;34m(\u001b[0m\u001b[0mdisp\u001b[0m\u001b[0;34m)\u001b[0m\u001b[0;34m\u001b[0m\u001b[0;34m\u001b[0m\u001b[0m\n\u001b[0;32m--> 790\u001b[0;31m         \u001b[0;32mreturn\u001b[0m \u001b[0m_minimize_scalar_bounded\u001b[0m\u001b[0;34m(\u001b[0m\u001b[0mfun\u001b[0m\u001b[0;34m,\u001b[0m \u001b[0mbounds\u001b[0m\u001b[0;34m,\u001b[0m \u001b[0margs\u001b[0m\u001b[0;34m,\u001b[0m \u001b[0;34m**\u001b[0m\u001b[0moptions\u001b[0m\u001b[0;34m)\u001b[0m\u001b[0;34m\u001b[0m\u001b[0;34m\u001b[0m\u001b[0m\n\u001b[0m\u001b[1;32m    791\u001b[0m     \u001b[0;32melif\u001b[0m \u001b[0mmeth\u001b[0m \u001b[0;34m==\u001b[0m \u001b[0;34m'golden'\u001b[0m\u001b[0;34m:\u001b[0m\u001b[0;34m\u001b[0m\u001b[0;34m\u001b[0m\u001b[0m\n\u001b[1;32m    792\u001b[0m         \u001b[0;32mreturn\u001b[0m \u001b[0m_minimize_scalar_golden\u001b[0m\u001b[0;34m(\u001b[0m\u001b[0mfun\u001b[0m\u001b[0;34m,\u001b[0m \u001b[0mbracket\u001b[0m\u001b[0;34m,\u001b[0m \u001b[0margs\u001b[0m\u001b[0;34m,\u001b[0m \u001b[0;34m**\u001b[0m\u001b[0moptions\u001b[0m\u001b[0;34m)\u001b[0m\u001b[0;34m\u001b[0m\u001b[0;34m\u001b[0m\u001b[0m\n",
            "\u001b[0;32m/usr/local/lib/python3.6/dist-packages/scipy/optimize/optimize.py\u001b[0m in \u001b[0;36m_minimize_scalar_bounded\u001b[0;34m(func, bounds, args, xatol, maxiter, disp, **unknown_options)\u001b[0m\n\u001b[1;32m   1845\u001b[0m         \u001b[0msi\u001b[0m \u001b[0;34m=\u001b[0m \u001b[0mnumpy\u001b[0m\u001b[0;34m.\u001b[0m\u001b[0msign\u001b[0m\u001b[0;34m(\u001b[0m\u001b[0mrat\u001b[0m\u001b[0;34m)\u001b[0m \u001b[0;34m+\u001b[0m \u001b[0;34m(\u001b[0m\u001b[0mrat\u001b[0m \u001b[0;34m==\u001b[0m \u001b[0;36m0\u001b[0m\u001b[0;34m)\u001b[0m\u001b[0;34m\u001b[0m\u001b[0;34m\u001b[0m\u001b[0m\n\u001b[1;32m   1846\u001b[0m         \u001b[0mx\u001b[0m \u001b[0;34m=\u001b[0m \u001b[0mxf\u001b[0m \u001b[0;34m+\u001b[0m \u001b[0msi\u001b[0m \u001b[0;34m*\u001b[0m \u001b[0mnumpy\u001b[0m\u001b[0;34m.\u001b[0m\u001b[0mmax\u001b[0m\u001b[0;34m(\u001b[0m\u001b[0;34m[\u001b[0m\u001b[0mnumpy\u001b[0m\u001b[0;34m.\u001b[0m\u001b[0mabs\u001b[0m\u001b[0;34m(\u001b[0m\u001b[0mrat\u001b[0m\u001b[0;34m)\u001b[0m\u001b[0;34m,\u001b[0m \u001b[0mtol1\u001b[0m\u001b[0;34m]\u001b[0m\u001b[0;34m)\u001b[0m\u001b[0;34m\u001b[0m\u001b[0;34m\u001b[0m\u001b[0m\n\u001b[0;32m-> 1847\u001b[0;31m         \u001b[0mfu\u001b[0m \u001b[0;34m=\u001b[0m \u001b[0mfunc\u001b[0m\u001b[0;34m(\u001b[0m\u001b[0mx\u001b[0m\u001b[0;34m,\u001b[0m \u001b[0;34m*\u001b[0m\u001b[0margs\u001b[0m\u001b[0;34m)\u001b[0m\u001b[0;34m\u001b[0m\u001b[0;34m\u001b[0m\u001b[0m\n\u001b[0m\u001b[1;32m   1848\u001b[0m         \u001b[0mnum\u001b[0m \u001b[0;34m+=\u001b[0m \u001b[0;36m1\u001b[0m\u001b[0;34m\u001b[0m\u001b[0;34m\u001b[0m\u001b[0m\n\u001b[1;32m   1849\u001b[0m         \u001b[0mfmin_data\u001b[0m \u001b[0;34m=\u001b[0m \u001b[0;34m(\u001b[0m\u001b[0mnum\u001b[0m\u001b[0;34m,\u001b[0m \u001b[0mx\u001b[0m\u001b[0;34m,\u001b[0m \u001b[0mfu\u001b[0m\u001b[0;34m)\u001b[0m\u001b[0;34m\u001b[0m\u001b[0;34m\u001b[0m\u001b[0m\n",
            "\u001b[0;32m<ipython-input-3-d7c338b7499c>\u001b[0m in \u001b[0;36m<lambda>\u001b[0;34m(x)\u001b[0m\n\u001b[1;32m     85\u001b[0m \u001b[0;34m\u001b[0m\u001b[0m\n\u001b[1;32m     86\u001b[0m     \u001b[0;32mdef\u001b[0m \u001b[0mlineSearch\u001b[0m\u001b[0;34m(\u001b[0m\u001b[0mself\u001b[0m\u001b[0;34m)\u001b[0m\u001b[0;34m:\u001b[0m\u001b[0;34m\u001b[0m\u001b[0;34m\u001b[0m\u001b[0m\n\u001b[0;32m---> 87\u001b[0;31m         \u001b[0mtheta\u001b[0m \u001b[0;34m=\u001b[0m \u001b[0mminimize_scalar\u001b[0m\u001b[0;34m(\u001b[0m\u001b[0;32mlambda\u001b[0m \u001b[0mx\u001b[0m\u001b[0;34m:\u001b[0m \u001b[0mself\u001b[0m\u001b[0;34m.\u001b[0m\u001b[0mcalculateZ\u001b[0m\u001b[0;34m(\u001b[0m\u001b[0mx\u001b[0m\u001b[0;34m)\u001b[0m\u001b[0;34m,\u001b[0m \u001b[0mbounds\u001b[0m \u001b[0;34m=\u001b[0m \u001b[0;34m(\u001b[0m\u001b[0;36m0\u001b[0m\u001b[0;34m,\u001b[0m\u001b[0;36m1\u001b[0m\u001b[0;34m)\u001b[0m\u001b[0;34m,\u001b[0m \u001b[0mmethod\u001b[0m \u001b[0;34m=\u001b[0m \u001b[0;34m'Bounded'\u001b[0m\u001b[0;34m)\u001b[0m\u001b[0;34m\u001b[0m\u001b[0;34m\u001b[0m\u001b[0m\n\u001b[0m\u001b[1;32m     88\u001b[0m         \u001b[0;32mreturn\u001b[0m \u001b[0mtheta\u001b[0m\u001b[0;34m.\u001b[0m\u001b[0mx\u001b[0m\u001b[0;34m\u001b[0m\u001b[0;34m\u001b[0m\u001b[0m\n\u001b[1;32m     89\u001b[0m \u001b[0;34m\u001b[0m\u001b[0m\n",
            "\u001b[0;32m<ipython-input-3-d7c338b7499c>\u001b[0m in \u001b[0;36mcalculateZ\u001b[0;34m(self, theta)\u001b[0m\n\u001b[1;32m     81\u001b[0m                 \u001b[0mz\u001b[0m \u001b[0;34m+=\u001b[0m \u001b[0mintegrate\u001b[0m\u001b[0;34m.\u001b[0m\u001b[0mquad\u001b[0m\u001b[0;34m(\u001b[0m\u001b[0;32mlambda\u001b[0m \u001b[0mx\u001b[0m\u001b[0;34m:\u001b[0m \u001b[0mself\u001b[0m\u001b[0;34m.\u001b[0m\u001b[0mBPR\u001b[0m\u001b[0;34m(\u001b[0m\u001b[0mt0\u001b[0m\u001b[0;34m,\u001b[0m \u001b[0mx\u001b[0m\u001b[0;34m,\u001b[0m \u001b[0mca\u001b[0m\u001b[0;34m,\u001b[0m \u001b[0malpha\u001b[0m\u001b[0;34m,\u001b[0m \u001b[0mbeta\u001b[0m\u001b[0;34m)\u001b[0m\u001b[0;34m,\u001b[0m \u001b[0;36m0\u001b[0m\u001b[0;34m,\u001b[0m \u001b[0mflow\u001b[0m\u001b[0;34m+\u001b[0m\u001b[0mtheta\u001b[0m\u001b[0;34m*\u001b[0m\u001b[0;34m(\u001b[0m\u001b[0maux\u001b[0m\u001b[0;34m-\u001b[0m\u001b[0mflow\u001b[0m\u001b[0;34m)\u001b[0m\u001b[0;34m)\u001b[0m\u001b[0;34m[\u001b[0m\u001b[0;36m0\u001b[0m\u001b[0;34m]\u001b[0m\u001b[0;34m\u001b[0m\u001b[0;34m\u001b[0m\u001b[0m\n\u001b[1;32m     82\u001b[0m             \u001b[0;32melif\u001b[0m \u001b[0mSO\u001b[0m \u001b[0;34m==\u001b[0m \u001b[0;32mTrue\u001b[0m\u001b[0;34m:\u001b[0m\u001b[0;34m\u001b[0m\u001b[0;34m\u001b[0m\u001b[0m\n\u001b[0;32m---> 83\u001b[0;31m                 \u001b[0mz\u001b[0m \u001b[0;34m+=\u001b[0m \u001b[0mlist\u001b[0m\u001b[0;34m(\u001b[0m\u001b[0mmap\u001b[0m\u001b[0;34m(\u001b[0m\u001b[0;32mlambda\u001b[0m \u001b[0mx\u001b[0m \u001b[0;34m:\u001b[0m \u001b[0mx\u001b[0m \u001b[0;34m*\u001b[0m \u001b[0mself\u001b[0m\u001b[0;34m.\u001b[0m\u001b[0mBPR\u001b[0m\u001b[0;34m(\u001b[0m\u001b[0mt0\u001b[0m\u001b[0;34m,\u001b[0m \u001b[0mx\u001b[0m\u001b[0;34m,\u001b[0m \u001b[0mca\u001b[0m\u001b[0;34m,\u001b[0m \u001b[0malpha\u001b[0m\u001b[0;34m,\u001b[0m \u001b[0mbeta\u001b[0m\u001b[0;34m)\u001b[0m\u001b[0;34m,\u001b[0m \u001b[0;34m[\u001b[0m\u001b[0mflow\u001b[0m\u001b[0;34m+\u001b[0m\u001b[0mtheta\u001b[0m\u001b[0;34m*\u001b[0m\u001b[0;34m(\u001b[0m\u001b[0maux\u001b[0m\u001b[0;34m-\u001b[0m\u001b[0mflow\u001b[0m\u001b[0;34m)\u001b[0m\u001b[0;34m]\u001b[0m\u001b[0;34m)\u001b[0m\u001b[0;34m)\u001b[0m\u001b[0;34m[\u001b[0m\u001b[0;36m0\u001b[0m\u001b[0;34m]\u001b[0m\u001b[0;34m\u001b[0m\u001b[0;34m\u001b[0m\u001b[0m\n\u001b[0m\u001b[1;32m     84\u001b[0m         \u001b[0;32mreturn\u001b[0m \u001b[0mz\u001b[0m\u001b[0;34m\u001b[0m\u001b[0;34m\u001b[0m\u001b[0m\n\u001b[1;32m     85\u001b[0m \u001b[0;34m\u001b[0m\u001b[0m\n",
            "\u001b[0;31mKeyboardInterrupt\u001b[0m: "
          ]
        }
      ]
    },
    {
      "cell_type": "code",
      "metadata": {
        "id": "3mn8grValAGc",
        "colab_type": "code",
        "colab": {}
      },
      "source": [
        "SO = False\n",
        "fw = Run(link_file, trip_file, node_file, SO)\n",
        "ue_mod = fw.showODPath()"
      ],
      "execution_count": 0,
      "outputs": []
    },
    {
      "cell_type": "markdown",
      "metadata": {
        "id": "50TfRCoBlAGm",
        "colab_type": "text"
      },
      "source": [
        "## High-peak"
      ]
    },
    {
      "cell_type": "code",
      "metadata": {
        "id": "nRBTjYE8lAGo",
        "colab_type": "code",
        "colab": {}
      },
      "source": [
        "link_file = 'Singapore_net_high.tntp'"
      ],
      "execution_count": 0,
      "outputs": []
    },
    {
      "cell_type": "code",
      "metadata": {
        "id": "_63Sj89DlAGz",
        "colab_type": "code",
        "colab": {}
      },
      "source": [
        "SO = True\n",
        "fw = Run(link_file, trip_file, node_file, SO)\n",
        "se_high = fw.showODPath()"
      ],
      "execution_count": 0,
      "outputs": []
    },
    {
      "cell_type": "code",
      "metadata": {
        "id": "jBtuGYl5lAG-",
        "colab_type": "code",
        "colab": {}
      },
      "source": [
        "SO = False\n",
        "fw = Run(link_file, trip_file, node_file, SO)\n",
        "ue_high = fw.showODPath()"
      ],
      "execution_count": 0,
      "outputs": []
    },
    {
      "cell_type": "markdown",
      "metadata": {
        "id": "7GHBWQ_zngko",
        "colab_type": "text"
      },
      "source": [
        "## Plot!"
      ]
    },
    {
      "cell_type": "code",
      "metadata": {
        "id": "A8yXBXvBlAHG",
        "colab_type": "code",
        "colab": {}
      },
      "source": [
        "system = [se_off, se_mod, se_high] \n",
        "user = [ue_off, ue_mod, ue_high] \n",
        "\n",
        "labels = [\"Off-Peak(12:00 A.M.)\", \"Moderately-Peak(3:00 P.M.)\", \"High-Peak(6:00 P.M.)\"]\n",
        "x = np.arange(len(labels))  # the label locations\n",
        "width = 0.2  # the width of the bars\n",
        "\n",
        "def autolabel(rects, ax, xpos='center'):\n",
        "    for rect in rects:\n",
        "        height = rect.get_height()\n",
        "        ax.annotate('{}'.format(math.ceil(height)),\n",
        "                    xy=(rect.get_x() + rect.get_width() / 2, height),\n",
        "                    xytext=(0, 3),  # use 3 points offset\n",
        "                    textcoords=\"offset points\",  # in both directions\n",
        "                    ha='center', va='bottom')\n",
        "\n",
        "fig1, ax1 = plt.subplots(figsize=(10,6))\n",
        "rects2 = ax1.bar(x - width/2, system, width, label='System Equilibrium')\n",
        "rects1 = ax1.bar(x + width/2, user, width, label='User Equilibrium')\n",
        "\n",
        "# Add some text for labels, title and custom x-axis tick labels, etc.\n",
        "ax1.set_ylabel('Total network cost (in seconds)')\n",
        "ax1.set_xlabel('Customer demand size (1000 trips)')\n",
        "ax1.set_title('Total network cost in System Equilibrium VS User Equilibrium')\n",
        "ax1.set_xticks(x)\n",
        "ax1.set_xticklabels(labels)\n",
        "ax1.legend()\n",
        "\n",
        "autolabel(rects1, ax1)\n",
        "autolabel(rects2, ax1)\n",
        "fig1.tight_layout()"
      ],
      "execution_count": 0,
      "outputs": []
    },
    {
      "cell_type": "code",
      "metadata": {
        "id": "IhdMpRW0lAHi",
        "colab_type": "code",
        "colab": {}
      },
      "source": [
        ""
      ],
      "execution_count": 0,
      "outputs": []
    }
  ]
}