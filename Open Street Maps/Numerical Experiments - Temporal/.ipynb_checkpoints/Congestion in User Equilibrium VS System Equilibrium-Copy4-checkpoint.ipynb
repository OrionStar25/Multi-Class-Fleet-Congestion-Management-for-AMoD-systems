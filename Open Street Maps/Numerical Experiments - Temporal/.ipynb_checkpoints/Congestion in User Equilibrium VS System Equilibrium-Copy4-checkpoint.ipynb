{
 "cells": [
  {
   "cell_type": "code",
   "execution_count": 1,
   "metadata": {
    "colab": {},
    "colab_type": "code",
    "id": "jMd8Gkl3lAEu"
   },
   "outputs": [],
   "source": [
    "import networkx as nx\n",
    "import scipy.integrate as integrate \n",
    "from scipy.optimize import minimize_scalar\n",
    "import matplotlib.pyplot as plt\n",
    "import math\n",
    "import time\n",
    "import pickle\n",
    "\n",
    "import TransportationNetworks as tn\n",
    "from heapq import heappush, heappop\n",
    "from itertools import count"
   ]
  },
  {
   "cell_type": "code",
   "execution_count": 2,
   "metadata": {
    "colab": {},
    "colab_type": "code",
    "id": "_XGOQ0azI8hy"
   },
   "outputs": [],
   "source": [
    "class Run:\n",
    "    def __init__(self, link_file, trip_file, node_file, SO=True):\n",
    "        \n",
    "        nw = tn.Network(link_file, trip_file, node_file, SO)\n",
    "        self.od_vols = nw.od_vols\n",
    "\n",
    "        ## initialization\n",
    "        self.network = {(u,v): {'t0':d['object'].t0, 'alpha':d['object'].alpha, \\\n",
    "                   'beta':d['object'].beta, 'capa':d['object'].capacity, 'flow':[], \\\n",
    "                   'auxiliary':[], 'cost':[]} for (u, v, d) in nw.graph.edges(data=True)}\n",
    "        \n",
    "        self.fwResult = {'theta':[], 'z':[]}\n",
    "        \n",
    "        nw.all_or_nothing_assignment()\n",
    "        nw.update_linkcost()\n",
    "        \n",
    "        for linkKey, linkVal in self.network.items():\n",
    "            linkVal['cost'].append(nw.graph[linkKey[0]][linkKey[1]]['weight'])\n",
    "            linkVal['auxiliary'].append(nw.graph[linkKey[0]][linkKey[1]]['object'].vol)\n",
    "            linkVal['flow'].append(nw.graph[linkKey[0]][linkKey[1]]['object'].vol)\n",
    "            \n",
    "        ## iterations\n",
    "        iterNum=0\n",
    "        iteration = True\n",
    "        start = time.time()\n",
    "        PERIOD_OF_TIME = 900 # 15min\n",
    "\n",
    "        while iteration:\n",
    "            iterNum += 1\n",
    "            nw.all_or_nothing_assignment()\n",
    "            nw.update_linkcost()\n",
    "            \n",
    "            for linkKey, linkVal in self.network.items():\n",
    "                linkVal['auxiliary'].append(nw.graph[linkKey[0]][linkKey[1]]['object'].vol)\n",
    "                \n",
    "            theta = self.lineSearch()\n",
    "            self.fwResult['theta'].append(theta)\n",
    "            \n",
    "            for linkKey, linkVal in self.network.items():\n",
    "                aux = linkVal['auxiliary'][-1]\n",
    "                flow = linkVal['flow'][-1]\n",
    "                linkVal['flow'].append(flow + theta*(aux-flow))\n",
    "                \n",
    "                nw.graph[linkKey[0]][linkKey[1]]['object'].vol =  flow + theta * (aux - flow)\n",
    "                nw.graph[linkKey[0]][linkKey[1]]['object'].flow = flow + theta * (aux - flow)\n",
    "                \n",
    "            \n",
    "            nw.update_linkcost()\n",
    "            \n",
    "            z=0\n",
    "            for linkKey, linkVal in self.network.items():\n",
    "                linkVal['cost'].append(nw.graph[linkKey[0]][linkKey[1]]['weight'])\n",
    "                totalcost = nw.graph[linkKey[0]][linkKey[1]]['object'].get_objective_function()\n",
    "                z+=totalcost\n",
    "                \n",
    "            self.fwResult['z'].append(z)        \n",
    "            \n",
    "            if iterNum == 1:\n",
    "                iteration = True\n",
    "            else:\n",
    "                print(iterNum)\n",
    "                if abs(self.fwResult['z'][-2] - self.fwResult['z'][-1]) <= 0.001 or \\\n",
    "                   iterNum==1000 or \\\n",
    "                   time.time() > start + PERIOD_OF_TIME:\n",
    "                    iteration = False\n",
    "                \n",
    "        print(iterNum, self.fwResult['z'][-1])\n",
    "        self.graph = nw.graph\n",
    "                    \n",
    "    def BPR(self, t0, xa, ca, alpha, beta):\n",
    "        ta = t0 * (1 + alpha * pow((xa/ca), beta))\n",
    "        return ta\n",
    "    \n",
    "    def calculateZ(self, theta):\n",
    "        z = 0\n",
    "        for linkKey, linkVal in self.network.items():\n",
    "            t0 = linkVal['t0']\n",
    "            ca = linkVal['capa']\n",
    "            beta = linkVal['beta']\n",
    "            alpha = linkVal['alpha']\n",
    "            aux = linkVal['auxiliary'][-1]\n",
    "            flow = linkVal['flow'][-1]\n",
    "            \n",
    "            if SO == False:\n",
    "                z += integrate.quad(lambda x: self.BPR(t0, x, ca, alpha, beta), 0, flow+theta*(aux-flow))[0]\n",
    "            elif SO == True:\n",
    "                z += list(map(lambda x : x * self.BPR(t0, x, ca, alpha, beta), [flow+theta*(aux-flow)]))[0]\n",
    "        return z\n",
    "    \n",
    "    def lineSearch(self):\n",
    "        theta = minimize_scalar(lambda x: self.calculateZ(x), bounds = (0,1), method = 'Bounded')\n",
    "        return theta.x\n",
    "    \n",
    "    \n",
    "    def shortest_successive_path(self, source, target, SO):\n",
    "        if target == source:\n",
    "            return [target]\n",
    "\n",
    "        paths = {source: [source], target: []} # dictionary of paths\n",
    "        G_succ = self.graph._succ\n",
    "        push = heappush\n",
    "        pop = heappop        \n",
    "        dist = {}  # dictionary of final width\n",
    "        c = count() # use the count c to avoid comparing nodes\n",
    "        fringe = [] # fringe is min heapq with 3-tuples (distance,c,node)\n",
    "\n",
    "        for n in self.graph.nodes:\n",
    "            dist[n] = float('inf')\n",
    "        dist[source] = 0\n",
    "        \n",
    "        push(fringe, (dist[source], next(c), source))\n",
    "        while fringe:\n",
    "            (w, _, v) = pop(fringe)\n",
    "            if v == target:\n",
    "                break\n",
    "\n",
    "            for u, e in G_succ[v].items():\n",
    "                # Check for only those edges who have enough capacity left\n",
    "                if e['capacity'] > 0:\n",
    "                    if SO == True:\n",
    "                        dist_vu = e['weight']\n",
    "                    else:\n",
    "                        dist_vu = e['object'].length\n",
    "                    alt = dist[v] + dist_vu\n",
    "\n",
    "                    if alt < dist[u]:\n",
    "                        dist[u] = alt\n",
    "                        push(fringe, (dist[u], next(c), u))\n",
    "                        paths[u] = paths[v] + [u]\n",
    "\n",
    "        return paths[target]\n",
    "\n",
    "    \n",
    "    def showODPath(self, SO):\n",
    "        capacity = dict()\n",
    "        for (u, v, d) in self.graph.edges(data=True):\n",
    "            capacity[(u,v)] = math.ceil(d['object'].vol)\n",
    "\n",
    "        nx.set_edge_attributes(self.graph, capacity, name='capacity')\n",
    "\n",
    "        # Decomposing flow into a path for every request\n",
    "        infeasible = dict()\n",
    "        cost = 0\n",
    "        count = 0\n",
    "\n",
    "        for ((origin, dest), demand) in self.od_vols.items():\n",
    "            while demand > 0:\n",
    "                path = self.shortest_successive_path(origin, dest, SO)\n",
    "\n",
    "                if path == []: # Add to waiting queue\n",
    "                    infeasible[(origin, dest)] = demand\n",
    "                    break\n",
    "                else:\n",
    "                    # Decrement capacity of chosen path by 1\n",
    "                    for i in range(len(path)-1):\n",
    "                        u = path[i]\n",
    "                        v = path[i+1]\n",
    "                        self.graph[u][v]['capacity'] -= 1\n",
    "                        cost += self.graph[u][v]['weight']\n",
    "                    demand = demand - 1\n",
    "\n",
    "        # Route infeasible paths in a user equilibrium way\n",
    "        if len(infeasible) > 0:\n",
    "            new_capacity = dict()\n",
    "\n",
    "            for (u, v, d) in self.graph.edges(data=True):\n",
    "                new_capacity[(u,v)] = d['object'].capacity -\\\n",
    "                                      math.ceil(d['object'].vol) +\\\n",
    "                                      d['capacity']\n",
    "\n",
    "            nx.set_edge_attributes(self.graph, new_capacity, name='capacity')\n",
    "            \n",
    "            for (origin, dest), demand in infeasible.items():\n",
    "                while demand > 0:\n",
    "                    path = self.shortest_successive_path(origin, dest, SO)\n",
    "\n",
    "                    if path == []: # Add to waiting queue\n",
    "                        count += demand\n",
    "                        break\n",
    "                    else:\n",
    "                        # Decrement capacity of chosen path by 1\n",
    "                        for i in range(len(path)-1):\n",
    "                            u = path[i]\n",
    "                            v = path[i+1]\n",
    "                            self.graph[u][v]['capacity'] -= 1\n",
    "                            cost += self.graph[u][v]['weight']\n",
    "                        demand = demand - 1   \n",
    "\n",
    "        print(\"No. of infeasible trips:\", count)\n",
    "        print(\"Cost:\", cost)\n",
    "        return (count, cost)"
   ]
  },
  {
   "cell_type": "code",
   "execution_count": 3,
   "metadata": {
    "colab": {},
    "colab_type": "code",
    "id": "64jUo9Y-lAFS"
   },
   "outputs": [],
   "source": [
    "node_file = '../data/TNTP/Singapore_node.tntp'"
   ]
  },
  {
   "cell_type": "markdown",
   "metadata": {
    "colab_type": "text",
    "id": "ZnLVLn49lAFf"
   },
   "source": [
    "## Off-peak"
   ]
  },
  {
   "cell_type": "code",
   "execution_count": 4,
   "metadata": {
    "colab": {},
    "colab_type": "code",
    "id": "WndyPK5LlAFj"
   },
   "outputs": [],
   "source": [
    "link_file = '../data/TNTP/Singapore_net_off.tntp'\n",
    "with open ('data/ped_off_4.pkl', 'rb') as fp:\n",
    "    ped_off = pickle.load(fp)"
   ]
  },
  {
   "cell_type": "code",
   "execution_count": 5,
   "metadata": {},
   "outputs": [
    {
     "name": "stdout",
     "output_type": "stream",
     "text": [
      "2\n",
      "3\n",
      "4\n",
      "5\n",
      "6\n",
      "7\n",
      "8\n",
      "9\n",
      "10\n",
      "11\n",
      "12\n",
      "13\n",
      "14\n",
      "15\n",
      "16\n",
      "17\n",
      "18\n",
      "19\n",
      "20\n",
      "21\n",
      "22\n",
      "23\n",
      "24\n",
      "25\n",
      "26\n",
      "27\n",
      "28\n",
      "29\n",
      "30\n",
      "31\n",
      "32\n",
      "33\n",
      "34\n",
      "35\n",
      "36\n",
      "37\n",
      "38\n",
      "39\n",
      "40\n",
      "41\n",
      "42\n",
      "43\n",
      "44\n",
      "45\n",
      "46\n",
      "47\n",
      "48\n",
      "49\n",
      "50\n",
      "51\n",
      "52\n",
      "53\n",
      "54\n",
      "55\n",
      "56\n",
      "57\n",
      "58\n",
      "59\n",
      "60\n",
      "61\n",
      "62\n",
      "63\n",
      "64\n",
      "64 16524829.873751732\n",
      "No. of infeasible trips: 3.0\n",
      "Cost: 65770930.0904344\n"
     ]
    }
   ],
   "source": [
    "# System Equilibrium = Multi-Class + System optimal flows + Congestion-aware routes\n",
    "SO = True\n",
    "trip_file = 'data/Singapore_trips_500_off_4.tntp'\n",
    "fw = Run(link_file, trip_file, node_file, SO)\n",
    "\n",
    "(s_count_off, s_cost_off) = fw.showODPath(SO)\n",
    "s_cost_off += sum(ped_off)*5 - s_count_off*sum(ped_off)/100"
   ]
  },
  {
   "cell_type": "code",
   "execution_count": 6,
   "metadata": {
    "colab": {
     "base_uri": "https://localhost:8080/",
     "height": 1000
    },
    "colab_type": "code",
    "id": "8tgmf1QglAF8",
    "outputId": "9bdeded1-9488-4986-df8e-6b3c887bf458"
   },
   "outputs": [
    {
     "name": "stdout",
     "output_type": "stream",
     "text": [
      "2\n",
      "3\n",
      "4\n",
      "5\n",
      "6\n",
      "7\n",
      "8\n",
      "9\n",
      "10\n",
      "11\n",
      "12\n",
      "13\n",
      "14\n",
      "15\n",
      "16\n",
      "17\n",
      "18\n",
      "19\n",
      "20\n",
      "21\n",
      "22\n",
      "23\n",
      "24\n",
      "25\n",
      "26\n",
      "27\n",
      "28\n",
      "29\n",
      "30\n",
      "31\n",
      "32\n",
      "33\n",
      "34\n",
      "34 16817538.507704403\n",
      "No. of infeasible trips: 22.0\n",
      "Cost: 65108794.34227797\n"
     ]
    }
   ],
   "source": [
    "# User Equilibrium = Single-Class + User optimal flows + Shortest-path routes\n",
    "SO = False\n",
    "trip_file = 'data/Singapore_trips_500_4.tntp'\n",
    "fw = Run(link_file, trip_file, node_file, SO)\n",
    "(u_count_off, u_cost_off) = fw.showODPath(SO)"
   ]
  },
  {
   "cell_type": "markdown",
   "metadata": {
    "colab_type": "text",
    "id": "ZdfVgkw4lAGF"
   },
   "source": [
    "## Mod-peak"
   ]
  },
  {
   "cell_type": "code",
   "execution_count": 7,
   "metadata": {
    "colab": {},
    "colab_type": "code",
    "id": "BqOEH2i3lAGH"
   },
   "outputs": [],
   "source": [
    "link_file = '../data/TNTP/Singapore_net_mod.tntp'\n",
    "with open ('data/ped_mod_4.pkl', 'rb') as fp:\n",
    "    ped_mod = pickle.load(fp)"
   ]
  },
  {
   "cell_type": "code",
   "execution_count": 8,
   "metadata": {},
   "outputs": [
    {
     "name": "stdout",
     "output_type": "stream",
     "text": [
      "2\n",
      "3\n",
      "4\n",
      "5\n",
      "6\n",
      "7\n",
      "8\n",
      "9\n",
      "10\n",
      "11\n",
      "12\n",
      "13\n",
      "14\n",
      "15\n",
      "16\n",
      "17\n",
      "18\n",
      "19\n",
      "20\n",
      "21\n",
      "22\n",
      "23\n",
      "24\n",
      "25\n",
      "26\n",
      "27\n",
      "28\n",
      "29\n",
      "30\n",
      "31\n",
      "32\n",
      "33\n",
      "34\n",
      "35\n",
      "36\n",
      "37\n",
      "38\n",
      "39\n",
      "40\n",
      "41\n",
      "42\n",
      "43\n",
      "44\n",
      "45\n",
      "46\n",
      "47\n",
      "48\n",
      "49\n",
      "50\n",
      "51\n",
      "52\n",
      "53\n",
      "54\n",
      "55\n",
      "56\n",
      "57\n",
      "58\n",
      "59\n",
      "60\n",
      "61\n",
      "62\n",
      "62 18603939.127542563\n",
      "No. of infeasible trips: 8.0\n",
      "Cost: 74395835.21622011\n"
     ]
    }
   ],
   "source": [
    "# System Equilibrium\n",
    "SO = True\n",
    "trip_file = 'data/Singapore_trips_500_mod_4.tntp'\n",
    "fw = Run(link_file, trip_file, node_file, SO)\n",
    "\n",
    "(s_count_mod, s_cost_mod) = fw.showODPath(SO)\n",
    "s_cost_mod += sum(ped_mod)*5 - s_count_mod*sum(ped_mod)/100"
   ]
  },
  {
   "cell_type": "code",
   "execution_count": 9,
   "metadata": {
    "colab": {
     "base_uri": "https://localhost:8080/",
     "height": 1000
    },
    "colab_type": "code",
    "id": "3mn8grValAGc",
    "outputId": "1fad11f3-c66f-45c7-c6e3-b581bd4e047b",
    "scrolled": true
   },
   "outputs": [
    {
     "name": "stdout",
     "output_type": "stream",
     "text": [
      "2\n",
      "3\n",
      "4\n",
      "5\n",
      "6\n",
      "7\n",
      "8\n",
      "9\n",
      "10\n",
      "11\n",
      "12\n",
      "13\n",
      "14\n",
      "15\n",
      "16\n",
      "17\n",
      "18\n",
      "19\n",
      "20\n",
      "21\n",
      "22\n",
      "23\n",
      "24\n",
      "25\n",
      "26\n",
      "27\n",
      "28\n",
      "29\n",
      "30\n",
      "31\n",
      "32\n",
      "33\n",
      "33 18953706.27548309\n",
      "No. of infeasible trips: 16.0\n",
      "Cost: 75688137.53354909\n"
     ]
    }
   ],
   "source": [
    "# User Equilibrium\n",
    "SO = False\n",
    "trip_file = 'data/Singapore_trips_500_4.tntp'\n",
    "fw = Run(link_file, trip_file, node_file, SO)\n",
    "(u_count_mod, u_cost_mod) = fw.showODPath(SO)"
   ]
  },
  {
   "cell_type": "markdown",
   "metadata": {
    "colab_type": "text",
    "id": "50TfRCoBlAGm"
   },
   "source": [
    "## High-peak"
   ]
  },
  {
   "cell_type": "code",
   "execution_count": 10,
   "metadata": {
    "colab": {},
    "colab_type": "code",
    "id": "nRBTjYE8lAGo"
   },
   "outputs": [],
   "source": [
    "link_file = '../data/TNTP/Singapore_net_high.tntp'\n",
    "with open ('data/ped_high_4.pkl', 'rb') as fp:\n",
    "    ped_high = pickle.load(fp)"
   ]
  },
  {
   "cell_type": "code",
   "execution_count": 11,
   "metadata": {
    "colab": {
     "base_uri": "https://localhost:8080/",
     "height": 1000
    },
    "colab_type": "code",
    "id": "_63Sj89DlAGz",
    "outputId": "8949c90f-1bb2-4c83-edcc-d17f51f1e0dc"
   },
   "outputs": [
    {
     "name": "stdout",
     "output_type": "stream",
     "text": [
      "2\n",
      "3\n",
      "4\n",
      "5\n",
      "6\n",
      "7\n",
      "8\n",
      "9\n",
      "10\n",
      "11\n",
      "12\n",
      "13\n",
      "14\n",
      "15\n",
      "16\n",
      "17\n",
      "18\n",
      "19\n",
      "20\n",
      "21\n",
      "22\n",
      "23\n",
      "24\n",
      "25\n",
      "26\n",
      "27\n",
      "28\n",
      "29\n",
      "30\n",
      "31\n",
      "32\n",
      "33\n",
      "34\n",
      "35\n",
      "36\n",
      "37\n",
      "38\n",
      "39\n",
      "40\n",
      "41\n",
      "42\n",
      "43\n",
      "44\n",
      "45\n",
      "46\n",
      "47\n",
      "48\n",
      "49\n",
      "50\n",
      "51\n",
      "52\n",
      "53\n",
      "54\n",
      "55\n",
      "56\n",
      "57\n",
      "58\n",
      "59\n",
      "60\n",
      "60 8982069.718011096\n",
      "No. of infeasible trips: 5.0\n",
      "Cost: 27289922.012051504\n"
     ]
    }
   ],
   "source": [
    "# System Equilibrium\n",
    "SO = True\n",
    "trip_file = 'data/Singapore_trips_500_high_4.tntp'\n",
    "fw = Run(link_file, trip_file, node_file, SO)\n",
    "\n",
    "(s_count_high, s_cost_high) = fw.showODPath(SO)\n",
    "s_cost_high += sum(ped_high)*5 - s_count_high*sum(ped_high)/100"
   ]
  },
  {
   "cell_type": "code",
   "execution_count": 12,
   "metadata": {
    "colab": {
     "base_uri": "https://localhost:8080/",
     "height": 1000
    },
    "colab_type": "code",
    "id": "jBtuGYl5lAG-",
    "outputId": "bed4f05e-29fb-4ae8-fd6c-f95ab7050d15"
   },
   "outputs": [
    {
     "name": "stdout",
     "output_type": "stream",
     "text": [
      "2\n",
      "3\n",
      "4\n",
      "5\n",
      "6\n",
      "7\n",
      "8\n",
      "9\n",
      "10\n",
      "11\n",
      "12\n",
      "13\n",
      "14\n",
      "15\n",
      "16\n",
      "17\n",
      "18\n",
      "19\n",
      "20\n",
      "21\n",
      "22\n",
      "23\n",
      "24\n",
      "25\n",
      "26\n",
      "27\n",
      "28\n",
      "29\n",
      "30\n",
      "31\n",
      "31 9192363.224271258\n",
      "No. of infeasible trips: 17.0\n",
      "Cost: 27823578.633330107\n"
     ]
    }
   ],
   "source": [
    "# User Equilibrium\n",
    "SO = False\n",
    "trip_file = 'data/Singapore_trips_500_4.tntp'\n",
    "fw = Run(link_file, trip_file, node_file, SO)\n",
    "(u_count_high, u_cost_high) = fw.showODPath(SO)"
   ]
  },
  {
   "cell_type": "markdown",
   "metadata": {
    "colab_type": "text",
    "id": "7GHBWQ_zngko"
   },
   "source": [
    "## Plot!"
   ]
  },
  {
   "cell_type": "code",
   "execution_count": 13,
   "metadata": {
    "colab": {
     "base_uri": "https://localhost:8080/",
     "height": 441
    },
    "colab_type": "code",
    "id": "A8yXBXvBlAHG",
    "outputId": "00448eeb-eab4-456c-e5ac-5a3a4c299961"
   },
   "outputs": [],
   "source": [
    "import numpy as np\n",
    "\n",
    "s_waiting_queue = [s_count_off, s_count_mod, s_count_high] \n",
    "u_waiting_queue = [u_count_off, u_count_mod, u_count_high]\n",
    "\n",
    "# s_tt_cost = [s_cost_off, s_cost_mod, s_cost_high]\n",
    "# u_tt_cost = [u_cost_off, u_cost_mod, u_cost_high]\n",
    "\n",
    "s_tt_cost = [s_cost_off/((500-s_count_off)), s_cost_mod/((500-s_count_mod)), s_cost_high/((500-s_count_high))]\n",
    "u_tt_cost = [u_cost_off/((500-u_count_off)), u_cost_mod/((500-u_count_mod)), u_cost_high/((500-u_count_high))]\n",
    "\n",
    "labels = [\"Off-Peak(12:00 A.M.)\", \"Moderately-Peak(3:00 P.M.)\", \"High-Peak(6:00 P.M.)\"]\n",
    "x = np.arange(len(labels))  # the label locations\n",
    "width = 0.2  # the width of the bars\n",
    "\n",
    "def autolabel(rects, ax, xpos='center'):\n",
    "    for rect in rects:\n",
    "        height = rect.get_height()\n",
    "        ax.annotate('{}'.format(math.ceil(height)),\n",
    "                    xy=(rect.get_x() + rect.get_width() / 2, height),\n",
    "                    xytext=(0, 3),  # use 3 points offset\n",
    "                    textcoords=\"offset points\",  # in both directions\n",
    "                    ha='center', va='bottom')"
   ]
  },
  {
   "cell_type": "code",
   "execution_count": 14,
   "metadata": {
    "colab": {},
    "colab_type": "code",
    "id": "IhdMpRW0lAHi"
   },
   "outputs": [
    {
     "data": {
      "image/png": "[encoded data removed]",
      "text/plain": [
       "<Figure size 720x432 with 1 Axes>"
      ]
     },
     "metadata": {
      "needs_background": "light"
     },
     "output_type": "display_data"
    }
   ],
   "source": [
    "fig1, ax1 = plt.subplots(figsize=(10,6))\n",
    "rects1 = ax1.bar(x - width/2, s_waiting_queue, width, label='FIFO decomposition of system flows')\n",
    "rects2 = ax1.bar(x + width/2, u_waiting_queue, width, label='FIFO decomposition of user flows')\n",
    "\n",
    "# Add some text for labels, title and custom x-axis tick labels, etc.\n",
    "ax1.set_ylabel('Waiting Queue Size (No. of infeasible trips)')\n",
    "ax1.set_xlabel('Customer demand size (500 trips)')\n",
    "ax1.set_title('Waiting Queue Size: Multi-Class System Equilibrium VS Single-Class User Equilibrium')\n",
    "ax1.set_xticks(x)\n",
    "ax1.set_xticklabels(labels)\n",
    "ax1.legend()\n",
    "\n",
    "autolabel(rects1, ax1)\n",
    "autolabel(rects2, ax1)\n",
    "fig1.tight_layout()"
   ]
  },
  {
   "cell_type": "code",
   "execution_count": 15,
   "metadata": {},
   "outputs": [
    {
     "data": {
      "image/png": "[encoded data removed]",
      "text/plain": [
       "<Figure size 720x432 with 1 Axes>"
      ]
     },
     "metadata": {
      "needs_background": "light"
     },
     "output_type": "display_data"
    }
   ],
   "source": [
    "fig2, ax2 = plt.subplots(figsize=(10,6))\n",
    "rects3 = ax2.bar(x - width/2, s_tt_cost, width, label='System Equilibrium')\n",
    "rects4 = ax2.bar(x + width/2, u_tt_cost, width, label='User Equilibrium')\n",
    "\n",
    "# Add some text for labels, title and custom x-axis tick labels, etc.\n",
    "ax2.set_ylabel('Cost of System (Total travel-time)')\n",
    "ax2.set_xlabel('Customer demand size (500 trips)')\n",
    "ax2.set_title('System Cost: System Equilibrium VS User Equilibrium')\n",
    "ax2.set_xticks(x)\n",
    "ax2.set_xticklabels(labels)\n",
    "ax2.legend(loc='center')\n",
    "\n",
    "autolabel(rects3, ax2)\n",
    "autolabel(rects4, ax2)\n",
    "fig2.tight_layout()"
   ]
  },
  {
   "cell_type": "code",
   "execution_count": null,
   "metadata": {},
   "outputs": [],
   "source": [
    "s = [(6308+16746+35918+28454)/4, (7648+18380+37289+33328)/4, (5708+18558+37545+34535)/4]\n",
    "u = [(10552+14743+33130+26357)/4, (11144+16202+34747+30949)/4, (11723+16648+35648+32102)/4]\n",
    "\n",
    "fig3, ax3 = plt.subplots(figsize=(10,6))\n",
    "rects5 = ax3.bar(x - width/2, s, width, label='System Equilibrium')\n",
    "rects6 = ax3.bar(x + width/2, u, width, label='User Equilibrium')\n",
    "\n",
    "# Add some text for labels, title and custom x-axis tick labels, etc.\n",
    "ax3.set_ylabel('Average Cost of System (Total travel-time)')\n",
    "ax3.set_xlabel('Customer demand size (500 trips)')\n",
    "ax3.set_title('System Cost: System Equilibrium VS User Equilibrium')\n",
    "ax3.set_xticks(x)\n",
    "ax3.set_xticklabels(labels)\n",
    "ax3.legend(loc='center')\n",
    "\n",
    "autolabel(rects5, ax3)\n",
    "autolabel(rects6, ax3)\n",
    "fig3.tight_layout()"
   ]
  },
  {
   "cell_type": "code",
   "execution_count": null,
   "metadata": {},
   "outputs": [],
   "source": [
    "(24087-24031)/60"
   ]
  },
  {
   "cell_type": "code",
   "execution_count": null,
   "metadata": {},
   "outputs": [],
   "source": []
  }
 ],
 "metadata": {
  "accelerator": "GPU",
  "colab": {
   "collapsed_sections": [],
   "name": "User-Equilibrium cost VS System-Equilibrium cost.ipynb",
   "provenance": []
  },
  "kernelspec": {
   "display_name": "Python 3",
   "language": "python",
   "name": "python3"
  },
  "language_info": {
   "codemirror_mode": {
    "name": "ipython",
    "version": 3
   },
   "file_extension": ".py",
   "mimetype": "text/x-python",
   "name": "python",
   "nbconvert_exporter": "python",
   "pygments_lexer": "ipython3",
   "version": "3.6.10"
  }
 },
 "nbformat": 4,
 "nbformat_minor": 1
}
