{
 "cells": [
  {
   "cell_type": "code",
   "execution_count": 1,
   "metadata": {
    "colab": {
     "base_uri": "https://localhost:8080/",
     "height": 1000
    },
    "colab_type": "code",
    "id": "Anm_vCtg02sJ",
    "outputId": "38f1e34f-b7dc-4f9a-ce0e-cff468bd07fb"
   },
   "outputs": [],
   "source": [
    "import osmnx as ox\n",
    "import networkx as nx\n",
    "import pandas as pd\n",
    "import json\n",
    "import random\n",
    "import statistics\n",
    "\n",
    "from rtree import index\n",
    "from utils import *"
   ]
  },
  {
   "cell_type": "code",
   "execution_count": 2,
   "metadata": {
    "colab": {
     "base_uri": "https://localhost:8080/",
     "height": 34
    },
    "colab_type": "code",
    "id": "RShXcYwX02sk",
    "outputId": "51d462be-9f1f-4793-c0cc-20cca0047675"
   },
   "outputs": [
    {
     "data": {
      "text/plain": [
       "networkx.classes.multidigraph.MultiDiGraph"
      ]
     },
     "execution_count": 2,
     "metadata": {},
     "output_type": "execute_result"
    }
   ],
   "source": [
    "place_name = \"Singapore, Central, Singapore\"\n",
    "G = ox.save_load.load_graphml(filename=\"Singapore_drive_processed.graphml\")\n",
    "\n",
    "# Stores nodes and edges mapped with speed bands along with other attributes\n",
    "type(G)"
   ]
  },
  {
   "cell_type": "code",
   "execution_count": 3,
   "metadata": {
    "colab": {},
    "colab_type": "code",
    "id": "S1NMV7e402s9"
   },
   "outputs": [],
   "source": [
    "edges = ox.graph_to_gdfs(G, nodes=False, edges=True)\n",
    "nodes = pd.read_pickle('data/nodes_drive.pkl')"
   ]
  },
  {
   "cell_type": "code",
   "execution_count": 4,
   "metadata": {
    "colab": {
     "base_uri": "https://localhost:8080/",
     "height": 86
    },
    "colab_type": "code",
    "id": "yiJwQczp02ti",
    "outputId": "4062b69a-7e8e-431d-fb0e-9cd4d4d42fc1"
   },
   "outputs": [
    {
     "name": "stderr",
     "output_type": "stream",
     "text": [
      "/home/orionstar25/Semester-8-Major-Project/Open Street Maps/Phase 3 - Separate miles + sanity checks/utils.py:46: SettingWithCopyWarning: \n",
      "A value is trying to be set on a copy of a slice from a DataFrame\n",
      "\n",
      "See the caveats in the documentation: https://pandas.pydata.org/pandas-docs/stable/user_guide/indexing.html#returning-a-view-versus-a-copy\n",
      "  df['MaximumSpeed'][i] = '80'\n"
     ]
    }
   ],
   "source": [
    "f = open(\"../../Traffic speed bands/Fri Feb 14 09_06_16 2020.json\", \"r\").read()\n",
    "x = json.loads(f)\n",
    "\n",
    "speed_bands = pd.DataFrame.from_dict(x, orient='columns')\n",
    "process_speed_band(speed_bands)"
   ]
  },
  {
   "cell_type": "code",
   "execution_count": 5,
   "metadata": {
    "colab": {},
    "colab_type": "code",
    "id": "j4ucj9bU02uI"
   },
   "outputs": [],
   "source": [
    "calculate_congestion(G, edges, speed_bands)"
   ]
  },
  {
   "cell_type": "markdown",
   "metadata": {},
   "source": [
    "### Calculate Variance"
   ]
  },
  {
   "cell_type": "code",
   "execution_count": 6,
   "metadata": {},
   "outputs": [],
   "source": [
    "# key: node label ,value: location\n",
    "idx = index.Index()\n",
    "\n",
    "xx = nodes['x'].astype(float)\n",
    "yy = nodes['y'].astype(float)\n",
    "node_id = nodes['osmid']\n",
    "node_type = nodes['highway']\n",
    "\n",
    "# nan, 'crossing', 'turning_circle', 'traffic_signals',\n",
    "# 'motorway_junction', 'turning_loop', 'elevator', 'bus_stop',\n",
    "# 'mini_roundabout', 'stop', 'speed_camera'\n",
    "\n",
    "for node, x, y, kind in zip(node_id, xx, yy, node_type):\n",
    "    if kind != 'nan' and kind != 'stop' and kind != 'speed_camera':\n",
    "        idx.insert(int(node), (x,y,x,y))"
   ]
  },
  {
   "cell_type": "code",
   "execution_count": 7,
   "metadata": {},
   "outputs": [],
   "source": [
    "def find_nearest_nodes(source, dist, idx):\n",
    "    # Create a bounding box around source of min distance in all directions\n",
    "    (north, south, east, west) = ox.bbox_from_point(point=source, distance=dist)\n",
    "    \n",
    "    candidate_nodes = list(idx.intersection((west, south, east, north)))    \n",
    "    return candidate_nodes"
   ]
  },
  {
   "cell_type": "code",
   "execution_count": 10,
   "metadata": {},
   "outputs": [],
   "source": [
    "def get_length_dict(sources, destinations, method='euclidean'):\n",
    "    distances = dict()\n",
    "    radius = 6371 * 1000 #m\n",
    "    \n",
    "    if method == 'euclidean':\n",
    "        \n",
    "        for source in sources:\n",
    "            lat1 = nodes[nodes['osmid']==source]['y'].values[0]\n",
    "            lon1 = nodes[nodes['osmid']==source]['x'].values[0]\n",
    "        \n",
    "            for dest in destinations:\n",
    "                lat2 = nodes[nodes['osmid']==dest]['y'].values[0]\n",
    "                lon2 = nodes[nodes['osmid']==dest]['x'].values[0]\n",
    "\n",
    "                # euclidean distance in metres\n",
    "                dlat = math.radians(lat2-lat1)\n",
    "                dlon = math.radians(lon2-lon1)\n",
    "                a = math.sin(dlat/2) * math.sin(dlat/2) + math.cos(math.radians(lat1)) \\\n",
    "                    * math.cos(math.radians(lat2)) * math.sin(dlon/2) * math.sin(dlon/2)\n",
    "                c = 2 * math.atan2(math.sqrt(a), math.sqrt(1-a))\n",
    "                d = radius * c\n",
    "                print(d/5.28)\n",
    "                return None\n",
    "#                 distances[(source,dest)] = d/5.28\n",
    "                \n",
    "            \n",
    "    else:\n",
    "        for source in sources:        \n",
    "            for dest in destinations:\n",
    "                try:\n",
    "                    # dijsktra distance in sec\n",
    "                    d = nx.shortest_path_length(G, source, dest, weight='BPR', method='dijkstra')\n",
    "                except nx.NetworkXUnfeasible:\n",
    "                    d = float('inf')\n",
    "                \n",
    "                distances[(source,dest)] = d\n",
    "                \n",
    "    # sort the dictionary in ascending order using distances\n",
    "    x = sorted(distances.items(), key = lambda kv:(kv[1], kv[0]))\n",
    "    return x    "
   ]
  },
  {
   "cell_type": "code",
   "execution_count": 13,
   "metadata": {},
   "outputs": [
    {
     "name": "stdout",
     "output_type": "stream",
     "text": [
      "2302.8935360619193\n",
      "385.57856424889644\n",
      "4128.753016212273\n",
      "1398.548019913974\n",
      "277.99825791007635\n",
      "607.3501602826408\n",
      "2740.5338298522993\n",
      "3130.1987376538464\n",
      "2800.3194381369217\n",
      "982.1130828557515\n",
      "3941.757478571374\n",
      "2047.587054931843\n",
      "1818.2881883952512\n",
      "3545.477771560708\n",
      "2801.631215273605\n",
      "1705.8737822457858\n",
      "2777.5120648217503\n",
      "1996.2567818082746\n",
      "2649.436789808568\n",
      "3342.7255430866344\n"
     ]
    }
   ],
   "source": [
    "# get 20 random sources\n",
    "sources = []\n",
    "for i in range(20):\n",
    "    r = random.randint(0,23210)\n",
    "    s = nodes['osmid'].values[r]\n",
    "    sources.append(s)\n",
    "    \n",
    "# get 20 correspondig random targets\n",
    "targets = []\n",
    "for i in range(20):\n",
    "    r = random.randint(0,23210)\n",
    "    t = nodes['osmid'].values[r]\n",
    "    targets.append(t)\n",
    "\n",
    "deviations = []\n",
    "for s,t in zip(sources,targets):\n",
    "    orig_point = nodes[nodes['osmid'] == s].geometry.values[0]\n",
    "    target_point = nodes[nodes['osmid'] == t].geometry.values[0]\n",
    "    orig_xy = (orig_point.y, orig_point.x)\n",
    "    target_xy = (target_point.y, target_point.x)\n",
    "    \n",
    "    # Max distance for walking is 700m (10 min * 1.2 m/s)\n",
    "    # Find all nodes within 720 m from candidate sources and candidate destinations\n",
    "    candidate_dest = find_nearest_nodes(target_xy, 720, idx)\n",
    "    candidate_source = find_nearest_nodes(orig_xy, 720, idx)\n",
    "    \n",
    "#     real_lengths = get_length_dict(candidate_source, candidate_dest, method='dijkstra')\n",
    "    euclidean = get_length_dict(candidate_source, candidate_dest)\n",
    "    \n",
    "#     # value1:hybrid, value2: exhaustive\n",
    "#     value1 = hybrid_search_length(G, euclidean, real_lengths)\n",
    "#     value2 = real_lengths[0][1]\n",
    "    \n",
    "#     mean = (value1 + value2)/2\n",
    "#     variance = (value1**2 + value2**2)/2 - mean**2\n",
    "#     print(variance**0.5)\n",
    "#     deviations.append(variance**0.5)\n",
    "    \n",
    "# # take mean of deviations\n",
    "# print(statistics.mean(deviations))"
   ]
  }
 ],
 "metadata": {
  "accelerator": "GPU",
  "colab": {
   "collapsed_sections": [],
   "name": "Variance measures.ipynb",
   "provenance": []
  },
  "kernelspec": {
   "display_name": "Python 3",
   "language": "python",
   "name": "python3"
  },
  "language_info": {
   "codemirror_mode": {
    "name": "ipython",
    "version": 3
   },
   "file_extension": ".py",
   "mimetype": "text/x-python",
   "name": "python",
   "nbconvert_exporter": "python",
   "pygments_lexer": "ipython3",
   "version": "3.6.10"
  }
 },
 "nbformat": 4,
 "nbformat_minor": 1
}
