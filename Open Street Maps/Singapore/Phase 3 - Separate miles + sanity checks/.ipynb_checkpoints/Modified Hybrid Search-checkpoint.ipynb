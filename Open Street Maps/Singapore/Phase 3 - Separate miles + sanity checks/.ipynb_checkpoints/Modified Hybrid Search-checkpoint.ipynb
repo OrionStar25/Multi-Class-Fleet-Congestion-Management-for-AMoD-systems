{
 "cells": [
  {
   "cell_type": "code",
   "execution_count": 1,
   "metadata": {
    "colab": {
     "base_uri": "https://localhost:8080/",
     "height": 104
    },
    "colab_type": "code",
    "id": "OxqaXyrU2rMK",
    "outputId": "e0e8a2fc-f74d-42aa-d1f0-930655027f17"
   },
   "outputs": [
    {
     "name": "stdout",
     "output_type": "stream",
     "text": [
      "Drive already mounted at /content/drive/; to attempt to forcibly remount, call drive.mount(\"/content/drive/\", force_remount=True).\n",
      "/content/drive/My Drive/Sem 8 files\n",
      " data\t\t\t\t  __pycache__\n",
      " euclidean_distances.json\t  Shortest_path_lengths.pkl\n",
      "'Fri Feb 14 09_06_16 2020.json'   utils.py\n"
     ]
    }
   ],
   "source": [
    "from google.colab import drive\n",
    "drive.mount('/content/drive/')\n",
    "%cd drive/My \\Drive/Sem \\8 \\files/\n",
    "!ls"
   ]
  },
  {
   "cell_type": "code",
   "execution_count": 2,
   "metadata": {
    "colab": {
     "base_uri": "https://localhost:8080/",
     "height": 627
    },
    "colab_type": "code",
    "id": "Anm_vCtg02sJ",
    "outputId": "0c28fba4-cd5a-4117-c879-deb2fd650842"
   },
   "outputs": [
    {
     "name": "stdout",
     "output_type": "stream",
     "text": [
      "\r",
      "Reading package lists... 0%\r",
      "\r",
      "Reading package lists... 0%\r",
      "\r",
      "Reading package lists... 0%\r",
      "\r",
      "Reading package lists... 7%\r",
      "\r",
      "Reading package lists... 7%\r",
      "\r",
      "Reading package lists... 7%\r",
      "\r",
      "Reading package lists... 7%\r",
      "\r",
      "Reading package lists... 64%\r",
      "\r",
      "Reading package lists... 64%\r",
      "\r",
      "Reading package lists... 65%\r",
      "\r",
      "Reading package lists... 65%\r",
      "\r",
      "Reading package lists... 72%\r",
      "\r",
      "Reading package lists... 72%\r",
      "\r",
      "Reading package lists... 72%\r",
      "\r",
      "Reading package lists... 72%\r",
      "\r",
      "Reading package lists... 72%\r",
      "\r",
      "Reading package lists... 81%\r",
      "\r",
      "Reading package lists... 81%\r",
      "\r",
      "Reading package lists... 81%\r",
      "\r",
      "Reading package lists... 81%\r",
      "\r",
      "Reading package lists... 81%\r",
      "\r",
      "Reading package lists... 81%\r",
      "\r",
      "Reading package lists... 81%\r",
      "\r",
      "Reading package lists... 81%\r",
      "\r",
      "Reading package lists... 87%\r",
      "\r",
      "Reading package lists... 87%\r",
      "\r",
      "Reading package lists... 87%\r",
      "\r",
      "Reading package lists... 87%\r",
      "\r",
      "Reading package lists... 93%\r",
      "\r",
      "Reading package lists... 93%\r",
      "\r",
      "Reading package lists... 93%\r",
      "\r",
      "Reading package lists... 93%\r",
      "\r",
      "Reading package lists... 93%\r",
      "\r",
      "Reading package lists... 93%\r",
      "\r",
      "Reading package lists... 94%\r",
      "\r",
      "Reading package lists... 94%\r",
      "\r",
      "Reading package lists... 95%\r",
      "\r",
      "Reading package lists... 95%\r",
      "\r",
      "Reading package lists... 98%\r",
      "\r",
      "Reading package lists... 98%\r",
      "\r",
      "Reading package lists... 98%\r",
      "\r",
      "Reading package lists... 98%\r",
      "\r",
      "Reading package lists... Done\r\n",
      "\r",
      "Building dependency tree... 0%\r",
      "\r",
      "Building dependency tree... 0%\r",
      "\r",
      "Building dependency tree... 50%\r",
      "\r",
      "Building dependency tree... 50%\r",
      "\r",
      "Building dependency tree       \r\n",
      "\r",
      "Reading state information... 0%\r",
      "\r",
      "Reading state information... 0%\r",
      "\r",
      "Reading state information... Done\r\n",
      "libspatialindex-c4v5 is already the newest version (1.8.5-5).\n",
      "0 upgraded, 0 newly installed, 0 to remove and 25 not upgraded.\n",
      "Requirement already satisfied: osmnx in /usr/local/lib/python3.6/dist-packages (0.11.4)\n",
      "Requirement already satisfied: descartes>=1.1 in /usr/local/lib/python3.6/dist-packages (from osmnx) (1.1.0)\n",
      "Requirement already satisfied: numpy>=1.17 in /usr/local/lib/python3.6/dist-packages (from osmnx) (1.18.2)\n",
      "Requirement already satisfied: pyproj>=2.4 in /usr/local/lib/python3.6/dist-packages (from osmnx) (2.6.0)\n",
      "Requirement already satisfied: pandas>=1.0 in /usr/local/lib/python3.6/dist-packages (from osmnx) (1.0.3)\n",
      "Requirement already satisfied: requests>=2.22 in /usr/local/lib/python3.6/dist-packages (from osmnx) (2.23.0)\n",
      "Requirement already satisfied: networkx>=2.4 in /usr/local/lib/python3.6/dist-packages (from osmnx) (2.4)\n",
      "Requirement already satisfied: matplotlib>=3.1 in /usr/local/lib/python3.6/dist-packages (from osmnx) (3.2.1)\n",
      "Requirement already satisfied: Shapely>=1.7 in /usr/local/lib/python3.6/dist-packages (from osmnx) (1.7.0)\n",
      "Requirement already satisfied: geopandas>=0.6 in /usr/local/lib/python3.6/dist-packages (from osmnx) (0.7.0)\n",
      "Requirement already satisfied: Rtree>=0.9 in /usr/local/lib/python3.6/dist-packages (from osmnx) (0.9.4)\n",
      "Requirement already satisfied: pytz>=2017.2 in /usr/local/lib/python3.6/dist-packages (from pandas>=1.0->osmnx) (2018.9)\n",
      "Requirement already satisfied: python-dateutil>=2.6.1 in /usr/local/lib/python3.6/dist-packages (from pandas>=1.0->osmnx) (2.8.1)\n",
      "Requirement already satisfied: chardet<4,>=3.0.2 in /usr/local/lib/python3.6/dist-packages (from requests>=2.22->osmnx) (3.0.4)\n",
      "Requirement already satisfied: idna<3,>=2.5 in /usr/local/lib/python3.6/dist-packages (from requests>=2.22->osmnx) (2.8)\n",
      "Requirement already satisfied: certifi>=2017.4.17 in /usr/local/lib/python3.6/dist-packages (from requests>=2.22->osmnx) (2019.11.28)\n",
      "Requirement already satisfied: urllib3!=1.25.0,!=1.25.1,<1.26,>=1.21.1 in /usr/local/lib/python3.6/dist-packages (from requests>=2.22->osmnx) (1.24.3)\n",
      "Requirement already satisfied: decorator>=4.3.0 in /usr/local/lib/python3.6/dist-packages (from networkx>=2.4->osmnx) (4.4.2)\n",
      "Requirement already satisfied: cycler>=0.10 in /usr/local/lib/python3.6/dist-packages (from matplotlib>=3.1->osmnx) (0.10.0)\n",
      "Requirement already satisfied: pyparsing!=2.0.4,!=2.1.2,!=2.1.6,>=2.0.1 in /usr/local/lib/python3.6/dist-packages (from matplotlib>=3.1->osmnx) (2.4.6)\n",
      "Requirement already satisfied: kiwisolver>=1.0.1 in /usr/local/lib/python3.6/dist-packages (from matplotlib>=3.1->osmnx) (1.1.0)\n",
      "Requirement already satisfied: fiona in /usr/local/lib/python3.6/dist-packages (from geopandas>=0.6->osmnx) (1.8.13.post1)\n",
      "Requirement already satisfied: setuptools in /usr/local/lib/python3.6/dist-packages (from Rtree>=0.9->osmnx) (46.0.0)\n",
      "Requirement already satisfied: six>=1.5 in /usr/local/lib/python3.6/dist-packages (from python-dateutil>=2.6.1->pandas>=1.0->osmnx) (1.12.0)\n",
      "Requirement already satisfied: click<8,>=4.0 in /usr/local/lib/python3.6/dist-packages (from fiona->geopandas>=0.6->osmnx) (7.1.1)\n",
      "Requirement already satisfied: cligj>=0.5 in /usr/local/lib/python3.6/dist-packages (from fiona->geopandas>=0.6->osmnx) (0.5.0)\n",
      "Requirement already satisfied: munch in /usr/local/lib/python3.6/dist-packages (from fiona->geopandas>=0.6->osmnx) (2.5.0)\n",
      "Requirement already satisfied: click-plugins>=1.0 in /usr/local/lib/python3.6/dist-packages (from fiona->geopandas>=0.6->osmnx) (1.1.1)\n",
      "Requirement already satisfied: attrs>=17 in /usr/local/lib/python3.6/dist-packages (from fiona->geopandas>=0.6->osmnx) (19.3.0)\n"
     ]
    }
   ],
   "source": [
    "!apt-get install -y libspatialindex-c4v5\n",
    "!pip3.6 install osmnx\n",
    "\n",
    "import osmnx as ox\n",
    "import networkx as nx\n",
    "import pandas as pd\n",
    "import json\n",
    "\n",
    "from rtree import index\n",
    "from shapely.geometry import box\n",
    "from utils import *"
   ]
  },
  {
   "cell_type": "code",
   "execution_count": 3,
   "metadata": {
    "colab": {
     "base_uri": "https://localhost:8080/",
     "height": 52
    },
    "colab_type": "code",
    "id": "RShXcYwX02sk",
    "outputId": "58552f50-8d53-40f8-d879-ad656cef7a2f"
   },
   "outputs": [
    {
     "name": "stdout",
     "output_type": "stream",
     "text": [
      "<class 'networkx.classes.multidigraph.MultiDiGraph'>\n",
      "<class 'networkx.classes.multidigraph.MultiDiGraph'>\n"
     ]
    }
   ],
   "source": [
    "place_name = \"Singapore, Central, Singapore\"\n",
    "G = ox.save_load.load_graphml(filename=\"Singapore_drive_processed.graphml\")\n",
    "G_whole = ox.save_load.load_graphml(filename=\"Singapore_processed.graphml\")\n",
    "\n",
    "# Stores nodes and edges mapped with speed bands along with other attributes\n",
    "print(type(G))\n",
    "print(type(G_whole))"
   ]
  },
  {
   "cell_type": "code",
   "execution_count": 0,
   "metadata": {
    "colab": {},
    "colab_type": "code",
    "id": "S1NMV7e402s9"
   },
   "outputs": [],
   "source": [
    "edges = ox.graph_to_gdfs(G, nodes=False, edges=True)\n",
    "nodes = pd.read_pickle('data/nodes_drive.pkl')"
   ]
  },
  {
   "cell_type": "code",
   "execution_count": 5,
   "metadata": {
    "colab": {
     "base_uri": "https://localhost:8080/",
     "height": 104
    },
    "colab_type": "code",
    "id": "yiJwQczp02ti",
    "outputId": "a4428a9c-25e5-455c-8c50-d527851fee00"
   },
   "outputs": [
    {
     "name": "stderr",
     "output_type": "stream",
     "text": [
      "/content/drive/My Drive/Sem 8 files/utils.py:51: SettingWithCopyWarning: \n",
      "A value is trying to be set on a copy of a slice from a DataFrame\n",
      "\n",
      "See the caveats in the documentation: https://pandas.pydata.org/pandas-docs/stable/user_guide/indexing.html#returning-a-view-versus-a-copy\n",
      "  df['MaximumSpeed'][i] = '80'\n"
     ]
    }
   ],
   "source": [
    "f = open(\"Fri Feb 14 09_06_16 2020.json\", \"r\").read()\n",
    "x = json.loads(f)\n",
    "\n",
    "speed_bands = pd.DataFrame.from_dict(x, orient='columns')\n",
    "process_speed_band(speed_bands)"
   ]
  },
  {
   "cell_type": "code",
   "execution_count": 0,
   "metadata": {
    "colab": {},
    "colab_type": "code",
    "id": "j4ucj9bU02uI"
   },
   "outputs": [],
   "source": [
    "calculate_congestion(G, edges, speed_bands)"
   ]
  },
  {
   "cell_type": "markdown",
   "metadata": {
    "colab_type": "text",
    "id": "5GdlUOcM02uV"
   },
   "source": [
    "### Middle mile routing"
   ]
  },
  {
   "cell_type": "code",
   "execution_count": 7,
   "metadata": {
    "colab": {
     "base_uri": "https://localhost:8080/",
     "height": 34
    },
    "colab_type": "code",
    "id": "OpAR_hir02ua",
    "outputId": "6814e866-5ed3-47b0-8112-14747b8cd234"
   },
   "outputs": [
    {
     "name": "stdout",
     "output_type": "stream",
     "text": [
      "POINT (103.82129505 1.3515309)\n"
     ]
    }
   ],
   "source": [
    "# Boundary Box of entire area\n",
    "bbox = box(*edges.unary_union.bounds)\n",
    "orig_point = bbox.centroid\n",
    "print(orig_point)"
   ]
  },
  {
   "cell_type": "code",
   "execution_count": 8,
   "metadata": {
    "colab": {
     "base_uri": "https://localhost:8080/",
     "height": 34
    },
    "colab_type": "code",
    "id": "Sja5C9E_02uo",
    "outputId": "5ed6f802-badf-4970-d207-7d71eec87353"
   },
   "outputs": [
    {
     "name": "stdout",
     "output_type": "stream",
     "text": [
      "POINT (103.9326163 1.3565805)\n"
     ]
    }
   ],
   "source": [
    "target_point = nodes[nodes['osmid'] == 1820000257].geometry.values[0]\n",
    "print(target_point)"
   ]
  },
  {
   "cell_type": "code",
   "execution_count": 0,
   "metadata": {
    "colab": {},
    "colab_type": "code",
    "id": "ngLGhn4802u2"
   },
   "outputs": [],
   "source": [
    "orig_xy = (orig_point.y, orig_point.x)\n",
    "target_xy = (target_point.y, target_point.x)"
   ]
  },
  {
   "cell_type": "code",
   "execution_count": 0,
   "metadata": {
    "colab": {},
    "colab_type": "code",
    "id": "kEtSgaJo02vE"
   },
   "outputs": [],
   "source": [
    "# key: node label ,value: location\n",
    "idx = index.Index('data/bus_stops')"
   ]
  },
  {
   "cell_type": "code",
   "execution_count": 0,
   "metadata": {
    "colab": {},
    "colab_type": "code",
    "id": "idiH1dZb02vU"
   },
   "outputs": [],
   "source": [
    "def find_nearest_nodes(nodes, source, dist, idx):\n",
    "    # Create a bounding box around source of min distance in all directions\n",
    "    (north, south, east, west) = ox.bbox_from_point(point=source, distance=dist)\n",
    "    \n",
    "    candidate_nodes = []\n",
    "    initial = list(idx.intersection((west, south, east, north)))   \n",
    "    for node in initial:\n",
    "      x = haversine_distance(nodes, node, source)\n",
    "      if x <= dist:\n",
    "        candidate_nodes.append(node)\n",
    "\n",
    "    return candidate_nodes"
   ]
  },
  {
   "cell_type": "code",
   "execution_count": 0,
   "metadata": {
    "colab": {},
    "colab_type": "code",
    "id": "zgyXu9z402vi"
   },
   "outputs": [],
   "source": [
    "# Max distance for walking is 720m (10 min * 1.2 m/s)\n",
    "# Find all nodes within 720 m from candidate sources and candidate destinations\n",
    "candidate_dest = find_nearest_nodes(nodes, target_xy, 720, idx)\n",
    "candidate_source = find_nearest_nodes(nodes, orig_xy, 720, idx)"
   ]
  },
  {
   "cell_type": "code",
   "execution_count": 13,
   "metadata": {
    "colab": {
     "base_uri": "https://localhost:8080/",
     "height": 52
    },
    "colab_type": "code",
    "id": "aPDwFi1bCuyE",
    "outputId": "0a7bcacd-868a-46ec-c00f-bd8e40568eee"
   },
   "outputs": [
    {
     "name": "stdout",
     "output_type": "stream",
     "text": [
      "95\n",
      "8\n"
     ]
    }
   ],
   "source": [
    "print(len(candidate_dest))\n",
    "print(len(candidate_source))"
   ]
  },
  {
   "cell_type": "code",
   "execution_count": 0,
   "metadata": {
    "colab": {},
    "colab_type": "code",
    "id": "nksfriVYSR_t"
   },
   "outputs": [],
   "source": [
    "def euclidean_length(sources, destinations):\n",
    "    distances = dict()\n",
    "    \n",
    "    for source in sources:\n",
    "        for dest in destinations:\n",
    "            ed = haversine_distance(nodes, source, dest)\n",
    "            # Convert to secs\n",
    "            distances[source,dest] = ed/13.8889 \n",
    "       \n",
    "    # sort the dictionary in ascending order using distances\n",
    "    x = sorted(distances.items(), key = lambda kv:(kv[1], kv[0]))\n",
    "    return x    "
   ]
  },
  {
   "cell_type": "code",
   "execution_count": 0,
   "metadata": {
    "colab": {},
    "colab_type": "code",
    "id": "plvgqhcZSSHX"
   },
   "outputs": [],
   "source": [
    "x = euclidean_length(candidate_source, candidate_dest)"
   ]
  },
  {
   "cell_type": "code",
   "execution_count": 0,
   "metadata": {
    "colab": {},
    "colab_type": "code",
    "id": "s7IYc--5SgpT"
   },
   "outputs": [],
   "source": [
    "def hybrid_routing(x, G):\n",
    "    n = len(x)\n",
    "    min_pair = x[0]\n",
    "    source = min_pair[0][0]\n",
    "    dest = min_pair[0][1]\n",
    "    min_tt = float('inf')\n",
    "    final_route = []\n",
    "    count = 0\n",
    "\n",
    "    for i in range(n):\n",
    "        try:            \n",
    "            travel_time = nx.shortest_path_length(G, source, dest, weight='BPR', method='dijkstra')\n",
    "            count = count + 1\n",
    "        except nx.NetworkXUnfeasible:\n",
    "            print(\"tch\")\n",
    "            continue\n",
    "\n",
    "        if travel_time < min_tt:\n",
    "            min_tt = travel_time\n",
    "            min_pair = x[i]\n",
    "\n",
    "            if i < n-1:\n",
    "                if travel_time < x[i+1][1]:\n",
    "                    break\n",
    "                else:\n",
    "                    source = x[i+1][0][0]\n",
    "                    dest = x[i+1][0][1]\n",
    "            else:\n",
    "                break\n",
    "        else:\n",
    "            if i < n-1:\n",
    "                if min_tt < x[i+1][1]:\n",
    "                    break\n",
    "                else:\n",
    "                    source = x[i+1][0][0]\n",
    "                    dest = x[i+1][0][1]\n",
    "            else:\n",
    "                break\n",
    "\n",
    "    print(\"Number of iterations: \", count)\n",
    "    final_route = nx.shortest_path(G, min_pair[0][0], min_pair[0][1], weight='BPR', method='dijkstra')\n",
    "    return final_route, min_tt, min_pair"
   ]
  },
  {
   "cell_type": "code",
   "execution_count": 17,
   "metadata": {
    "colab": {
     "base_uri": "https://localhost:8080/",
     "height": 52
    },
    "colab_type": "code",
    "id": "kI844RO002vr",
    "outputId": "d140d1f0-4879-4787-9d43-55484639413f",
    "scrolled": true
   },
   "outputs": [
    {
     "name": "stdout",
     "output_type": "stream",
     "text": [
      "Number of iterations:  760\n",
      "17.670612631958235\n"
     ]
    }
   ],
   "source": [
    "middle_mile, travel_cost, sd_pair = hybrid_routing(x, G)\n",
    "print(travel_cost/60)"
   ]
  },
  {
   "cell_type": "code",
   "execution_count": 18,
   "metadata": {
    "colab": {
     "base_uri": "https://localhost:8080/",
     "height": 357
    },
    "colab_type": "code",
    "id": "NxHP3ZGC02wM",
    "outputId": "68d708d3-f643-4152-eb74-15f83b68326c"
   },
   "outputs": [
    {
     "data": {
      "image/png": "[encoded data removed]",
      "text/plain": [
       "<Figure size 754.994x432 with 1 Axes>"
      ]
     },
     "metadata": {
      "tags": []
     },
     "output_type": "display_data"
    }
   ],
   "source": [
    "fig, ax = ox.plot_graph_route(G, middle_mile, origin_point=orig_xy, destination_point=target_xy)"
   ]
  },
  {
   "cell_type": "markdown",
   "metadata": {
    "colab_type": "text",
    "id": "KYKbhy7YB5QM"
   },
   "source": [
    "## First mile"
   ]
  },
  {
   "cell_type": "code",
   "execution_count": 0,
   "metadata": {
    "colab": {},
    "colab_type": "code",
    "id": "KmaI4xB0h9P7"
   },
   "outputs": [],
   "source": [
    "def print_route(route):\n",
    "  i = 0\n",
    "  n = len(route)\n",
    "\n",
    "  for i in range(n):\n",
    "    for nei,w in G_whole[route[i]].items():\n",
    "      if i+1 != n:\n",
    "        if nei == route[i+1]:\n",
    "          print(w[0].get('highway'), w[0].get('length'))"
   ]
  },
  {
   "cell_type": "code",
   "execution_count": 20,
   "metadata": {
    "colab": {
     "base_uri": "https://localhost:8080/",
     "height": 139
    },
    "colab_type": "code",
    "id": "3tZfPILUdfcV",
    "outputId": "090cb355-ed73-4bf1-92a0-e812179c0a11"
   },
   "outputs": [
    {
     "name": "stdout",
     "output_type": "stream",
     "text": [
      "residential 102.051\n",
      "residential 7.747\n",
      "residential 32.174\n",
      "residential 124.57300000000001\n",
      "residential 56.33\n",
      "Distance from X to A:  482.23028553412615\n",
      "Distance from A to B:  322.875\n"
     ]
    }
   ],
   "source": [
    "orig_node, dist = ox.get_nearest_node(G_whole, orig_xy, method='haversine', return_dist = True)\n",
    "first_mile = nx.shortest_path(G_whole, orig_node, sd_pair[0][0], weight='length', method='dijkstra')\n",
    "first_mile_length = nx.shortest_path_length(G_whole, orig_node, sd_pair[0][0], weight='length', method='dijkstra')\n",
    "\n",
    "print_route(first_mile)\n",
    "print(\"Distance from X to A: \", dist) # in metres\n",
    "print(\"Distance from A to B: \", first_mile_length) # in metres"
   ]
  },
  {
   "cell_type": "markdown",
   "metadata": {
    "colab_type": "text",
    "id": "J7fMJfToCaRX"
   },
   "source": [
    "### Last Mile"
   ]
  },
  {
   "cell_type": "code",
   "execution_count": 21,
   "metadata": {
    "colab": {
     "base_uri": "https://localhost:8080/",
     "height": 225
    },
    "colab_type": "code",
    "id": "dvp8SlVrj3ji",
    "outputId": "8f006230-837f-4064-c26b-557298b67465"
   },
   "outputs": [
    {
     "name": "stdout",
     "output_type": "stream",
     "text": [
      "primary 561.0409999999999\n",
      "primary 31.486\n",
      "primary 10.98\n",
      "primary 17.553\n",
      "primary 11.666\n",
      "primary 26.612\n",
      "primary 256.842\n",
      "primary 9.377\n",
      "tertiary 13.573\n",
      "primary 8.92\n",
      "Distance from C to D:  948.0499999999998\n",
      "Distance from D to Y:  0.0\n"
     ]
    }
   ],
   "source": [
    "target_node, dist = ox.get_nearest_node(G_whole, target_xy, method='haversine', return_dist= True)\n",
    "last_mile = nx.shortest_path(G_whole, sd_pair[0][1], target_node, weight='length', method='dijkstra')\n",
    "last_mile_length = nx.shortest_path_length(G_whole, sd_pair[0][1], target_node, weight='length', method='dijkstra')\n",
    "\n",
    "print_route(last_mile)\n",
    "print(\"Distance from C to D: \", last_mile_length)\n",
    "print(\"Distance from D to Y: \", dist)"
   ]
  }
 ],
 "metadata": {
  "accelerator": "GPU",
  "colab": {
   "collapsed_sections": [],
   "name": "Hybrid_congestion_aware_routing.ipynb",
   "provenance": []
  },
  "kernelspec": {
   "display_name": "Python 3",
   "language": "python",
   "name": "python3"
  },
  "language_info": {
   "codemirror_mode": {
    "name": "ipython",
    "version": 3
   },
   "file_extension": ".py",
   "mimetype": "text/x-python",
   "name": "python",
   "nbconvert_exporter": "python",
   "pygments_lexer": "ipython3",
   "version": "3.6.10"
  }
 },
 "nbformat": 4,
 "nbformat_minor": 0
}
