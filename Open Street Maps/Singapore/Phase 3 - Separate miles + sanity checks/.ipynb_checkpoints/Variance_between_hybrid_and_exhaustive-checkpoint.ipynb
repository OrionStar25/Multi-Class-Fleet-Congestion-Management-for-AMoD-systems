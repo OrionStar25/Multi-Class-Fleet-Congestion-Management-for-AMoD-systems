{
 "cells": [
  {
   "cell_type": "code",
   "execution_count": 1,
   "metadata": {
    "colab": {
     "base_uri": "https://localhost:8080/",
     "height": 193
    },
    "colab_type": "code",
    "id": "mF0kte2iEAEU",
    "outputId": "b0099a90-525d-4cf6-e0ae-d0657d185c7f"
   },
   "outputs": [
    {
     "name": "stdout",
     "output_type": "stream",
     "text": [
      "Go to this URL in a browser: https://accounts.google.com/o/oauth2/auth?client_id=947318989803-6bn6qk8qdgf4n4g3pfee6491hc0brc4i.apps.googleusercontent.com&redirect_uri=urn%3aietf%3awg%3aoauth%3a2.0%3aoob&response_type=code&scope=email%20https%3a%2f%2fwww.googleapis.com%2fauth%2fdocs.test%20https%3a%2f%2fwww.googleapis.com%2fauth%2fdrive%20https%3a%2f%2fwww.googleapis.com%2fauth%2fdrive.photos.readonly%20https%3a%2f%2fwww.googleapis.com%2fauth%2fpeopleapi.readonly\n",
      "\n",
      "Enter your authorization code:\n",
      "··········\n",
      "Mounted at /content/drive/\n",
      "/content/drive/My Drive/Sem 8 files\n",
      " data\t\t\t\t  __pycache__\n",
      " euclidean_distances.json\t  Shortest_path_lengths.pkl\n",
      "'Fri Feb 14 09_06_16 2020.json'   utils.py\n"
     ]
    }
   ],
   "source": [
    "from google.colab import drive\n",
    "drive.mount('/content/drive/')\n",
    "%cd drive/My \\Drive/Sem \\8 \\files/\n",
    "!ls"
   ]
  },
  {
   "cell_type": "code",
   "execution_count": 2,
   "metadata": {
    "colab": {
     "base_uri": "https://localhost:8080/",
     "height": 1000
    },
    "colab_type": "code",
    "id": "Anm_vCtg02sJ",
    "outputId": "9d97d587-d887-4469-f724-933555043d25"
   },
   "outputs": [
    {
     "name": "stdout",
     "output_type": "stream",
     "text": [
      "\r",
      "Reading package lists... 0%\r",
      "\r",
      "Reading package lists... 0%\r",
      "\r",
      "Reading package lists... 0%\r",
      "\r",
      "Reading package lists... 7%\r",
      "\r",
      "Reading package lists... 7%\r",
      "\r",
      "Reading package lists... 7%\r",
      "\r",
      "Reading package lists... 7%\r",
      "\r",
      "Reading package lists... 64%\r",
      "\r",
      "Reading package lists... 64%\r",
      "\r",
      "Reading package lists... 65%\r",
      "\r",
      "Reading package lists... 65%\r",
      "\r",
      "Reading package lists... 70%\r",
      "\r",
      "Reading package lists... 72%\r",
      "\r",
      "Reading package lists... 72%\r",
      "\r",
      "Reading package lists... 72%\r",
      "\r",
      "Reading package lists... 72%\r",
      "\r",
      "Reading package lists... 81%\r",
      "\r",
      "Reading package lists... 81%\r",
      "\r",
      "Reading package lists... 81%\r",
      "\r",
      "Reading package lists... 81%\r",
      "\r",
      "Reading package lists... 81%\r",
      "\r",
      "Reading package lists... 81%\r",
      "\r",
      "Reading package lists... 81%\r",
      "\r",
      "Reading package lists... 81%\r",
      "\r",
      "Reading package lists... 87%\r",
      "\r",
      "Reading package lists... 87%\r",
      "\r",
      "Reading package lists... 87%\r",
      "\r",
      "Reading package lists... 87%\r",
      "\r",
      "Reading package lists... 93%\r",
      "\r",
      "Reading package lists... 93%\r",
      "\r",
      "Reading package lists... 93%\r",
      "\r",
      "Reading package lists... 93%\r",
      "\r",
      "Reading package lists... 93%\r",
      "\r",
      "Reading package lists... 93%\r",
      "\r",
      "Reading package lists... 94%\r",
      "\r",
      "Reading package lists... 94%\r",
      "\r",
      "Reading package lists... 95%\r",
      "\r",
      "Reading package lists... 95%\r",
      "\r",
      "Reading package lists... 98%\r",
      "\r",
      "Reading package lists... 98%\r",
      "\r",
      "Reading package lists... 98%\r",
      "\r",
      "Reading package lists... 98%\r",
      "\r",
      "Reading package lists... Done\r\n",
      "\r",
      "Building dependency tree... 0%\r",
      "\r",
      "Building dependency tree... 0%\r",
      "\r",
      "Building dependency tree... 50%\r",
      "\r",
      "Building dependency tree... 50%\r",
      "\r",
      "Building dependency tree       \r\n",
      "\r",
      "Reading state information... 0%\r",
      "\r",
      "Reading state information... 0%\r",
      "\r",
      "Reading state information... Done\r\n",
      "The following additional packages will be installed:\n",
      "  libspatialindex4v5\n",
      "The following NEW packages will be installed:\n",
      "  libspatialindex-c4v5 libspatialindex4v5\n",
      "0 upgraded, 2 newly installed, 0 to remove and 25 not upgraded.\n",
      "Need to get 270 kB of archives.\n",
      "After this operation, 1,107 kB of additional disk space will be used.\n",
      "Get:1 http://archive.ubuntu.com/ubuntu bionic/universe amd64 libspatialindex4v5 amd64 1.8.5-5 [219 kB]\n",
      "Get:2 http://archive.ubuntu.com/ubuntu bionic/universe amd64 libspatialindex-c4v5 amd64 1.8.5-5 [51.7 kB]\n",
      "Fetched 270 kB in 2s (112 kB/s)\n",
      "Selecting previously unselected package libspatialindex4v5:amd64.\n",
      "(Reading database ... 144542 files and directories currently installed.)\n",
      "Preparing to unpack .../libspatialindex4v5_1.8.5-5_amd64.deb ...\n",
      "Unpacking libspatialindex4v5:amd64 (1.8.5-5) ...\n",
      "Selecting previously unselected package libspatialindex-c4v5:amd64.\n",
      "Preparing to unpack .../libspatialindex-c4v5_1.8.5-5_amd64.deb ...\n",
      "Unpacking libspatialindex-c4v5:amd64 (1.8.5-5) ...\n",
      "Setting up libspatialindex4v5:amd64 (1.8.5-5) ...\n",
      "Setting up libspatialindex-c4v5:amd64 (1.8.5-5) ...\n",
      "Processing triggers for libc-bin (2.27-3ubuntu1) ...\n",
      "/sbin/ldconfig.real: /usr/local/lib/python3.6/dist-packages/ideep4py/lib/libmkldnn.so.0 is not a symbolic link\n",
      "\n",
      "Collecting osmnx\n",
      "\u001b[?25l  Downloading https://files.pythonhosted.org/packages/ec/b1/19db159f912ca27e35968c2b89cf70014535999c1213ae005c32dbb42f4c/osmnx-0.11.4-py2.py3-none-any.whl (77kB)\n",
      "\u001b[K     |████████████████████████████████| 81kB 10.1MB/s \n",
      "\u001b[?25hCollecting Rtree>=0.9\n",
      "\u001b[?25l  Downloading https://files.pythonhosted.org/packages/56/6f/f1e91001d5ad9fa9bed65875152f5a1c7955c5763168cae309546e6e9fda/Rtree-0.9.4.tar.gz (62kB)\n",
      "\u001b[K     |████████████████████████████████| 71kB 10.3MB/s \n",
      "\u001b[?25hRequirement already satisfied: numpy>=1.17 in /usr/local/lib/python3.6/dist-packages (from osmnx) (1.18.2)\n",
      "Collecting pandas>=1.0\n",
      "\u001b[?25l  Downloading https://files.pythonhosted.org/packages/bb/71/8f53bdbcbc67c912b888b40def255767e475402e9df64050019149b1a943/pandas-1.0.3-cp36-cp36m-manylinux1_x86_64.whl (10.0MB)\n",
      "\u001b[K     |████████████████████████████████| 10.0MB 46.7MB/s \n",
      "\u001b[?25hRequirement already satisfied: descartes>=1.1 in /usr/local/lib/python3.6/dist-packages (from osmnx) (1.1.0)\n",
      "Collecting geopandas>=0.6\n",
      "\u001b[?25l  Downloading https://files.pythonhosted.org/packages/83/c5/3cf9cdc39a6f2552922f79915f36b45a95b71fd343cfc51170a5b6ddb6e8/geopandas-0.7.0-py2.py3-none-any.whl (928kB)\n",
      "\u001b[K     |████████████████████████████████| 931kB 55.9MB/s \n",
      "\u001b[?25hRequirement already satisfied: networkx>=2.4 in /usr/local/lib/python3.6/dist-packages (from osmnx) (2.4)\n",
      "Collecting requests>=2.22\n",
      "\u001b[?25l  Downloading https://files.pythonhosted.org/packages/1a/70/1935c770cb3be6e3a8b78ced23d7e0f3b187f5cbfab4749523ed65d7c9b1/requests-2.23.0-py2.py3-none-any.whl (58kB)\n",
      "\u001b[K     |████████████████████████████████| 61kB 9.6MB/s \n",
      "\u001b[?25hCollecting pyproj>=2.4\n",
      "\u001b[?25l  Downloading https://files.pythonhosted.org/packages/ce/37/705ee471f71130d4ceee41bbcb06f3b52175cb89273cbb5755ed5e6374e0/pyproj-2.6.0-cp36-cp36m-manylinux2010_x86_64.whl (10.4MB)\n",
      "\u001b[K     |████████████████████████████████| 10.4MB 22.8MB/s \n",
      "\u001b[?25hRequirement already satisfied: Shapely>=1.7 in /usr/local/lib/python3.6/dist-packages (from osmnx) (1.7.0)\n",
      "Requirement already satisfied: matplotlib>=3.1 in /usr/local/lib/python3.6/dist-packages (from osmnx) (3.2.0)\n",
      "Requirement already satisfied: setuptools in /usr/local/lib/python3.6/dist-packages (from Rtree>=0.9->osmnx) (46.0.0)\n",
      "Requirement already satisfied: pytz>=2017.2 in /usr/local/lib/python3.6/dist-packages (from pandas>=1.0->osmnx) (2018.9)\n",
      "Requirement already satisfied: python-dateutil>=2.6.1 in /usr/local/lib/python3.6/dist-packages (from pandas>=1.0->osmnx) (2.8.1)\n",
      "Collecting fiona\n",
      "\u001b[?25l  Downloading https://files.pythonhosted.org/packages/ec/20/4e63bc5c6e62df889297b382c3ccd4a7a488b00946aaaf81a118158c6f09/Fiona-1.8.13.post1-cp36-cp36m-manylinux1_x86_64.whl (14.7MB)\n",
      "\u001b[K     |████████████████████████████████| 14.7MB 211kB/s \n",
      "\u001b[?25hRequirement already satisfied: decorator>=4.3.0 in /usr/local/lib/python3.6/dist-packages (from networkx>=2.4->osmnx) (4.4.2)\n",
      "Requirement already satisfied: urllib3!=1.25.0,!=1.25.1,<1.26,>=1.21.1 in /usr/local/lib/python3.6/dist-packages (from requests>=2.22->osmnx) (1.24.3)\n",
      "Requirement already satisfied: chardet<4,>=3.0.2 in /usr/local/lib/python3.6/dist-packages (from requests>=2.22->osmnx) (3.0.4)\n",
      "Requirement already satisfied: idna<3,>=2.5 in /usr/local/lib/python3.6/dist-packages (from requests>=2.22->osmnx) (2.8)\n",
      "Requirement already satisfied: certifi>=2017.4.17 in /usr/local/lib/python3.6/dist-packages (from requests>=2.22->osmnx) (2019.11.28)\n",
      "Requirement already satisfied: pyparsing!=2.0.4,!=2.1.2,!=2.1.6,>=2.0.1 in /usr/local/lib/python3.6/dist-packages (from matplotlib>=3.1->osmnx) (2.4.6)\n",
      "Requirement already satisfied: cycler>=0.10 in /usr/local/lib/python3.6/dist-packages (from matplotlib>=3.1->osmnx) (0.10.0)\n",
      "Requirement already satisfied: kiwisolver>=1.0.1 in /usr/local/lib/python3.6/dist-packages (from matplotlib>=3.1->osmnx) (1.1.0)\n",
      "Requirement already satisfied: six>=1.5 in /usr/local/lib/python3.6/dist-packages (from python-dateutil>=2.6.1->pandas>=1.0->osmnx) (1.12.0)\n",
      "Requirement already satisfied: click<8,>=4.0 in /usr/local/lib/python3.6/dist-packages (from fiona->geopandas>=0.6->osmnx) (7.1.1)\n",
      "Collecting cligj>=0.5\n",
      "  Downloading https://files.pythonhosted.org/packages/e4/be/30a58b4b0733850280d01f8bd132591b4668ed5c7046761098d665ac2174/cligj-0.5.0-py3-none-any.whl\n",
      "Collecting munch\n",
      "  Downloading https://files.pythonhosted.org/packages/cc/ab/85d8da5c9a45e072301beb37ad7f833cd344e04c817d97e0cc75681d248f/munch-2.5.0-py2.py3-none-any.whl\n",
      "Collecting click-plugins>=1.0\n",
      "  Downloading https://files.pythonhosted.org/packages/e9/da/824b92d9942f4e472702488857914bdd50f73021efea15b4cad9aca8ecef/click_plugins-1.1.1-py2.py3-none-any.whl\n",
      "Requirement already satisfied: attrs>=17 in /usr/local/lib/python3.6/dist-packages (from fiona->geopandas>=0.6->osmnx) (19.3.0)\n",
      "Building wheels for collected packages: Rtree\n",
      "  Building wheel for Rtree (setup.py) ... \u001b[?25l\u001b[?25hdone\n",
      "  Created wheel for Rtree: filename=Rtree-0.9.4-cp36-none-any.whl size=21769 sha256=22c78d5e7899a9d421b2cb5beaf2e58a4e334ed35c9741eab3d40c933470d7e2\n",
      "  Stored in directory: /root/.cache/pip/wheels/ff/20/c5/0004ef7acb96745ec99be960053902b0b414a2aa2dcad5834e\n",
      "Successfully built Rtree\n",
      "\u001b[31mERROR: google-colab 1.0.0 has requirement pandas~=0.25.0; python_version >= \"3.0\", but you'll have pandas 1.0.3 which is incompatible.\u001b[0m\n",
      "\u001b[31mERROR: google-colab 1.0.0 has requirement requests~=2.21.0, but you'll have requests 2.23.0 which is incompatible.\u001b[0m\n",
      "\u001b[31mERROR: datascience 0.10.6 has requirement folium==0.2.1, but you'll have folium 0.8.3 which is incompatible.\u001b[0m\n",
      "Installing collected packages: Rtree, pandas, pyproj, cligj, munch, click-plugins, fiona, geopandas, requests, osmnx\n",
      "  Found existing installation: pandas 0.25.3\n",
      "    Uninstalling pandas-0.25.3:\n",
      "      Successfully uninstalled pandas-0.25.3\n",
      "  Found existing installation: requests 2.21.0\n",
      "    Uninstalling requests-2.21.0:\n",
      "      Successfully uninstalled requests-2.21.0\n",
      "Successfully installed Rtree-0.9.4 click-plugins-1.1.1 cligj-0.5.0 fiona-1.8.13.post1 geopandas-0.7.0 munch-2.5.0 osmnx-0.11.4 pandas-1.0.3 pyproj-2.6.0 requests-2.23.0\n"
     ]
    }
   ],
   "source": [
    "!apt-get install -y libspatialindex-c4v5\n",
    "!pip3.6 install osmnx\n",
    "\n",
    "import osmnx as ox\n",
    "import networkx as nx\n",
    "import pandas as pd\n",
    "import json\n",
    "import random\n",
    "import statistics\n",
    "\n",
    "from rtree import index\n",
    "from utils import *"
   ]
  },
  {
   "cell_type": "code",
   "execution_count": 3,
   "metadata": {
    "colab": {
     "base_uri": "https://localhost:8080/",
     "height": 34
    },
    "colab_type": "code",
    "id": "RShXcYwX02sk",
    "outputId": "d25e0fe2-821e-489c-9aff-e2b0517b7c4f"
   },
   "outputs": [
    {
     "data": {
      "text/plain": [
       "networkx.classes.multidigraph.MultiDiGraph"
      ]
     },
     "execution_count": 3,
     "metadata": {
      "tags": []
     },
     "output_type": "execute_result"
    }
   ],
   "source": [
    "place_name = \"Singapore, Central, Singapore\"\n",
    "G = ox.save_load.load_graphml(filename=\"Singapore_drive_processed.graphml\")\n",
    "\n",
    "# Stores nodes and edges mapped with speed bands along with other attributes\n",
    "type(G)"
   ]
  },
  {
   "cell_type": "code",
   "execution_count": 0,
   "metadata": {
    "colab": {},
    "colab_type": "code",
    "id": "S1NMV7e402s9"
   },
   "outputs": [],
   "source": [
    "edges = ox.graph_to_gdfs(G, nodes=False, edges=True)\n",
    "nodes = pd.read_pickle('data/nodes_drive.pkl')"
   ]
  },
  {
   "cell_type": "code",
   "execution_count": 4,
   "metadata": {
    "colab": {
     "base_uri": "https://localhost:8080/",
     "height": 104
    },
    "colab_type": "code",
    "id": "yiJwQczp02ti",
    "outputId": "f5be34d7-a72a-4fe9-8609-5b4e4fda1605"
   },
   "outputs": [
    {
     "name": "stderr",
     "output_type": "stream",
     "text": [
      "/content/drive/My Drive/Sem 8 files/utils.py:46: SettingWithCopyWarning: \n",
      "A value is trying to be set on a copy of a slice from a DataFrame\n",
      "\n",
      "See the caveats in the documentation: http://pandas.pydata.org/pandas-docs/stable/user_guide/indexing.html#returning-a-view-versus-a-copy\n",
      "  df['MaximumSpeed'][i] = '80'\n"
     ]
    }
   ],
   "source": [
    "f = open(\"Fri Feb 14 09_06_16 2020.json\", \"r\").read()\n",
    "x = json.loads(f)\n",
    "\n",
    "speed_bands = pd.DataFrame.from_dict(x, orient='columns')\n",
    "process_speed_band(speed_bands)"
   ]
  },
  {
   "cell_type": "code",
   "execution_count": 0,
   "metadata": {
    "colab": {},
    "colab_type": "code",
    "id": "j4ucj9bU02uI"
   },
   "outputs": [],
   "source": [
    "calculate_congestion(G, edges, speed_bands)"
   ]
  },
  {
   "cell_type": "markdown",
   "metadata": {
    "colab_type": "text",
    "id": "pCb2mwI6D584"
   },
   "source": [
    "### Calculate Variance"
   ]
  },
  {
   "cell_type": "code",
   "execution_count": 0,
   "metadata": {
    "colab": {},
    "colab_type": "code",
    "id": "DXvM1T3-D588"
   },
   "outputs": [],
   "source": [
    "# key: node label ,value: location\n",
    "idx = index.Index()\n",
    "\n",
    "xx = nodes['x'].astype(float)\n",
    "yy = nodes['y'].astype(float)\n",
    "node_id = nodes['osmid']\n",
    "node_type = nodes['highway']\n",
    "\n",
    "# nan, 'crossing', 'turning_circle', 'traffic_signals',\n",
    "# 'motorway_junction', 'turning_loop', 'elevator', 'bus_stop',\n",
    "# 'mini_roundabout', 'stop', 'speed_camera'\n",
    "\n",
    "for node, x, y, kind in zip(node_id, xx, yy, node_type):\n",
    "    if kind != 'nan' and kind != 'stop' and kind != 'speed_camera':\n",
    "        idx.insert(int(node), (x,y,x,y))"
   ]
  },
  {
   "cell_type": "code",
   "execution_count": 0,
   "metadata": {
    "colab": {},
    "colab_type": "code",
    "id": "W8E0y9fFD59I"
   },
   "outputs": [],
   "source": [
    "def find_nearest_nodes(source, dist, idx):\n",
    "    # Create a bounding box around source of min distance in all directions\n",
    "    (north, south, east, west) = ox.bbox_from_point(point=source, distance=dist)\n",
    "    \n",
    "    candidate_nodes = list(idx.intersection((west, south, east, north)))    \n",
    "    return candidate_nodes"
   ]
  },
  {
   "cell_type": "code",
   "execution_count": 0,
   "metadata": {
    "colab": {},
    "colab_type": "code",
    "id": "Q-zt3gxTD59T"
   },
   "outputs": [],
   "source": [
    "def get_length_dict(sources, destinations, method='euclidean'):\n",
    "    distances = dict()\n",
    "    \n",
    "    if method == 'euclidean':\n",
    "        for source in sources:        \n",
    "            for dest in destinations:\n",
    "                ed = haversine_distance(nodes, source, dest)\n",
    "                distances[source,dest] = ed/5.28  \n",
    "    else:\n",
    "        for source in sources:        \n",
    "            for dest in destinations:\n",
    "                try:\n",
    "                    # dijsktra distance in sec\n",
    "                    d = nx.shortest_path_length(G, source, dest, weight='BPR', method='dijkstra')\n",
    "                except nx.NetworkXUnfeasible:\n",
    "                    d = float('inf')\n",
    "                distances[(source,dest)] = d\n",
    "       \n",
    "    # sort the dictionary in ascending order using distances\n",
    "    x = sorted(distances.items(), key = lambda kv:(kv[1], kv[0]))\n",
    "    return x    "
   ]
  },
  {
   "cell_type": "code",
   "execution_count": 0,
   "metadata": {
    "colab": {},
    "colab_type": "code",
    "id": "KU0UougTpgBK"
   },
   "outputs": [],
   "source": [
    "def lets_do_this():\n",
    "  # get 20 random sources\n",
    "  sources = []\n",
    "  for i in range(20):\n",
    "      r = random.randint(0,23210)\n",
    "      s = nodes['osmid'].values[r]\n",
    "      sources.append(s)\n",
    "      \n",
    "  # get 20 correspondig random targets\n",
    "  targets = []\n",
    "  for i in range(20):\n",
    "      r = random.randint(0,23210)\n",
    "      t = nodes['osmid'].values[r]\n",
    "      targets.append(t)\n",
    "\n",
    "  deviations = []\n",
    "  for s,t in zip(sources,targets):\n",
    "      orig_point = nodes[nodes['osmid'] == s].geometry.values[0]\n",
    "      target_point = nodes[nodes['osmid'] == t].geometry.values[0]\n",
    "      orig_xy = (orig_point.y, orig_point.x)\n",
    "      target_xy = (target_point.y, target_point.x)\n",
    "      \n",
    "      # Max distance for walking is 720m (10 min * 1.2 m/s)\n",
    "      # Find all nodes within 720 m from candidate sources and candidate destinations\n",
    "      candidate_dest = find_nearest_nodes(target_xy, 720, idx)\n",
    "      candidate_source = find_nearest_nodes(orig_xy, 720, idx)\n",
    "      \n",
    "      real_lengths = dict(get_length_dict(candidate_source, candidate_dest, method='dijkstra'))\n",
    "      euclidean = get_length_dict(candidate_source, candidate_dest)\n",
    "      \n",
    "      # value1: hybrid, value2: exhaustive\n",
    "      value1 = hybrid_search_length(G, euclidean, real_lengths)\n",
    "      key = next(iter(real_lengths))\n",
    "      value2 = real_lengths[key]\n",
    "        \n",
    "      deviations.append(statistics.stdev([value1, value2]))\n",
    "      print(s, t, value1, value2, math.sqrt(variance))\n",
    "      \n",
    "  # take mean of deviations\n",
    "  print(statistics.mean(deviations))"
   ]
  },
  {
   "cell_type": "code",
   "execution_count": 45,
   "metadata": {
    "colab": {
     "base_uri": "https://localhost:8080/",
     "height": 208
    },
    "colab_type": "code",
    "id": "CVprJshmD59h",
    "outputId": "57ed565d-bd7a-48a5-db81-f7bd5293b03f"
   },
   "outputs": [
    {
     "name": "stdout",
     "output_type": "stream",
     "text": [
      "5103.963665066801\n",
      "67801.02920385948\n",
      "2668.173091532283\n",
      "12.02671641200135\n",
      "164.34359400868834\n",
      "91.77417782887547\n",
      "419.5873310968529\n",
      "224.19511353466723\n",
      "221.73325034584525\n",
      "265.79936792305335\n",
      "7697.262551160855\n"
     ]
    }
   ],
   "source": [
    "lets_do_this()"
   ]
  },
  {
   "cell_type": "code",
   "execution_count": 0,
   "metadata": {
    "colab": {},
    "colab_type": "code",
    "id": "ylMtLk8UqXhG"
   },
   "outputs": [],
   "source": [
    "l = [12.02671641200135, 164.34359400868834, 91.77417782887547, 419.5873310968529,\n",
    "224.19511353466723,\n",
    "221.73325034584525,\n",
    "265.79936792305335,\n",
    "327.5119300140465,\n",
    "533.8165355537196,\n",
    "515.386766709677,\n",
    "16.95804097721274,\n",
    "422.48591083846924,\n",
    "123.6897762576276,\n",
    "720.7303030142646,\n",
    "15.787012469038984,\n",
    "49.779199801567586,\n",
    "5103.963665066801,\n",
    "2668.173091532283,\n",
    "6242.505228111097\n",
    "]"
   ]
  },
  {
   "cell_type": "code",
   "execution_count": 15,
   "metadata": {
    "colab": {
     "base_uri": "https://localhost:8080/",
     "height": 34
    },
    "colab_type": "code",
    "id": "JpHrBPbiO46V",
    "outputId": "2c668ee7-57bd-46c2-a555-32e5358b955e"
   },
   "outputs": [
    {
     "data": {
      "text/plain": [
       "4.297505236235009"
      ]
     },
     "execution_count": 15,
     "metadata": {
      "tags": []
     },
     "output_type": "execute_result"
    }
   ],
   "source": [
    "x = statistics.mean(l)\n",
    "x/60 # deviation in minutes"
   ]
  },
  {
   "cell_type": "code",
   "execution_count": 17,
   "metadata": {
    "colab": {
     "base_uri": "https://localhost:8080/",
     "height": 34
    },
    "colab_type": "code",
    "id": "-i67JxdtPS5_",
    "outputId": "ff5f20b3-5380-44f4-b9ad-3ccd1f5919b4"
   },
   "outputs": [
    {
     "data": {
      "text/plain": [
       "15.912497378505076"
      ]
     },
     "execution_count": 17,
     "metadata": {
      "tags": []
     },
     "output_type": "execute_result"
    }
   ],
   "source": [
    "x = statistics.mean(l)\n",
    "x/60 # deviation in minutes"
   ]
  }
 ],
 "metadata": {
  "accelerator": "GPU",
  "colab": {
   "collapsed_sections": [],
   "name": "Variance between hybrid and exhaustive.ipynb",
   "provenance": []
  },
  "kernelspec": {
   "display_name": "Python 3",
   "language": "python",
   "name": "python3"
  },
  "language_info": {
   "codemirror_mode": {
    "name": "ipython",
    "version": 3
   },
   "file_extension": ".py",
   "mimetype": "text/x-python",
   "name": "python",
   "nbconvert_exporter": "python",
   "pygments_lexer": "ipython3",
   "version": "3.6.10"
  }
 },
 "nbformat": 4,
 "nbformat_minor": 1
}
