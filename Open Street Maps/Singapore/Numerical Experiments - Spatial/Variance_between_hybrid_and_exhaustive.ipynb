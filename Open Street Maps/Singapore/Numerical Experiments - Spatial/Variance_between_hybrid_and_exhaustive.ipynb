{
  "nbformat": 4,
  "nbformat_minor": 0,
  "metadata": {
    "accelerator": "GPU",
    "colab": {
      "name": "Variance_between_hybrid_and_exhaustive.ipynb",
      "provenance": [],
      "collapsed_sections": []
    },
    "kernelspec": {
      "display_name": "Python 3",
      "language": "python",
      "name": "python3"
    },
    "language_info": {
      "codemirror_mode": {
        "name": "ipython",
        "version": 3
      },
      "file_extension": ".py",
      "mimetype": "text/x-python",
      "name": "python",
      "nbconvert_exporter": "python",
      "pygments_lexer": "ipython3",
      "version": "3.6.10"
    }
  },
  "cells": [
    {
      "cell_type": "code",
      "metadata": {
        "colab_type": "code",
        "id": "mF0kte2iEAEU",
        "outputId": "b2b8d84a-e89d-4824-ddea-580eb6cf4f81",
        "colab": {
          "base_uri": "https://localhost:8080/",
          "height": 104
        }
      },
      "source": [
        "from google.colab import drive\n",
        "drive.mount('/content/drive/')\n",
        "%cd drive/My \\Drive/Sem \\8 \\files/\n",
        "!ls"
      ],
      "execution_count": 1,
      "outputs": [
        {
          "output_type": "stream",
          "text": [
            "Drive already mounted at /content/drive/; to attempt to forcibly remount, call drive.mount(\"/content/drive/\", force_remount=True).\n",
            "/content/drive/My Drive/Sem 8 files\n",
            " data\t\t\t\t  __pycache__\n",
            " euclidean_distances.json\t  Shortest_path_lengths.pkl\n",
            "'Fri Feb 14 09_06_16 2020.json'   utils.py\n"
          ],
          "name": "stdout"
        }
      ]
    },
    {
      "cell_type": "code",
      "metadata": {
        "colab_type": "code",
        "id": "Anm_vCtg02sJ",
        "outputId": "a870ca3d-5136-4a50-8d6a-aac86f966ed7",
        "colab": {
          "base_uri": "https://localhost:8080/",
          "height": 627
        }
      },
      "source": [
        "!apt-get install -y libspatialindex-c4v5\n",
        "!pip3.6 install osmnx\n",
        "\n",
        "import osmnx as ox\n",
        "import networkx as nx\n",
        "import pandas as pd\n",
        "import json\n",
        "import random\n",
        "import statistics\n",
        "import numpy as np\n",
        "\n",
        "from rtree import index\n",
        "from utils import *"
      ],
      "execution_count": 2,
      "outputs": [
        {
          "output_type": "stream",
          "text": [
            "\rReading package lists... 0%\r\rReading package lists... 0%\r\rReading package lists... 0%\r\rReading package lists... 6%\r\rReading package lists... 6%\r\rReading package lists... 7%\r\rReading package lists... 7%\r\rReading package lists... 64%\r\rReading package lists... 64%\r\rReading package lists... 64%\r\rReading package lists... 64%\r\rReading package lists... 72%\r\rReading package lists... 72%\r\rReading package lists... 72%\r\rReading package lists... 72%\r\rReading package lists... 81%\r\rReading package lists... 81%\r\rReading package lists... 81%\r\rReading package lists... 81%\r\rReading package lists... 81%\r\rReading package lists... 81%\r\rReading package lists... 81%\r\rReading package lists... 81%\r\rReading package lists... 85%\r\rReading package lists... 87%\r\rReading package lists... 87%\r\rReading package lists... 87%\r\rReading package lists... 87%\r\rReading package lists... 93%\r\rReading package lists... 93%\r\rReading package lists... 93%\r\rReading package lists... 93%\r\rReading package lists... 93%\r\rReading package lists... 93%\r\rReading package lists... 94%\r\rReading package lists... 94%\r\rReading package lists... 95%\r\rReading package lists... 95%\r\rReading package lists... 98%\r\rReading package lists... 98%\r\rReading package lists... 98%\r\rReading package lists... 98%\r\rReading package lists... Done\r\n",
            "\rBuilding dependency tree... 0%\r\rBuilding dependency tree... 0%\r\rBuilding dependency tree... 50%\r\rBuilding dependency tree... 50%\r\rBuilding dependency tree       \r\n",
            "\rReading state information... 0%\r\rReading state information... 0%\r\rReading state information... Done\r\n",
            "libspatialindex-c4v5 is already the newest version (1.8.5-5).\n",
            "0 upgraded, 0 newly installed, 0 to remove and 25 not upgraded.\n",
            "Requirement already satisfied: osmnx in /usr/local/lib/python3.6/dist-packages (0.11.4)\n",
            "Requirement already satisfied: numpy>=1.17 in /usr/local/lib/python3.6/dist-packages (from osmnx) (1.18.2)\n",
            "Requirement already satisfied: networkx>=2.4 in /usr/local/lib/python3.6/dist-packages (from osmnx) (2.4)\n",
            "Requirement already satisfied: requests>=2.22 in /usr/local/lib/python3.6/dist-packages (from osmnx) (2.23.0)\n",
            "Requirement already satisfied: geopandas>=0.6 in /usr/local/lib/python3.6/dist-packages (from osmnx) (0.7.0)\n",
            "Requirement already satisfied: matplotlib>=3.1 in /usr/local/lib/python3.6/dist-packages (from osmnx) (3.2.1)\n",
            "Requirement already satisfied: pandas>=1.0 in /usr/local/lib/python3.6/dist-packages (from osmnx) (1.0.3)\n",
            "Requirement already satisfied: Shapely>=1.7 in /usr/local/lib/python3.6/dist-packages (from osmnx) (1.7.0)\n",
            "Requirement already satisfied: pyproj>=2.4 in /usr/local/lib/python3.6/dist-packages (from osmnx) (2.6.0)\n",
            "Requirement already satisfied: descartes>=1.1 in /usr/local/lib/python3.6/dist-packages (from osmnx) (1.1.0)\n",
            "Requirement already satisfied: Rtree>=0.9 in /usr/local/lib/python3.6/dist-packages (from osmnx) (0.9.4)\n",
            "Requirement already satisfied: decorator>=4.3.0 in /usr/local/lib/python3.6/dist-packages (from networkx>=2.4->osmnx) (4.4.2)\n",
            "Requirement already satisfied: certifi>=2017.4.17 in /usr/local/lib/python3.6/dist-packages (from requests>=2.22->osmnx) (2019.11.28)\n",
            "Requirement already satisfied: chardet<4,>=3.0.2 in /usr/local/lib/python3.6/dist-packages (from requests>=2.22->osmnx) (3.0.4)\n",
            "Requirement already satisfied: idna<3,>=2.5 in /usr/local/lib/python3.6/dist-packages (from requests>=2.22->osmnx) (2.8)\n",
            "Requirement already satisfied: urllib3!=1.25.0,!=1.25.1,<1.26,>=1.21.1 in /usr/local/lib/python3.6/dist-packages (from requests>=2.22->osmnx) (1.24.3)\n",
            "Requirement already satisfied: fiona in /usr/local/lib/python3.6/dist-packages (from geopandas>=0.6->osmnx) (1.8.13.post1)\n",
            "Requirement already satisfied: pyparsing!=2.0.4,!=2.1.2,!=2.1.6,>=2.0.1 in /usr/local/lib/python3.6/dist-packages (from matplotlib>=3.1->osmnx) (2.4.6)\n",
            "Requirement already satisfied: python-dateutil>=2.1 in /usr/local/lib/python3.6/dist-packages (from matplotlib>=3.1->osmnx) (2.8.1)\n",
            "Requirement already satisfied: cycler>=0.10 in /usr/local/lib/python3.6/dist-packages (from matplotlib>=3.1->osmnx) (0.10.0)\n",
            "Requirement already satisfied: kiwisolver>=1.0.1 in /usr/local/lib/python3.6/dist-packages (from matplotlib>=3.1->osmnx) (1.2.0)\n",
            "Requirement already satisfied: pytz>=2017.2 in /usr/local/lib/python3.6/dist-packages (from pandas>=1.0->osmnx) (2018.9)\n",
            "Requirement already satisfied: setuptools in /usr/local/lib/python3.6/dist-packages (from Rtree>=0.9->osmnx) (46.1.3)\n",
            "Requirement already satisfied: six>=1.7 in /usr/local/lib/python3.6/dist-packages (from fiona->geopandas>=0.6->osmnx) (1.12.0)\n",
            "Requirement already satisfied: munch in /usr/local/lib/python3.6/dist-packages (from fiona->geopandas>=0.6->osmnx) (2.5.0)\n",
            "Requirement already satisfied: click-plugins>=1.0 in /usr/local/lib/python3.6/dist-packages (from fiona->geopandas>=0.6->osmnx) (1.1.1)\n",
            "Requirement already satisfied: attrs>=17 in /usr/local/lib/python3.6/dist-packages (from fiona->geopandas>=0.6->osmnx) (19.3.0)\n",
            "Requirement already satisfied: click<8,>=4.0 in /usr/local/lib/python3.6/dist-packages (from fiona->geopandas>=0.6->osmnx) (7.1.1)\n",
            "Requirement already satisfied: cligj>=0.5 in /usr/local/lib/python3.6/dist-packages (from fiona->geopandas>=0.6->osmnx) (0.5.0)\n"
          ],
          "name": "stdout"
        }
      ]
    },
    {
      "cell_type": "code",
      "metadata": {
        "colab_type": "code",
        "id": "RShXcYwX02sk",
        "outputId": "46d67396-5f21-4754-be59-7da7c04d0d4d",
        "colab": {
          "base_uri": "https://localhost:8080/",
          "height": 34
        }
      },
      "source": [
        "place_name = \"Singapore, Central, Singapore\"\n",
        "G = ox.save_load.load_graphml(filename=\"Singapore_drive_processed.graphml\")\n",
        "\n",
        "# Stores nodes and edges mapped with speed bands along with other attributes\n",
        "type(G)"
      ],
      "execution_count": 3,
      "outputs": [
        {
          "output_type": "execute_result",
          "data": {
            "text/plain": [
              "networkx.classes.multidigraph.MultiDiGraph"
            ]
          },
          "metadata": {
            "tags": []
          },
          "execution_count": 3
        }
      ]
    },
    {
      "cell_type": "code",
      "metadata": {
        "colab_type": "code",
        "id": "S1NMV7e402s9",
        "colab": {}
      },
      "source": [
        "edges = ox.graph_to_gdfs(G, nodes=False, edges=True)\n",
        "nodes = pd.read_pickle('data/nodes_drive.pkl')"
      ],
      "execution_count": 0,
      "outputs": []
    },
    {
      "cell_type": "code",
      "metadata": {
        "colab_type": "code",
        "id": "yiJwQczp02ti",
        "outputId": "3da3d106-0cdb-45d3-b1ca-e9c2289cdd3d",
        "colab": {
          "base_uri": "https://localhost:8080/",
          "height": 104
        }
      },
      "source": [
        "f = open(\"Fri Feb 14 09_06_16 2020.json\", \"r\").read()\n",
        "x = json.loads(f)\n",
        "\n",
        "speed_bands = pd.DataFrame.from_dict(x, orient='columns')\n",
        "process_speed_band(speed_bands)"
      ],
      "execution_count": 5,
      "outputs": [
        {
          "output_type": "stream",
          "text": [
            "/content/drive/My Drive/Sem 8 files/utils.py:51: SettingWithCopyWarning: \n",
            "A value is trying to be set on a copy of a slice from a DataFrame\n",
            "\n",
            "See the caveats in the documentation: https://pandas.pydata.org/pandas-docs/stable/user_guide/indexing.html#returning-a-view-versus-a-copy\n",
            "  df['MaximumSpeed'][i] = '80'\n"
          ],
          "name": "stderr"
        }
      ]
    },
    {
      "cell_type": "code",
      "metadata": {
        "colab_type": "code",
        "id": "j4ucj9bU02uI",
        "colab": {}
      },
      "source": [
        "calculate_congestion(G, edges, speed_bands)"
      ],
      "execution_count": 0,
      "outputs": []
    },
    {
      "cell_type": "code",
      "metadata": {
        "colab_type": "code",
        "id": "DXvM1T3-D588",
        "colab": {}
      },
      "source": [
        "# key: node label ,value: location\n",
        "idx = index.Index('data/bus_stops')"
      ],
      "execution_count": 0,
      "outputs": []
    },
    {
      "cell_type": "markdown",
      "metadata": {
        "colab_type": "text",
        "id": "pCb2mwI6D584"
      },
      "source": [
        "### Showing that hybrid search gives optimal solution always."
      ]
    },
    {
      "cell_type": "code",
      "metadata": {
        "colab_type": "code",
        "id": "W8E0y9fFD59I",
        "colab": {}
      },
      "source": [
        "def find_nearest_nodes(source, dist, idx):\n",
        "    # Create a bounding box around source of min distance in all directions\n",
        "    (north, south, east, west) = ox.bbox_from_point(point=source, distance=dist)\n",
        "    \n",
        "    candidate_nodes = list(idx.intersection((west, south, east, north)))    \n",
        "    return candidate_nodes"
      ],
      "execution_count": 0,
      "outputs": []
    },
    {
      "cell_type": "code",
      "metadata": {
        "colab_type": "code",
        "id": "Q-zt3gxTD59T",
        "colab": {}
      },
      "source": [
        "def get_length_dict(sources, destinations, method='euclidean'):\n",
        "    distances = dict()\n",
        "    \n",
        "    if method == 'euclidean':\n",
        "        for source in sources:        \n",
        "            for dest in destinations:\n",
        "                ed = haversine_distance(nodes, source, dest)\n",
        "                distances[source,dest] = ed/13.8889\n",
        "    else:\n",
        "        for source in sources:        \n",
        "            for dest in destinations:\n",
        "                try:\n",
        "                    # dijsktra distance in sec\n",
        "                    d = nx.shortest_path_length(G, source, dest, weight='BPR', method='dijkstra')\n",
        "                except nx.NetworkXUnfeasible:\n",
        "                    d = float('inf')\n",
        "                distances[(source,dest)] = d\n",
        "       \n",
        "    # sort the dictionary in ascending order using distances\n",
        "    x = sorted(distances.items(), key = lambda kv:(kv[1], kv[0]))\n",
        "    return x    "
      ],
      "execution_count": 0,
      "outputs": []
    },
    {
      "cell_type": "code",
      "metadata": {
        "colab_type": "code",
        "id": "KU0UougTpgBK",
        "colab": {}
      },
      "source": [
        "def lets_do_this():\n",
        "  # get 10 random sources\n",
        "  sources = []\n",
        "  for i in range(10):\n",
        "      r = random.randint(0,23210)\n",
        "      s = nodes['osmid'].values[r]\n",
        "      sources.append(s)\n",
        "      \n",
        "  # get 10 correspondig random targets\n",
        "  targets = []\n",
        "  for i in range(10):\n",
        "      r = random.randint(0,23210)\n",
        "      t = nodes['osmid'].values[r]\n",
        "      targets.append(t)\n",
        "\n",
        "  hybrid = []\n",
        "  exhaustive = []\n",
        "  for s,t in zip(sources,targets):\n",
        "      orig_point = nodes[nodes['osmid'] == s].geometry.values[0]\n",
        "      target_point = nodes[nodes['osmid'] == t].geometry.values[0]\n",
        "      orig_xy = (orig_point.y, orig_point.x)\n",
        "      target_xy = (target_point.y, target_point.x)\n",
        "      \n",
        "      # Max distance for walking is 720m (10 min * 1.2 m/s)\n",
        "      # Find all nodes within 720 m from candidate sources and candidate destinations\n",
        "      candidate_dest = find_nearest_nodes(target_xy, 720, idx)\n",
        "      candidate_source = find_nearest_nodes(orig_xy, 720, idx)\n",
        "      \n",
        "      real_lengths = dict(get_length_dict(candidate_source, candidate_dest, method='dijkstra'))\n",
        "      euclidean = get_length_dict(candidate_source, candidate_dest)\n",
        "      \n",
        "      # value1: hybrid, value2: exhaustive\n",
        "      value1 = hybrid_search_length(G, euclidean, real_lengths)\n",
        "      hybrid.append(value1)\n",
        "\n",
        "      key = next(iter(real_lengths))      \n",
        "      value2 = real_lengths[key]\n",
        "      exhaustive.append(value2)\n",
        "\n",
        "      print(s, t, value1, value2)\n",
        "      \n",
        "  # take mean of deviations\n",
        "  return hybrid, exhaustive"
      ],
      "execution_count": 0,
      "outputs": []
    },
    {
      "cell_type": "code",
      "metadata": {
        "colab_type": "code",
        "id": "CVprJshmD59h",
        "outputId": "3d618042-6cf5-4baa-fd04-bb47e726b02d",
        "colab": {
          "base_uri": "https://localhost:8080/",
          "height": 191
        }
      },
      "source": [
        "hybrid, exhaustive = lets_do_this()"
      ],
      "execution_count": 11,
      "outputs": [
        {
          "output_type": "stream",
          "text": [
            "1357035001 439978014 1753.1214903962173 1753.1214903962173\n",
            "7013732721 6038625552 803.308563702108 803.308563702108\n",
            "1818808468 246801940 1389.3701809723025 1389.3701809723025\n",
            "6278098444 158016522 1067.055560325606 1067.055560325606\n",
            "243507369 1539883549 609.6308891929929 609.6308891929929\n",
            "1205809969 1110929999 2532.638681321187 2532.638681321187\n",
            "248018507 7018501234 248.401565945956 248.401565945956\n",
            "1389166375 6979507962 0 0\n",
            "4606359556 246294533 1132.9601062889915 1132.9601062889915\n",
            "5171971636 1347469864 1245.205902731469 1245.205902731469\n"
          ],
          "name": "stdout"
        }
      ]
    },
    {
      "cell_type": "code",
      "metadata": {
        "id": "pf9Yo12zzYUJ",
        "colab_type": "code",
        "colab": {
          "base_uri": "https://localhost:8080/",
          "height": 369
        },
        "outputId": "197772bd-0e37-40e7-aa88-dfe90740a3f3"
      },
      "source": [
        "# Plot them\n",
        "import matplotlib.pyplot as plt\n",
        "\n",
        "labels = [x for x in range(1,11)]\n",
        "x = np.arange(len(labels))  # the label locations\n",
        "width = 0.35  # the width of the bars\n",
        "\n",
        "fig, ax = plt.subplots(figsize=(10, 5))\n",
        "rects1 = ax.bar(x - width/2, exhaustive, width, label='Exhaustive')\n",
        "rects2 = ax.bar(x + width/2, hybrid, width, label='Hybrid')\n",
        "\n",
        "# Add some text for labels, title and custom x-axis tick labels, etc.\n",
        "ax.set_ylabel('Travel times(in secs)')\n",
        "ax.set_xlabel('Customer requests')\n",
        "ax.set_title('Travel time given by Hybrid search and Exhaustive search')\n",
        "ax.set_xticks(x)\n",
        "ax.set_xticklabels(labels)\n",
        "ax.legend()\n",
        "\n",
        "fig.tight_layout()"
      ],
      "execution_count": 25,
      "outputs": [
        {
          "output_type": "display_data",
          "data": {
            "image/png": "[encoded data removed]",
            "text/plain": [
              "<Figure size 720x360 with 1 Axes>"
            ]
          },
          "metadata": {
            "tags": []
          }
        }
      ]
    },
    {
      "cell_type": "code",
      "metadata": {
        "colab_type": "code",
        "id": "4N5ZVU9eTK2A",
        "colab": {}
      },
      "source": [
        ""
      ],
      "execution_count": 0,
      "outputs": []
    }
  ]
}