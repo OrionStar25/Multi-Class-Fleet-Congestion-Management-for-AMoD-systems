{
 "cells": [
  {
   "cell_type": "code",
   "execution_count": 1,
   "metadata": {},
   "outputs": [],
   "source": [
    "import osmnx as ox\n",
    "import matplotlib.pyplot as plt\n",
    "import networkx as nx\n",
    "import geopandas as gpd\n",
    "import pandas as pd\n",
    "import numpy as np\n",
    "import json\n",
    "import math\n",
    "\n",
    "from shapely.geometry import box, Point, LineString\n",
    "from heapq import heappush, heappop\n",
    "from itertools import count"
   ]
  },
  {
   "cell_type": "code",
   "execution_count": 2,
   "metadata": {},
   "outputs": [
    {
     "data": {
      "text/plain": [
       "networkx.classes.multidigraph.MultiDiGraph"
      ]
     },
     "execution_count": 2,
     "metadata": {},
     "output_type": "execute_result"
    }
   ],
   "source": [
    "place_name = \"Singapore, Central, Singapore\"\n",
    "# G = ox.graph_from_place(place_name, network_type='drive')\n",
    "# ox.save_load.save_graphml(G, filename='Singapore_drive.graphml', folder=None, gephi=False)\n",
    "\n",
    "graph = ox.save_load.load_graphml(filename=\"Singapore_drive.graphml\", folder=None)\n",
    "\n",
    "# Stores nodes and edges along with other attributes\n",
    "type(graph)"
   ]
  },
  {
   "cell_type": "code",
   "execution_count": 3,
   "metadata": {},
   "outputs": [],
   "source": [
    "nodes, edges = ox.graph_to_gdfs(graph, nodes=True, edges=True)\n",
    "#to save the dataframe\n",
    "nodes.to_pickle('data/nodes.pkl')   "
   ]
  },
  {
   "cell_type": "code",
   "execution_count": 4,
   "metadata": {},
   "outputs": [],
   "source": [
    "def process_edges(edges):\n",
    "    # Remove null, list, and convert to int ---> maxspeed (km/hr)\n",
    "    edges['maxspeed'].fillna('40', inplace=True)\n",
    "\n",
    "    i = 0\n",
    "    for x in edges['maxspeed']:\n",
    "        if type(x) == list:\n",
    "            edges['maxspeed'][i] = max(x)\n",
    "        i += 1    \n",
    "\n",
    "    edges['maxspeed'] = edges['maxspeed'].astype(float)\n",
    "    \n",
    "\n",
    "    # Define free-flow time t(u,v) in sec\n",
    "    travel_time = []\n",
    "    for l,s in zip(edges['length'], edges['maxspeed']):\n",
    "        t = (3600*l)/(1000*s)\n",
    "        travel_time.append(t)\n",
    "\n",
    "    edges['travel_time'] = travel_time    \n",
    "    \n",
    "    # Drop unnecessary columns\n",
    "    edges.drop(['lanes','bridge','tunnel','ref','junction','access','service','width'], axis=1, inplace=True)"
   ]
  },
  {
   "cell_type": "code",
   "execution_count": 5,
   "metadata": {},
   "outputs": [
    {
     "name": "stderr",
     "output_type": "stream",
     "text": [
      "/home/orionstar25/.local/lib/python3.6/site-packages/ipykernel_launcher.py:8: SettingWithCopyWarning: \n",
      "A value is trying to be set on a copy of a slice from a DataFrame\n",
      "\n",
      "See the caveats in the documentation: https://pandas.pydata.org/pandas-docs/stable/user_guide/indexing.html#returning-a-view-versus-a-copy\n",
      "  \n"
     ]
    },
    {
     "data": {
      "text/html": [
       "<div>\n",
       "<style scoped>\n",
       "    .dataframe tbody tr th:only-of-type {\n",
       "        vertical-align: middle;\n",
       "    }\n",
       "\n",
       "    .dataframe tbody tr th {\n",
       "        vertical-align: top;\n",
       "    }\n",
       "\n",
       "    .dataframe thead th {\n",
       "        text-align: right;\n",
       "    }\n",
       "</style>\n",
       "<table border=\"1\" class=\"dataframe\">\n",
       "  <thead>\n",
       "    <tr style=\"text-align: right;\">\n",
       "      <th></th>\n",
       "      <th>u</th>\n",
       "      <th>v</th>\n",
       "      <th>key</th>\n",
       "      <th>osmid</th>\n",
       "      <th>oneway</th>\n",
       "      <th>name</th>\n",
       "      <th>highway</th>\n",
       "      <th>maxspeed</th>\n",
       "      <th>length</th>\n",
       "      <th>travel_time</th>\n",
       "      <th>Location</th>\n",
       "    </tr>\n",
       "  </thead>\n",
       "  <tbody>\n",
       "    <tr>\n",
       "      <th>0</th>\n",
       "      <td>1820000257</td>\n",
       "      <td>1865254946</td>\n",
       "      <td>0</td>\n",
       "      <td>174765824</td>\n",
       "      <td>True</td>\n",
       "      <td>Tampines Avenue 8</td>\n",
       "      <td>tertiary</td>\n",
       "      <td>60.0</td>\n",
       "      <td>14.248</td>\n",
       "      <td>0.85488</td>\n",
       "      <td>(1.3565805, 103.9326163, 1.3566943, 103.9326752)</td>\n",
       "    </tr>\n",
       "    <tr>\n",
       "      <th>1</th>\n",
       "      <td>1820000257</td>\n",
       "      <td>4662056865</td>\n",
       "      <td>0</td>\n",
       "      <td>587044201</td>\n",
       "      <td>True</td>\n",
       "      <td>Tampines Avenue 5</td>\n",
       "      <td>primary</td>\n",
       "      <td>60.0</td>\n",
       "      <td>27.282</td>\n",
       "      <td>1.63692</td>\n",
       "      <td>(1.3565805, 103.9323996, 1.3566955, 103.9326163)</td>\n",
       "    </tr>\n",
       "    <tr>\n",
       "      <th>2</th>\n",
       "      <td>3874553858</td>\n",
       "      <td>6995781882</td>\n",
       "      <td>0</td>\n",
       "      <td>384254693</td>\n",
       "      <td>False</td>\n",
       "      <td>Fidelio Street</td>\n",
       "      <td>tertiary</td>\n",
       "      <td>40.0</td>\n",
       "      <td>20.740</td>\n",
       "      <td>1.86660</td>\n",
       "      <td>(1.3191823, 103.9212368, 1.3192215, 103.9214192)</td>\n",
       "    </tr>\n",
       "    <tr>\n",
       "      <th>3</th>\n",
       "      <td>3874553858</td>\n",
       "      <td>3874553861</td>\n",
       "      <td>0</td>\n",
       "      <td>384254631</td>\n",
       "      <td>True</td>\n",
       "      <td>Fidelio Street</td>\n",
       "      <td>tertiary</td>\n",
       "      <td>40.0</td>\n",
       "      <td>15.191</td>\n",
       "      <td>1.36719</td>\n",
       "      <td>(1.3191111, 103.9211207, 1.3191823, 103.9212368)</td>\n",
       "    </tr>\n",
       "    <tr>\n",
       "      <th>4</th>\n",
       "      <td>1820000259</td>\n",
       "      <td>245190289</td>\n",
       "      <td>0</td>\n",
       "      <td>170861145</td>\n",
       "      <td>True</td>\n",
       "      <td>Tampines Avenue 8</td>\n",
       "      <td>tertiary</td>\n",
       "      <td>60.0</td>\n",
       "      <td>13.573</td>\n",
       "      <td>0.81438</td>\n",
       "      <td>(1.3565404, 103.9326858, 1.3566471, 103.9327451)</td>\n",
       "    </tr>\n",
       "  </tbody>\n",
       "</table>\n",
       "</div>"
      ],
      "text/plain": [
       "            u           v  key      osmid  oneway               name  \\\n",
       "0  1820000257  1865254946    0  174765824    True  Tampines Avenue 8   \n",
       "1  1820000257  4662056865    0  587044201    True  Tampines Avenue 5   \n",
       "2  3874553858  6995781882    0  384254693   False     Fidelio Street   \n",
       "3  3874553858  3874553861    0  384254631    True     Fidelio Street   \n",
       "4  1820000259   245190289    0  170861145    True  Tampines Avenue 8   \n",
       "\n",
       "    highway  maxspeed  length  travel_time  \\\n",
       "0  tertiary      60.0  14.248      0.85488   \n",
       "1   primary      60.0  27.282      1.63692   \n",
       "2  tertiary      40.0  20.740      1.86660   \n",
       "3  tertiary      40.0  15.191      1.36719   \n",
       "4  tertiary      60.0  13.573      0.81438   \n",
       "\n",
       "                                           Location  \n",
       "0  (1.3565805, 103.9326163, 1.3566943, 103.9326752)  \n",
       "1  (1.3565805, 103.9323996, 1.3566955, 103.9326163)  \n",
       "2  (1.3191823, 103.9212368, 1.3192215, 103.9214192)  \n",
       "3  (1.3191111, 103.9211207, 1.3191823, 103.9212368)  \n",
       "4  (1.3565404, 103.9326858, 1.3566471, 103.9327451)  "
      ]
     },
     "execution_count": 5,
     "metadata": {},
     "output_type": "execute_result"
    }
   ],
   "source": [
    "process_edges(edges)\n",
    "edges.head()"
   ]
  },
  {
   "cell_type": "code",
   "execution_count": 6,
   "metadata": {},
   "outputs": [],
   "source": [
    "G = ox.gdfs_to_graph(nodes, edges)\n",
    "ox.save_load.save_graphml(G, filename='Singapore_processed.graphml', folder=None, gephi=False)"
   ]
  },
  {
   "cell_type": "code",
   "execution_count": 1,
   "metadata": {},
   "outputs": [],
   "source": [
    "def euclidean_dist(nodes):\n",
    "    #key: (u,v) value: dist \n",
    "    # euc_dist = dict()\n",
    "    lat = nodes['y']\n",
    "    long = nodes['x']\n",
    "    ids = nodes['osmid']\n",
    "\n",
    "    with open('euclidean_distances.json', 'a') as f:\n",
    "        f.write('{\\n')\n",
    "\n",
    "        for lat_1, lon_1, u in zip(lat,long,ids):\n",
    "            for lat_2, lon_2, v in zip(lat,long,ids):\n",
    "                # distance in metres\n",
    "                d = 1000 * ((lat_1-lat_2)**2 + (lon_1-lon_2)**2)**0.5\n",
    "                content = \"({},{}) : {}\\n\"\n",
    "                print(content.format(u,v,d))\n",
    "                f.write(content.format(u,v,d))\n",
    "                f.write(content.format(v,u,d))\n",
    "        f.write('}\\n')"
   ]
  },
  {
   "cell_type": "code",
   "execution_count": null,
   "metadata": {},
   "outputs": [],
   "source": [
    "euclidean_dist(nodes)"
   ]
  },
  {
   "cell_type": "code",
   "execution_count": 2,
   "metadata": {},
   "outputs": [],
   "source": [
    "nodes = pd.read_pickle('data/nodes.pkl')"
   ]
  },
  {
   "cell_type": "code",
   "execution_count": 13,
   "metadata": {},
   "outputs": [
    {
     "data": {
      "text/plain": [
       "array(['traffic_signals', nan, 'turning_circle', 'crossing',\n",
       "       'motorway_junction', 'turning_loop', 'speed_camera',\n",
       "       'mini_roundabout', 'stop'], dtype=object)"
      ]
     },
     "execution_count": 13,
     "metadata": {},
     "output_type": "execute_result"
    }
   ],
   "source": [
    "nodes['highway'].unique()"
   ]
  }
 ],
 "metadata": {
  "kernelspec": {
   "display_name": "Python 3",
   "language": "python",
   "name": "python3"
  },
  "language_info": {
   "codemirror_mode": {
    "name": "ipython",
    "version": 3
   },
   "file_extension": ".py",
   "mimetype": "text/x-python",
   "name": "python",
   "nbconvert_exporter": "python",
   "pygments_lexer": "ipython3",
   "version": "3.6.10"
  }
 },
 "nbformat": 4,
 "nbformat_minor": 2
}
