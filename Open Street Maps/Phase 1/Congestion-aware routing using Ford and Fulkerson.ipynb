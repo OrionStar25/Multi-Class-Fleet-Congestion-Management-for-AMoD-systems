{
 "cells": [
  {
   "cell_type": "code",
   "execution_count": 22,
   "metadata": {},
   "outputs": [],
   "source": [
    "import osmnx as ox\n",
    "import matplotlib.pyplot as plt\n",
    "import networkx as nx\n",
    "import geopandas as gpd\n",
    "import pandas as pd\n",
    "import numpy as np\n",
    "import json\n",
    "import math\n",
    "import random\n",
    "\n",
    "from shapely.geometry import box, Point, LineString\n",
    "from heapq import heappush, heappop\n",
    "from itertools import count\n",
    "from networkx.algorithms.flow import edmonds_karp"
   ]
  },
  {
   "cell_type": "code",
   "execution_count": 2,
   "metadata": {},
   "outputs": [
    {
     "data": {
      "text/plain": [
       "networkx.classes.multidigraph.MultiDiGraph"
      ]
     },
     "execution_count": 2,
     "metadata": {},
     "output_type": "execute_result"
    }
   ],
   "source": [
    "place_name = \"Singapore, Central, Singapore\"\n",
    "graph = ox.save_load.load_graphml(filename=\"Singapore_drive.graphml\", folder=None)\n",
    "\n",
    "# Stores nodes and edges along with other attributes\n",
    "type(graph)"
   ]
  },
  {
   "cell_type": "code",
   "execution_count": 3,
   "metadata": {},
   "outputs": [
    {
     "name": "stderr",
     "output_type": "stream",
     "text": [
      "/home/orionstar25/.local/lib/python3.6/site-packages/ipykernel_launcher.py:13: SettingWithCopyWarning: \n",
      "A value is trying to be set on a copy of a slice from a DataFrame\n",
      "\n",
      "See the caveats in the documentation: https://pandas.pydata.org/pandas-docs/stable/user_guide/indexing.html#returning-a-view-versus-a-copy\n",
      "  del sys.path[0]\n"
     ]
    }
   ],
   "source": [
    "# Preprocess edges for easy computation\n",
    "nodes, edges = ox.graph_to_gdfs(graph, nodes=True, edges=True)\n",
    "\n",
    "# Drop unnecessary columns\n",
    "edges = edges.drop(['lanes','bridge','tunnel','ref','junction','access','service','width'], axis=1)\n",
    "\n",
    "# Remove null, list, and convert to int ---> maxspeed\n",
    "edges['maxspeed'].fillna('40', inplace=True)\n",
    "\n",
    "i = 0\n",
    "for x in edges['maxspeed']:\n",
    "    if type(x) == list:\n",
    "        edges['maxspeed'][i] = max(x)\n",
    "    i += 1    \n",
    "    \n",
    "edges['maxspeed'] = edges['maxspeed'].astype(int)\n",
    "\n",
    "# Upper bound length\n",
    "edges['length'] = [math.ceil(x) for x in edges['length']]\n",
    "\n",
    "# Define capacity of cars on the road\n",
    "capacity = [random.randrange(835,905) for i in range(len(edges['u']))]\n",
    "edges['capacity'] = capacity\n",
    "\n",
    "# Define cost as travel time in sec*100\n",
    "travel_time = []\n",
    "for l,s in zip(edges['length'], edges['maxspeed']):\n",
    "    t = (l*3600)/(s*1000)\n",
    "    travel_time.append(int(t*100))\n",
    "\n",
    "edges['travel_time'] = travel_time"
   ]
  },
  {
   "cell_type": "code",
   "execution_count": 4,
   "metadata": {},
   "outputs": [
    {
     "data": {
      "text/html": [
       "<div>\n",
       "<style scoped>\n",
       "    .dataframe tbody tr th:only-of-type {\n",
       "        vertical-align: middle;\n",
       "    }\n",
       "\n",
       "    .dataframe tbody tr th {\n",
       "        vertical-align: top;\n",
       "    }\n",
       "\n",
       "    .dataframe thead th {\n",
       "        text-align: right;\n",
       "    }\n",
       "</style>\n",
       "<table border=\"1\" class=\"dataframe\">\n",
       "  <thead>\n",
       "    <tr style=\"text-align: right;\">\n",
       "      <th></th>\n",
       "      <th>u</th>\n",
       "      <th>v</th>\n",
       "      <th>key</th>\n",
       "      <th>osmid</th>\n",
       "      <th>oneway</th>\n",
       "      <th>name</th>\n",
       "      <th>highway</th>\n",
       "      <th>maxspeed</th>\n",
       "      <th>length</th>\n",
       "      <th>geometry</th>\n",
       "      <th>capacity</th>\n",
       "      <th>travel_time</th>\n",
       "    </tr>\n",
       "  </thead>\n",
       "  <tbody>\n",
       "    <tr>\n",
       "      <th>0</th>\n",
       "      <td>1820000257</td>\n",
       "      <td>1865254946</td>\n",
       "      <td>0</td>\n",
       "      <td>174765824</td>\n",
       "      <td>True</td>\n",
       "      <td>Tampines Avenue 8</td>\n",
       "      <td>tertiary</td>\n",
       "      <td>60</td>\n",
       "      <td>15</td>\n",
       "      <td>LINESTRING (103.93262 1.35658, 103.93268 1.35669)</td>\n",
       "      <td>868</td>\n",
       "      <td>90</td>\n",
       "    </tr>\n",
       "    <tr>\n",
       "      <th>1</th>\n",
       "      <td>1820000257</td>\n",
       "      <td>4662056865</td>\n",
       "      <td>0</td>\n",
       "      <td>587044201</td>\n",
       "      <td>True</td>\n",
       "      <td>Tampines Avenue 5</td>\n",
       "      <td>primary</td>\n",
       "      <td>60</td>\n",
       "      <td>28</td>\n",
       "      <td>LINESTRING (103.93262 1.35658, 103.93251 1.356...</td>\n",
       "      <td>846</td>\n",
       "      <td>168</td>\n",
       "    </tr>\n",
       "    <tr>\n",
       "      <th>2</th>\n",
       "      <td>3874553858</td>\n",
       "      <td>6995781882</td>\n",
       "      <td>0</td>\n",
       "      <td>384254693</td>\n",
       "      <td>False</td>\n",
       "      <td>Fidelio Street</td>\n",
       "      <td>tertiary</td>\n",
       "      <td>40</td>\n",
       "      <td>21</td>\n",
       "      <td>LINESTRING (103.92124 1.31918, 103.92142 1.31922)</td>\n",
       "      <td>878</td>\n",
       "      <td>189</td>\n",
       "    </tr>\n",
       "    <tr>\n",
       "      <th>3</th>\n",
       "      <td>3874553858</td>\n",
       "      <td>3874553861</td>\n",
       "      <td>0</td>\n",
       "      <td>384254631</td>\n",
       "      <td>True</td>\n",
       "      <td>Fidelio Street</td>\n",
       "      <td>tertiary</td>\n",
       "      <td>40</td>\n",
       "      <td>16</td>\n",
       "      <td>LINESTRING (103.92124 1.31918, 103.92118 1.319...</td>\n",
       "      <td>876</td>\n",
       "      <td>144</td>\n",
       "    </tr>\n",
       "    <tr>\n",
       "      <th>4</th>\n",
       "      <td>1820000259</td>\n",
       "      <td>245190289</td>\n",
       "      <td>0</td>\n",
       "      <td>170861145</td>\n",
       "      <td>True</td>\n",
       "      <td>Tampines Avenue 8</td>\n",
       "      <td>tertiary</td>\n",
       "      <td>60</td>\n",
       "      <td>14</td>\n",
       "      <td>LINESTRING (103.93275 1.35665, 103.93269 1.35654)</td>\n",
       "      <td>878</td>\n",
       "      <td>84</td>\n",
       "    </tr>\n",
       "  </tbody>\n",
       "</table>\n",
       "</div>"
      ],
      "text/plain": [
       "            u           v  key      osmid  oneway               name  \\\n",
       "0  1820000257  1865254946    0  174765824    True  Tampines Avenue 8   \n",
       "1  1820000257  4662056865    0  587044201    True  Tampines Avenue 5   \n",
       "2  3874553858  6995781882    0  384254693   False     Fidelio Street   \n",
       "3  3874553858  3874553861    0  384254631    True     Fidelio Street   \n",
       "4  1820000259   245190289    0  170861145    True  Tampines Avenue 8   \n",
       "\n",
       "    highway  maxspeed  length  \\\n",
       "0  tertiary        60      15   \n",
       "1   primary        60      28   \n",
       "2  tertiary        40      21   \n",
       "3  tertiary        40      16   \n",
       "4  tertiary        60      14   \n",
       "\n",
       "                                            geometry  capacity  travel_time  \n",
       "0  LINESTRING (103.93262 1.35658, 103.93268 1.35669)       868           90  \n",
       "1  LINESTRING (103.93262 1.35658, 103.93251 1.356...       846          168  \n",
       "2  LINESTRING (103.92124 1.31918, 103.92142 1.31922)       878          189  \n",
       "3  LINESTRING (103.92124 1.31918, 103.92118 1.319...       876          144  \n",
       "4  LINESTRING (103.93275 1.35665, 103.93269 1.35654)       878           84  "
      ]
     },
     "execution_count": 4,
     "metadata": {},
     "output_type": "execute_result"
    }
   ],
   "source": [
    "edges.head()"
   ]
  },
  {
   "cell_type": "code",
   "execution_count": 5,
   "metadata": {},
   "outputs": [],
   "source": [
    "G = ox.gdfs_to_graph(nodes, edges)"
   ]
  },
  {
   "cell_type": "code",
   "execution_count": 6,
   "metadata": {},
   "outputs": [
    {
     "data": {
      "text/plain": [
       "networkx.classes.digraph.DiGraph"
      ]
     },
     "execution_count": 6,
     "metadata": {},
     "output_type": "execute_result"
    }
   ],
   "source": [
    "H = nx.DiGraph(G)\n",
    "type(H)"
   ]
  },
  {
   "cell_type": "markdown",
   "metadata": {},
   "source": [
    "### Finding shortest route between centroid of map and another point"
   ]
  },
  {
   "cell_type": "code",
   "execution_count": 7,
   "metadata": {},
   "outputs": [
    {
     "name": "stdout",
     "output_type": "stream",
     "text": [
      "POINT (103.8228094 1.35161845)\n"
     ]
    }
   ],
   "source": [
    "# Boundary Box of entire area\n",
    "bbox = box(*edges.unary_union.bounds)\n",
    "orig_point = bbox.centroid\n",
    "print(orig_point)"
   ]
  },
  {
   "cell_type": "code",
   "execution_count": 8,
   "metadata": {},
   "outputs": [
    {
     "name": "stdout",
     "output_type": "stream",
     "text": [
      "POINT (103.9326163 1.3565805)\n"
     ]
    }
   ],
   "source": [
    "target_point = nodes[nodes['osmid'] == 1820000257].geometry.values[0]\n",
    "print(target_point)"
   ]
  },
  {
   "cell_type": "code",
   "execution_count": 9,
   "metadata": {},
   "outputs": [],
   "source": [
    "orig_xy = (orig_point.y, orig_point.x)\n",
    "target_xy = (target_point.y, target_point.x)"
   ]
  },
  {
   "cell_type": "code",
   "execution_count": 10,
   "metadata": {},
   "outputs": [],
   "source": [
    "def find_nearest_nodes(source, dist, G):\n",
    "    # Create a bounding box around source of min distance in all directions\n",
    "    (north, south, east, west) = ox.bbox_from_point(point=source, distance=dist)\n",
    "    \n",
    "    # Create truncated graph from box\n",
    "    small_graph = ox.truncate_graph_bbox(G, north, south, east, west)\n",
    "    \n",
    "    # Get all nodes inside the bbox --> candidate destinations\n",
    "    nodes = ox.graph_to_gdfs(small_graph, nodes=True, edges=False)\n",
    "    candidate_dest = nodes['osmid'].tolist()\n",
    "    \n",
    "    return candidate_dest  \n"
   ]
  },
  {
   "cell_type": "code",
   "execution_count": 23,
   "metadata": {},
   "outputs": [],
   "source": [
    "# Max distance for walking is 720m (10 min * 1.2 m/s)\n",
    "# Find all nodes within 720 m from starting point (target_xy) ---> candidate destinations\n",
    "\n",
    "candidate_dest = find_nearest_nodes(target_xy, 720, graph)"
   ]
  },
  {
   "cell_type": "code",
   "execution_count": 12,
   "metadata": {},
   "outputs": [
    {
     "name": "stdout",
     "output_type": "stream",
     "text": [
      "5698333646\n"
     ]
    }
   ],
   "source": [
    "orig_node = ox.get_nearest_node(graph, orig_xy, method='euclidean')\n",
    "print(orig_node)"
   ]
  },
  {
   "cell_type": "code",
   "execution_count": 28,
   "metadata": {},
   "outputs": [],
   "source": [
    "# Perform ford-fulkerson for all paths\n",
    "max_flow = 0\n",
    "target = 0\n",
    "r = nx.DiGraph()\n",
    "\n",
    "for candidate_node in candidate_dest:    \n",
    "    R = edmonds_karp(H, orig_node, candidate_node)    \n",
    "    if R.graph['flow_value'] > max_flow:\n",
    "        max_flow = R.graph['flow_value']\n",
    "        target = candidate_node\n",
    "        r = R"
   ]
  },
  {
   "cell_type": "code",
   "execution_count": 48,
   "metadata": {},
   "outputs": [
    {
     "name": "stdout",
     "output_type": "stream",
     "text": [
      "837 1820000257\n"
     ]
    }
   ],
   "source": [
    "print(max_flow, target)"
   ]
  },
  {
   "cell_type": "code",
   "execution_count": 42,
   "metadata": {},
   "outputs": [
    {
     "name": "stdout",
     "output_type": "stream",
     "text": [
      "[5698333646, 5698333649, 3784797715, 3784797714, 3998723969, 1318459258, 1318459222, 5698393564, 1318459289, 1318459219, 4727949660, 6913094587, 206256152, 5648108236, 5952941494, 5984801300, 6895851975, 1318498426, 248889863, 206256177, 1318498406, 1857011360, 5698520999, 5698521003, 3251145329, 206089468, 206256184, 175280151, 439978076, 1794586972, 239934510, 239934388, 924800650, 439991742, 439991732, 239905692, 924799021, 239905578, 239886387, 239886200, 239885744, 633167565, 1561754904, 395271696, 244993715, 244993663, 244993823, 1790030776, 1831390121, 1819975128, 1819975126, 1819975122, 4668456813, 1820026224, 1820026216, 4662056865, 1820000257]\n"
     ]
    }
   ],
   "source": [
    "route = nx.shortest_path(r, source=orig_node, target=target, weight='travel_time')\n",
    "print(route)"
   ]
  },
  {
   "cell_type": "code",
   "execution_count": null,
   "metadata": {},
   "outputs": [],
   "source": []
  }
 ],
 "metadata": {
  "kernelspec": {
   "display_name": "Python 3",
   "language": "python",
   "name": "python3"
  },
  "language_info": {
   "codemirror_mode": {
    "name": "ipython",
    "version": 3
   },
   "file_extension": ".py",
   "mimetype": "text/x-python",
   "name": "python",
   "nbconvert_exporter": "python",
   "pygments_lexer": "ipython3",
   "version": "3.6.10"
  }
 },
 "nbformat": 4,
 "nbformat_minor": 2
}
