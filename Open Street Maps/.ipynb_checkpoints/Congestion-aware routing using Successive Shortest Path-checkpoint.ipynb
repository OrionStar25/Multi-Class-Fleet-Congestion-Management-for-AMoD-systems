{
 "cells": [
  {
   "cell_type": "code",
   "execution_count": 1,
   "metadata": {},
   "outputs": [],
   "source": [
    "import osmnx as ox\n",
    "import matplotlib.pyplot as plt\n",
    "import networkx as nx\n",
    "import geopandas as gpd\n",
    "import pandas as pd\n",
    "import numpy as np\n",
    "import json\n",
    "import math\n",
    "\n",
    "from shapely.geometry import box\n",
    "from heapq import heappush, heappop\n",
    "from itertools import count\n",
    "from rtree import index"
   ]
  },
  {
   "cell_type": "code",
   "execution_count": 2,
   "metadata": {},
   "outputs": [
    {
     "data": {
      "text/plain": [
       "networkx.classes.multidigraph.MultiDiGraph"
      ]
     },
     "execution_count": 2,
     "metadata": {},
     "output_type": "execute_result"
    }
   ],
   "source": [
    "place_name = \"Singapore, Central, Singapore\"\n",
    "G = ox.save_load.load_graphml(filename=\"Singapore_processed.graphml\")\n",
    "\n",
    "# Stores nodes and edges mapped with speed bands along with other attributes\n",
    "type(G)"
   ]
  },
  {
   "cell_type": "code",
   "execution_count": 3,
   "metadata": {},
   "outputs": [],
   "source": [
    "nodes, edges = ox.graph_to_gdfs(G, nodes=True, edges=True)"
   ]
  },
  {
   "cell_type": "code",
   "execution_count": 4,
   "metadata": {},
   "outputs": [],
   "source": [
    "def process_speed_band(df):\n",
    "    \n",
    "    # Define Locations\n",
    "    def truncate(number, digits) -> float:\n",
    "        stepper = 10.0 ** digits\n",
    "        return math.trunc(stepper * number) / stepper\n",
    "    \n",
    "    location = df['Location'].values\n",
    "    i = 0\n",
    "    \n",
    "    for loc in location:\n",
    "        x1, y1, x2, y2 = [float(n) for n in loc.split(' ')]\n",
    "        \n",
    "        x1 = truncate(x1, 7)\n",
    "        y1 = truncate(y1, 7)\n",
    "        x2 = truncate(x2, 7)\n",
    "        y2 = truncate(y2, 7)\n",
    "        \n",
    "        if y1 < y2:\n",
    "            bottom = y1\n",
    "            top = y2\n",
    "        else:\n",
    "            bottom = y2\n",
    "            top = y1\n",
    "            \n",
    "        if x1 < x2:\n",
    "            left = x1\n",
    "            right = x2\n",
    "        else:\n",
    "            left = x2\n",
    "            right = x1\n",
    "        \n",
    "        df['Location'].values[i] = (left, bottom, right, top)\n",
    "        i += 1 \n",
    "    \n",
    "    # Process maximum speeds\n",
    "    i = 0\n",
    "    for x in df['SpeedBand']:\n",
    "        if x == 0:\n",
    "            df['MaximumSpeed'][i] = '50'\n",
    "        i += 1 "
   ]
  },
  {
   "cell_type": "code",
   "execution_count": 5,
   "metadata": {},
   "outputs": [
    {
     "name": "stderr",
     "output_type": "stream",
     "text": [
      "/home/orionstar25/.local/lib/python3.6/site-packages/ipykernel_launcher.py:40: SettingWithCopyWarning: \n",
      "A value is trying to be set on a copy of a slice from a DataFrame\n",
      "\n",
      "See the caveats in the documentation: https://pandas.pydata.org/pandas-docs/stable/user_guide/indexing.html#returning-a-view-versus-a-copy\n"
     ]
    },
    {
     "data": {
      "text/html": [
       "<div>\n",
       "<style scoped>\n",
       "    .dataframe tbody tr th:only-of-type {\n",
       "        vertical-align: middle;\n",
       "    }\n",
       "\n",
       "    .dataframe tbody tr th {\n",
       "        vertical-align: top;\n",
       "    }\n",
       "\n",
       "    .dataframe thead th {\n",
       "        text-align: right;\n",
       "    }\n",
       "</style>\n",
       "<table border=\"1\" class=\"dataframe\">\n",
       "  <thead>\n",
       "    <tr style=\"text-align: right;\">\n",
       "      <th></th>\n",
       "      <th>LinkID</th>\n",
       "      <th>Location</th>\n",
       "      <th>MaximumSpeed</th>\n",
       "      <th>MinimumSpeed</th>\n",
       "      <th>RoadCategory</th>\n",
       "      <th>RoadName</th>\n",
       "      <th>SpeedBand</th>\n",
       "    </tr>\n",
       "  </thead>\n",
       "  <tbody>\n",
       "    <tr>\n",
       "      <th>0</th>\n",
       "      <td>103000000</td>\n",
       "      <td>(1.316684, 103.8525988, 1.3170142, 103.8529805)</td>\n",
       "      <td>29</td>\n",
       "      <td>20</td>\n",
       "      <td>E</td>\n",
       "      <td>KENT ROAD</td>\n",
       "      <td>3</td>\n",
       "    </tr>\n",
       "    <tr>\n",
       "      <th>1</th>\n",
       "      <td>103000010</td>\n",
       "      <td>(1.3166507, 103.8402256, 1.3169124, 103.841023)</td>\n",
       "      <td>29</td>\n",
       "      <td>20</td>\n",
       "      <td>E</td>\n",
       "      <td>BUCKLEY ROAD</td>\n",
       "      <td>3</td>\n",
       "    </tr>\n",
       "    <tr>\n",
       "      <th>2</th>\n",
       "      <td>103000011</td>\n",
       "      <td>(1.3166507, 103.8402256, 1.3169124, 103.841023)</td>\n",
       "      <td>29</td>\n",
       "      <td>20</td>\n",
       "      <td>E</td>\n",
       "      <td>BUCKLEY ROAD</td>\n",
       "      <td>3</td>\n",
       "    </tr>\n",
       "    <tr>\n",
       "      <th>3</th>\n",
       "      <td>103000014</td>\n",
       "      <td>(1.3180211, 103.8470026, 1.3186726, 103.8471139)</td>\n",
       "      <td>39</td>\n",
       "      <td>30</td>\n",
       "      <td>E</td>\n",
       "      <td>SHREWSBURY ROAD</td>\n",
       "      <td>4</td>\n",
       "    </tr>\n",
       "    <tr>\n",
       "      <th>4</th>\n",
       "      <td>103000015</td>\n",
       "      <td>(1.3180211, 103.8470026, 1.3186726, 103.8471139)</td>\n",
       "      <td>49</td>\n",
       "      <td>40</td>\n",
       "      <td>E</td>\n",
       "      <td>SHREWSBURY ROAD</td>\n",
       "      <td>5</td>\n",
       "    </tr>\n",
       "  </tbody>\n",
       "</table>\n",
       "</div>"
      ],
      "text/plain": [
       "      LinkID                                          Location MaximumSpeed  \\\n",
       "0  103000000   (1.316684, 103.8525988, 1.3170142, 103.8529805)           29   \n",
       "1  103000010   (1.3166507, 103.8402256, 1.3169124, 103.841023)           29   \n",
       "2  103000011   (1.3166507, 103.8402256, 1.3169124, 103.841023)           29   \n",
       "3  103000014  (1.3180211, 103.8470026, 1.3186726, 103.8471139)           39   \n",
       "4  103000015  (1.3180211, 103.8470026, 1.3186726, 103.8471139)           49   \n",
       "\n",
       "  MinimumSpeed RoadCategory         RoadName  SpeedBand  \n",
       "0           20            E        KENT ROAD          3  \n",
       "1           20            E     BUCKLEY ROAD          3  \n",
       "2           20            E     BUCKLEY ROAD          3  \n",
       "3           30            E  SHREWSBURY ROAD          4  \n",
       "4           40            E  SHREWSBURY ROAD          5  "
      ]
     },
     "execution_count": 5,
     "metadata": {},
     "output_type": "execute_result"
    }
   ],
   "source": [
    "f = open(\"../Traffic speed bands/Fri Feb 14 09_06_16 2020.json\", \"r\").read()\n",
    "x = json.loads(f)\n",
    "\n",
    "speed_bands = pd.DataFrame.from_dict(x, orient='columns')\n",
    "process_speed_band(speed_bands)\n",
    "speed_bands.head()"
   ]
  },
  {
   "cell_type": "code",
   "execution_count": 6,
   "metadata": {},
   "outputs": [],
   "source": [
    "def calculate_congestion(G, edges, speed_bands):\n",
    "    # Define Location    \n",
    "    location = edges['geometry'].values\n",
    "    i = 0\n",
    "    Location = []\n",
    "    \n",
    "    for loc in location:        \n",
    "        x1 = loc.xy[1][-1]\n",
    "        y1 = loc.xy[0][-1]\n",
    "        x2 = loc.xy[1][0]\n",
    "        y2 = loc.xy[0][0]\n",
    "        \n",
    "        if y1 < y2:\n",
    "            bottom = y1\n",
    "            top = y2\n",
    "        else:\n",
    "            bottom = y2\n",
    "            top = y1\n",
    "            \n",
    "        if x1 < x2:\n",
    "            left = x1\n",
    "            right = x2\n",
    "        else:\n",
    "            left = x2\n",
    "            right = x1\n",
    "        \n",
    "        Location.append((left, bottom, right, top))\n",
    "        i += 1 \n",
    "        \n",
    "    edges['Location'] = Location\n",
    "    \n",
    "    \n",
    "    # Define observed_speed using speedband dataset \n",
    "    \n",
    "    # key: maximum speed ,value: location\n",
    "    idx = index.Index()\n",
    "    Location = speed_bands['Location']\n",
    "    Speed = speed_bands['MaximumSpeed'].astype(float)\n",
    "\n",
    "    for speed, loc in zip(Speed, Location):\n",
    "        idx.insert(int(speed), loc)\n",
    "    \n",
    "    # Find intersections\n",
    "    observed_speed = []\n",
    "    Location = edges['Location']\n",
    "\n",
    "    for loc in Location:\n",
    "        max_speeds = list(idx.intersection(loc))\n",
    "\n",
    "        if len(max_speeds) == 0: # edge didn't intersect with any speed band\n",
    "            observed_speed.append(70)\n",
    "        else:\n",
    "            observed_speed.append(sum(max_speeds)/len(max_speeds))  \n",
    "\n",
    "    edges['observed_speed'] = observed_speed\n",
    "    \n",
    "    \n",
    "    # Define BPR heuristic for each road link\n",
    "    bpr = dict()\n",
    "    n = len(edges['u'])\n",
    "\n",
    "    for i in range (n):\n",
    "        u = edges['u'][i]\n",
    "        v = edges['v'][i]\n",
    "        key = edges['key'][i]\n",
    "        time = float(edges['travel_time'][i])\n",
    "        flow = float(edges['observed_speed'][i])\n",
    "        capacity = float(edges['maxspeed'][i])\n",
    "        bpr[(u,v,key)] = time * (1 + 0.15*(flow/capacity)**4)\n",
    "        \n",
    "    nx.set_edge_attributes(G, bpr, 'BPR')"
   ]
  },
  {
   "cell_type": "code",
   "execution_count": 7,
   "metadata": {},
   "outputs": [
    {
     "data": {
      "text/html": [
       "<div>\n",
       "<style scoped>\n",
       "    .dataframe tbody tr th:only-of-type {\n",
       "        vertical-align: middle;\n",
       "    }\n",
       "\n",
       "    .dataframe tbody tr th {\n",
       "        vertical-align: top;\n",
       "    }\n",
       "\n",
       "    .dataframe thead th {\n",
       "        text-align: right;\n",
       "    }\n",
       "</style>\n",
       "<table border=\"1\" class=\"dataframe\">\n",
       "  <thead>\n",
       "    <tr style=\"text-align: right;\">\n",
       "      <th></th>\n",
       "      <th>u</th>\n",
       "      <th>v</th>\n",
       "      <th>key</th>\n",
       "      <th>osmid</th>\n",
       "      <th>oneway</th>\n",
       "      <th>name</th>\n",
       "      <th>highway</th>\n",
       "      <th>maxspeed</th>\n",
       "      <th>length</th>\n",
       "      <th>travel_time</th>\n",
       "      <th>Location</th>\n",
       "      <th>geometry</th>\n",
       "      <th>observed_speed</th>\n",
       "    </tr>\n",
       "  </thead>\n",
       "  <tbody>\n",
       "    <tr>\n",
       "      <th>0</th>\n",
       "      <td>1820000257</td>\n",
       "      <td>1865254946</td>\n",
       "      <td>0</td>\n",
       "      <td>174765824</td>\n",
       "      <td>True</td>\n",
       "      <td>Tampines Avenue 8</td>\n",
       "      <td>tertiary</td>\n",
       "      <td>60.0</td>\n",
       "      <td>14.248</td>\n",
       "      <td>0.85488</td>\n",
       "      <td>(1.3565805, 103.9326163, 1.3566943, 103.9326752)</td>\n",
       "      <td>LINESTRING (103.93262 1.35658, 103.93268 1.35669)</td>\n",
       "      <td>31.5</td>\n",
       "    </tr>\n",
       "    <tr>\n",
       "      <th>1</th>\n",
       "      <td>1820000257</td>\n",
       "      <td>4662056865</td>\n",
       "      <td>0</td>\n",
       "      <td>587044201</td>\n",
       "      <td>True</td>\n",
       "      <td>Tampines Avenue 5</td>\n",
       "      <td>primary</td>\n",
       "      <td>60.0</td>\n",
       "      <td>27.282</td>\n",
       "      <td>1.63692</td>\n",
       "      <td>(1.3565805, 103.9323996, 1.3566955, 103.9326163)</td>\n",
       "      <td>LINESTRING (103.93262 1.35658, 103.93240 1.35670)</td>\n",
       "      <td>31.5</td>\n",
       "    </tr>\n",
       "    <tr>\n",
       "      <th>2</th>\n",
       "      <td>3874553858</td>\n",
       "      <td>6995781882</td>\n",
       "      <td>0</td>\n",
       "      <td>384254693</td>\n",
       "      <td>False</td>\n",
       "      <td>Fidelio Street</td>\n",
       "      <td>tertiary</td>\n",
       "      <td>40.0</td>\n",
       "      <td>20.740</td>\n",
       "      <td>1.8666</td>\n",
       "      <td>(1.3191823, 103.9212368, 1.3192215, 103.9214192)</td>\n",
       "      <td>LINESTRING (103.92124 1.31918, 103.92142 1.31922)</td>\n",
       "      <td>34.0</td>\n",
       "    </tr>\n",
       "    <tr>\n",
       "      <th>3</th>\n",
       "      <td>3874553858</td>\n",
       "      <td>3874553861</td>\n",
       "      <td>0</td>\n",
       "      <td>384254631</td>\n",
       "      <td>True</td>\n",
       "      <td>Fidelio Street</td>\n",
       "      <td>tertiary</td>\n",
       "      <td>40.0</td>\n",
       "      <td>15.191</td>\n",
       "      <td>1.3671900000000001</td>\n",
       "      <td>(1.3191111, 103.9211207, 1.3191823, 103.9212368)</td>\n",
       "      <td>LINESTRING (103.92124 1.31918, 103.92112 1.31911)</td>\n",
       "      <td>34.0</td>\n",
       "    </tr>\n",
       "    <tr>\n",
       "      <th>4</th>\n",
       "      <td>1820000259</td>\n",
       "      <td>245190289</td>\n",
       "      <td>0</td>\n",
       "      <td>170861145</td>\n",
       "      <td>True</td>\n",
       "      <td>Tampines Avenue 8</td>\n",
       "      <td>tertiary</td>\n",
       "      <td>60.0</td>\n",
       "      <td>13.573</td>\n",
       "      <td>0.8143800000000001</td>\n",
       "      <td>(1.3565404, 103.9326858, 1.3566471, 103.9327451)</td>\n",
       "      <td>LINESTRING (103.93275 1.35665, 103.93269 1.35654)</td>\n",
       "      <td>31.5</td>\n",
       "    </tr>\n",
       "  </tbody>\n",
       "</table>\n",
       "</div>"
      ],
      "text/plain": [
       "            u           v  key      osmid  oneway               name  \\\n",
       "0  1820000257  1865254946    0  174765824    True  Tampines Avenue 8   \n",
       "1  1820000257  4662056865    0  587044201    True  Tampines Avenue 5   \n",
       "2  3874553858  6995781882    0  384254693   False     Fidelio Street   \n",
       "3  3874553858  3874553861    0  384254631    True     Fidelio Street   \n",
       "4  1820000259   245190289    0  170861145    True  Tampines Avenue 8   \n",
       "\n",
       "    highway maxspeed  length         travel_time  \\\n",
       "0  tertiary     60.0  14.248             0.85488   \n",
       "1   primary     60.0  27.282             1.63692   \n",
       "2  tertiary     40.0  20.740              1.8666   \n",
       "3  tertiary     40.0  15.191  1.3671900000000001   \n",
       "4  tertiary     60.0  13.573  0.8143800000000001   \n",
       "\n",
       "                                           Location  \\\n",
       "0  (1.3565805, 103.9326163, 1.3566943, 103.9326752)   \n",
       "1  (1.3565805, 103.9323996, 1.3566955, 103.9326163)   \n",
       "2  (1.3191823, 103.9212368, 1.3192215, 103.9214192)   \n",
       "3  (1.3191111, 103.9211207, 1.3191823, 103.9212368)   \n",
       "4  (1.3565404, 103.9326858, 1.3566471, 103.9327451)   \n",
       "\n",
       "                                            geometry  observed_speed  \n",
       "0  LINESTRING (103.93262 1.35658, 103.93268 1.35669)            31.5  \n",
       "1  LINESTRING (103.93262 1.35658, 103.93240 1.35670)            31.5  \n",
       "2  LINESTRING (103.92124 1.31918, 103.92142 1.31922)            34.0  \n",
       "3  LINESTRING (103.92124 1.31918, 103.92112 1.31911)            34.0  \n",
       "4  LINESTRING (103.93275 1.35665, 103.93269 1.35654)            31.5  "
      ]
     },
     "execution_count": 7,
     "metadata": {},
     "output_type": "execute_result"
    }
   ],
   "source": [
    "calculate_congestion(G, edges, speed_bands)\n",
    "edges.head()"
   ]
  },
  {
   "cell_type": "markdown",
   "metadata": {},
   "source": [
    "### Finding shortest route between centroid of map and another point"
   ]
  },
  {
   "cell_type": "code",
   "execution_count": 8,
   "metadata": {},
   "outputs": [
    {
     "name": "stdout",
     "output_type": "stream",
     "text": [
      "POINT (103.82129505 1.3515309)\n"
     ]
    }
   ],
   "source": [
    "# Boundary Box of entire area\n",
    "bbox = box(*edges.unary_union.bounds)\n",
    "orig_point = bbox.centroid\n",
    "print(orig_point)"
   ]
  },
  {
   "cell_type": "code",
   "execution_count": 9,
   "metadata": {},
   "outputs": [
    {
     "name": "stdout",
     "output_type": "stream",
     "text": [
      "POINT (103.9326163 1.3565805)\n"
     ]
    }
   ],
   "source": [
    "target_point = nodes[nodes['osmid'] == 1820000257].geometry.values[0]\n",
    "print(target_point)"
   ]
  },
  {
   "cell_type": "code",
   "execution_count": 10,
   "metadata": {},
   "outputs": [],
   "source": [
    "orig_xy = (orig_point.y, orig_point.x)\n",
    "target_xy = (target_point.y, target_point.x)"
   ]
  },
  {
   "cell_type": "code",
   "execution_count": 11,
   "metadata": {},
   "outputs": [],
   "source": [
    "# key: node label ,value: location\n",
    "idx = index.Index()\n",
    "xx = nodes['x'].astype(float)\n",
    "yy = nodes['y'].astype(float)\n",
    "node_label = nodes['osmid']\n",
    "\n",
    "for node, x, y in zip(node_label, xx, yy):\n",
    "    idx.insert(int(node), (x,y,x,y))"
   ]
  },
  {
   "cell_type": "code",
   "execution_count": 12,
   "metadata": {},
   "outputs": [],
   "source": [
    "def find_nearest_nodes(source, dist, idx):\n",
    "    # Create a bounding box around source of min distance in all directions\n",
    "    (north, south, east, west) = ox.bbox_from_point(point=source, distance=dist)\n",
    "    \n",
    "    candidate_nodes = list(idx.intersection((west, south, east, north)))    \n",
    "    return candidate_nodes"
   ]
  },
  {
   "cell_type": "code",
   "execution_count": 13,
   "metadata": {},
   "outputs": [],
   "source": [
    "# Max distance for walking is 700m (10 min * 1.2 m/s)\n",
    "# Find all nodes within 720 m from candidate sources and candidate destinations\n",
    "candidate_dest = find_nearest_nodes(target_xy, 700, idx)\n",
    "candidate_source = find_nearest_nodes(orig_xy, 700, idx)"
   ]
  },
  {
   "cell_type": "code",
   "execution_count": 10,
   "metadata": {
    "scrolled": true
   },
   "outputs": [
    {
     "ename": "KeyboardInterrupt",
     "evalue": "",
     "output_type": "error",
     "traceback": [
      "\u001b[0;31m---------------------------------------------------------------------------\u001b[0m",
      "\u001b[0;31mKeyboardInterrupt\u001b[0m                         Traceback (most recent call last)",
      "\u001b[0;32m<ipython-input-10-a5856f6f79c5>\u001b[0m in \u001b[0;36m<module>\u001b[0;34m\u001b[0m\n\u001b[1;32m      8\u001b[0m     \u001b[0;32mfor\u001b[0m \u001b[0mdestination\u001b[0m \u001b[0;32min\u001b[0m \u001b[0mcandidate_dest\u001b[0m\u001b[0;34m:\u001b[0m\u001b[0;34m\u001b[0m\u001b[0;34m\u001b[0m\u001b[0m\n\u001b[1;32m      9\u001b[0m         \u001b[0mG\u001b[0m\u001b[0;34m.\u001b[0m\u001b[0madd_node\u001b[0m\u001b[0;34m(\u001b[0m\u001b[0mdestination\u001b[0m\u001b[0;34m,\u001b[0m \u001b[0mdemand\u001b[0m \u001b[0;34m=\u001b[0m \u001b[0;36m1\u001b[0m\u001b[0;34m)\u001b[0m\u001b[0;34m\u001b[0m\u001b[0;34m\u001b[0m\u001b[0m\n\u001b[0;32m---> 10\u001b[0;31m         \u001b[0mflow_cost\u001b[0m\u001b[0;34m,\u001b[0m \u001b[0mflowDict\u001b[0m \u001b[0;34m=\u001b[0m \u001b[0mnx\u001b[0m\u001b[0;34m.\u001b[0m\u001b[0mcapacity_scaling\u001b[0m\u001b[0;34m(\u001b[0m\u001b[0mG\u001b[0m\u001b[0;34m,\u001b[0m \u001b[0mweight\u001b[0m\u001b[0;34m=\u001b[0m\u001b[0;34m'BPR'\u001b[0m\u001b[0;34m)\u001b[0m\u001b[0;34m\u001b[0m\u001b[0;34m\u001b[0m\u001b[0m\n\u001b[0m\u001b[1;32m     11\u001b[0m         \u001b[0;31m#change demand back to 0 so that another destination can be taken as target\u001b[0m\u001b[0;34m\u001b[0m\u001b[0;34m\u001b[0m\u001b[0;34m\u001b[0m\u001b[0m\n\u001b[1;32m     12\u001b[0m         \u001b[0mG\u001b[0m\u001b[0;34m.\u001b[0m\u001b[0madd_node\u001b[0m\u001b[0;34m(\u001b[0m\u001b[0mdestination\u001b[0m\u001b[0;34m,\u001b[0m \u001b[0mdemand\u001b[0m \u001b[0;34m=\u001b[0m \u001b[0;36m0\u001b[0m\u001b[0;34m)\u001b[0m\u001b[0;34m\u001b[0m\u001b[0;34m\u001b[0m\u001b[0m\n",
      "\u001b[0;32m/usr/local/lib/python3.6/dist-packages/networkx/algorithms/flow/capacityscaling.py\u001b[0m in \u001b[0;36mcapacity_scaling\u001b[0;34m(G, demand, capacity, weight, heap)\u001b[0m\n\u001b[1;32m    381\u001b[0m                     \u001b[0mflow_cost\u001b[0m \u001b[0;34m+=\u001b[0m \u001b[0mflow\u001b[0m \u001b[0;34m*\u001b[0m \u001b[0me\u001b[0m\u001b[0;34m[\u001b[0m\u001b[0;34m'weight'\u001b[0m\u001b[0;34m]\u001b[0m\u001b[0;34m\u001b[0m\u001b[0;34m\u001b[0m\u001b[0m\n\u001b[1;32m    382\u001b[0m \u001b[0;34m\u001b[0m\u001b[0m\n\u001b[0;32m--> 383\u001b[0;31m     \u001b[0;32mreturn\u001b[0m \u001b[0mflow_cost\u001b[0m\u001b[0;34m,\u001b[0m \u001b[0m_build_flow_dict\u001b[0m\u001b[0;34m(\u001b[0m\u001b[0mG\u001b[0m\u001b[0;34m,\u001b[0m \u001b[0mR\u001b[0m\u001b[0;34m,\u001b[0m \u001b[0mcapacity\u001b[0m\u001b[0;34m,\u001b[0m \u001b[0mweight\u001b[0m\u001b[0;34m)\u001b[0m\u001b[0;34m\u001b[0m\u001b[0;34m\u001b[0m\u001b[0m\n\u001b[0m",
      "\u001b[0;32m/usr/local/lib/python3.6/dist-packages/networkx/algorithms/flow/capacityscaling.py\u001b[0m in \u001b[0;36m_build_flow_dict\u001b[0;34m(G, R, capacity, weight)\u001b[0m\n\u001b[1;32m    107\u001b[0m         \u001b[0;32mfor\u001b[0m \u001b[0mu\u001b[0m \u001b[0;32min\u001b[0m \u001b[0mG\u001b[0m\u001b[0;34m:\u001b[0m\u001b[0;34m\u001b[0m\u001b[0;34m\u001b[0m\u001b[0m\n\u001b[1;32m    108\u001b[0m             \u001b[0mflow_dict\u001b[0m\u001b[0;34m[\u001b[0m\u001b[0mu\u001b[0m\u001b[0;34m]\u001b[0m \u001b[0;34m=\u001b[0m \u001b[0;34m{\u001b[0m\u001b[0;34m}\u001b[0m\u001b[0;34m\u001b[0m\u001b[0;34m\u001b[0m\u001b[0m\n\u001b[0;32m--> 109\u001b[0;31m             \u001b[0;32mfor\u001b[0m \u001b[0mv\u001b[0m\u001b[0;34m,\u001b[0m \u001b[0mes\u001b[0m \u001b[0;32min\u001b[0m \u001b[0mG\u001b[0m\u001b[0;34m[\u001b[0m\u001b[0mu\u001b[0m\u001b[0;34m]\u001b[0m\u001b[0;34m.\u001b[0m\u001b[0mitems\u001b[0m\u001b[0;34m(\u001b[0m\u001b[0;34m)\u001b[0m\u001b[0;34m:\u001b[0m\u001b[0;34m\u001b[0m\u001b[0;34m\u001b[0m\u001b[0m\n\u001b[0m\u001b[1;32m    110\u001b[0m                 flow_dict[u][v] = dict(\n\u001b[1;32m    111\u001b[0m                     \u001b[0;31m# Always saturate negative selfloops.\u001b[0m\u001b[0;34m\u001b[0m\u001b[0;34m\u001b[0m\u001b[0;34m\u001b[0m\u001b[0m\n",
      "\u001b[0;32m/usr/lib/python3.6/_collections_abc.py\u001b[0m in \u001b[0;36mitems\u001b[0;34m(self)\u001b[0m\n\u001b[1;32m    676\u001b[0m     \u001b[0;32mdef\u001b[0m \u001b[0mitems\u001b[0m\u001b[0;34m(\u001b[0m\u001b[0mself\u001b[0m\u001b[0;34m)\u001b[0m\u001b[0;34m:\u001b[0m\u001b[0;34m\u001b[0m\u001b[0;34m\u001b[0m\u001b[0m\n\u001b[1;32m    677\u001b[0m         \u001b[0;34m\"D.items() -> a set-like object providing a view on D's items\"\u001b[0m\u001b[0;34m\u001b[0m\u001b[0;34m\u001b[0m\u001b[0m\n\u001b[0;32m--> 678\u001b[0;31m         \u001b[0;32mreturn\u001b[0m \u001b[0mItemsView\u001b[0m\u001b[0;34m(\u001b[0m\u001b[0mself\u001b[0m\u001b[0;34m)\u001b[0m\u001b[0;34m\u001b[0m\u001b[0;34m\u001b[0m\u001b[0m\n\u001b[0m\u001b[1;32m    679\u001b[0m \u001b[0;34m\u001b[0m\u001b[0m\n\u001b[1;32m    680\u001b[0m     \u001b[0;32mdef\u001b[0m \u001b[0mvalues\u001b[0m\u001b[0;34m(\u001b[0m\u001b[0mself\u001b[0m\u001b[0;34m)\u001b[0m\u001b[0;34m:\u001b[0m\u001b[0;34m\u001b[0m\u001b[0;34m\u001b[0m\u001b[0m\n",
      "\u001b[0;32m/usr/lib/python3.6/_collections_abc.py\u001b[0m in \u001b[0;36m__init__\u001b[0;34m(self, mapping)\u001b[0m\n\u001b[1;32m    697\u001b[0m \u001b[0;34m\u001b[0m\u001b[0m\n\u001b[1;32m    698\u001b[0m     \u001b[0;32mdef\u001b[0m \u001b[0m__init__\u001b[0m\u001b[0;34m(\u001b[0m\u001b[0mself\u001b[0m\u001b[0;34m,\u001b[0m \u001b[0mmapping\u001b[0m\u001b[0;34m)\u001b[0m\u001b[0;34m:\u001b[0m\u001b[0;34m\u001b[0m\u001b[0;34m\u001b[0m\u001b[0m\n\u001b[0;32m--> 699\u001b[0;31m         \u001b[0mself\u001b[0m\u001b[0;34m.\u001b[0m\u001b[0m_mapping\u001b[0m \u001b[0;34m=\u001b[0m \u001b[0mmapping\u001b[0m\u001b[0;34m\u001b[0m\u001b[0;34m\u001b[0m\u001b[0m\n\u001b[0m\u001b[1;32m    700\u001b[0m \u001b[0;34m\u001b[0m\u001b[0m\n\u001b[1;32m    701\u001b[0m     \u001b[0;32mdef\u001b[0m \u001b[0m__len__\u001b[0m\u001b[0;34m(\u001b[0m\u001b[0mself\u001b[0m\u001b[0;34m)\u001b[0m\u001b[0;34m:\u001b[0m\u001b[0;34m\u001b[0m\u001b[0;34m\u001b[0m\u001b[0m\n",
      "\u001b[0;31mKeyboardInterrupt\u001b[0m: "
     ]
    }
   ],
   "source": [
    "# Perform SSP for all paths\n",
    "min_cost = float('inf')\n",
    "final_dict = dict()\n",
    "\n",
    "for source in candidate_source:\n",
    "    G.add_node(source, demand = -1)\n",
    "    \n",
    "    for destination in candidate_dest:\n",
    "        G.add_node(destination, demand = 1)\n",
    "        flow_cost, flowDict = nx.capacity_scaling(G, weight='BPR')\n",
    "        #change demand back to 0 so that another destination can be taken as target\n",
    "        G.add_node(destination, demand = 0)\n",
    "         \n",
    "        # Choose one with least travel time\n",
    "        if flow_cost < min_cost:\n",
    "            final_dict = flowDict\n",
    "            min_cost = flow_cost\n",
    "            start = source\n",
    "            target = destination\n",
    "    \n",
    "    #change demand back to 0 so that another source can be taken as start\n",
    "    G.add_node(source, demand = 0)\n",
    "\n",
    "print(min_cost) #travel time in sec"
   ]
  },
  {
   "cell_type": "code",
   "execution_count": null,
   "metadata": {},
   "outputs": [],
   "source": [
    "def find_route(flow_dict, s ,t):\n",
    "    route = []\n",
    "    u = s #current node\n",
    "    \n",
    "    while(u != t):  \n",
    "        flag=0\n",
    "        for v,x in flow_dict[u].items():\n",
    "            for k,f in x.items():\n",
    "                if f > 0:\n",
    "                    route.append([u,v,k])\n",
    "                    u = v\n",
    "                    flag = 1\n",
    "                    break\n",
    "            if flag == 1:\n",
    "                break\n",
    "    \n",
    "    return route"
   ]
  },
  {
   "cell_type": "code",
   "execution_count": null,
   "metadata": {},
   "outputs": [],
   "source": [
    "edged_route = find_route(final_dict, source, target)"
   ]
  },
  {
   "cell_type": "code",
   "execution_count": null,
   "metadata": {},
   "outputs": [],
   "source": [
    "def plot_route(route, G, origin, destination):\n",
    "    final_route = []\n",
    "    \n",
    "    for node in route:\n",
    "        final_route.append(node[0])        \n",
    "    final_route.append(route[-1][1])\n",
    "    \n",
    "    fig, ax = ox.plot_graph_route(G, final_route, origin_point=origin, destination_point=destination)\n",
    "    plt.tight_layout()"
   ]
  },
  {
   "cell_type": "code",
   "execution_count": null,
   "metadata": {},
   "outputs": [],
   "source": [
    "plot_route(edged_route, G, orig_xy, target_xy)"
   ]
  },
  {
   "cell_type": "code",
   "execution_count": null,
   "metadata": {},
   "outputs": [],
   "source": []
  }
 ],
 "metadata": {
  "kernelspec": {
   "display_name": "Python 3",
   "language": "python",
   "name": "python3"
  },
  "language_info": {
   "codemirror_mode": {
    "name": "ipython",
    "version": 3
   },
   "file_extension": ".py",
   "mimetype": "text/x-python",
   "name": "python",
   "nbconvert_exporter": "python",
   "pygments_lexer": "ipython3",
   "version": "3.6.10"
  }
 },
 "nbformat": 4,
 "nbformat_minor": 2
}
