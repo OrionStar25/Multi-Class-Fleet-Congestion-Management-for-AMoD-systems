{
 "cells": [
  {
   "cell_type": "code",
   "execution_count": 1,
   "metadata": {},
   "outputs": [],
   "source": [
    "import requests"
   ]
  },
  {
   "cell_type": "code",
   "execution_count": 2,
   "metadata": {},
   "outputs": [
    {
     "data": {
      "text/plain": [
       "{'code': 'Ok',\n",
       " 'routes': [{'geometry': 's}gG{ijyReEnNdm@|Wpl@~}@b\\\\lfAw\\\\twAbFjt@wM`ZwSpAGnNgN|Dvm@fWwHhb@bErz@qFxeAzVfkAfr@b{Ak_@rr@ocA~dAgCda@ji@dz@`j@di@`Sfi@PfQcRpc@ySyCgw@~XjEx]dHDkEl\\\\ju@lf@ii@n}@oVqEiKlR_Elw@bJd[lc@wFdKf[',\n",
       "   'legs': [{'steps': [],\n",
       "     'distance': 32298.2,\n",
       "     'duration': 2308.4,\n",
       "     'summary': '',\n",
       "     'weight': 2179.6}],\n",
       "   'distance': 32298.2,\n",
       "   'duration': 2308.4,\n",
       "   'weight_name': 'congestion',\n",
       "   'weight': 2179.6}],\n",
       " 'waypoints': [{'hint': 'YwYBgG8GAYALAAAAAQAAAAAAAAAAAAAAHN-XQWpx4j0AAAAAAAAAAA0AAAABAAAAAAAAAAAAAAAJAAAAyOIxBiSzFADI4jEGJLMUAAAAzwFqJcKJ',\n",
       "   'distance': 0,\n",
       "   'name': 'Tampines Avenue 8',\n",
       "   'location': [103.932616, 1.35658]},\n",
       "  {'hint': 'EAYBgBcGAYAUAAAAAAAAAAAAAAAAAAAAPzfZQQAAAAAAAAAAAAAAABkAAAAAAAAAAAAAAAAAAAAJAAAA6oIuBlR3FADqgi4GVHcUAAAALwpqJcKJ',\n",
       "   'distance': 0,\n",
       "   'name': 'Boon Lay Drive',\n",
       "   'location': [103.711466, 1.341268]}]}"
      ]
     },
     "execution_count": 2,
     "metadata": {},
     "output_type": "execute_result"
    }
   ],
   "source": [
    "r = requests.get('http://0.0.0.0:5000/route/v1/driving/103.932616,1.35658;103.711466,1.341268')\n",
    "x = r.json()\n",
    "x"
   ]
  },
  {
   "cell_type": "code",
   "execution_count": 38,
   "metadata": {},
   "outputs": [
    {
     "data": {
      "text/plain": [
       "2179.6"
      ]
     },
     "execution_count": 38,
     "metadata": {},
     "output_type": "execute_result"
    }
   ],
   "source": [
    "x['routes'][0]['weight']"
   ]
  },
  {
   "cell_type": "code",
   "execution_count": null,
   "metadata": {},
   "outputs": [],
   "source": []
  }
 ],
 "metadata": {
  "kernelspec": {
   "display_name": "Python 3",
   "language": "python",
   "name": "python3"
  },
  "language_info": {
   "codemirror_mode": {
    "name": "ipython",
    "version": 3
   },
   "file_extension": ".py",
   "mimetype": "text/x-python",
   "name": "python",
   "nbconvert_exporter": "python",
   "pygments_lexer": "ipython3",
   "version": "3.6.10"
  }
 },
 "nbformat": 4,
 "nbformat_minor": 4
}
