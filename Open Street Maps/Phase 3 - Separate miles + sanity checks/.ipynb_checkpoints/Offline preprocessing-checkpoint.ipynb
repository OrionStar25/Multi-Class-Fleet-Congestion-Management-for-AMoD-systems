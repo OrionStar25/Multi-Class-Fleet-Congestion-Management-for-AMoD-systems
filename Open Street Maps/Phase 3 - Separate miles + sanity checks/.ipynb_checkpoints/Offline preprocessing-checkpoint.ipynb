{
 "cells": [
  {
   "cell_type": "code",
   "execution_count": 1,
   "metadata": {},
   "outputs": [],
   "source": [
    "import osmnx as ox\n",
    "import networkx as nx\n",
    "import math\n",
    "\n",
    "from rtree.index import Index"
   ]
  },
  {
   "cell_type": "code",
   "execution_count": 14,
   "metadata": {},
   "outputs": [
    {
     "data": {
      "text/plain": [
       "networkx.classes.multidigraph.MultiDiGraph"
      ]
     },
     "execution_count": 14,
     "metadata": {},
     "output_type": "execute_result"
    }
   ],
   "source": [
    "place_name = \"Singapore, Central, Singapore\"\n",
    "graph = ox.save_load.load_graphml(filename=\"Singapore_drive_processed.graphml\", folder=None)\n",
    "\n",
    "# Stores nodes and edges along with other attributes\n",
    "type(graph)"
   ]
  },
  {
   "cell_type": "code",
   "execution_count": 15,
   "metadata": {},
   "outputs": [
    {
     "data": {
      "text/plain": [
       "array(['traffic_signals', nan, 'turning_circle', 'crossing',\n",
       "       'motorway_junction', 'turning_loop', 'speed_camera',\n",
       "       'mini_roundabout', 'stop'], dtype=object)"
      ]
     },
     "execution_count": 15,
     "metadata": {},
     "output_type": "execute_result"
    }
   ],
   "source": [
    "nodes = ox.graph_to_gdfs(graph, nodes=True, edges=False)\n",
    "nodes['highway'].unique()"
   ]
  },
  {
   "cell_type": "code",
   "execution_count": 16,
   "metadata": {},
   "outputs": [],
   "source": [
    "# Filter out all bus stop nodes\n",
    "# key: node label ,value: location\n",
    "idx = Index('data/bus_stops')\n",
    "\n",
    "xx = nodes['x'].astype(float)\n",
    "yy = nodes['y'].astype(float)\n",
    "node_id = nodes['osmid']\n",
    "node_type = nodes['highway']\n",
    "\n",
    "for node, x, y, kind in zip(node_id, xx, yy, node_type):\n",
    "    if kind != 'nan' and kind != 'speed_camera' and kind != 'stop':\n",
    "        idx.insert(int(node), (x,y,x,y))\n",
    "        \n",
    "idx.close()"
   ]
  },
  {
   "cell_type": "code",
   "execution_count": null,
   "metadata": {},
   "outputs": [],
   "source": []
  }
 ],
 "metadata": {
  "kernelspec": {
   "display_name": "Python 3",
   "language": "python",
   "name": "python3"
  },
  "language_info": {
   "codemirror_mode": {
    "name": "ipython",
    "version": 3
   },
   "file_extension": ".py",
   "mimetype": "text/x-python",
   "name": "python",
   "nbconvert_exporter": "python",
   "pygments_lexer": "ipython3",
   "version": "3.6.10"
  }
 },
 "nbformat": 4,
 "nbformat_minor": 2
}
