{
 "cells": [
  {
   "cell_type": "code",
   "execution_count": 1,
   "metadata": {},
   "outputs": [],
   "source": [
    "import requests"
   ]
  },
  {
   "cell_type": "code",
   "execution_count": 4,
   "metadata": {},
   "outputs": [
    {
     "data": {
      "text/plain": [
       "{'code': 'Ok',\n",
       " 'routes': [{'geometry': 'mfp_I__vpAn_AsIv@tZl]qNlTk@rKqBqAnS}@W',\n",
       "   'legs': [{'steps': [],\n",
       "     'distance': 2902.1,\n",
       "     'duration': 329.2,\n",
       "     'summary': '',\n",
       "     'weight': 343.1}],\n",
       "   'distance': 2902.1,\n",
       "   'duration': 329.2,\n",
       "   'weight_name': 'routability',\n",
       "   'weight': 343.1}],\n",
       " 'waypoints': [{'hint': 'NwMAgMZEAoAYAAAAJgAAAAAAAAAAAAAASjFaQU1xpUEAAAAAAAAAAAwAAAATAAAAAAAAAAAAAAADAQAA_kvMAKlYIQM8TMwArVghAwAA7woDK07H',\n",
       "   'distance': 4.231666,\n",
       "   'name': 'Friedrichstraße',\n",
       "   'location': [13.388798, 52.517033]},\n",
       "  {'hint': 'ZdoDgGfaA4ATAAAAAAAAAAAAAAAAAAAAgY4AQQAAAAAAAAAAAAAAABMAAAAAAAAAAAAAAAAAAAADAQAAzUHMALoJIQP_QMwA-wkhAwAA7wADK07H',\n",
       "   'distance': 15.756215,\n",
       "   'name': '',\n",
       "   'location': [13.386189, 52.496826]}]}"
      ]
     },
     "execution_count": 4,
     "metadata": {},
     "output_type": "execute_result"
    }
   ],
   "source": [
    "r = requests.get('http://0.0.0.0:5000/route/v1/driving/13.388860,52.517037;13.385983,52.496891')\n",
    "x = r.json()\n",
    "x"
   ]
  },
  {
   "cell_type": "code",
   "execution_count": 11,
   "metadata": {},
   "outputs": [
    {
     "data": {
      "text/plain": [
       "329.2"
      ]
     },
     "execution_count": 11,
     "metadata": {},
     "output_type": "execute_result"
    }
   ],
   "source": [
    "x['routes'][0]['duration']"
   ]
  },
  {
   "cell_type": "code",
   "execution_count": null,
   "metadata": {},
   "outputs": [],
   "source": []
  }
 ],
 "metadata": {
  "kernelspec": {
   "display_name": "Python 3",
   "language": "python",
   "name": "python3"
  },
  "language_info": {
   "codemirror_mode": {
    "name": "ipython",
    "version": 3
   },
   "file_extension": ".py",
   "mimetype": "text/x-python",
   "name": "python",
   "nbconvert_exporter": "python",
   "pygments_lexer": "ipython3",
   "version": "3.6.10"
  }
 },
 "nbformat": 4,
 "nbformat_minor": 4
}
