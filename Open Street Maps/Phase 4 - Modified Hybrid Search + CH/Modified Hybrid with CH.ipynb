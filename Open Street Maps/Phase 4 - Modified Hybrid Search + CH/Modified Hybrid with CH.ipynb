{
 "cells": [
  {
   "cell_type": "code",
   "execution_count": 1,
   "metadata": {
    "colab": {
     "base_uri": "https://localhost:8080/",
     "height": 627
    },
    "colab_type": "code",
    "id": "Anm_vCtg02sJ",
    "outputId": "0c28fba4-cd5a-4117-c879-deb2fd650842"
   },
   "outputs": [],
   "source": [
    "import osmnx as ox\n",
    "import networkx as nx\n",
    "import pandas as pd\n",
    "import json\n",
    "import requests\n",
    "\n",
    "from rtree import index\n",
    "from shapely.geometry import box\n",
    "from utils import *"
   ]
  },
  {
   "cell_type": "code",
   "execution_count": 3,
   "metadata": {
    "colab": {
     "base_uri": "https://localhost:8080/",
     "height": 52
    },
    "colab_type": "code",
    "id": "RShXcYwX02sk",
    "outputId": "58552f50-8d53-40f8-d879-ad656cef7a2f"
   },
   "outputs": [
    {
     "name": "stdout",
     "output_type": "stream",
     "text": [
      "<class 'networkx.classes.multidigraph.MultiDiGraph'>\n"
     ]
    }
   ],
   "source": [
    "place_name = \"Singapore, Central, Singapore\"\n",
    "G = ox.save_load.load_graphml(filename=\"Singapore_drive_processed.graphml\")\n",
    "G_ped = ox.save_load.load_graphml(filename=\"Singapore_walk.graphml\")\n",
    "\n",
    "# Stores nodes and edges mapped with speed bands along with other attributes\n",
    "print(type(G))"
   ]
  },
  {
   "cell_type": "code",
   "execution_count": 5,
   "metadata": {
    "colab": {},
    "colab_type": "code",
    "id": "S1NMV7e402s9"
   },
   "outputs": [],
   "source": [
    "nodes, edges = ox.graph_to_gdfs(G, nodes=True, edges=True)"
   ]
  },
  {
   "cell_type": "code",
   "execution_count": 6,
   "metadata": {
    "colab": {
     "base_uri": "https://localhost:8080/",
     "height": 104
    },
    "colab_type": "code",
    "id": "yiJwQczp02ti",
    "outputId": "a4428a9c-25e5-455c-8c50-d527851fee00"
   },
   "outputs": [
    {
     "name": "stderr",
     "output_type": "stream",
     "text": [
      "/home/orionstar25/Semester-8-Major-Project/Open Street Maps/Phase 4 - Modified Hybrid Search + CSO/utils.py:51: SettingWithCopyWarning: \n",
      "A value is trying to be set on a copy of a slice from a DataFrame\n",
      "\n",
      "See the caveats in the documentation: https://pandas.pydata.org/pandas-docs/stable/user_guide/indexing.html#returning-a-view-versus-a-copy\n",
      "  df['MaximumSpeed'][i] = '80'\n"
     ]
    }
   ],
   "source": [
    "f = open(\"../../Traffic speed bands/Fri Feb 14 09_06_16 2020.json\", \"r\").read()\n",
    "x = json.loads(f)\n",
    "\n",
    "speed_bands = pd.DataFrame.from_dict(x, orient='columns')\n",
    "process_speed_band(speed_bands)"
   ]
  },
  {
   "cell_type": "code",
   "execution_count": 7,
   "metadata": {
    "colab": {},
    "colab_type": "code",
    "id": "j4ucj9bU02uI"
   },
   "outputs": [],
   "source": [
    "calculate_congestion(G, edges, speed_bands)"
   ]
  },
  {
   "cell_type": "code",
   "execution_count": 8,
   "metadata": {},
   "outputs": [],
   "source": [
    "ox.save_load.save_graph_shapefile(G, filename='graph')"
   ]
  },
  {
   "cell_type": "markdown",
   "metadata": {
    "colab_type": "text",
    "id": "5GdlUOcM02uV"
   },
   "source": [
    "### Middle mile routing"
   ]
  },
  {
   "cell_type": "code",
   "execution_count": 9,
   "metadata": {
    "colab": {
     "base_uri": "https://localhost:8080/",
     "height": 34
    },
    "colab_type": "code",
    "id": "OpAR_hir02ua",
    "outputId": "6814e866-5ed3-47b0-8112-14747b8cd234"
   },
   "outputs": [
    {
     "name": "stdout",
     "output_type": "stream",
     "text": [
      "POINT (103.82129505 1.3515309)\n"
     ]
    }
   ],
   "source": [
    "# Boundary Box of entire area\n",
    "bbox = box(*edges.unary_union.bounds)\n",
    "orig_point = bbox.centroid\n",
    "print(orig_point)"
   ]
  },
  {
   "cell_type": "code",
   "execution_count": 10,
   "metadata": {
    "colab": {
     "base_uri": "https://localhost:8080/",
     "height": 34
    },
    "colab_type": "code",
    "id": "Sja5C9E_02uo",
    "outputId": "5ed6f802-badf-4970-d207-7d71eec87353"
   },
   "outputs": [
    {
     "name": "stdout",
     "output_type": "stream",
     "text": [
      "POINT (103.9326163 1.3565805)\n"
     ]
    }
   ],
   "source": [
    "target_point = nodes[nodes['osmid'] == 1820000257].geometry.values[0]\n",
    "print(target_point)"
   ]
  },
  {
   "cell_type": "code",
   "execution_count": 11,
   "metadata": {
    "colab": {},
    "colab_type": "code",
    "id": "ngLGhn4802u2"
   },
   "outputs": [],
   "source": [
    "orig_xy = (orig_point.y, orig_point.x)\n",
    "target_xy = (target_point.y, target_point.x)"
   ]
  },
  {
   "cell_type": "code",
   "execution_count": 12,
   "metadata": {
    "colab": {},
    "colab_type": "code",
    "id": "kEtSgaJo02vE"
   },
   "outputs": [],
   "source": [
    "# Filter out all unecessary stops\n",
    "# key: node label ,value: location\n",
    "idx = index.Index()\n",
    "\n",
    "xx = nodes['x'].astype(float)\n",
    "yy = nodes['y'].astype(float)\n",
    "node_id = nodes['osmid']\n",
    "node_type = nodes['highway']\n",
    "\n",
    "# nan = 18823\n",
    "\n",
    "# speed_camera = 2\n",
    "# motorway_junction = 222\n",
    "# turning_circle = 79\n",
    "# crossing = 27\n",
    "# turning_loop = 26\n",
    "# mini_roundabout = 6\n",
    "# traffic signals = 4031\n",
    "\n",
    "for node, x, y, kind in zip(node_id, xx, yy, node_type):\n",
    "    if type(kind) == float: #nan\n",
    "        idx.insert(int(node), (x,y,x,y))"
   ]
  },
  {
   "cell_type": "code",
   "execution_count": 15,
   "metadata": {
    "colab": {},
    "colab_type": "code",
    "id": "zgyXu9z402vi"
   },
   "outputs": [],
   "source": [
    "# Max distance for walking is 720m (10 min * 1.2 m/s)\n",
    "# Find all nodes within 720 m from candidate sources and candidate destinations\n",
    "candidate_dest = find_nearest_nodes(nodes, target_xy, 720, idx)\n",
    "candidate_source = find_nearest_nodes(nodes, orig_xy, 720, idx)"
   ]
  },
  {
   "cell_type": "code",
   "execution_count": 16,
   "metadata": {
    "colab": {
     "base_uri": "https://localhost:8080/",
     "height": 52
    },
    "colab_type": "code",
    "id": "aPDwFi1bCuyE",
    "outputId": "0a7bcacd-868a-46ec-c00f-bd8e40568eee"
   },
   "outputs": [
    {
     "name": "stdout",
     "output_type": "stream",
     "text": [
      "57\n",
      "8\n"
     ]
    }
   ],
   "source": [
    "print(len(candidate_dest))\n",
    "print(len(candidate_source))"
   ]
  },
  {
   "cell_type": "code",
   "execution_count": 17,
   "metadata": {
    "colab": {},
    "colab_type": "code",
    "id": "plvgqhcZSSHX"
   },
   "outputs": [],
   "source": [
    "x = get_length_dict(nodes, candidate_source, candidate_dest)"
   ]
  },
  {
   "cell_type": "code",
   "execution_count": 28,
   "metadata": {
    "colab": {},
    "colab_type": "code",
    "id": "s7IYc--5SgpT"
   },
   "outputs": [],
   "source": [
    "def modified_hybrid_routing(x, G):\n",
    "    n = len(x)\n",
    "    cutoff = math.floor(n/math.exp(1))\n",
    "    min_pair = x[0]\n",
    "    source = min_pair[0][0]\n",
    "    dest = min_pair[0][1]\n",
    "    min_tt = float('inf')\n",
    "\n",
    "    for i in range(n):        \n",
    "        source_x = nodes[nodes['osmid'] == source]['x'].values[0]\n",
    "        source_y = nodes[nodes['osmid'] == source]['y'].values[0]\n",
    "        dest_x = nodes[nodes['osmid'] == dest]['x'].values[0]\n",
    "        dest_y = nodes[nodes['osmid'] == dest]['y'].values[0]\n",
    "\n",
    "        url = \"http://0.0.0.0:5000/route/v1/driving/{},{};{},{}\".format(source_x, source_y, dest_x, dest_y)\n",
    "        r = requests.get(url)\n",
    "        json = r.json()            \n",
    "        travel_time = json['routes'][0]['weight']\n",
    "\n",
    "        # have reached cutoff and didnt find optimal yet\n",
    "        if i > cutoff:\n",
    "            if travel_time < min_tt:\n",
    "                min_tt = travel_time\n",
    "                min_pair = x[i]\n",
    "                break\n",
    "\n",
    "            if i < n-1:\n",
    "                if min_tt < x[i+1][1]:\n",
    "                    break\n",
    "                else:\n",
    "                    source = x[i+1][0][0]\n",
    "                    dest = x[i+1][0][1]\n",
    "            else:\n",
    "                break\n",
    "        else:\n",
    "            if travel_time < min_tt:\n",
    "                min_tt = travel_time\n",
    "                min_pair = x[i]\n",
    "\n",
    "                if i < n-1:\n",
    "                    if travel_time < x[i+1][1]:\n",
    "                        break\n",
    "                    else:\n",
    "                        source = x[i+1][0][0]\n",
    "                        dest = x[i+1][0][1]\n",
    "                else:\n",
    "                    break\n",
    "            else:\n",
    "                if i < n-1:\n",
    "                    if min_tt < x[i+1][1]:\n",
    "                        break\n",
    "                    else:\n",
    "                        source = x[i+1][0][0]\n",
    "                        dest = x[i+1][0][1]\n",
    "                else:\n",
    "                    break\n",
    "    \n",
    "    return min_tt, min_pair"
   ]
  },
  {
   "cell_type": "code",
   "execution_count": 29,
   "metadata": {
    "colab": {
     "base_uri": "https://localhost:8080/",
     "height": 52
    },
    "colab_type": "code",
    "id": "kI844RO002vr",
    "outputId": "d140d1f0-4879-4787-9d43-55484639413f",
    "scrolled": true
   },
   "outputs": [
    {
     "name": "stdout",
     "output_type": "stream",
     "text": [
      "16.24833333333333\n"
     ]
    }
   ],
   "source": [
    "min_tt, sd_pair = modified_hybrid_routing(x, G)\n",
    "print(min_tt/60)"
   ]
  },
  {
   "cell_type": "code",
   "execution_count": 30,
   "metadata": {},
   "outputs": [
    {
     "data": {
      "text/plain": [
       "((1318498273, 1819975084), 824.0736659032646)"
      ]
     },
     "execution_count": 30,
     "metadata": {},
     "output_type": "execute_result"
    }
   ],
   "source": [
    "sd_pair"
   ]
  },
  {
   "cell_type": "markdown",
   "metadata": {
    "colab_type": "text",
    "id": "KYKbhy7YB5QM"
   },
   "source": [
    "## First mile"
   ]
  },
  {
   "cell_type": "code",
   "execution_count": 31,
   "metadata": {
    "colab": {},
    "colab_type": "code",
    "id": "KmaI4xB0h9P7"
   },
   "outputs": [],
   "source": [
    "# use pedestrain network only----> change this\n",
    "def print_route(route):\n",
    "  i = 0\n",
    "  n = len(route)\n",
    "\n",
    "  for i in range(n):\n",
    "    for nei,w in G_ped[route[i]].items():\n",
    "      if i+1 != n:\n",
    "        if nei == route[i+1]:\n",
    "          print(w[0].get('highway'), w[0].get('length'))"
   ]
  },
  {
   "cell_type": "code",
   "execution_count": 32,
   "metadata": {
    "colab": {
     "base_uri": "https://localhost:8080/",
     "height": 139
    },
    "colab_type": "code",
    "id": "3tZfPILUdfcV",
    "outputId": "090cb355-ed73-4bf1-92a0-e812179c0a11"
   },
   "outputs": [
    {
     "name": "stdout",
     "output_type": "stream",
     "text": [
      "service 48.876999999999995\n",
      "residential 32.174\n",
      "residential 180.90300000000002\n",
      "Distance from X to A:  514.7493953976738\n",
      "Distance from A to B:  261.954\n"
     ]
    }
   ],
   "source": [
    "orig_node, dist = ox.get_nearest_node(G_ped, orig_xy, method='haversine', return_dist = True)\n",
    "first_mile_length, first_mile = nx.single_source_dijkstra(G_ped, orig_node, sd_pair[0][0], weight='length')\n",
    "\n",
    "print_route(first_mile)\n",
    "print(\"Distance from X to A: \", dist) # in metres\n",
    "print(\"Distance from A to B: \", first_mile_length) # in metres"
   ]
  },
  {
   "cell_type": "markdown",
   "metadata": {
    "colab_type": "text",
    "id": "J7fMJfToCaRX"
   },
   "source": [
    "### Last Mile"
   ]
  },
  {
   "cell_type": "code",
   "execution_count": 33,
   "metadata": {
    "colab": {
     "base_uri": "https://localhost:8080/",
     "height": 225
    },
    "colab_type": "code",
    "id": "dvp8SlVrj3ji",
    "outputId": "8f006230-837f-4064-c26b-557298b67465"
   },
   "outputs": [
    {
     "name": "stdout",
     "output_type": "stream",
     "text": [
      "primary 561.0409999999999\n",
      "primary 31.486\n",
      "primary 18.124\n",
      "primary 49.255\n",
      "primary 218.51500000000001\n",
      "primary 27.282\n",
      "Distance from C to D:  905.703\n",
      "Distance from D to Y:  0.0\n"
     ]
    }
   ],
   "source": [
    "target_node, dist = ox.get_nearest_node(G_ped, target_xy, method='haversine', return_dist= True)\n",
    "last_mile_length, last_mile = nx.single_source_dijkstra(G_ped, sd_pair[0][1], target_node, weight='length')\n",
    "\n",
    "print_route(last_mile)\n",
    "print(\"Distance from C to D: \", last_mile_length)\n",
    "print(\"Distance from D to Y: \", dist)"
   ]
  },
  {
   "cell_type": "code",
   "execution_count": null,
   "metadata": {},
   "outputs": [],
   "source": []
  }
 ],
 "metadata": {
  "accelerator": "GPU",
  "colab": {
   "collapsed_sections": [],
   "name": "Hybrid_congestion_aware_routing.ipynb",
   "provenance": []
  },
  "kernelspec": {
   "display_name": "Python 3",
   "language": "python",
   "name": "python3"
  },
  "language_info": {
   "codemirror_mode": {
    "name": "ipython",
    "version": 3
   },
   "file_extension": ".py",
   "mimetype": "text/x-python",
   "name": "python",
   "nbconvert_exporter": "python",
   "pygments_lexer": "ipython3",
   "version": "3.6.10"
  }
 },
 "nbformat": 4,
 "nbformat_minor": 1
}
