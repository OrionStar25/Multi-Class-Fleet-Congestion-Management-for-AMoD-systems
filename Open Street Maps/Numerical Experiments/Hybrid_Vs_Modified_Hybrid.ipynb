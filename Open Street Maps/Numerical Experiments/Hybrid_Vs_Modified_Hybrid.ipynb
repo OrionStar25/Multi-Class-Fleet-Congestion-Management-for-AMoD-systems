{
  "nbformat": 4,
  "nbformat_minor": 0,
  "metadata": {
    "accelerator": "GPU",
    "colab": {
      "name": "Hybrid_Vs_Modified_Hybrid.ipynb",
      "provenance": [],
      "collapsed_sections": []
    },
    "kernelspec": {
      "display_name": "Python 3",
      "language": "python",
      "name": "python3"
    },
    "language_info": {
      "codemirror_mode": {
        "name": "ipython",
        "version": 3
      },
      "file_extension": ".py",
      "mimetype": "text/x-python",
      "name": "python",
      "nbconvert_exporter": "python",
      "pygments_lexer": "ipython3",
      "version": "3.6.10"
    }
  },
  "cells": [
    {
      "cell_type": "code",
      "metadata": {
        "colab_type": "code",
        "id": "mF0kte2iEAEU",
        "outputId": "00a47f27-b864-4eab-de41-dc58223a33dd",
        "colab": {
          "base_uri": "https://localhost:8080/",
          "height": 104
        }
      },
      "source": [
        "from google.colab import drive\n",
        "drive.mount('/content/drive/')\n",
        "%cd drive/My \\Drive/Sem \\8 \\files/\n",
        "!ls"
      ],
      "execution_count": 0,
      "outputs": [
        {
          "output_type": "stream",
          "text": [
            "Drive already mounted at /content/drive/; to attempt to forcibly remount, call drive.mount(\"/content/drive/\", force_remount=True).\n",
            "/content/drive/My Drive/Sem 8 files\n",
            " data\t\t\t\t  __pycache__\n",
            " euclidean_distances.json\t  Shortest_path_lengths.pkl\n",
            "'Fri Feb 14 09_06_16 2020.json'   utils.py\n"
          ],
          "name": "stdout"
        }
      ]
    },
    {
      "cell_type": "code",
      "metadata": {
        "colab_type": "code",
        "id": "Anm_vCtg02sJ",
        "outputId": "6add96a0-c01a-4e1f-f372-0ce13ac1af03",
        "colab": {
          "base_uri": "https://localhost:8080/",
          "height": 1000
        }
      },
      "source": [
        "!apt-get install -y libspatialindex-c4v5\n",
        "!pip3.6 install osmnx\n",
        "\n",
        "import osmnx as ox\n",
        "import networkx as nx\n",
        "import pandas as pd\n",
        "import json\n",
        "import random\n",
        "import statistics\n",
        "import numpy as np\n",
        "import matplotlib.pyplot as plt\n",
        "\n",
        "from rtree import index\n",
        "from utils import *"
      ],
      "execution_count": 0,
      "outputs": [
        {
          "output_type": "stream",
          "text": [
            "Reading package lists... Done\n",
            "Building dependency tree       \n",
            "Reading state information... Done\n",
            "The following additional packages will be installed:\n",
            "  libspatialindex4v5\n",
            "The following NEW packages will be installed:\n",
            "  libspatialindex-c4v5 libspatialindex4v5\n",
            "0 upgraded, 2 newly installed, 0 to remove and 25 not upgraded.\n",
            "Need to get 270 kB of archives.\n",
            "After this operation, 1,107 kB of additional disk space will be used.\n",
            "Get:1 http://archive.ubuntu.com/ubuntu bionic/universe amd64 libspatialindex4v5 amd64 1.8.5-5 [219 kB]\n",
            "Get:2 http://archive.ubuntu.com/ubuntu bionic/universe amd64 libspatialindex-c4v5 amd64 1.8.5-5 [51.7 kB]\n",
            "Fetched 270 kB in 1s (269 kB/s)\n",
            "Selecting previously unselected package libspatialindex4v5:amd64.\n",
            "(Reading database ... 144568 files and directories currently installed.)\n",
            "Preparing to unpack .../libspatialindex4v5_1.8.5-5_amd64.deb ...\n",
            "Unpacking libspatialindex4v5:amd64 (1.8.5-5) ...\n",
            "Selecting previously unselected package libspatialindex-c4v5:amd64.\n",
            "Preparing to unpack .../libspatialindex-c4v5_1.8.5-5_amd64.deb ...\n",
            "Unpacking libspatialindex-c4v5:amd64 (1.8.5-5) ...\n",
            "Setting up libspatialindex4v5:amd64 (1.8.5-5) ...\n",
            "Setting up libspatialindex-c4v5:amd64 (1.8.5-5) ...\n",
            "Processing triggers for libc-bin (2.27-3ubuntu1) ...\n",
            "/sbin/ldconfig.real: /usr/local/lib/python3.6/dist-packages/ideep4py/lib/libmkldnn.so.0 is not a symbolic link\n",
            "\n",
            "Collecting osmnx\n",
            "\u001b[?25l  Downloading https://files.pythonhosted.org/packages/ec/b1/19db159f912ca27e35968c2b89cf70014535999c1213ae005c32dbb42f4c/osmnx-0.11.4-py2.py3-none-any.whl (77kB)\n",
            "\u001b[K     |████████████████████████████████| 81kB 2.9MB/s \n",
            "\u001b[?25hCollecting geopandas>=0.6\n",
            "\u001b[?25l  Downloading https://files.pythonhosted.org/packages/83/c5/3cf9cdc39a6f2552922f79915f36b45a95b71fd343cfc51170a5b6ddb6e8/geopandas-0.7.0-py2.py3-none-any.whl (928kB)\n",
            "\u001b[K     |████████████████████████████████| 931kB 5.7MB/s \n",
            "\u001b[?25hRequirement already satisfied: Shapely>=1.7 in /usr/local/lib/python3.6/dist-packages (from osmnx) (1.7.0)\n",
            "Collecting pyproj>=2.4\n",
            "\u001b[?25l  Downloading https://files.pythonhosted.org/packages/ce/37/705ee471f71130d4ceee41bbcb06f3b52175cb89273cbb5755ed5e6374e0/pyproj-2.6.0-cp36-cp36m-manylinux2010_x86_64.whl (10.4MB)\n",
            "\u001b[K     |████████████████████████████████| 10.4MB 14.4MB/s \n",
            "\u001b[?25hRequirement already satisfied: matplotlib>=3.1 in /usr/local/lib/python3.6/dist-packages (from osmnx) (3.2.1)\n",
            "Requirement already satisfied: numpy>=1.17 in /usr/local/lib/python3.6/dist-packages (from osmnx) (1.18.2)\n",
            "Requirement already satisfied: descartes>=1.1 in /usr/local/lib/python3.6/dist-packages (from osmnx) (1.1.0)\n",
            "Requirement already satisfied: networkx>=2.4 in /usr/local/lib/python3.6/dist-packages (from osmnx) (2.4)\n",
            "Collecting requests>=2.22\n",
            "\u001b[?25l  Downloading https://files.pythonhosted.org/packages/1a/70/1935c770cb3be6e3a8b78ced23d7e0f3b187f5cbfab4749523ed65d7c9b1/requests-2.23.0-py2.py3-none-any.whl (58kB)\n",
            "\u001b[K     |████████████████████████████████| 61kB 9.7MB/s \n",
            "\u001b[?25hRequirement already satisfied: pandas>=1.0 in /usr/local/lib/python3.6/dist-packages (from osmnx) (1.0.3)\n",
            "Collecting Rtree>=0.9\n",
            "\u001b[?25l  Downloading https://files.pythonhosted.org/packages/56/6f/f1e91001d5ad9fa9bed65875152f5a1c7955c5763168cae309546e6e9fda/Rtree-0.9.4.tar.gz (62kB)\n",
            "\u001b[K     |████████████████████████████████| 71kB 10.9MB/s \n",
            "\u001b[?25hCollecting fiona\n",
            "\u001b[?25l  Downloading https://files.pythonhosted.org/packages/ec/20/4e63bc5c6e62df889297b382c3ccd4a7a488b00946aaaf81a118158c6f09/Fiona-1.8.13.post1-cp36-cp36m-manylinux1_x86_64.whl (14.7MB)\n",
            "\u001b[K     |████████████████████████████████| 14.7MB 212kB/s \n",
            "\u001b[?25hRequirement already satisfied: kiwisolver>=1.0.1 in /usr/local/lib/python3.6/dist-packages (from matplotlib>=3.1->osmnx) (1.2.0)\n",
            "Requirement already satisfied: cycler>=0.10 in /usr/local/lib/python3.6/dist-packages (from matplotlib>=3.1->osmnx) (0.10.0)\n",
            "Requirement already satisfied: pyparsing!=2.0.4,!=2.1.2,!=2.1.6,>=2.0.1 in /usr/local/lib/python3.6/dist-packages (from matplotlib>=3.1->osmnx) (2.4.6)\n",
            "Requirement already satisfied: python-dateutil>=2.1 in /usr/local/lib/python3.6/dist-packages (from matplotlib>=3.1->osmnx) (2.8.1)\n",
            "Requirement already satisfied: decorator>=4.3.0 in /usr/local/lib/python3.6/dist-packages (from networkx>=2.4->osmnx) (4.4.2)\n",
            "Requirement already satisfied: idna<3,>=2.5 in /usr/local/lib/python3.6/dist-packages (from requests>=2.22->osmnx) (2.8)\n",
            "Requirement already satisfied: certifi>=2017.4.17 in /usr/local/lib/python3.6/dist-packages (from requests>=2.22->osmnx) (2019.11.28)\n",
            "Requirement already satisfied: chardet<4,>=3.0.2 in /usr/local/lib/python3.6/dist-packages (from requests>=2.22->osmnx) (3.0.4)\n",
            "Requirement already satisfied: urllib3!=1.25.0,!=1.25.1,<1.26,>=1.21.1 in /usr/local/lib/python3.6/dist-packages (from requests>=2.22->osmnx) (1.24.3)\n",
            "Requirement already satisfied: pytz>=2017.2 in /usr/local/lib/python3.6/dist-packages (from pandas>=1.0->osmnx) (2018.9)\n",
            "Requirement already satisfied: setuptools in /usr/local/lib/python3.6/dist-packages (from Rtree>=0.9->osmnx) (46.1.3)\n",
            "Requirement already satisfied: attrs>=17 in /usr/local/lib/python3.6/dist-packages (from fiona->geopandas>=0.6->osmnx) (19.3.0)\n",
            "Collecting munch\n",
            "  Downloading https://files.pythonhosted.org/packages/cc/ab/85d8da5c9a45e072301beb37ad7f833cd344e04c817d97e0cc75681d248f/munch-2.5.0-py2.py3-none-any.whl\n",
            "Collecting click-plugins>=1.0\n",
            "  Downloading https://files.pythonhosted.org/packages/e9/da/824b92d9942f4e472702488857914bdd50f73021efea15b4cad9aca8ecef/click_plugins-1.1.1-py2.py3-none-any.whl\n",
            "Collecting cligj>=0.5\n",
            "  Downloading https://files.pythonhosted.org/packages/e4/be/30a58b4b0733850280d01f8bd132591b4668ed5c7046761098d665ac2174/cligj-0.5.0-py3-none-any.whl\n",
            "Requirement already satisfied: click<8,>=4.0 in /usr/local/lib/python3.6/dist-packages (from fiona->geopandas>=0.6->osmnx) (7.1.1)\n",
            "Requirement already satisfied: six>=1.7 in /usr/local/lib/python3.6/dist-packages (from fiona->geopandas>=0.6->osmnx) (1.12.0)\n",
            "Building wheels for collected packages: Rtree\n",
            "  Building wheel for Rtree (setup.py) ... \u001b[?25l\u001b[?25hdone\n",
            "  Created wheel for Rtree: filename=Rtree-0.9.4-cp36-none-any.whl size=21769 sha256=562f9d6da29773733a5904e9e4b0ccc613ee9d999bf3d627f0391e6381253f75\n",
            "  Stored in directory: /root/.cache/pip/wheels/ff/20/c5/0004ef7acb96745ec99be960053902b0b414a2aa2dcad5834e\n",
            "Successfully built Rtree\n",
            "\u001b[31mERROR: google-colab 1.0.0 has requirement requests~=2.21.0, but you'll have requests 2.23.0 which is incompatible.\u001b[0m\n",
            "\u001b[31mERROR: datascience 0.10.6 has requirement folium==0.2.1, but you'll have folium 0.8.3 which is incompatible.\u001b[0m\n",
            "Installing collected packages: pyproj, munch, click-plugins, cligj, fiona, geopandas, requests, Rtree, osmnx\n",
            "  Found existing installation: requests 2.21.0\n",
            "    Uninstalling requests-2.21.0:\n",
            "      Successfully uninstalled requests-2.21.0\n",
            "Successfully installed Rtree-0.9.4 click-plugins-1.1.1 cligj-0.5.0 fiona-1.8.13.post1 geopandas-0.7.0 munch-2.5.0 osmnx-0.11.4 pyproj-2.6.0 requests-2.23.0\n"
          ],
          "name": "stdout"
        }
      ]
    },
    {
      "cell_type": "code",
      "metadata": {
        "colab_type": "code",
        "id": "RShXcYwX02sk",
        "outputId": "ff3b3958-4a7b-4821-ac85-48366d4a0415",
        "colab": {
          "base_uri": "https://localhost:8080/",
          "height": 34
        }
      },
      "source": [
        "place_name = \"Singapore, Central, Singapore\"\n",
        "G = ox.save_load.load_graphml(filename=\"Singapore_drive_processed.graphml\")\n",
        "\n",
        "# Stores nodes and edges mapped with speed bands along with other attributes\n",
        "type(G)"
      ],
      "execution_count": 0,
      "outputs": [
        {
          "output_type": "execute_result",
          "data": {
            "text/plain": [
              "networkx.classes.multidigraph.MultiDiGraph"
            ]
          },
          "metadata": {
            "tags": []
          },
          "execution_count": 3
        }
      ]
    },
    {
      "cell_type": "code",
      "metadata": {
        "colab_type": "code",
        "id": "S1NMV7e402s9",
        "colab": {}
      },
      "source": [
        "edges = ox.graph_to_gdfs(G, nodes=False, edges=True)\n",
        "nodes = pd.read_pickle('data/nodes_drive.pkl')"
      ],
      "execution_count": 0,
      "outputs": []
    },
    {
      "cell_type": "code",
      "metadata": {
        "colab_type": "code",
        "id": "yiJwQczp02ti",
        "outputId": "414c19b9-1b4b-46f0-b703-3834541b42cb",
        "colab": {
          "base_uri": "https://localhost:8080/",
          "height": 104
        }
      },
      "source": [
        "f = open(\"Fri Feb 14 09_06_16 2020.json\", \"r\").read()\n",
        "x = json.loads(f)\n",
        "\n",
        "speed_bands = pd.DataFrame.from_dict(x, orient='columns')\n",
        "process_speed_band(speed_bands)"
      ],
      "execution_count": 0,
      "outputs": [
        {
          "output_type": "stream",
          "text": [
            "/content/drive/My Drive/Sem 8 files/utils.py:51: SettingWithCopyWarning: \n",
            "A value is trying to be set on a copy of a slice from a DataFrame\n",
            "\n",
            "See the caveats in the documentation: https://pandas.pydata.org/pandas-docs/stable/user_guide/indexing.html#returning-a-view-versus-a-copy\n",
            "  df['MaximumSpeed'][i] = '80'\n"
          ],
          "name": "stderr"
        }
      ]
    },
    {
      "cell_type": "code",
      "metadata": {
        "colab_type": "code",
        "id": "j4ucj9bU02uI",
        "colab": {}
      },
      "source": [
        "calculate_congestion(G, edges, speed_bands)"
      ],
      "execution_count": 0,
      "outputs": []
    },
    {
      "cell_type": "code",
      "metadata": {
        "colab_type": "code",
        "id": "DXvM1T3-D588",
        "colab": {}
      },
      "source": [
        "# Filter out all bus stop nodes\n",
        "# key: node label ,value: location\n",
        "idx = index.Index()\n",
        "\n",
        "xx = nodes['x'].astype(float)\n",
        "yy = nodes['y'].astype(float)\n",
        "node_id = nodes['osmid']\n",
        "node_type = nodes['highway']\n",
        "\n",
        "# nan = 18823\n",
        "\n",
        "# speed_camera = 2\n",
        "# motorway_junction = 222\n",
        "# turning_circle = 79\n",
        "# crossing = 27\n",
        "# turning_loop = 26\n",
        "# mini_roundabout = 6\n",
        "# traffic signals = 4031\n",
        "\n",
        "for node, x, y, kind in zip(node_id, xx, yy, node_type):\n",
        "    if type(kind) == float:\n",
        "      idx.insert(int(node), (x,y,x,y))"
      ],
      "execution_count": 0,
      "outputs": []
    },
    {
      "cell_type": "code",
      "metadata": {
        "colab_type": "code",
        "id": "W8E0y9fFD59I",
        "colab": {}
      },
      "source": [
        "def find_nearest_nodes(nodes, source, dist, idx):\n",
        "    # Create a bounding box around source of min distance in all directions\n",
        "    (north, south, east, west) = ox.bbox_from_point(point=source, distance=dist)\n",
        "    \n",
        "    candidate_nodes = []\n",
        "    initial = list(idx.intersection((west, south, east, north)))   \n",
        "    for node in initial:\n",
        "      x = haversine_distance(nodes, node, source)\n",
        "      if x <= dist:\n",
        "        candidate_nodes.append(node)\n",
        "\n",
        "    return candidate_nodes"
      ],
      "execution_count": 0,
      "outputs": []
    },
    {
      "cell_type": "code",
      "metadata": {
        "colab_type": "code",
        "id": "Q-zt3gxTD59T",
        "colab": {}
      },
      "source": [
        "def get_length_dict(sources, destinations):\n",
        "    distances = dict()\n",
        "  \n",
        "    for source in sources:        \n",
        "        for dest in destinations:\n",
        "            ed = haversine_distance(nodes, source, dest)\n",
        "            distances[source,dest] = ed/13.8889\n",
        "       \n",
        "    # sort the dictionary in ascending order using distances\n",
        "    x = sorted(distances.items(), key = lambda kv:(kv[1], kv[0]))\n",
        "    return x    "
      ],
      "execution_count": 0,
      "outputs": []
    },
    {
      "cell_type": "markdown",
      "metadata": {
        "id": "7UiLRAEw6LwE",
        "colab_type": "text"
      },
      "source": [
        "## Hybrid Algorithm"
      ]
    },
    {
      "cell_type": "code",
      "metadata": {
        "id": "ZFT_PkWm6LwG",
        "colab_type": "code",
        "colab": {}
      },
      "source": [
        "def hybrid_search(G, x):\n",
        "    n = len(x)\n",
        "    min_pair = x[0]\n",
        "    source = min_pair[0][0]\n",
        "    dest = min_pair[0][1]\n",
        "    min_tt = float('inf')\n",
        "    final_route = []\n",
        "    count = 0\n",
        "\n",
        "    for i in range(n):\n",
        "        try:            \n",
        "            travel_time = nx.shortest_path_length(G, source, dest, weight='BPR', method='dijkstra')\n",
        "            count = count + 1\n",
        "        except nx.NetworkXUnfeasible:\n",
        "            continue\n",
        "\n",
        "        if travel_time < min_tt:\n",
        "            min_tt = travel_time\n",
        "            min_pair = x[i]\n",
        "\n",
        "            if i < n-1:\n",
        "                if travel_time < x[i+1][1]:\n",
        "                    break\n",
        "                else:\n",
        "                    source = x[i+1][0][0]\n",
        "                    dest = x[i+1][0][1]\n",
        "            else:\n",
        "                break\n",
        "        else:\n",
        "            if i < n-1:\n",
        "                if min_tt < x[i+1][1]:\n",
        "                    break\n",
        "                else:\n",
        "                    source = x[i+1][0][0]\n",
        "                    dest = x[i+1][0][1]\n",
        "            else:\n",
        "                break\n",
        "\n",
        "    return min_tt, count"
      ],
      "execution_count": 0,
      "outputs": []
    },
    {
      "cell_type": "markdown",
      "metadata": {
        "id": "hEYJkAY66LwR",
        "colab_type": "text"
      },
      "source": [
        "## Modified Hybrid Search"
      ]
    },
    {
      "cell_type": "code",
      "metadata": {
        "id": "_njaaSxl6LwV",
        "colab_type": "code",
        "colab": {}
      },
      "source": [
        "def modified_hybrid_search(G, x):\n",
        "    n = len(x)\n",
        "    cutoff = math.floor(n/math.exp(1))\n",
        "    print(cutoff)\n",
        "    min_pair = x[0]\n",
        "    source = min_pair[0][0]\n",
        "    dest = min_pair[0][1]\n",
        "    min_tt = float('inf')\n",
        "    count = 0\n",
        "\n",
        "    for i in range(n):\n",
        "        try:            \n",
        "            travel_time = nx.shortest_path_length(G, source, dest, weight='BPR', method='dijkstra')\n",
        "            count = count + 1\n",
        "        except nx.NetworkXUnfeasible:\n",
        "            continue\n",
        "\n",
        "        # have reached cutoff and didnt find optimal yet\n",
        "        if i > cutoff:\n",
        "          if travel_time < min_tt:\n",
        "            min_tt = travel_time\n",
        "            min_pair = x[i]\n",
        "            break\n",
        "\n",
        "          if i < n-1:\n",
        "            if min_tt < x[i+1][1]:\n",
        "              break\n",
        "            else:\n",
        "              source = x[i+1][0][0]\n",
        "              dest = x[i+1][0][1]\n",
        "        else:\n",
        "          if travel_time < min_tt:\n",
        "              min_tt = travel_time\n",
        "              min_pair = x[i]\n",
        "\n",
        "              if i < n-1:\n",
        "                  if travel_time < x[i+1][1]:\n",
        "                      break\n",
        "                  else:\n",
        "                      source = x[i+1][0][0]\n",
        "                      dest = x[i+1][0][1]\n",
        "              else:\n",
        "                  break\n",
        "          else:\n",
        "              if i < n-1:\n",
        "                  if min_tt < x[i+1][1]:\n",
        "                      break\n",
        "                  else:\n",
        "                      source = x[i+1][0][0]\n",
        "                      dest = x[i+1][0][1]\n",
        "              else:\n",
        "                  break\n",
        "\n",
        "    return min_tt, count"
      ],
      "execution_count": 0,
      "outputs": []
    },
    {
      "cell_type": "markdown",
      "metadata": {
        "colab_type": "text",
        "id": "pCb2mwI6D584"
      },
      "source": [
        "### Calculate number of queries and deviation of travel times"
      ]
    },
    {
      "cell_type": "code",
      "metadata": {
        "colab_type": "code",
        "id": "KU0UougTpgBK",
        "colab": {}
      },
      "source": [
        "def lets_do_this():\n",
        "    # get 10 random sources\n",
        "    sources = []\n",
        "    for i in range(10):\n",
        "        r = random.randint(0,23210)\n",
        "        s = nodes['osmid'].values[r]\n",
        "        sources.append(s)\n",
        "\n",
        "    # get 10 correspondig random targets\n",
        "    targets = []\n",
        "    for i in range(10):\n",
        "        r = random.randint(0,23210)\n",
        "        t = nodes['osmid'].values[r]\n",
        "        targets.append(t)\n",
        "\n",
        "    mod_hybrid_q = []\n",
        "    mod_hybrid_t = []\n",
        "    hybrid_q = []\n",
        "    hybrid_t = []\n",
        "  \n",
        "    for s,t in zip(sources,targets):\n",
        "        orig_point = nodes[nodes['osmid'] == s].geometry.values[0]\n",
        "        target_point = nodes[nodes['osmid'] == t].geometry.values[0]\n",
        "        orig_xy = (orig_point.y, orig_point.x)\n",
        "        target_xy = (target_point.y, target_point.x)\n",
        "\n",
        "        # Max distance for walking is 720m (10 min * 1.2 m/s)\n",
        "        # Find all nodes within 720 m from candidate sources and candidate destinations\n",
        "        candidate_dest = find_nearest_nodes(nodes, target_xy, 500, idx)\n",
        "        candidate_source = find_nearest_nodes(nodes, orig_xy, 500, idx)\n",
        "\n",
        "        if len(candidate_dest) == 0:\n",
        "          candidate_dest.append(ox.get_nearest_node(G, target_xy))\n",
        "      \n",
        "        if len(candidate_source) == 0:\n",
        "          candidate_source.append(ox.get_nearest_node(G, orig_xy))\n",
        "\n",
        "        value = len(candidate_dest) * len(candidate_source)\n",
        "        print(s,t,value)\n",
        "\n",
        "        euclidean = get_length_dict(candidate_source, candidate_dest)\n",
        "        value1_t, value1_q = hybrid_search(G, euclidean)\n",
        "        hybrid_t.append(value1_t)\n",
        "        hybrid_q.append(value1_q)\n",
        "        \n",
        "        value2_t, value2_q = modified_hybrid_search(G, euclidean)\n",
        "        mod_hybrid_t.append(value2_t)\n",
        "        mod_hybrid_q.append(value2_q)\n",
        "\n",
        "    return mod_hybrid_q, mod_hybrid_t, hybrid_q, hybrid_t"
      ],
      "execution_count": 0,
      "outputs": []
    },
    {
      "cell_type": "code",
      "metadata": {
        "colab_type": "code",
        "id": "CVprJshmD59h",
        "outputId": "1c53703b-15c7-4dae-8021-6463d05da5dd",
        "colab": {
          "base_uri": "https://localhost:8080/",
          "height": 364
        }
      },
      "source": [
        "mod_hybrid_q, mod_hybrid_t, hybrid_q, hybrid_t = lets_do_this()"
      ],
      "execution_count": 90,
      "outputs": [
        {
          "output_type": "stream",
          "text": [
            "206256184 309855456 6174\n",
            "2271\n",
            "6065390759 1843186767 4620\n",
            "1699\n",
            "5015699389 4592960096 5304\n",
            "1951\n",
            "4606173525 1830473115 1323\n",
            "486\n",
            "1788428595 229414607 6834\n",
            "2514\n",
            "237492645 3054868310 3108\n",
            "1143\n",
            "246167375 3412053579 3496\n",
            "1286\n",
            "5266984257 410061950 2070\n",
            "761\n",
            "2078419410 5936047306 3375\n",
            "1241\n",
            "404208394 243713187 2430\n",
            "893\n"
          ],
          "name": "stdout"
        }
      ]
    },
    {
      "cell_type": "markdown",
      "metadata": {
        "id": "4Vnbe2LD98bP",
        "colab_type": "text"
      },
      "source": [
        "## Deviation between travel times calculated by hybrid and modified hybrid"
      ]
    },
    {
      "cell_type": "code",
      "metadata": {
        "id": "f_FaRmhQ-u-9",
        "colab_type": "code",
        "colab": {}
      },
      "source": [
        "deviations = []\n",
        "for h, mod_h in zip(hybrid_t, mod_hybrid_t):\n",
        "  stddev = statistics.stdev([h, mod_h])\n",
        "  deviations.append(stddev)"
      ],
      "execution_count": 0,
      "outputs": []
    },
    {
      "cell_type": "code",
      "metadata": {
        "colab_type": "code",
        "id": "4N5ZVU9eTK2A",
        "outputId": "021d0bcf-7c02-42f7-9270-0233473aead8",
        "colab": {
          "base_uri": "https://localhost:8080/",
          "height": 369
        }
      },
      "source": [
        "# Plot what hybrid gave and what modified hybrid gave\n",
        "labels = [x for x in range(1,11)]\n",
        "\n",
        "x = np.arange(len(labels))  # the label locations\n",
        "width = 0.35  # the width of the bars\n",
        "\n",
        "fig, ax = plt.subplots(figsize=(10,5))\n",
        "rects1 = ax.bar(x - width/2, hybrid_t, width, label='Hybrid')\n",
        "rects2 = ax.bar(x + width/2, mod_hybrid_t, width, label='Modified Hybrid')\n",
        "\n",
        "# Add some text for labels, title and custom x-axis tick labels, etc.\n",
        "ax.set_ylabel('Travel times (in sec)')\n",
        "ax.set_xlabel('Customer requests')\n",
        "ax.set_title('Travel times calculated by hybrid and modified hybrid')\n",
        "ax.set_xticks(x)\n",
        "ax.set_xticklabels(labels)\n",
        "ax.legend()\n",
        "\n",
        "fig.tight_layout()"
      ],
      "execution_count": 92,
      "outputs": [
        {
          "output_type": "display_data",
          "data": {
            "image/png": "[encoded data removed]",
            "text/plain": [
              "<Figure size 720x360 with 1 Axes>"
            ]
          },
          "metadata": {
            "tags": []
          }
        }
      ]
    },
    {
      "cell_type": "code",
      "metadata": {
        "id": "Sxqbb5pqCJwq",
        "colab_type": "code",
        "outputId": "707c2a5b-bfac-4577-b6b0-0b3517c4d9c9",
        "colab": {
          "base_uri": "https://localhost:8080/",
          "height": 369
        }
      },
      "source": [
        "labels = [x for x in range(1,11)]\n",
        "\n",
        "x = np.arange(len(labels))  # the label locations\n",
        "width = 0.35  # the width of the bars\n",
        "\n",
        "fig, ax = plt.subplots(figsize=(10,5))\n",
        "rects1 = ax.bar(x - width/2, deviations, width, label='Deviations')\n",
        "\n",
        "# Add some text for labels, title and custom x-axis tick labels, etc.\n",
        "ax.set_ylabel('Travel times (in sec)')\n",
        "ax.set_xlabel('Customer requests')\n",
        "ax.set_title('Deviation between travel times calculated by hybrid and modified hybrid')\n",
        "ax.set_xticks(x)\n",
        "ax.set_xticklabels(labels)\n",
        "ax.legend()\n",
        "\n",
        "fig.tight_layout()"
      ],
      "execution_count": 93,
      "outputs": [
        {
          "output_type": "display_data",
          "data": {
            "image/png": "[encoded data removed]",
            "text/plain": [
              "<Figure size 720x360 with 1 Axes>"
            ]
          },
          "metadata": {
            "tags": []
          }
        }
      ]
    },
    {
      "cell_type": "code",
      "metadata": {
        "id": "0z-pFeIBSEtu",
        "colab_type": "code",
        "outputId": "9e5fa283-6d37-4199-dec0-76b22168b45c",
        "colab": {
          "base_uri": "https://localhost:8080/",
          "height": 34
        }
      },
      "source": [
        "print(\"Average deviation in secs:\", statistics.mean(deviations))"
      ],
      "execution_count": 94,
      "outputs": [
        {
          "output_type": "stream",
          "text": [
            "Average deviation in secs: 17.05281253598506\n"
          ],
          "name": "stdout"
        }
      ]
    },
    {
      "cell_type": "markdown",
      "metadata": {
        "id": "lAi5CahcDn_n",
        "colab_type": "text"
      },
      "source": [
        "## Number of queries"
      ]
    },
    {
      "cell_type": "code",
      "metadata": {
        "id": "zo-Xqk-SDnF5",
        "colab_type": "code",
        "outputId": "64840cb3-318d-4b5e-f6e7-e36b7fd0f14f",
        "colab": {
          "base_uri": "https://localhost:8080/",
          "height": 225
        }
      },
      "source": [
        "print(\"Number of queries\")\n",
        "print(\"Hybrid || Modified Hybrid || Saved %\")\n",
        "for e,h in zip(hybrid_q, mod_hybrid_q):\n",
        "  saved = ((e-h)/e)*100\n",
        "  print(e,h,saved)"
      ],
      "execution_count": 95,
      "outputs": [
        {
          "output_type": "stream",
          "text": [
            "Number of queries\n",
            "Hybrid || Modified Hybrid || Saved %\n",
            "6174 6174 0.0\n",
            "4620 4620 0.0\n",
            "5304 5304 0.0\n",
            "1323 551 58.35222978080121\n",
            "6834 2699 60.50629206906643\n",
            "3108 3108 0.0\n",
            "3496 3496 0.0\n",
            "2070 2070 0.0\n",
            "3375 1291 61.748148148148154\n",
            "2430 1103 54.609053497942384\n"
          ],
          "name": "stdout"
        }
      ]
    }
  ]
}