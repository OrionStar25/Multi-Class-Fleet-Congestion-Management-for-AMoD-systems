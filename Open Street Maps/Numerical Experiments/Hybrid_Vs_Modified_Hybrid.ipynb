{
  "nbformat": 4,
  "nbformat_minor": 0,
  "metadata": {
    "accelerator": "GPU",
    "colab": {
      "name": "Hybrid_Vs_Modified_Hybrid.ipynb",
      "provenance": [],
      "collapsed_sections": []
    },
    "kernelspec": {
      "display_name": "Python 3",
      "language": "python",
      "name": "python3"
    },
    "language_info": {
      "codemirror_mode": {
        "name": "ipython",
        "version": 3
      },
      "file_extension": ".py",
      "mimetype": "text/x-python",
      "name": "python",
      "nbconvert_exporter": "python",
      "pygments_lexer": "ipython3",
      "version": "3.6.10"
    }
  },
  "cells": [
    {
      "cell_type": "code",
      "metadata": {
        "colab_type": "code",
        "id": "mF0kte2iEAEU",
        "outputId": "bfa9aa2a-9aa1-4851-845f-827012ed8469",
        "colab": {
          "base_uri": "https://localhost:8080/",
          "height": 193
        }
      },
      "source": [
        "from google.colab import drive\n",
        "drive.mount('/content/drive/')\n",
        "%cd drive/My \\Drive/Sem \\8 \\files/\n",
        "!ls"
      ],
      "execution_count": 1,
      "outputs": [
        {
          "output_type": "stream",
          "text": [
            "Go to this URL in a browser: https://accounts.google.com/o/oauth2/auth?client_id=947318989803-6bn6qk8qdgf4n4g3pfee6491hc0brc4i.apps.googleusercontent.com&redirect_uri=urn%3aietf%3awg%3aoauth%3a2.0%3aoob&response_type=code&scope=email%20https%3a%2f%2fwww.googleapis.com%2fauth%2fdocs.test%20https%3a%2f%2fwww.googleapis.com%2fauth%2fdrive%20https%3a%2f%2fwww.googleapis.com%2fauth%2fdrive.photos.readonly%20https%3a%2f%2fwww.googleapis.com%2fauth%2fpeopleapi.readonly\n",
            "\n",
            "Enter your authorization code:\n",
            "··········\n",
            "Mounted at /content/drive/\n",
            "/content/drive/My Drive/Sem 8 files\n",
            " data\t\t\t\t  __pycache__\n",
            " euclidean_distances.json\t  Shortest_path_lengths.pkl\n",
            "'Fri Feb 14 09_06_16 2020.json'   utils.py\n"
          ],
          "name": "stdout"
        }
      ]
    },
    {
      "cell_type": "code",
      "metadata": {
        "colab_type": "code",
        "id": "Anm_vCtg02sJ",
        "outputId": "97319dbc-8ceb-4855-a8f4-412ea96bd836",
        "colab": {
          "base_uri": "https://localhost:8080/",
          "height": 1000
        }
      },
      "source": [
        "!apt-get install -y libspatialindex-c4v5\n",
        "!pip3.6 install osmnx\n",
        "\n",
        "import osmnx as ox\n",
        "import networkx as nx\n",
        "import pandas as pd\n",
        "import json\n",
        "import random\n",
        "import statistics\n",
        "import numpy as np\n",
        "import matplotlib.pyplot as plt\n",
        "\n",
        "from rtree import index\n",
        "from utils import *"
      ],
      "execution_count": 2,
      "outputs": [
        {
          "output_type": "stream",
          "text": [
            "\rReading package lists... 0%\r\rReading package lists... 0%\r\rReading package lists... 0%\r\rReading package lists... 6%\r\rReading package lists... 6%\r\rReading package lists... 7%\r\rReading package lists... 7%\r\rReading package lists... 64%\r\rReading package lists... 64%\r\rReading package lists... 64%\r\rReading package lists... 64%\r\rReading package lists... 72%\r\rReading package lists... 72%\r\rReading package lists... 72%\r\rReading package lists... 72%\r\rReading package lists... 81%\r\rReading package lists... 81%\r\rReading package lists... 81%\r\rReading package lists... 81%\r\rReading package lists... 81%\r\rReading package lists... 81%\r\rReading package lists... 81%\r\rReading package lists... 81%\r\rReading package lists... 87%\r\rReading package lists... 87%\r\rReading package lists... 87%\r\rReading package lists... 87%\r\rReading package lists... 90%\r\rReading package lists... 93%\r\rReading package lists... 93%\r\rReading package lists... 93%\r\rReading package lists... 93%\r\rReading package lists... 93%\r\rReading package lists... 93%\r\rReading package lists... 94%\r\rReading package lists... 94%\r\rReading package lists... 95%\r\rReading package lists... 95%\r\rReading package lists... 98%\r\rReading package lists... 98%\r\rReading package lists... 98%\r\rReading package lists... 98%\r\rReading package lists... Done\r\n",
            "\rBuilding dependency tree... 0%\r\rBuilding dependency tree... 0%\r\rBuilding dependency tree... 50%\r\rBuilding dependency tree... 50%\r\rBuilding dependency tree       \r\n",
            "Reading state information... Done\n",
            "The following additional packages will be installed:\n",
            "  libspatialindex4v5\n",
            "The following NEW packages will be installed:\n",
            "  libspatialindex-c4v5 libspatialindex4v5\n",
            "0 upgraded, 2 newly installed, 0 to remove and 25 not upgraded.\n",
            "Need to get 270 kB of archives.\n",
            "After this operation, 1,107 kB of additional disk space will be used.\n",
            "Get:1 http://archive.ubuntu.com/ubuntu bionic/universe amd64 libspatialindex4v5 amd64 1.8.5-5 [219 kB]\n",
            "Get:2 http://archive.ubuntu.com/ubuntu bionic/universe amd64 libspatialindex-c4v5 amd64 1.8.5-5 [51.7 kB]\n",
            "Fetched 270 kB in 1s (262 kB/s)\n",
            "Selecting previously unselected package libspatialindex4v5:amd64.\n",
            "(Reading database ... 144568 files and directories currently installed.)\n",
            "Preparing to unpack .../libspatialindex4v5_1.8.5-5_amd64.deb ...\n",
            "Unpacking libspatialindex4v5:amd64 (1.8.5-5) ...\n",
            "Selecting previously unselected package libspatialindex-c4v5:amd64.\n",
            "Preparing to unpack .../libspatialindex-c4v5_1.8.5-5_amd64.deb ...\n",
            "Unpacking libspatialindex-c4v5:amd64 (1.8.5-5) ...\n",
            "Setting up libspatialindex4v5:amd64 (1.8.5-5) ...\n",
            "Setting up libspatialindex-c4v5:amd64 (1.8.5-5) ...\n",
            "Processing triggers for libc-bin (2.27-3ubuntu1) ...\n",
            "/sbin/ldconfig.real: /usr/local/lib/python3.6/dist-packages/ideep4py/lib/libmkldnn.so.0 is not a symbolic link\n",
            "\n",
            "Collecting osmnx\n",
            "\u001b[?25l  Downloading https://files.pythonhosted.org/packages/ec/b1/19db159f912ca27e35968c2b89cf70014535999c1213ae005c32dbb42f4c/osmnx-0.11.4-py2.py3-none-any.whl (77kB)\n",
            "\u001b[K     |████████████████████████████████| 81kB 4.0MB/s \n",
            "\u001b[?25hRequirement already satisfied: descartes>=1.1 in /usr/local/lib/python3.6/dist-packages (from osmnx) (1.1.0)\n",
            "Collecting geopandas>=0.6\n",
            "\u001b[?25l  Downloading https://files.pythonhosted.org/packages/83/c5/3cf9cdc39a6f2552922f79915f36b45a95b71fd343cfc51170a5b6ddb6e8/geopandas-0.7.0-py2.py3-none-any.whl (928kB)\n",
            "\u001b[K     |████████████████████████████████| 931kB 13.0MB/s \n",
            "\u001b[?25hCollecting pyproj>=2.4\n",
            "\u001b[?25l  Downloading https://files.pythonhosted.org/packages/ce/37/705ee471f71130d4ceee41bbcb06f3b52175cb89273cbb5755ed5e6374e0/pyproj-2.6.0-cp36-cp36m-manylinux2010_x86_64.whl (10.4MB)\n",
            "\u001b[K     |████████████████████████████████| 10.4MB 45.6MB/s \n",
            "\u001b[?25hCollecting requests>=2.22\n",
            "\u001b[?25l  Downloading https://files.pythonhosted.org/packages/1a/70/1935c770cb3be6e3a8b78ced23d7e0f3b187f5cbfab4749523ed65d7c9b1/requests-2.23.0-py2.py3-none-any.whl (58kB)\n",
            "\u001b[K     |████████████████████████████████| 61kB 9.6MB/s \n",
            "\u001b[?25hRequirement already satisfied: networkx>=2.4 in /usr/local/lib/python3.6/dist-packages (from osmnx) (2.4)\n",
            "Requirement already satisfied: numpy>=1.17 in /usr/local/lib/python3.6/dist-packages (from osmnx) (1.18.2)\n",
            "Collecting Rtree>=0.9\n",
            "\u001b[?25l  Downloading https://files.pythonhosted.org/packages/56/6f/f1e91001d5ad9fa9bed65875152f5a1c7955c5763168cae309546e6e9fda/Rtree-0.9.4.tar.gz (62kB)\n",
            "\u001b[K     |████████████████████████████████| 71kB 11.5MB/s \n",
            "\u001b[?25hRequirement already satisfied: pandas>=1.0 in /usr/local/lib/python3.6/dist-packages (from osmnx) (1.0.3)\n",
            "Requirement already satisfied: Shapely>=1.7 in /usr/local/lib/python3.6/dist-packages (from osmnx) (1.7.0)\n",
            "Requirement already satisfied: matplotlib>=3.1 in /usr/local/lib/python3.6/dist-packages (from osmnx) (3.2.1)\n",
            "Collecting fiona\n",
            "\u001b[?25l  Downloading https://files.pythonhosted.org/packages/ec/20/4e63bc5c6e62df889297b382c3ccd4a7a488b00946aaaf81a118158c6f09/Fiona-1.8.13.post1-cp36-cp36m-manylinux1_x86_64.whl (14.7MB)\n",
            "\u001b[K     |████████████████████████████████| 14.7MB 210kB/s \n",
            "\u001b[?25hRequirement already satisfied: idna<3,>=2.5 in /usr/local/lib/python3.6/dist-packages (from requests>=2.22->osmnx) (2.8)\n",
            "Requirement already satisfied: chardet<4,>=3.0.2 in /usr/local/lib/python3.6/dist-packages (from requests>=2.22->osmnx) (3.0.4)\n",
            "Requirement already satisfied: urllib3!=1.25.0,!=1.25.1,<1.26,>=1.21.1 in /usr/local/lib/python3.6/dist-packages (from requests>=2.22->osmnx) (1.24.3)\n",
            "Requirement already satisfied: certifi>=2017.4.17 in /usr/local/lib/python3.6/dist-packages (from requests>=2.22->osmnx) (2019.11.28)\n",
            "Requirement already satisfied: decorator>=4.3.0 in /usr/local/lib/python3.6/dist-packages (from networkx>=2.4->osmnx) (4.4.2)\n",
            "Requirement already satisfied: setuptools in /usr/local/lib/python3.6/dist-packages (from Rtree>=0.9->osmnx) (46.1.3)\n",
            "Requirement already satisfied: pytz>=2017.2 in /usr/local/lib/python3.6/dist-packages (from pandas>=1.0->osmnx) (2018.9)\n",
            "Requirement already satisfied: python-dateutil>=2.6.1 in /usr/local/lib/python3.6/dist-packages (from pandas>=1.0->osmnx) (2.8.1)\n",
            "Requirement already satisfied: kiwisolver>=1.0.1 in /usr/local/lib/python3.6/dist-packages (from matplotlib>=3.1->osmnx) (1.2.0)\n",
            "Requirement already satisfied: pyparsing!=2.0.4,!=2.1.2,!=2.1.6,>=2.0.1 in /usr/local/lib/python3.6/dist-packages (from matplotlib>=3.1->osmnx) (2.4.6)\n",
            "Requirement already satisfied: cycler>=0.10 in /usr/local/lib/python3.6/dist-packages (from matplotlib>=3.1->osmnx) (0.10.0)\n",
            "Requirement already satisfied: click<8,>=4.0 in /usr/local/lib/python3.6/dist-packages (from fiona->geopandas>=0.6->osmnx) (7.1.1)\n",
            "Collecting click-plugins>=1.0\n",
            "  Downloading https://files.pythonhosted.org/packages/e9/da/824b92d9942f4e472702488857914bdd50f73021efea15b4cad9aca8ecef/click_plugins-1.1.1-py2.py3-none-any.whl\n",
            "Requirement already satisfied: six>=1.7 in /usr/local/lib/python3.6/dist-packages (from fiona->geopandas>=0.6->osmnx) (1.12.0)\n",
            "Collecting munch\n",
            "  Downloading https://files.pythonhosted.org/packages/cc/ab/85d8da5c9a45e072301beb37ad7f833cd344e04c817d97e0cc75681d248f/munch-2.5.0-py2.py3-none-any.whl\n",
            "Collecting cligj>=0.5\n",
            "  Downloading https://files.pythonhosted.org/packages/e4/be/30a58b4b0733850280d01f8bd132591b4668ed5c7046761098d665ac2174/cligj-0.5.0-py3-none-any.whl\n",
            "Requirement already satisfied: attrs>=17 in /usr/local/lib/python3.6/dist-packages (from fiona->geopandas>=0.6->osmnx) (19.3.0)\n",
            "Building wheels for collected packages: Rtree\n",
            "  Building wheel for Rtree (setup.py) ... \u001b[?25l\u001b[?25hdone\n",
            "  Created wheel for Rtree: filename=Rtree-0.9.4-cp36-none-any.whl size=21766 sha256=4f664691b27e3c44ad009753f5c2a3854800034f083377601228946ae9e3de10\n",
            "  Stored in directory: /root/.cache/pip/wheels/ff/20/c5/0004ef7acb96745ec99be960053902b0b414a2aa2dcad5834e\n",
            "Successfully built Rtree\n",
            "\u001b[31mERROR: google-colab 1.0.0 has requirement requests~=2.21.0, but you'll have requests 2.23.0 which is incompatible.\u001b[0m\n",
            "\u001b[31mERROR: datascience 0.10.6 has requirement folium==0.2.1, but you'll have folium 0.8.3 which is incompatible.\u001b[0m\n",
            "Installing collected packages: click-plugins, munch, cligj, fiona, pyproj, geopandas, requests, Rtree, osmnx\n",
            "  Found existing installation: requests 2.21.0\n",
            "    Uninstalling requests-2.21.0:\n",
            "      Successfully uninstalled requests-2.21.0\n",
            "Successfully installed Rtree-0.9.4 click-plugins-1.1.1 cligj-0.5.0 fiona-1.8.13.post1 geopandas-0.7.0 munch-2.5.0 osmnx-0.11.4 pyproj-2.6.0 requests-2.23.0\n"
          ],
          "name": "stdout"
        }
      ]
    },
    {
      "cell_type": "code",
      "metadata": {
        "colab_type": "code",
        "id": "RShXcYwX02sk",
        "outputId": "d6e88837-528b-4ae5-9718-f75976e5e857",
        "colab": {
          "base_uri": "https://localhost:8080/",
          "height": 34
        }
      },
      "source": [
        "place_name = \"Singapore, Central, Singapore\"\n",
        "G = ox.save_load.load_graphml(filename=\"Singapore_drive_processed.graphml\")\n",
        "\n",
        "# Stores nodes and edges mapped with speed bands along with other attributes\n",
        "type(G)"
      ],
      "execution_count": 3,
      "outputs": [
        {
          "output_type": "execute_result",
          "data": {
            "text/plain": [
              "networkx.classes.multidigraph.MultiDiGraph"
            ]
          },
          "metadata": {
            "tags": []
          },
          "execution_count": 3
        }
      ]
    },
    {
      "cell_type": "code",
      "metadata": {
        "colab_type": "code",
        "id": "S1NMV7e402s9",
        "colab": {}
      },
      "source": [
        "edges = ox.graph_to_gdfs(G, nodes=False, edges=True)\n",
        "nodes = pd.read_pickle('data/nodes_drive.pkl')"
      ],
      "execution_count": 0,
      "outputs": []
    },
    {
      "cell_type": "code",
      "metadata": {
        "colab_type": "code",
        "id": "yiJwQczp02ti",
        "outputId": "c310723d-fcc4-493b-bba6-5e6455fd05c2",
        "colab": {
          "base_uri": "https://localhost:8080/",
          "height": 104
        }
      },
      "source": [
        "f = open(\"Fri Feb 14 09_06_16 2020.json\", \"r\").read()\n",
        "x = json.loads(f)\n",
        "\n",
        "speed_bands = pd.DataFrame.from_dict(x, orient='columns')\n",
        "process_speed_band(speed_bands)"
      ],
      "execution_count": 5,
      "outputs": [
        {
          "output_type": "stream",
          "text": [
            "/content/drive/My Drive/Sem 8 files/utils.py:51: SettingWithCopyWarning: \n",
            "A value is trying to be set on a copy of a slice from a DataFrame\n",
            "\n",
            "See the caveats in the documentation: https://pandas.pydata.org/pandas-docs/stable/user_guide/indexing.html#returning-a-view-versus-a-copy\n",
            "  df['MaximumSpeed'][i] = '80'\n"
          ],
          "name": "stderr"
        }
      ]
    },
    {
      "cell_type": "code",
      "metadata": {
        "colab_type": "code",
        "id": "j4ucj9bU02uI",
        "colab": {}
      },
      "source": [
        "calculate_congestion(G, edges, speed_bands)"
      ],
      "execution_count": 0,
      "outputs": []
    },
    {
      "cell_type": "code",
      "metadata": {
        "colab_type": "code",
        "id": "DXvM1T3-D588",
        "colab": {}
      },
      "source": [
        "# Filter out all bus stop nodes\n",
        "# key: node label ,value: location\n",
        "idx = index.Index()\n",
        "\n",
        "xx = nodes['x'].astype(float)\n",
        "yy = nodes['y'].astype(float)\n",
        "node_id = nodes['osmid']\n",
        "node_type = nodes['highway']\n",
        "\n",
        "# nan = 18823\n",
        "\n",
        "# speed_camera = 2\n",
        "# motorway_junction = 222\n",
        "# turning_circle = 79\n",
        "# crossing = 27\n",
        "# turning_loop = 26\n",
        "# mini_roundabout = 6\n",
        "# traffic signals = 4031\n",
        "\n",
        "for node, x, y, kind in zip(node_id, xx, yy, node_type):\n",
        "    if type(kind) == float:\n",
        "      idx.insert(int(node), (x,y,x,y))"
      ],
      "execution_count": 0,
      "outputs": []
    },
    {
      "cell_type": "code",
      "metadata": {
        "colab_type": "code",
        "id": "W8E0y9fFD59I",
        "colab": {}
      },
      "source": [
        "def find_nearest_nodes(nodes, source, dist, idx):\n",
        "    # Create a bounding box around source of min distance in all directions\n",
        "    (north, south, east, west) = ox.bbox_from_point(point=source, distance=dist)\n",
        "    \n",
        "    candidate_nodes = []\n",
        "    initial = list(idx.intersection((west, south, east, north)))   \n",
        "    for node in initial:\n",
        "      x = haversine_distance(nodes, node, source)\n",
        "      if x <= dist:\n",
        "        candidate_nodes.append(node)\n",
        "\n",
        "    return candidate_nodes"
      ],
      "execution_count": 0,
      "outputs": []
    },
    {
      "cell_type": "code",
      "metadata": {
        "colab_type": "code",
        "id": "Q-zt3gxTD59T",
        "colab": {}
      },
      "source": [
        "def get_length_dict(sources, destinations):\n",
        "    distances = dict()\n",
        "  \n",
        "    for source in sources:        \n",
        "        for dest in destinations:\n",
        "            ed = haversine_distance(nodes, source, dest)\n",
        "            distances[source,dest] = ed/13.8889\n",
        "       \n",
        "    # sort the dictionary in ascending order using distances\n",
        "    x = sorted(distances.items(), key = lambda kv:(kv[1], kv[0]))\n",
        "    return x    "
      ],
      "execution_count": 0,
      "outputs": []
    },
    {
      "cell_type": "markdown",
      "metadata": {
        "id": "7UiLRAEw6LwE",
        "colab_type": "text"
      },
      "source": [
        "## Hybrid Algorithm"
      ]
    },
    {
      "cell_type": "code",
      "metadata": {
        "id": "ZFT_PkWm6LwG",
        "colab_type": "code",
        "colab": {}
      },
      "source": [
        "def hybrid_search(G, x):\n",
        "    n = len(x)\n",
        "    min_pair = x[0]\n",
        "    source = min_pair[0][0]\n",
        "    dest = min_pair[0][1]\n",
        "    min_tt = float('inf')\n",
        "    final_route = []\n",
        "    count = 0\n",
        "\n",
        "    for i in range(n):\n",
        "        try:            \n",
        "            travel_time = nx.shortest_path_length(G, source, dest, weight='BPR', method='dijkstra')\n",
        "            count = count + 1\n",
        "        except nx.NetworkXUnfeasible:\n",
        "            continue\n",
        "\n",
        "        if travel_time < min_tt:\n",
        "            min_tt = travel_time\n",
        "            min_pair = x[i]\n",
        "\n",
        "            if i < n-1:\n",
        "                if travel_time < x[i+1][1]:\n",
        "                    break\n",
        "                else:\n",
        "                    source = x[i+1][0][0]\n",
        "                    dest = x[i+1][0][1]\n",
        "            else:\n",
        "                break\n",
        "        else:\n",
        "            if i < n-1:\n",
        "                if min_tt < x[i+1][1]:\n",
        "                    break\n",
        "                else:\n",
        "                    source = x[i+1][0][0]\n",
        "                    dest = x[i+1][0][1]\n",
        "            else:\n",
        "                break\n",
        "\n",
        "    return min_tt, count"
      ],
      "execution_count": 0,
      "outputs": []
    },
    {
      "cell_type": "markdown",
      "metadata": {
        "id": "hEYJkAY66LwR",
        "colab_type": "text"
      },
      "source": [
        "## Modified Hybrid Search"
      ]
    },
    {
      "cell_type": "code",
      "metadata": {
        "id": "_njaaSxl6LwV",
        "colab_type": "code",
        "colab": {}
      },
      "source": [
        "def modified_hybrid_search(G, x):\n",
        "    n = len(x)\n",
        "    cutoff = math.floor(n/math.exp(1))\n",
        "    print(cutoff)\n",
        "    min_pair = x[0]\n",
        "    source = min_pair[0][0]\n",
        "    dest = min_pair[0][1]\n",
        "    min_tt = float('inf')\n",
        "    count = 0\n",
        "\n",
        "    for i in range(n):\n",
        "        try:            \n",
        "            travel_time = nx.shortest_path_length(G, source, dest, weight='BPR', method='dijkstra')\n",
        "            count = count + 1\n",
        "        except nx.NetworkXUnfeasible:\n",
        "            continue\n",
        "\n",
        "        # have reached cutoff and didnt find optimal yet\n",
        "        if i > cutoff:\n",
        "          if travel_time < min_tt:\n",
        "            min_tt = travel_time\n",
        "            min_pair = x[i]\n",
        "            break\n",
        "\n",
        "          if i < n-1:\n",
        "            if min_tt < x[i+1][1]:\n",
        "              break\n",
        "            else:\n",
        "              source = x[i+1][0][0]\n",
        "              dest = x[i+1][0][1]\n",
        "        else:\n",
        "          if travel_time < min_tt:\n",
        "              min_tt = travel_time\n",
        "              min_pair = x[i]\n",
        "\n",
        "              if i < n-1:\n",
        "                  if travel_time < x[i+1][1]:\n",
        "                      break\n",
        "                  else:\n",
        "                      source = x[i+1][0][0]\n",
        "                      dest = x[i+1][0][1]\n",
        "              else:\n",
        "                  break\n",
        "          else:\n",
        "              if i < n-1:\n",
        "                  if min_tt < x[i+1][1]:\n",
        "                      break\n",
        "                  else:\n",
        "                      source = x[i+1][0][0]\n",
        "                      dest = x[i+1][0][1]\n",
        "              else:\n",
        "                  break\n",
        "\n",
        "    return min_tt, count"
      ],
      "execution_count": 0,
      "outputs": []
    },
    {
      "cell_type": "markdown",
      "metadata": {
        "colab_type": "text",
        "id": "pCb2mwI6D584"
      },
      "source": [
        "### Calculate number of queries and deviation of travel times"
      ]
    },
    {
      "cell_type": "code",
      "metadata": {
        "colab_type": "code",
        "id": "KU0UougTpgBK",
        "colab": {}
      },
      "source": [
        "def lets_do_this():\n",
        "    # get 10 random sources\n",
        "    sources = []\n",
        "    for i in range(50):\n",
        "        r = random.randint(0,23210)\n",
        "        s = nodes['osmid'].values[r]\n",
        "        sources.append(s)\n",
        "\n",
        "    # get 10 correspondig random targets\n",
        "    targets = []\n",
        "    for i in range(50):\n",
        "        r = random.randint(0,23210)\n",
        "        t = nodes['osmid'].values[r]\n",
        "        targets.append(t)\n",
        "\n",
        "    mod_hybrid_q = []\n",
        "    mod_hybrid_t = []\n",
        "    hybrid_q = []\n",
        "    hybrid_t = []\n",
        "    exhaustive_q = []\n",
        "  \n",
        "    for s,t in zip(sources,targets):\n",
        "        orig_point = nodes[nodes['osmid'] == s].geometry.values[0]\n",
        "        target_point = nodes[nodes['osmid'] == t].geometry.values[0]\n",
        "        orig_xy = (orig_point.y, orig_point.x)\n",
        "        target_xy = (target_point.y, target_point.x)\n",
        "\n",
        "        # Max distance for walking is 720m (10 min * 1.2 m/s)\n",
        "        # Find all nodes within 720 m from candidate sources and candidate destinations\n",
        "        candidate_dest = find_nearest_nodes(nodes, target_xy, 500, idx)\n",
        "        candidate_source = find_nearest_nodes(nodes, orig_xy, 500, idx)\n",
        "\n",
        "        if len(candidate_dest) == 0:\n",
        "          candidate_dest.append(ox.get_nearest_node(G, target_xy))\n",
        "      \n",
        "        if len(candidate_source) == 0:\n",
        "          candidate_source.append(ox.get_nearest_node(G, orig_xy))\n",
        "\n",
        "        value = len(candidate_dest) * len(candidate_source)\n",
        "        print(s,t,value)\n",
        "        exhaustive_q.append(value)\n",
        "\n",
        "        euclidean = get_length_dict(candidate_source, candidate_dest)\n",
        "        value1_t, value1_q = hybrid_search(G, euclidean)\n",
        "        hybrid_t.append(value1_t)\n",
        "        hybrid_q.append(value1_q)\n",
        "        \n",
        "        value2_t, value2_q = modified_hybrid_search(G, euclidean)\n",
        "        mod_hybrid_t.append(value2_t)\n",
        "        mod_hybrid_q.append(value2_q)\n",
        "\n",
        "    return mod_hybrid_q, mod_hybrid_t, hybrid_q, hybrid_t, exhaustive_q"
      ],
      "execution_count": 0,
      "outputs": []
    },
    {
      "cell_type": "code",
      "metadata": {
        "colab_type": "code",
        "id": "CVprJshmD59h",
        "outputId": "d73f007a-e9c2-4367-e42a-f1edf78999fc",
        "colab": {
          "base_uri": "https://localhost:8080/",
          "height": 1000
        }
      },
      "source": [
        "mod_hybrid_q, mod_hybrid_t, hybrid_q, hybrid_t, exhaustive = lets_do_this()"
      ],
      "execution_count": 13,
      "outputs": [
        {
          "output_type": "stream",
          "text": [
            "4591650251 886025897 8736\n",
            "3213\n",
            "258305981 585173233 704\n",
            "258\n",
            "5118534674 7117912443 9860\n",
            "3627\n",
            "2101633798 1318459274 4824\n",
            "1774\n",
            "6038552787 1110331452 2052\n",
            "754\n",
            "244957774 5683756992 1305\n",
            "480\n",
            "3973745901 6995781882 7210\n",
            "2652\n",
            "568969049 4853595354 1764\n",
            "648\n",
            "5809892935 5015699529 4620\n",
            "1699\n",
            "243492406 401507192 1440\n",
            "529\n",
            "309878958 3251145329 6208\n",
            "2283\n",
            "4459074636 4598764038 2376\n",
            "874\n",
            "1782376557 401505812 392\n",
            "144\n",
            "5930580303 2467719292 1995\n",
            "733\n",
            "4732572285 7106529121 1972\n",
            "725\n",
            "6056451813 5178641473 1536\n",
            "565\n",
            "242936780 386574732 1680\n",
            "618\n",
            "1720136409 1845246358 1127\n",
            "414\n",
            "246181869 366238089 1236\n",
            "454\n",
            "242576613 4606872253 598\n",
            "219\n",
            "370785010 259399853 5959\n",
            "2192\n",
            "1561754906 5952941494 2210\n",
            "813\n",
            "4588024956 4060905742 1472\n",
            "541\n",
            "378006554 5148516214 420\n",
            "154\n",
            "5963615643 626301757 1100\n",
            "404\n",
            "2674717972 4715818253 1904\n",
            "700\n",
            "4602946788 4604858204 1216\n",
            "447\n",
            "60662451 6493307772 5700\n",
            "2096\n",
            "3054672798 239712244 4182\n",
            "1538\n",
            "4734853584 2375704295 3780\n",
            "1390\n",
            "2117806796 5220344638 2911\n",
            "1070\n",
            "2577843852 395049076 1710\n",
            "629\n",
            "386927282 6932685164 1904\n",
            "700\n",
            "4714271497 237105802 4485\n",
            "1649\n",
            "6774268609 3976562949 400\n",
            "147\n",
            "1788565898 5165895530 4437\n",
            "1632\n",
            "2125048931 1205809969 1540\n",
            "566\n",
            "7117912385 3938835930 2147\n",
            "789\n",
            "229182674 4715318989 990\n",
            "364\n",
            "5252457368 1500913401 1056\n",
            "388\n",
            "4721224055 2375704316 1034\n",
            "380\n",
            "309848217 394634489 8910\n",
            "3277\n",
            "239707172 6212251551 280\n",
            "103\n",
            "4604484207 246294576 73\n",
            "26\n",
            "206093744 3662273902 651\n",
            "239\n",
            "1548433290 2577843781 2556\n",
            "940\n",
            "4600636592 5179065364 209\n",
            "76\n",
            "4723047753 3866243291 1326\n",
            "487\n",
            "2328917052 4492234713 2175\n",
            "800\n",
            "6159248359 5994820662 850\n",
            "312\n"
          ],
          "name": "stdout"
        }
      ]
    },
    {
      "cell_type": "markdown",
      "metadata": {
        "id": "4Vnbe2LD98bP",
        "colab_type": "text"
      },
      "source": [
        "## Deviation between travel times calculated by hybrid and modified hybrid"
      ]
    },
    {
      "cell_type": "code",
      "metadata": {
        "id": "f_FaRmhQ-u-9",
        "colab_type": "code",
        "colab": {}
      },
      "source": [
        "deviations = []\n",
        "for h, mod_h in zip(hybrid_t, mod_hybrid_t):\n",
        "  stddev = statistics.stdev([h, mod_h])\n",
        "  deviations.append(stddev)"
      ],
      "execution_count": 0,
      "outputs": []
    },
    {
      "cell_type": "code",
      "metadata": {
        "colab_type": "code",
        "id": "4N5ZVU9eTK2A",
        "outputId": "002907fd-1fde-486c-d110-39209ae3bbf6",
        "colab": {
          "base_uri": "https://localhost:8080/",
          "height": 369
        }
      },
      "source": [
        "# Plot what hybrid gave and what modified hybrid gave\n",
        "labels = [x for x in range(1,51)]\n",
        "\n",
        "x = np.arange(len(labels))  # the label locations\n",
        "width = 0.35  # the width of the bars\n",
        "\n",
        "fig, ax = plt.subplots(figsize=(15,5))\n",
        "rects1 = ax.bar(x - width/2, hybrid_t, width, label='Hybrid')\n",
        "rects2 = ax.bar(x + width/2, mod_hybrid_t, width, label='Modified Hybrid')\n",
        "\n",
        "# Add some text for labels, title and custom x-axis tick labels, etc.\n",
        "ax.set_ylabel('Travel times (in sec)')\n",
        "ax.set_xlabel('Customer requests')\n",
        "ax.set_title('Travel times calculated by hybrid and modified hybrid')\n",
        "ax.set_xticks(x)\n",
        "ax.set_xticklabels(labels)\n",
        "ax.legend()\n",
        "\n",
        "fig.tight_layout()"
      ],
      "execution_count": 30,
      "outputs": [
        {
          "output_type": "display_data",
          "data": {
            "image/png": "[encoded data removed]",
            "text/plain": [
              "<Figure size 1080x360 with 1 Axes>"
            ]
          },
          "metadata": {
            "tags": []
          }
        }
      ]
    },
    {
      "cell_type": "code",
      "metadata": {
        "id": "Sxqbb5pqCJwq",
        "colab_type": "code",
        "outputId": "21ae485c-070b-4e7d-c45c-ec56e3df932a",
        "colab": {
          "base_uri": "https://localhost:8080/",
          "height": 369
        }
      },
      "source": [
        "labels = [x for x in range(1,51)]\n",
        "\n",
        "x = np.arange(len(labels))  # the label locations\n",
        "width = 0.35  # the width of the bars\n",
        "\n",
        "fig, ax = plt.subplots(figsize=(15,5))\n",
        "rects1 = ax.bar(x - width/2, deviations, width, label='Deviations')\n",
        "\n",
        "# Add some text for labels, title and custom x-axis tick labels, etc.\n",
        "ax.set_ylabel('Travel times (in sec)')\n",
        "ax.set_xlabel('Customer requests')\n",
        "ax.set_title('Deviation between travel times calculated by hybrid and modified hybrid')\n",
        "ax.set_xticks(x)\n",
        "ax.set_xticklabels(labels)\n",
        "ax.legend()\n",
        "\n",
        "fig.tight_layout()"
      ],
      "execution_count": 31,
      "outputs": [
        {
          "output_type": "display_data",
          "data": {
            "image/png": "[encoded data removed]",
            "text/plain": [
              "<Figure size 1080x360 with 1 Axes>"
            ]
          },
          "metadata": {
            "tags": []
          }
        }
      ]
    },
    {
      "cell_type": "code",
      "metadata": {
        "id": "0z-pFeIBSEtu",
        "colab_type": "code",
        "outputId": "318ed024-e0c4-41b2-a435-e8e6b62496d2",
        "colab": {
          "base_uri": "https://localhost:8080/",
          "height": 34
        }
      },
      "source": [
        "print(\"Average deviation in secs:\", statistics.mean(deviations))"
      ],
      "execution_count": 20,
      "outputs": [
        {
          "output_type": "stream",
          "text": [
            "Average deviation in secs: 8.840721969410001\n"
          ],
          "name": "stdout"
        }
      ]
    },
    {
      "cell_type": "markdown",
      "metadata": {
        "id": "lAi5CahcDn_n",
        "colab_type": "text"
      },
      "source": [
        "## Number of queries"
      ]
    },
    {
      "cell_type": "code",
      "metadata": {
        "id": "zo-Xqk-SDnF5",
        "colab_type": "code",
        "outputId": "5099525f-9e49-442f-e36a-b118e7efab28",
        "colab": {
          "base_uri": "https://localhost:8080/",
          "height": 920
        }
      },
      "source": [
        "print(\"Number of queries\")\n",
        "print(\"Exhaustive   ||    Hybrid    ||    Modified Hybrid   ||    Saved% (Ex-Hyb)   ||    Saved% (Ex-Mod)\")\n",
        "\n",
        "hyb = []\n",
        "mod = []\n",
        "for e,h,m in zip(exhaustive, hybrid_q, mod_hybrid_q):\n",
        "  saved_hyb = ((e-h)/e)*100\n",
        "  hyb.append(saved_hyb)\n",
        "  saved_mod = ((e-m)/e)*100\n",
        "  mod.append(saved_mod)\n",
        "\n",
        "  print(e, \"              \", h,\"              \",m, \"            \",saved_hyb,\"           \",saved_mod)"
      ],
      "execution_count": 25,
      "outputs": [
        {
          "output_type": "stream",
          "text": [
            "Number of queries\n",
            "Exhaustive   ||    Hybrid    ||    Modified Hybrid   ||    Saved% (Ex-Hyb)   ||    Saved% (Ex-Mod)\n",
            "8736                4145                4145              52.55265567765568             52.55265567765568\n",
            "704                704                345              0.0             50.99431818181818\n",
            "9860                74                74              99.24949290060852             99.24949290060852\n",
            "4824                35                35              99.27446102819238             99.27446102819238\n",
            "2052                2052                904              0.0             55.945419103313846\n",
            "1305                190                190              85.44061302681992             85.44061302681992\n",
            "7210                802                802              88.87656033287101             88.87656033287101\n",
            "1764                1764                1764              0.0             0.0\n",
            "4620                381                381              91.75324675324676             91.75324675324676\n",
            "1440                455                455              68.40277777777779             68.40277777777779\n",
            "6208                6208                6208              0.0             0.0\n",
            "2376                2376                893              0.0             62.41582491582491\n",
            "392                35                35              91.07142857142857             91.07142857142857\n",
            "1995                7                7              99.64912280701755             99.64912280701755\n",
            "1972                1972                1972              0.0             0.0\n",
            "1536                1536                1536              0.0             0.0\n",
            "1680                1680                1680              0.0             0.0\n",
            "1127                1127                822              0.0             27.06299911268855\n",
            "1236                1236                1236              0.0             0.0\n",
            "598                598                253              0.0             57.692307692307686\n",
            "5959                5959                5959              0.0             0.0\n",
            "2210                326                326              85.24886877828054             85.24886877828054\n",
            "1472                1472                669              0.0             54.5516304347826\n",
            "420                420                420              0.0             0.0\n",
            "1100                1100                1100              0.0             0.0\n",
            "1904                1904                1904              0.0             0.0\n",
            "1216                1                1              99.91776315789474             99.91776315789474\n",
            "5700                175                175              96.9298245614035             96.9298245614035\n",
            "4182                648                648              84.50502152080345             84.50502152080345\n",
            "3780                3780                3780              0.0             0.0\n",
            "2911                719                719              75.30058399175542             75.30058399175542\n",
            "1710                1710                1062              0.0             37.89473684210527\n",
            "1904                1904                1904              0.0             0.0\n",
            "4485                19                19              99.57636566332219             99.57636566332219\n",
            "400                400                400              0.0             0.0\n",
            "4437                1898                1640              57.22334910975885             63.03808879873789\n",
            "1540                1540                601              0.0             60.97402597402597\n",
            "2147                141                141              93.43269678621333             93.43269678621333\n",
            "990                450                401              54.54545454545454             59.49494949494949\n",
            "1056                362                362              65.71969696969697             65.71969696969697\n",
            "1034                1034                1034              0.0             0.0\n",
            "8910                8910                8910              0.0             0.0\n",
            "280                29                29              89.64285714285715             89.64285714285715\n",
            "73                73                46              0.0             36.986301369863014\n",
            "651                4                4              99.38556067588326             99.38556067588326\n",
            "2556                2556                979              0.0             61.697965571205\n",
            "209                209                209              0.0             0.0\n",
            "1326                1326                1326              0.0             0.0\n",
            "2175                2175                849              0.0             60.96551724137931\n",
            "850                850                850              0.0             0.0\n"
          ],
          "name": "stdout"
        }
      ]
    },
    {
      "cell_type": "code",
      "metadata": {
        "id": "Sn5QDb-u2Aub",
        "colab_type": "code",
        "colab": {
          "base_uri": "https://localhost:8080/",
          "height": 34
        },
        "outputId": "0c3452c3-5bf7-4360-d8de-6e09c8a35c40"
      },
      "source": [
        "print(\"Average numbers of queries saved for modified hybrid%:\", statistics.mean(mod))"
      ],
      "execution_count": 27,
      "outputs": [
        {
          "output_type": "stream",
          "text": [
            "Average numbers of queries saved for modified hybrid%: 47.11287365713461\n"
          ],
          "name": "stdout"
        }
      ]
    },
    {
      "cell_type": "code",
      "metadata": {
        "id": "8tQ-vsww2bck",
        "colab_type": "code",
        "colab": {
          "base_uri": "https://localhost:8080/",
          "height": 34
        },
        "outputId": "1a3dcbae-2786-4f77-a324-d338876c14fd"
      },
      "source": [
        "print(\"Average numbers of queries saved for hybrid%:\", statistics.mean(hyb))"
      ],
      "execution_count": 28,
      "outputs": [
        {
          "output_type": "stream",
          "text": [
            "Average numbers of queries saved for hybrid%: 35.55396803557884\n"
          ],
          "name": "stdout"
        }
      ]
    }
  ]
}