{
 "cells": [
  {
   "cell_type": "code",
   "execution_count": 0,
   "metadata": {
    "colab": {
     "base_uri": "https://localhost:8080/",
     "height": 104
    },
    "colab_type": "code",
    "id": "mF0kte2iEAEU",
    "outputId": "00057cc0-2f16-490a-b2c7-56d1adf8ce71"
   },
   "outputs": [
    {
     "name": "stdout",
     "output_type": "stream",
     "text": [
      "Drive already mounted at /content/drive/; to attempt to forcibly remount, call drive.mount(\"/content/drive/\", force_remount=True).\n",
      "/content/drive/My Drive/Sem 8 files\n",
      " data\t\t\t\t  __pycache__\n",
      " euclidean_distances.json\t  Shortest_path_lengths.pkl\n",
      "'Fri Feb 14 09_06_16 2020.json'   utils.py\n"
     ]
    }
   ],
   "source": [
    "from google.colab import drive\n",
    "drive.mount('/content/drive/')\n",
    "%cd drive/My \\Drive/Sem \\8 \\files/\n",
    "!ls"
   ]
  },
  {
   "cell_type": "code",
   "execution_count": 2,
   "metadata": {
    "colab": {
     "base_uri": "https://localhost:8080/",
     "height": 627
    },
    "colab_type": "code",
    "id": "Anm_vCtg02sJ",
    "outputId": "5eabbf9d-8cdb-4e42-9494-6f900ff562b6"
   },
   "outputs": [],
   "source": [
    "# !apt-get install -y libspatialindex-c4v5\n",
    "# !pip3.6 install osmnx\n",
    "\n",
    "import osmnx as ox\n",
    "import networkx as nx\n",
    "import pandas as pd\n",
    "import json\n",
    "import random\n",
    "import statistics\n",
    "import numpy as np\n",
    "\n",
    "from rtree import index\n",
    "from utils import *"
   ]
  },
  {
   "cell_type": "code",
   "execution_count": 3,
   "metadata": {
    "colab": {
     "base_uri": "https://localhost:8080/",
     "height": 34
    },
    "colab_type": "code",
    "id": "RShXcYwX02sk",
    "outputId": "6f1706fc-b5db-45cb-a09f-5f04fe295e50"
   },
   "outputs": [
    {
     "data": {
      "text/plain": [
       "networkx.classes.multidigraph.MultiDiGraph"
      ]
     },
     "execution_count": 3,
     "metadata": {},
     "output_type": "execute_result"
    }
   ],
   "source": [
    "place_name = \"Singapore, Central, Singapore\"\n",
    "G = ox.save_load.load_graphml(filename=\"Singapore_drive_processed.graphml\")\n",
    "\n",
    "# Stores nodes and edges mapped with speed bands along with other attributes\n",
    "type(G)"
   ]
  },
  {
   "cell_type": "code",
   "execution_count": 4,
   "metadata": {
    "colab": {},
    "colab_type": "code",
    "id": "S1NMV7e402s9"
   },
   "outputs": [],
   "source": [
    "edges = ox.graph_to_gdfs(G, nodes=False, edges=True)\n",
    "nodes = pd.read_pickle('data/nodes_drive.pkl')"
   ]
  },
  {
   "cell_type": "code",
   "execution_count": 5,
   "metadata": {
    "colab": {
     "base_uri": "https://localhost:8080/",
     "height": 104
    },
    "colab_type": "code",
    "id": "yiJwQczp02ti",
    "outputId": "acdac19a-97bb-4fee-e930-bf78c11cb0f3"
   },
   "outputs": [
    {
     "name": "stderr",
     "output_type": "stream",
     "text": [
      "/home/orionstar25/Semester-8-Major-Project/Open Street Maps/Numerical Experiments/utils.py:51: SettingWithCopyWarning: \n",
      "A value is trying to be set on a copy of a slice from a DataFrame\n",
      "\n",
      "See the caveats in the documentation: https://pandas.pydata.org/pandas-docs/stable/user_guide/indexing.html#returning-a-view-versus-a-copy\n",
      "  df['MaximumSpeed'][i] = '80'\n"
     ]
    }
   ],
   "source": [
    "f = open(\"../../Traffic speed bands/Fri Feb 14 09_06_16 2020.json\", \"r\").read()\n",
    "x = json.loads(f)\n",
    "\n",
    "speed_bands = pd.DataFrame.from_dict(x, orient='columns')\n",
    "process_speed_band(speed_bands)"
   ]
  },
  {
   "cell_type": "code",
   "execution_count": 6,
   "metadata": {
    "colab": {},
    "colab_type": "code",
    "id": "j4ucj9bU02uI"
   },
   "outputs": [],
   "source": [
    "calculate_congestion(G, edges, speed_bands)"
   ]
  },
  {
   "cell_type": "code",
   "execution_count": 7,
   "metadata": {
    "colab": {},
    "colab_type": "code",
    "id": "DXvM1T3-D588"
   },
   "outputs": [],
   "source": [
    "# key: node label ,value: location\n",
    "idx = index.Index('data/bus_stops')"
   ]
  },
  {
   "cell_type": "markdown",
   "metadata": {
    "colab_type": "text",
    "id": "pCb2mwI6D584"
   },
   "source": [
    "### Calculate number of queries needed"
   ]
  },
  {
   "cell_type": "code",
   "execution_count": 8,
   "metadata": {
    "colab": {},
    "colab_type": "code",
    "id": "W8E0y9fFD59I"
   },
   "outputs": [],
   "source": [
    "def find_nearest_nodes(source, dist, idx):\n",
    "    # Create a bounding box around source of min distance in all directions\n",
    "    (north, south, east, west) = ox.bbox_from_point(point=source, distance=dist)\n",
    "    \n",
    "    candidate_nodes = list(idx.intersection((west, south, east, north)))    \n",
    "    return candidate_nodes"
   ]
  },
  {
   "cell_type": "code",
   "execution_count": 9,
   "metadata": {
    "colab": {},
    "colab_type": "code",
    "id": "Q-zt3gxTD59T"
   },
   "outputs": [],
   "source": [
    "def get_length_dict(sources, destinations, method='euclidean'):\n",
    "    distances = dict()\n",
    "    \n",
    "    if method == 'euclidean':\n",
    "        for source in sources:        \n",
    "            for dest in destinations:\n",
    "                ed = haversine_distance(nodes, source, dest)\n",
    "                distances[source,dest] = ed/13.8889\n",
    "    else:\n",
    "        for source in sources:        \n",
    "            for dest in destinations:\n",
    "                try:\n",
    "                    # dijsktra distance in sec\n",
    "                    d = nx.shortest_path_length(G, source, dest, weight='BPR', method='dijkstra')\n",
    "                except nx.NetworkXUnfeasible:\n",
    "                    d = float('inf')\n",
    "                distances[(source,dest)] = d\n",
    "       \n",
    "    # sort the dictionary in ascending order using distances\n",
    "    x = sorted(distances.items(), key = lambda kv:(kv[1], kv[0]))\n",
    "    return x    "
   ]
  },
  {
   "cell_type": "code",
   "execution_count": 10,
   "metadata": {
    "colab": {},
    "colab_type": "code",
    "id": "0HqgnHbT4fmx"
   },
   "outputs": [],
   "source": [
    "def hybrid_search_count(G, euclidean, real_lengths):\n",
    "    n = len(euclidean)\n",
    "    min_pair = euclidean[0]\n",
    "    source = min_pair[0][0]\n",
    "    dest = min_pair[0][1]\n",
    "    min_tt = float('inf')\n",
    "    count = 0\n",
    "\n",
    "    for i in range(n):\n",
    "        travel_time = real_lengths[(source, dest)]\n",
    "        count = count + 1\n",
    "\n",
    "        if travel_time < min_tt:\n",
    "            min_tt = travel_time\n",
    "            min_pair = euclidean[i]\n",
    "\n",
    "            if i < n - 1:\n",
    "                if travel_time <= euclidean[i + 1][1]:\n",
    "                    break\n",
    "                else:\n",
    "                    source = euclidean[i + 1][0][0]\n",
    "                    dest = euclidean[i + 1][0][1]\n",
    "            else:\n",
    "                break\n",
    "        else:\n",
    "            if i < n - 1:\n",
    "                if min_tt <= euclidean[i + 1][1]:\n",
    "                    break\n",
    "                else:\n",
    "                    source = euclidean[i + 1][0][0]\n",
    "                    dest = euclidean[i + 1][0][1]\n",
    "            else:\n",
    "                break\n",
    "\n",
    "    return count"
   ]
  },
  {
   "cell_type": "code",
   "execution_count": 13,
   "metadata": {
    "colab": {},
    "colab_type": "code",
    "id": "KU0UougTpgBK"
   },
   "outputs": [],
   "source": [
    "def lets_do_this():\n",
    "    # get 10 random sources\n",
    "    sources = []\n",
    "    for i in range(10):\n",
    "        r = random.randint(0,23210)\n",
    "        s = nodes['osmid'].values[r]\n",
    "        sources.append(s)\n",
    "\n",
    "    # get 10 correspondig random targets\n",
    "    targets = []\n",
    "    for i in range(10):\n",
    "        r = random.randint(0,23210)\n",
    "        t = nodes['osmid'].values[r]\n",
    "        targets.append(t)\n",
    "\n",
    "    exhaustive = []\n",
    "    hybrid = []\n",
    "    for s,t in zip(sources,targets):\n",
    "        orig_point = nodes[nodes['osmid'] == s].geometry.values[0]\n",
    "        target_point = nodes[nodes['osmid'] == t].geometry.values[0]\n",
    "        orig_xy = (orig_point.y, orig_point.x)\n",
    "        target_xy = (target_point.y, target_point.x)\n",
    "\n",
    "        # Max distance for walking is 720m (10 min * 1.2 m/s)\n",
    "        # Find all nodes within 720 m from candidate sources and candidate destinations\n",
    "        candidate_dest = find_nearest_nodes(target_xy, 720, idx)\n",
    "        candidate_source = find_nearest_nodes(orig_xy, 720, idx)\n",
    "\n",
    "        value1 = len(candidate_dest) * len(candidate_source)\n",
    "        exhaustive.append(value1)\n",
    "\n",
    "        real_lengths = dict(get_length_dict(candidate_source, candidate_dest, method='dijkstra'))\n",
    "        euclidean = get_length_dict(candidate_source, candidate_dest)\n",
    "        value2 = hybrid_search_count(G, euclidean, real_lengths)\n",
    "        hybrid.append(value2)\n",
    "\n",
    "        saved = ((value1 - value2)/value1) * 100\n",
    "\n",
    "        print(s, t, saved)\n",
    "\n",
    "    return exhaustive, hybrid"
   ]
  },
  {
   "cell_type": "code",
   "execution_count": null,
   "metadata": {
    "colab": {
     "base_uri": "https://localhost:8080/",
     "height": 399
    },
    "colab_type": "code",
    "id": "CVprJshmD59h",
    "outputId": "eae87728-1328-430e-c1fd-40fcd6132dae"
   },
   "outputs": [],
   "source": [
    "exhaustive, hybrid = lets_do_this()"
   ]
  },
  {
   "cell_type": "code",
   "execution_count": 0,
   "metadata": {
    "colab": {},
    "colab_type": "code",
    "id": "4N5ZVU9eTK2A"
   },
   "outputs": [],
   "source": []
  }
 ],
 "metadata": {
  "accelerator": "GPU",
  "colab": {
   "collapsed_sections": [],
   "name": "Hybrid Vs Exhaustive: No of queries.ipynb",
   "provenance": []
  },
  "kernelspec": {
   "display_name": "Python 3",
   "language": "python",
   "name": "python3"
  },
  "language_info": {
   "codemirror_mode": {
    "name": "ipython",
    "version": 3
   },
   "file_extension": ".py",
   "mimetype": "text/x-python",
   "name": "python",
   "nbconvert_exporter": "python",
   "pygments_lexer": "ipython3",
   "version": "3.6.10"
  }
 },
 "nbformat": 4,
 "nbformat_minor": 1
}
