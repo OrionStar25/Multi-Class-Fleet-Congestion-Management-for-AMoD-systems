{
 "cells": [
  {
   "cell_type": "code",
   "execution_count": 1,
   "metadata": {
    "colab": {
     "base_uri": "https://localhost:8080/",
     "height": 1000
    },
    "colab_type": "code",
    "id": "Anm_vCtg02sJ",
    "outputId": "97319dbc-8ceb-4855-a8f4-412ea96bd836"
   },
   "outputs": [],
   "source": [
    "import osmnx as ox\n",
    "import networkx as nx\n",
    "import pandas as pd\n",
    "import json\n",
    "import random\n",
    "import statistics\n",
    "import numpy as np\n",
    "import matplotlib.pyplot as plt\n",
    "import requests\n",
    "\n",
    "from rtree import index\n",
    "from utils import *"
   ]
  },
  {
   "cell_type": "code",
   "execution_count": 2,
   "metadata": {
    "colab": {
     "base_uri": "https://localhost:8080/",
     "height": 34
    },
    "colab_type": "code",
    "id": "RShXcYwX02sk",
    "outputId": "d6e88837-528b-4ae5-9718-f75976e5e857"
   },
   "outputs": [
    {
     "data": {
      "text/plain": [
       "networkx.classes.multidigraph.MultiDiGraph"
      ]
     },
     "execution_count": 2,
     "metadata": {},
     "output_type": "execute_result"
    }
   ],
   "source": [
    "place_name = \"Singapore, Central, Singapore\"\n",
    "G = ox.save_load.load_graphml(filename=\"Singapore_drive_processed.graphml\")\n",
    "\n",
    "# Stores nodes and edges mapped with speed bands along with other attributes\n",
    "type(G)"
   ]
  },
  {
   "cell_type": "code",
   "execution_count": 3,
   "metadata": {
    "colab": {},
    "colab_type": "code",
    "id": "S1NMV7e402s9"
   },
   "outputs": [],
   "source": [
    "edges = ox.graph_to_gdfs(G, nodes=False, edges=True)\n",
    "nodes = pd.read_pickle('data/nodes_drive.pkl')"
   ]
  },
  {
   "cell_type": "code",
   "execution_count": 4,
   "metadata": {
    "colab": {
     "base_uri": "https://localhost:8080/",
     "height": 104
    },
    "colab_type": "code",
    "id": "yiJwQczp02ti",
    "outputId": "c310723d-fcc4-493b-bba6-5e6455fd05c2"
   },
   "outputs": [
    {
     "name": "stderr",
     "output_type": "stream",
     "text": [
      "/home/orionstar25/Semester-8-Major-Project/Open Street Maps/Numerical Experiments/utils.py:51: SettingWithCopyWarning: \n",
      "A value is trying to be set on a copy of a slice from a DataFrame\n",
      "\n",
      "See the caveats in the documentation: https://pandas.pydata.org/pandas-docs/stable/user_guide/indexing.html#returning-a-view-versus-a-copy\n",
      "  df['MaximumSpeed'][i] = '80'\n"
     ]
    }
   ],
   "source": [
    "f = open(\"../../Traffic speed bands/Fri Feb 14 09_06_16 2020.json\", \"r\").read()\n",
    "x = json.loads(f)\n",
    "\n",
    "speed_bands = pd.DataFrame.from_dict(x, orient='columns')\n",
    "process_speed_band(speed_bands)"
   ]
  },
  {
   "cell_type": "code",
   "execution_count": 5,
   "metadata": {
    "colab": {},
    "colab_type": "code",
    "id": "j4ucj9bU02uI"
   },
   "outputs": [],
   "source": [
    "calculate_congestion(G, edges, speed_bands)"
   ]
  },
  {
   "cell_type": "code",
   "execution_count": 6,
   "metadata": {
    "colab": {},
    "colab_type": "code",
    "id": "DXvM1T3-D588"
   },
   "outputs": [],
   "source": [
    "# Filter out all bus stop nodes\n",
    "# key: node label ,value: location\n",
    "idx = index.Index()\n",
    "\n",
    "xx = nodes['x'].astype(float)\n",
    "yy = nodes['y'].astype(float)\n",
    "node_id = nodes['osmid']\n",
    "node_type = nodes['highway']\n",
    "\n",
    "# nan = 18823\n",
    "\n",
    "# speed_camera = 2\n",
    "# motorway_junction = 222\n",
    "# turning_circle = 79\n",
    "# crossing = 27\n",
    "# turning_loop = 26\n",
    "# mini_roundabout = 6\n",
    "# traffic signals = 4031\n",
    "\n",
    "for node, x, y, kind in zip(node_id, xx, yy, node_type):\n",
    "    if type(kind) == float:\n",
    "      idx.insert(int(node), (x,y,x,y))"
   ]
  },
  {
   "cell_type": "code",
   "execution_count": 7,
   "metadata": {
    "colab": {},
    "colab_type": "code",
    "id": "W8E0y9fFD59I"
   },
   "outputs": [],
   "source": [
    "def find_nearest_nodes(nodes, source, dist, idx):\n",
    "    # Create a bounding box around source of min distance in all directions\n",
    "    (north, south, east, west) = ox.bbox_from_point(point=source, distance=dist)\n",
    "    \n",
    "    candidate_nodes = []\n",
    "    initial = list(idx.intersection((west, south, east, north)))   \n",
    "    for node in initial:\n",
    "      x = haversine_distance(nodes, node, source)\n",
    "      if x <= dist:\n",
    "        candidate_nodes.append(node)\n",
    "\n",
    "    return candidate_nodes"
   ]
  },
  {
   "cell_type": "code",
   "execution_count": 8,
   "metadata": {
    "colab": {},
    "colab_type": "code",
    "id": "Q-zt3gxTD59T"
   },
   "outputs": [],
   "source": [
    "def get_length_dict(sources, destinations):\n",
    "    distances = dict()\n",
    "  \n",
    "    for source in sources:        \n",
    "        for dest in destinations:\n",
    "            ed = haversine_distance(nodes, source, dest)\n",
    "            distances[source,dest] = ed/13.8889\n",
    "       \n",
    "    # sort the dictionary in ascending order using distances\n",
    "    x = sorted(distances.items(), key = lambda kv:(kv[1], kv[0]))\n",
    "    return x    "
   ]
  },
  {
   "cell_type": "markdown",
   "metadata": {
    "colab_type": "text",
    "id": "7UiLRAEw6LwE"
   },
   "source": [
    "## Hybrid Algorithm"
   ]
  },
  {
   "cell_type": "markdown",
   "metadata": {
    "colab_type": "text",
    "id": "hEYJkAY66LwR"
   },
   "source": [
    "## Modified Hybrid Search (n/e+1) with CH"
   ]
  },
  {
   "cell_type": "code",
   "execution_count": 9,
   "metadata": {
    "colab": {},
    "colab_type": "code",
    "id": "ZFT_PkWm6LwG"
   },
   "outputs": [],
   "source": [
    "def hybrid_search(G, x):\n",
    "    n = len(x)\n",
    "    min_pair = x[0]\n",
    "    source = min_pair[0][0]\n",
    "    dest = min_pair[0][1]\n",
    "    min_tt = float('inf')\n",
    "    final_route = []\n",
    "    count = 0\n",
    "\n",
    "    for i in range(n):\n",
    "        source_x = nodes[nodes['osmid'] == source]['x'].values[0]\n",
    "        source_y = nodes[nodes['osmid'] == source]['y'].values[0]\n",
    "        dest_x = nodes[nodes['osmid'] == dest]['x'].values[0]\n",
    "        dest_y = nodes[nodes['osmid'] == dest]['y'].values[0]\n",
    "\n",
    "        url = \"http://0.0.0.0:5000/route/v1/driving/{},{};{},{}\".format(source_x, source_y, dest_x, dest_y)\n",
    "        r = requests.get(url)\n",
    "        json = r.json()\n",
    "        \n",
    "        if json['code'] == 'Ok':\n",
    "            travel_time = json['routes'][0]['weight']\n",
    "            count = count + 1\n",
    "        else:\n",
    "            continue        \n",
    "\n",
    "        if travel_time < min_tt:\n",
    "            min_tt = travel_time\n",
    "            min_pair = x[i]\n",
    "\n",
    "            if i < n-1:\n",
    "                if travel_time < x[i+1][1]:\n",
    "                    break\n",
    "                else:\n",
    "                    source = x[i+1][0][0]\n",
    "                    dest = x[i+1][0][1]\n",
    "            else:\n",
    "                break\n",
    "        else:\n",
    "            if i < n-1:\n",
    "                if min_tt < x[i+1][1]:\n",
    "                    break\n",
    "                else:\n",
    "                    source = x[i+1][0][0]\n",
    "                    dest = x[i+1][0][1]\n",
    "            else:\n",
    "                break\n",
    "\n",
    "    return min_tt, count"
   ]
  },
  {
   "cell_type": "code",
   "execution_count": 10,
   "metadata": {
    "colab": {},
    "colab_type": "code",
    "id": "_njaaSxl6LwV"
   },
   "outputs": [],
   "source": [
    "def modified_hybrid_search(G, x):\n",
    "    n = len(x)\n",
    "    cutoff = math.floor(n/math.exp(1))\n",
    "    print(cutoff)\n",
    "    min_pair = x[0]\n",
    "    source = min_pair[0][0]\n",
    "    dest = min_pair[0][1]\n",
    "    min_tt = float('inf')\n",
    "\n",
    "    for i in range(n):\n",
    "        source_x = nodes[nodes['osmid'] == source]['x'].values[0]\n",
    "        source_y = nodes[nodes['osmid'] == source]['y'].values[0]\n",
    "        dest_x = nodes[nodes['osmid'] == dest]['x'].values[0]\n",
    "        dest_y = nodes[nodes['osmid'] == dest]['y'].values[0]\n",
    "\n",
    "        url = \"http://0.0.0.0:5000/route/v1/driving/{},{};{},{}\".format(source_x, source_y, dest_x, dest_y)\n",
    "        r = requests.get(url)\n",
    "        json = r.json()\n",
    "        \n",
    "        if json['code'] == 'Ok':\n",
    "            travel_time = json['routes'][0]['weight']\n",
    "            \n",
    "        else:\n",
    "            continue \n",
    "\n",
    "        # have reached cutoff and didnt find optimal yet\n",
    "        if i > cutoff:\n",
    "            if travel_time < min_tt:\n",
    "                min_tt = travel_time\n",
    "                min_pair = x[i]\n",
    "                break\n",
    "            else:\n",
    "                break\n",
    "        else:\n",
    "            if travel_time < min_tt:\n",
    "                min_tt = travel_time\n",
    "                min_pair = x[i]\n",
    "\n",
    "                if i < n-1:\n",
    "                    if travel_time < x[i+1][1]:\n",
    "                        break\n",
    "                    else:\n",
    "                        source = x[i+1][0][0]\n",
    "                        dest = x[i+1][0][1]\n",
    "                else:\n",
    "                    break\n",
    "            else:\n",
    "                if i < n-1:\n",
    "                    if min_tt < x[i+1][1]:\n",
    "                        break\n",
    "                    else:\n",
    "                        source = x[i+1][0][0]\n",
    "                        dest = x[i+1][0][1]\n",
    "                else:\n",
    "                    break\n",
    "\n",
    "    return min_tt, count"
   ]
  },
  {
   "cell_type": "markdown",
   "metadata": {},
   "source": [
    "## Modified Hybrid Search (n/e+1) with Dijkstra"
   ]
  },
  {
   "cell_type": "code",
   "execution_count": null,
   "metadata": {},
   "outputs": [],
   "source": [
    "def modified_hybrid_search(G, x):\n",
    "    n = len(x)\n",
    "    cutoff = math.floor(n/math.exp(1))\n",
    "    print(cutoff)\n",
    "    min_pair = x[0]\n",
    "    source = min_pair[0][0]\n",
    "    dest = min_pair[0][1]\n",
    "    min_tt = float('inf')\n",
    "    count = 0\n",
    "\n",
    "    for i in range(n):\n",
    "        try:\n",
    "            source_x = nodes[nodes['osmid'] == source]['x'].values[0]\n",
    "            source_y = nodes[nodes['osmid'] == source]['y'].values[0]\n",
    "            dest_x = nodes[nodes['osmid'] == dest]['x'].values[0]\n",
    "            dest_y = nodes[nodes['osmid'] == dest]['y'].values[0]\n",
    "            \n",
    "            url = \"http://0.0.0.0:5000/route/v1/driving/{},{};{},{}\".format(source_x, source_y, dest_x, dest_y)\n",
    "            r = requests.get(url)\n",
    "            json = r.json()\n",
    "            \n",
    "            travel_time = json['routes'][0]['weight']\n",
    "            count = count + 1\n",
    "        except nx.NetworkXUnfeasible:\n",
    "            continue\n",
    "\n",
    "        # have reached cutoff and didnt find optimal yet\n",
    "        if i > cutoff:\n",
    "            if travel_time < min_tt:\n",
    "                min_tt = travel_time\n",
    "                min_pair = x[i]\n",
    "                break\n",
    "            else:\n",
    "                break\n",
    "        else:\n",
    "            if travel_time < min_tt:\n",
    "                min_tt = travel_time\n",
    "                min_pair = x[i]\n",
    "\n",
    "                if i < n-1:\n",
    "                    if travel_time < x[i+1][1]:\n",
    "                        break\n",
    "                    else:\n",
    "                        source = x[i+1][0][0]\n",
    "                        dest = x[i+1][0][1]\n",
    "                else:\n",
    "                    break\n",
    "            else:\n",
    "                if i < n-1:\n",
    "                    if min_tt < x[i+1][1]:\n",
    "                        break\n",
    "                    else:\n",
    "                        source = x[i+1][0][0]\n",
    "                        dest = x[i+1][0][1]\n",
    "                else:\n",
    "                    break\n",
    "\n",
    "    return min_tt, count"
   ]
  },
  {
   "cell_type": "markdown",
   "metadata": {
    "colab_type": "text",
    "id": "pCb2mwI6D584"
   },
   "source": [
    "### Calculate number of queries and deviation of travel times"
   ]
  },
  {
   "cell_type": "code",
   "execution_count": 11,
   "metadata": {
    "colab": {},
    "colab_type": "code",
    "id": "KU0UougTpgBK"
   },
   "outputs": [],
   "source": [
    "def lets_do_this():\n",
    "    # get 10 random sources\n",
    "    sources = []\n",
    "    for i in range(50):\n",
    "        r = random.randint(0,23210)\n",
    "        s = nodes['osmid'].values[r]\n",
    "        sources.append(s)\n",
    "\n",
    "    # get 10 correspondig random targets\n",
    "    targets = []\n",
    "    for i in range(50):\n",
    "        r = random.randint(0,23210)\n",
    "        t = nodes['osmid'].values[r]\n",
    "        targets.append(t)\n",
    "\n",
    "    mod_hybrid_q = []\n",
    "    mod_hybrid_t = []\n",
    "    hybrid_q = []\n",
    "    hybrid_t = []\n",
    "    exhaustive_q = []\n",
    "  \n",
    "    for s,t in zip(sources,targets):\n",
    "        orig_point = nodes[nodes['osmid'] == s].geometry.values[0]\n",
    "        target_point = nodes[nodes['osmid'] == t].geometry.values[0]\n",
    "        orig_xy = (orig_point.y, orig_point.x)\n",
    "        target_xy = (target_point.y, target_point.x)\n",
    "\n",
    "        # Max distance for walking is 720m (10 min * 1.2 m/s)\n",
    "        # Find all nodes within 720 m from candidate sources and candidate destinations\n",
    "        candidate_dest = find_nearest_nodes(nodes, target_xy, 500, idx)\n",
    "        candidate_source = find_nearest_nodes(nodes, orig_xy, 500, idx)\n",
    "\n",
    "        if len(candidate_dest) == 0:\n",
    "            candidate_dest.append(ox.get_nearest_node(G, target_xy))\n",
    "      \n",
    "        if len(candidate_source) == 0:\n",
    "            candidate_source.append(ox.get_nearest_node(G, orig_xy))\n",
    "\n",
    "        value = len(candidate_dest) * len(candidate_source)\n",
    "        print(s,t,value)\n",
    "        exhaustive_q.append(value)\n",
    "\n",
    "        euclidean = get_length_dict(candidate_source, candidate_dest)\n",
    "        value1_t, value1_q = hybrid_search(G, euclidean)\n",
    "        hybrid_t.append(value1_t)\n",
    "        hybrid_q.append(value1_q)\n",
    "        \n",
    "        value2_t, value2_q = modified_hybrid_search(G, euclidean)\n",
    "        mod_hybrid_t.append(value2_t)\n",
    "        mod_hybrid_q.append(value2_q)\n",
    "\n",
    "    return mod_hybrid_q, mod_hybrid_t, hybrid_q, hybrid_t, exhaustive_q"
   ]
  },
  {
   "cell_type": "code",
   "execution_count": 12,
   "metadata": {
    "colab": {
     "base_uri": "https://localhost:8080/",
     "height": 1000
    },
    "colab_type": "code",
    "id": "CVprJshmD59h",
    "outputId": "d73f007a-e9c2-4367-e42a-f1edf78999fc"
   },
   "outputs": [
    {
     "name": "stdout",
     "output_type": "stream",
     "text": [
      "6164337908 245243564 320\n",
      "117\n",
      "1162883708 3553405959 768\n",
      "282\n",
      "256107697 5838853141 2886\n",
      "1061\n",
      "425494621 2489446245 13209\n",
      "4859\n",
      "5704674774 6745624807 2058\n",
      "757\n",
      "1268261576 244382790 2870\n",
      "1055\n",
      "6149379298 4726426047 3009\n",
      "1106\n",
      "4656699733 247428415 1740\n",
      "640\n",
      "2927574672 237493338 2356\n",
      "866\n",
      "310726797 369463512 2948\n",
      "1084\n",
      "258306173 2148901920 1590\n",
      "584\n",
      "1818895237 1366731194 3402\n",
      "1251\n",
      "1931970935 4736217262 1300\n",
      "478\n",
      "5233050789 4745204438 2520\n",
      "927\n",
      "1396104864 5175554775 1643\n",
      "604\n",
      "1396099338 246178753 396\n",
      "145\n",
      "3940134443 2641614678 1560\n",
      "573\n",
      "2085366133 425482530 9717\n",
      "3574\n",
      "4687625243 4598828516 912\n",
      "335\n",
      "1500913392 1268256228 2607\n",
      "959\n",
      "313933457 240407912 1540\n",
      "566\n",
      "3662273900 4593195725 1400\n",
      "515\n",
      "5841392174 5159390352 924\n",
      "339\n",
      "5014446271 5220397312 2960\n",
      "1088\n",
      "370786886 1838410507 1922\n",
      "707\n",
      "3231570269 388566398 960\n",
      "353\n",
      "6063702901 376620421 9020\n",
      "3318\n",
      "2467719617 1223811797 2356\n",
      "866\n",
      "247645344 6059478962 5096\n",
      "1874\n",
      "3054669476 404208950 7998\n",
      "2942\n",
      "378640066 4684615242 2150\n",
      "790\n",
      "369459060 1873971308 2679\n",
      "985\n",
      "4172964579 254668810 1058\n",
      "389\n",
      "5557172123 1343791151 279\n",
      "102\n",
      "158043247 2522664535 392\n",
      "144\n",
      "5015083912 6691407338 3478\n",
      "1279\n",
      "1500918576 1431933831 1794\n",
      "659\n",
      "4492051468 4745192781 4896\n",
      "1801\n",
      "6496938439 2927544660 3040\n",
      "1118\n",
      "535172822 2893031318 943\n",
      "346\n",
      "5646398857 7155732288 3362\n",
      "1236\n",
      "1788428621 4734853583 1750\n",
      "643\n",
      "4713865662 971519227 3332\n",
      "1225\n",
      "5241281129 4606905991 810\n",
      "297\n",
      "4598784968 2325393699 6240\n",
      "2295\n",
      "309829946 1201719374 4905\n",
      "1804\n",
      "1474202006 585163950 210\n",
      "77\n",
      "5157379271 4740049504 960\n",
      "353\n",
      "259399483 2082806498 1105\n",
      "406\n",
      "7102270835 244131918 3380\n",
      "1243\n"
     ]
    }
   ],
   "source": [
    "mod_hybrid_q, mod_hybrid_t, hybrid_q, hybrid_t, exhaustive = lets_do_this()"
   ]
  },
  {
   "cell_type": "markdown",
   "metadata": {
    "colab_type": "text",
    "id": "4Vnbe2LD98bP"
   },
   "source": [
    "## Deviation between travel times calculated by hybrid and modified hybrid"
   ]
  },
  {
   "cell_type": "code",
   "execution_count": 13,
   "metadata": {
    "colab": {},
    "colab_type": "code",
    "id": "f_FaRmhQ-u-9"
   },
   "outputs": [],
   "source": [
    "deviations = []\n",
    "for h, mod_h in zip(hybrid_t, mod_hybrid_t):\n",
    "#     stddev = statistics.stdev([h, mod_h])\n",
    "    stddev = mod_h - h\n",
    "    deviations.append(stddev)"
   ]
  },
  {
   "cell_type": "code",
   "execution_count": 14,
   "metadata": {
    "colab": {
     "base_uri": "https://localhost:8080/",
     "height": 369
    },
    "colab_type": "code",
    "id": "4N5ZVU9eTK2A",
    "outputId": "002907fd-1fde-486c-d110-39209ae3bbf6"
   },
   "outputs": [
    {
     "data": {
      "image/png": "[encoded data removed]",
      "text/plain": [
       "<Figure size 1080x360 with 1 Axes>"
      ]
     },
     "metadata": {
      "needs_background": "light"
     },
     "output_type": "display_data"
    }
   ],
   "source": [
    "# Plot what hybrid gave and what modified hybrid gave\n",
    "labels = [x for x in range(1,51)]\n",
    "\n",
    "x = np.arange(len(labels))  # the label locations\n",
    "width = 0.35  # the width of the bars\n",
    "\n",
    "fig, ax = plt.subplots(figsize=(15,5))\n",
    "rects1 = ax.bar(x - width/2, hybrid_t, width, label='Hybrid')\n",
    "rects2 = ax.bar(x + width/2, mod_hybrid_t, width, label='Modified Hybrid')\n",
    "\n",
    "# Add some text for labels, title and custom x-axis tick labels, etc.\n",
    "ax.set_ylabel('Travel times (in sec)')\n",
    "ax.set_xlabel('Customer requests')\n",
    "ax.set_title('Travel times calculated by hybrid and modified hybrid')\n",
    "ax.set_xticks(x)\n",
    "ax.set_xticklabels(labels)\n",
    "ax.legend()\n",
    "\n",
    "fig.tight_layout()"
   ]
  },
  {
   "cell_type": "code",
   "execution_count": 15,
   "metadata": {
    "colab": {
     "base_uri": "https://localhost:8080/",
     "height": 369
    },
    "colab_type": "code",
    "id": "Sxqbb5pqCJwq",
    "outputId": "21ae485c-070b-4e7d-c45c-ec56e3df932a"
   },
   "outputs": [
    {
     "data": {
      "image/png": "[encoded data removed]",
      "text/plain": [
       "<Figure size 1080x360 with 1 Axes>"
      ]
     },
     "metadata": {
      "needs_background": "light"
     },
     "output_type": "display_data"
    }
   ],
   "source": [
    "labels = [x for x in range(1,51)]\n",
    "\n",
    "x = np.arange(len(labels))  # the label locations\n",
    "width = 0.35  # the width of the bars\n",
    "\n",
    "fig, ax = plt.subplots(figsize=(15,5))\n",
    "rects1 = ax.bar(x - width/2, deviations, width, label='Deviations')\n",
    "\n",
    "# Add some text for labels, title and custom x-axis tick labels, etc.\n",
    "ax.set_ylabel('Travel times (in sec)')\n",
    "ax.set_xlabel('Customer requests')\n",
    "ax.set_title('Deviation between travel times calculated by hybrid and modified hybrid')\n",
    "ax.set_xticks(x)\n",
    "ax.set_xticklabels(labels)\n",
    "ax.legend()\n",
    "\n",
    "fig.tight_layout()"
   ]
  },
  {
   "cell_type": "code",
   "execution_count": 16,
   "metadata": {
    "colab": {
     "base_uri": "https://localhost:8080/",
     "height": 34
    },
    "colab_type": "code",
    "id": "0z-pFeIBSEtu",
    "outputId": "318ed024-e0c4-41b2-a435-e8e6b62496d2"
   },
   "outputs": [
    {
     "name": "stdout",
     "output_type": "stream",
     "text": [
      "Average deviation in secs: 3.4139999999999917\n"
     ]
    }
   ],
   "source": [
    "print(\"Average deviation in secs:\", statistics.mean(deviations))"
   ]
  },
  {
   "cell_type": "markdown",
   "metadata": {
    "colab_type": "text",
    "id": "lAi5CahcDn_n"
   },
   "source": [
    "## Number of queries"
   ]
  },
  {
   "cell_type": "code",
   "execution_count": 17,
   "metadata": {
    "colab": {
     "base_uri": "https://localhost:8080/",
     "height": 920
    },
    "colab_type": "code",
    "id": "zo-Xqk-SDnF5",
    "outputId": "5099525f-9e49-442f-e36a-b118e7efab28"
   },
   "outputs": [
    {
     "name": "stdout",
     "output_type": "stream",
     "text": [
      "Number of queries\n",
      "Exhaustive   ||    Hybrid    ||    Modified Hybrid   ||    Saved% (Ex-Hyb)   ||    Saved% (Ex-Mod)\n",
      "320                320                119              0.0             62.81250000000001\n",
      "768                768                284              0.0             63.020833333333336\n",
      "2886                754                754              73.87387387387388             73.87387387387388\n",
      "13209                155                155              98.82655765008707             98.82655765008707\n",
      "2058                2058                759              0.0             63.11953352769679\n",
      "2870                2870                1057              0.0             63.170731707317074\n",
      "3009                3009                1108              0.0             63.17713526088401\n",
      "1740                1740                642              0.0             63.10344827586207\n",
      "2356                2356                868              0.0             63.1578947368421\n",
      "2948                2935                1086              0.44097693351424694             63.16146540027137\n",
      "1590                1590                586              0.0             63.14465408805031\n",
      "3402                1095                1095              67.81305114638448             67.81305114638448\n",
      "1300                1300                480              0.0             63.07692307692307\n",
      "2520                2520                929              0.0             63.13492063492063\n",
      "1643                1643                606              0.0             63.1162507608034\n",
      "396                396                147              0.0             62.878787878787875\n",
      "1560                1560                575              0.0             63.141025641025635\n",
      "9717                9717                3576              0.0             63.19851806112998\n",
      "912                912                337              0.0             63.04824561403509\n",
      "2607                2607                961              0.0             63.13770617568086\n",
      "1540                1540                568              0.0             63.116883116883116\n",
      "1400                22                22              98.42857142857143             98.42857142857143\n",
      "924                924                341              0.0             63.095238095238095\n",
      "2960                2960                1090              0.0             63.17567567567568\n",
      "1922                1920                709              0.10405827263267431             63.11134235171696\n",
      "960                155                155              83.85416666666666             83.85416666666666\n",
      "9020                9020                3320              0.0             63.19290465631929\n",
      "2356                2356                868              0.0             63.1578947368421\n",
      "5096                5094                1876              0.03924646781789639             63.18681318681318\n",
      "7998                7998                2944              0.0             63.19079769942486\n",
      "2150                2150                792              0.0             63.16279069767442\n",
      "2679                2679                987              0.0             63.1578947368421\n",
      "1058                1058                391              0.0             63.04347826086957\n",
      "279                217                104              22.22222222222222             62.72401433691756\n",
      "392                392                146              0.0             62.755102040816325\n",
      "3478                3478                1281              0.0             63.16848763657275\n",
      "1794                1794                661              0.0             63.154960981047935\n",
      "4896                4896                1803              0.0             63.174019607843135\n",
      "3040                3040                1120              0.0             63.1578947368421\n",
      "943                943                348              0.0             63.0965005302227\n",
      "3362                2122                1238              36.882807852468765             63.17668054729327\n",
      "1750                1750                645              0.0             63.142857142857146\n",
      "3332                2966                1227              10.984393757503002             63.175270108043215\n",
      "810                810                299              0.0             63.08641975308642\n",
      "6240                6240                2297              0.0             63.18910256410256\n",
      "4905                4905                1806              0.0             63.18042813455658\n",
      "210                210                79              0.0             62.38095238095238\n",
      "960                960                355              0.0             63.020833333333336\n",
      "1105                387                387              64.97737556561086             64.97737556561086\n",
      "3380                3380                1245              0.0             63.165680473372774\n"
     ]
    }
   ],
   "source": [
    "print(\"Number of queries\")\n",
    "print(\"Exhaustive   ||    Hybrid    ||    Modified Hybrid   ||    Saved% (Ex-Hyb)   ||    Saved% (Ex-Mod)\")\n",
    "\n",
    "hyb = []\n",
    "mod = []\n",
    "for e,h,m in zip(exhaustive, hybrid_q, mod_hybrid_q):\n",
    "    saved_hyb = ((e-h)/e)*100\n",
    "    hyb.append(saved_hyb)\n",
    "    saved_mod = ((e-m)/e)*100\n",
    "    mod.append(saved_mod)\n",
    "\n",
    "    print(e, \"              \", h,\"              \",m, \"            \",saved_hyb,\"           \",saved_mod)"
   ]
  },
  {
   "cell_type": "code",
   "execution_count": 18,
   "metadata": {
    "colab": {
     "base_uri": "https://localhost:8080/",
     "height": 34
    },
    "colab_type": "code",
    "id": "Sn5QDb-u2Aub",
    "outputId": "0c3452c3-5bf7-4360-d8de-6e09c8a35c40"
   },
   "outputs": [
    {
     "name": "stdout",
     "output_type": "stream",
     "text": [
      "Average numbers of queries saved for modified hybrid%: 65.27430176053835\n"
     ]
    }
   ],
   "source": [
    "print(\"Average numbers of queries saved for modified hybrid%:\", statistics.mean(mod))"
   ]
  },
  {
   "cell_type": "code",
   "execution_count": 19,
   "metadata": {
    "colab": {
     "base_uri": "https://localhost:8080/",
     "height": 34
    },
    "colab_type": "code",
    "id": "8tQ-vsww2bck",
    "outputId": "1a3dcbae-2786-4f77-a324-d338876c14fd"
   },
   "outputs": [
    {
     "name": "stdout",
     "output_type": "stream",
     "text": [
      "Average numbers of queries saved for hybrid%: 11.168946036747064\n"
     ]
    }
   ],
   "source": [
    "print(\"Average numbers of queries saved for hybrid%:\", statistics.mean(hyb))"
   ]
  }
 ],
 "metadata": {
  "accelerator": "GPU",
  "colab": {
   "collapsed_sections": [],
   "name": "Hybrid_Vs_Modified_Hybrid.ipynb",
   "provenance": []
  },
  "kernelspec": {
   "display_name": "Python 3",
   "language": "python",
   "name": "python3"
  },
  "language_info": {
   "codemirror_mode": {
    "name": "ipython",
    "version": 3
   },
   "file_extension": ".py",
   "mimetype": "text/x-python",
   "name": "python",
   "nbconvert_exporter": "python",
   "pygments_lexer": "ipython3",
   "version": "3.6.10"
  }
 },
 "nbformat": 4,
 "nbformat_minor": 1
}
