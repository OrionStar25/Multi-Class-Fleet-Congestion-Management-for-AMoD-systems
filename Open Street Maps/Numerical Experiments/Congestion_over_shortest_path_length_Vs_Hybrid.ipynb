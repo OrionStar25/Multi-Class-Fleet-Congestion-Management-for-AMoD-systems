{
  "nbformat": 4,
  "nbformat_minor": 0,
  "metadata": {
    "colab": {
      "name": "Congestion over shortest path length Vs Hybrid.ipynb",
      "provenance": [],
      "collapsed_sections": []
    },
    "kernelspec": {
      "display_name": "Python 3",
      "language": "python",
      "name": "python3"
    },
    "language_info": {
      "codemirror_mode": {
        "name": "ipython",
        "version": 3
      },
      "file_extension": ".py",
      "mimetype": "text/x-python",
      "name": "python",
      "nbconvert_exporter": "python",
      "pygments_lexer": "ipython3",
      "version": "3.6.10"
    }
  },
  "cells": [
    {
      "cell_type": "code",
      "metadata": {
        "colab_type": "code",
        "id": "mF0kte2iEAEU",
        "outputId": "56f9cb8e-020b-4aad-eca1-32d1f07bee37",
        "colab": {
          "base_uri": "https://localhost:8080/",
          "height": 193
        }
      },
      "source": [
        "from google.colab import drive\n",
        "drive.mount('/content/drive/')\n",
        "%cd drive/My \\Drive/Sem \\8 \\files/\n",
        "!ls"
      ],
      "execution_count": 1,
      "outputs": [
        {
          "output_type": "stream",
          "text": [
            "Go to this URL in a browser: https://accounts.google.com/o/oauth2/auth?client_id=947318989803-6bn6qk8qdgf4n4g3pfee6491hc0brc4i.apps.googleusercontent.com&redirect_uri=urn%3aietf%3awg%3aoauth%3a2.0%3aoob&response_type=code&scope=email%20https%3a%2f%2fwww.googleapis.com%2fauth%2fdocs.test%20https%3a%2f%2fwww.googleapis.com%2fauth%2fdrive%20https%3a%2f%2fwww.googleapis.com%2fauth%2fdrive.photos.readonly%20https%3a%2f%2fwww.googleapis.com%2fauth%2fpeopleapi.readonly\n",
            "\n",
            "Enter your authorization code:\n",
            "··········\n",
            "Mounted at /content/drive/\n",
            "/content/drive/My Drive/Sem 8 files\n",
            " data\t\t\t\t  __pycache__\n",
            " euclidean_distances.json\t  Shortest_path_lengths.pkl\n",
            "'Fri Feb 14 09_06_16 2020.json'   utils.py\n"
          ],
          "name": "stdout"
        }
      ]
    },
    {
      "cell_type": "code",
      "metadata": {
        "colab_type": "code",
        "id": "Anm_vCtg02sJ",
        "outputId": "fd06c1f1-f863-48d7-ef44-aac6e8548309",
        "colab": {
          "base_uri": "https://localhost:8080/",
          "height": 1000
        }
      },
      "source": [
        "!apt-get install -y libspatialindex-c4v5\n",
        "!pip3.6 install osmnx\n",
        "\n",
        "import osmnx as ox\n",
        "import networkx as nx\n",
        "import pandas as pd\n",
        "import json\n",
        "import random\n",
        "import statistics\n",
        "import matplotlib.pyplot as plt\n",
        "import numpy as np\n",
        "\n",
        "from rtree import index\n",
        "from utils import *"
      ],
      "execution_count": 2,
      "outputs": [
        {
          "output_type": "stream",
          "text": [
            "Reading package lists... Done\n",
            "Building dependency tree       \n",
            "Reading state information... Done\n",
            "The following additional packages will be installed:\n",
            "  libspatialindex4v5\n",
            "The following NEW packages will be installed:\n",
            "  libspatialindex-c4v5 libspatialindex4v5\n",
            "0 upgraded, 2 newly installed, 0 to remove and 25 not upgraded.\n",
            "Need to get 270 kB of archives.\n",
            "After this operation, 1,107 kB of additional disk space will be used.\n",
            "Get:1 http://archive.ubuntu.com/ubuntu bionic/universe amd64 libspatialindex4v5 amd64 1.8.5-5 [219 kB]\n",
            "Get:2 http://archive.ubuntu.com/ubuntu bionic/universe amd64 libspatialindex-c4v5 amd64 1.8.5-5 [51.7 kB]\n",
            "Fetched 270 kB in 2s (130 kB/s)\n",
            "Selecting previously unselected package libspatialindex4v5:amd64.\n",
            "(Reading database ... 144568 files and directories currently installed.)\n",
            "Preparing to unpack .../libspatialindex4v5_1.8.5-5_amd64.deb ...\n",
            "Unpacking libspatialindex4v5:amd64 (1.8.5-5) ...\n",
            "Selecting previously unselected package libspatialindex-c4v5:amd64.\n",
            "Preparing to unpack .../libspatialindex-c4v5_1.8.5-5_amd64.deb ...\n",
            "Unpacking libspatialindex-c4v5:amd64 (1.8.5-5) ...\n",
            "Setting up libspatialindex4v5:amd64 (1.8.5-5) ...\n",
            "Setting up libspatialindex-c4v5:amd64 (1.8.5-5) ...\n",
            "Processing triggers for libc-bin (2.27-3ubuntu1) ...\n",
            "/sbin/ldconfig.real: /usr/local/lib/python3.6/dist-packages/ideep4py/lib/libmkldnn.so.0 is not a symbolic link\n",
            "\n",
            "Collecting osmnx\n",
            "\u001b[?25l  Downloading https://files.pythonhosted.org/packages/ec/b1/19db159f912ca27e35968c2b89cf70014535999c1213ae005c32dbb42f4c/osmnx-0.11.4-py2.py3-none-any.whl (77kB)\n",
            "\u001b[K     |████████████████████████████████| 81kB 1.3MB/s \n",
            "\u001b[?25hRequirement already satisfied: networkx>=2.4 in /usr/local/lib/python3.6/dist-packages (from osmnx) (2.4)\n",
            "Requirement already satisfied: matplotlib>=3.1 in /usr/local/lib/python3.6/dist-packages (from osmnx) (3.2.1)\n",
            "Collecting requests>=2.22\n",
            "\u001b[?25l  Downloading https://files.pythonhosted.org/packages/1a/70/1935c770cb3be6e3a8b78ced23d7e0f3b187f5cbfab4749523ed65d7c9b1/requests-2.23.0-py2.py3-none-any.whl (58kB)\n",
            "\u001b[K     |████████████████████████████████| 61kB 4.7MB/s \n",
            "\u001b[?25hRequirement already satisfied: pandas>=1.0 in /usr/local/lib/python3.6/dist-packages (from osmnx) (1.0.3)\n",
            "Requirement already satisfied: numpy>=1.17 in /usr/local/lib/python3.6/dist-packages (from osmnx) (1.18.2)\n",
            "Collecting geopandas>=0.6\n",
            "\u001b[?25l  Downloading https://files.pythonhosted.org/packages/83/c5/3cf9cdc39a6f2552922f79915f36b45a95b71fd343cfc51170a5b6ddb6e8/geopandas-0.7.0-py2.py3-none-any.whl (928kB)\n",
            "\u001b[K     |████████████████████████████████| 931kB 11.1MB/s \n",
            "\u001b[?25hRequirement already satisfied: descartes>=1.1 in /usr/local/lib/python3.6/dist-packages (from osmnx) (1.1.0)\n",
            "Collecting Rtree>=0.9\n",
            "\u001b[?25l  Downloading https://files.pythonhosted.org/packages/56/6f/f1e91001d5ad9fa9bed65875152f5a1c7955c5763168cae309546e6e9fda/Rtree-0.9.4.tar.gz (62kB)\n",
            "\u001b[K     |████████████████████████████████| 71kB 8.2MB/s \n",
            "\u001b[?25hRequirement already satisfied: Shapely>=1.7 in /usr/local/lib/python3.6/dist-packages (from osmnx) (1.7.0)\n",
            "Collecting pyproj>=2.4\n",
            "\u001b[?25l  Downloading https://files.pythonhosted.org/packages/ce/37/705ee471f71130d4ceee41bbcb06f3b52175cb89273cbb5755ed5e6374e0/pyproj-2.6.0-cp36-cp36m-manylinux2010_x86_64.whl (10.4MB)\n",
            "\u001b[K     |████████████████████████████████| 10.4MB 28.2MB/s \n",
            "\u001b[?25hRequirement already satisfied: decorator>=4.3.0 in /usr/local/lib/python3.6/dist-packages (from networkx>=2.4->osmnx) (4.4.2)\n",
            "Requirement already satisfied: cycler>=0.10 in /usr/local/lib/python3.6/dist-packages (from matplotlib>=3.1->osmnx) (0.10.0)\n",
            "Requirement already satisfied: python-dateutil>=2.1 in /usr/local/lib/python3.6/dist-packages (from matplotlib>=3.1->osmnx) (2.8.1)\n",
            "Requirement already satisfied: kiwisolver>=1.0.1 in /usr/local/lib/python3.6/dist-packages (from matplotlib>=3.1->osmnx) (1.2.0)\n",
            "Requirement already satisfied: pyparsing!=2.0.4,!=2.1.2,!=2.1.6,>=2.0.1 in /usr/local/lib/python3.6/dist-packages (from matplotlib>=3.1->osmnx) (2.4.6)\n",
            "Requirement already satisfied: urllib3!=1.25.0,!=1.25.1,<1.26,>=1.21.1 in /usr/local/lib/python3.6/dist-packages (from requests>=2.22->osmnx) (1.24.3)\n",
            "Requirement already satisfied: certifi>=2017.4.17 in /usr/local/lib/python3.6/dist-packages (from requests>=2.22->osmnx) (2019.11.28)\n",
            "Requirement already satisfied: idna<3,>=2.5 in /usr/local/lib/python3.6/dist-packages (from requests>=2.22->osmnx) (2.8)\n",
            "Requirement already satisfied: chardet<4,>=3.0.2 in /usr/local/lib/python3.6/dist-packages (from requests>=2.22->osmnx) (3.0.4)\n",
            "Requirement already satisfied: pytz>=2017.2 in /usr/local/lib/python3.6/dist-packages (from pandas>=1.0->osmnx) (2018.9)\n",
            "Collecting fiona\n",
            "\u001b[?25l  Downloading https://files.pythonhosted.org/packages/ec/20/4e63bc5c6e62df889297b382c3ccd4a7a488b00946aaaf81a118158c6f09/Fiona-1.8.13.post1-cp36-cp36m-manylinux1_x86_64.whl (14.7MB)\n",
            "\u001b[K     |████████████████████████████████| 14.7MB 37.7MB/s \n",
            "\u001b[?25hRequirement already satisfied: setuptools in /usr/local/lib/python3.6/dist-packages (from Rtree>=0.9->osmnx) (46.1.3)\n",
            "Requirement already satisfied: six in /usr/local/lib/python3.6/dist-packages (from cycler>=0.10->matplotlib>=3.1->osmnx) (1.12.0)\n",
            "Requirement already satisfied: click<8,>=4.0 in /usr/local/lib/python3.6/dist-packages (from fiona->geopandas>=0.6->osmnx) (7.1.1)\n",
            "Collecting cligj>=0.5\n",
            "  Downloading https://files.pythonhosted.org/packages/e4/be/30a58b4b0733850280d01f8bd132591b4668ed5c7046761098d665ac2174/cligj-0.5.0-py3-none-any.whl\n",
            "Requirement already satisfied: attrs>=17 in /usr/local/lib/python3.6/dist-packages (from fiona->geopandas>=0.6->osmnx) (19.3.0)\n",
            "Collecting munch\n",
            "  Downloading https://files.pythonhosted.org/packages/cc/ab/85d8da5c9a45e072301beb37ad7f833cd344e04c817d97e0cc75681d248f/munch-2.5.0-py2.py3-none-any.whl\n",
            "Collecting click-plugins>=1.0\n",
            "  Downloading https://files.pythonhosted.org/packages/e9/da/824b92d9942f4e472702488857914bdd50f73021efea15b4cad9aca8ecef/click_plugins-1.1.1-py2.py3-none-any.whl\n",
            "Building wheels for collected packages: Rtree\n",
            "  Building wheel for Rtree (setup.py) ... \u001b[?25l\u001b[?25hdone\n",
            "  Created wheel for Rtree: filename=Rtree-0.9.4-cp36-none-any.whl size=21766 sha256=f359fbb7ac0ff1fc1dc5fb33338286374e092e2d9933907ef8056545654dd61e\n",
            "  Stored in directory: /root/.cache/pip/wheels/ff/20/c5/0004ef7acb96745ec99be960053902b0b414a2aa2dcad5834e\n",
            "Successfully built Rtree\n",
            "\u001b[31mERROR: google-colab 1.0.0 has requirement requests~=2.21.0, but you'll have requests 2.23.0 which is incompatible.\u001b[0m\n",
            "\u001b[31mERROR: datascience 0.10.6 has requirement folium==0.2.1, but you'll have folium 0.8.3 which is incompatible.\u001b[0m\n",
            "Installing collected packages: requests, cligj, munch, click-plugins, fiona, pyproj, geopandas, Rtree, osmnx\n",
            "  Found existing installation: requests 2.21.0\n",
            "    Uninstalling requests-2.21.0:\n",
            "      Successfully uninstalled requests-2.21.0\n",
            "Successfully installed Rtree-0.9.4 click-plugins-1.1.1 cligj-0.5.0 fiona-1.8.13.post1 geopandas-0.7.0 munch-2.5.0 osmnx-0.11.4 pyproj-2.6.0 requests-2.23.0\n"
          ],
          "name": "stdout"
        }
      ]
    },
    {
      "cell_type": "code",
      "metadata": {
        "colab_type": "code",
        "id": "RShXcYwX02sk",
        "outputId": "01ac7bbb-2183-47ca-b3f1-ee2e55bead15",
        "colab": {
          "base_uri": "https://localhost:8080/",
          "height": 34
        }
      },
      "source": [
        "place_name = \"Singapore, Central, Singapore\"\n",
        "G = ox.save_load.load_graphml(filename=\"Singapore_drive_processed.graphml\")\n",
        "\n",
        "# Stores nodes and edges mapped with speed bands along with other attributes\n",
        "type(G)"
      ],
      "execution_count": 3,
      "outputs": [
        {
          "output_type": "execute_result",
          "data": {
            "text/plain": [
              "networkx.classes.multidigraph.MultiDiGraph"
            ]
          },
          "metadata": {
            "tags": []
          },
          "execution_count": 3
        }
      ]
    },
    {
      "cell_type": "code",
      "metadata": {
        "colab_type": "code",
        "id": "S1NMV7e402s9",
        "colab": {}
      },
      "source": [
        "edges = ox.graph_to_gdfs(G, nodes=False, edges=True)\n",
        "nodes = pd.read_pickle('data/nodes_drive.pkl')"
      ],
      "execution_count": 0,
      "outputs": []
    },
    {
      "cell_type": "code",
      "metadata": {
        "colab_type": "code",
        "id": "yiJwQczp02ti",
        "outputId": "98d8abf4-ba73-41ee-b6b4-7f256d023d75",
        "colab": {
          "base_uri": "https://localhost:8080/",
          "height": 104
        }
      },
      "source": [
        "f = open(\"Fri Feb 14 09_06_16 2020.json\", \"r\").read()\n",
        "x = json.loads(f)\n",
        "\n",
        "speed_bands = pd.DataFrame.from_dict(x, orient='columns')\n",
        "process_speed_band(speed_bands)"
      ],
      "execution_count": 5,
      "outputs": [
        {
          "output_type": "stream",
          "text": [
            "/content/drive/My Drive/Sem 8 files/utils.py:51: SettingWithCopyWarning: \n",
            "A value is trying to be set on a copy of a slice from a DataFrame\n",
            "\n",
            "See the caveats in the documentation: https://pandas.pydata.org/pandas-docs/stable/user_guide/indexing.html#returning-a-view-versus-a-copy\n",
            "  df['MaximumSpeed'][i] = '80'\n"
          ],
          "name": "stderr"
        }
      ]
    },
    {
      "cell_type": "code",
      "metadata": {
        "colab_type": "code",
        "id": "j4ucj9bU02uI",
        "colab": {}
      },
      "source": [
        "calculate_congestion(G, edges, speed_bands)"
      ],
      "execution_count": 0,
      "outputs": []
    },
    {
      "cell_type": "code",
      "metadata": {
        "colab_type": "code",
        "id": "DXvM1T3-D588",
        "colab": {}
      },
      "source": [
        "# Filter out all bus stop nodes\n",
        "# key: node label ,value: location\n",
        "idx = index.Index()\n",
        "\n",
        "xx = nodes['x'].astype(float)\n",
        "yy = nodes['y'].astype(float)\n",
        "node_id = nodes['osmid']\n",
        "node_type = nodes['highway']\n",
        "\n",
        "# nan = 18823\n",
        "\n",
        "# speed_camera = 2\n",
        "# motorway_junction = 222\n",
        "# turning_circle = 79\n",
        "# crossing = 27\n",
        "# turning_loop = 26\n",
        "# mini_roundabout = 6\n",
        "# traffic signals = 4031\n",
        "\n",
        "for node, x, y, kind in zip(node_id, xx, yy, node_type):\n",
        "    if type(kind) == float:\n",
        "      idx.insert(int(node), (x,y,x,y))"
      ],
      "execution_count": 0,
      "outputs": []
    },
    {
      "cell_type": "markdown",
      "metadata": {
        "colab_type": "text",
        "id": "pCb2mwI6D584"
      },
      "source": [
        "### Showing that the shortest distance may not be the least congested path always."
      ]
    },
    {
      "cell_type": "code",
      "metadata": {
        "colab_type": "code",
        "id": "W8E0y9fFD59I",
        "colab": {}
      },
      "source": [
        "def find_nearest_nodes(nodes, source, dist, idx):\n",
        "    # Create a bounding box around source of min distance in all directions\n",
        "    (north, south, east, west) = ox.bbox_from_point(point=source, distance=dist)\n",
        "    \n",
        "    candidate_nodes = []\n",
        "    initial = list(idx.intersection((west, south, east, north)))   \n",
        "    for node in initial:\n",
        "      x = haversine_distance(nodes, node, source)\n",
        "      if x <= dist:\n",
        "        candidate_nodes.append(node)\n",
        "\n",
        "    return candidate_nodes"
      ],
      "execution_count": 0,
      "outputs": []
    },
    {
      "cell_type": "code",
      "metadata": {
        "colab_type": "code",
        "id": "Q-zt3gxTD59T",
        "colab": {}
      },
      "source": [
        "def get_length_dict(sources, destinations, method='euclidean'):\n",
        "    distances = dict()\n",
        "    \n",
        "    if method == 'euclidean':\n",
        "        for source in sources:        \n",
        "            for dest in destinations:\n",
        "                ed = haversine_distance(nodes, source, dest)\n",
        "                distances[source,dest] = ed/13.8889\n",
        "    elif method == 'hybrid':\n",
        "        for source in sources:        \n",
        "            for dest in destinations:\n",
        "                try:\n",
        "                    # dijsktra distance in sec\n",
        "                    d = nx.shortest_path_length(G, source, dest, weight='BPR', method='dijkstra')\n",
        "                except nx.NetworkXUnfeasible:\n",
        "                    d = float('inf')\n",
        "                distances[(source,dest)] = d\n",
        "    elif method == 'dijkstra':\n",
        "        for source in sources:\n",
        "            for dest in destinations:\n",
        "                try:\n",
        "                    # dijsktra distance in metres\n",
        "                    d = nx.shortest_path_length(G, source, dest, weight='length', method='dijkstra')\n",
        "                except nx.NetworkXUnfeasible:\n",
        "                    d = float('inf')\n",
        "                distances[(source,dest)] = d\n",
        "       \n",
        "    # sort the dictionary in ascending order using distances\n",
        "    x = sorted(distances.items(), key = lambda kv:(kv[1], kv[0]))\n",
        "    return x    "
      ],
      "execution_count": 0,
      "outputs": []
    },
    {
      "cell_type": "code",
      "metadata": {
        "colab_type": "code",
        "id": "KU0UougTpgBK",
        "colab": {}
      },
      "source": [
        "def lets_do_this():\n",
        "  # get 10 random sources\n",
        "  sources = []\n",
        "  for i in range(10):\n",
        "      r = random.randint(0,23210)\n",
        "      s = nodes['osmid'].values[r]\n",
        "      sources.append(s)\n",
        "      \n",
        "  # get 10 correspondig random targets\n",
        "  targets = []\n",
        "  for i in range(10):\n",
        "      r = random.randint(0,23210)\n",
        "      t = nodes['osmid'].values[r]\n",
        "      targets.append(t)\n",
        "\n",
        "  hybrid = []\n",
        "  exhaustive = []\n",
        "  for s,t in zip(sources,targets):\n",
        "      orig_point = nodes[nodes['osmid'] == s].geometry.values[0]\n",
        "      target_point = nodes[nodes['osmid'] == t].geometry.values[0]\n",
        "      orig_xy = (orig_point.y, orig_point.x)\n",
        "      target_xy = (target_point.y, target_point.x)\n",
        "      \n",
        "      # Max distance for walking is 720m (10 min * 1.2 m/s)\n",
        "      # Find all nodes within 720 m from candidate sources and candidate destinations\n",
        "      candidate_dest = find_nearest_nodes(nodes, target_xy, 500, idx)\n",
        "      candidate_source = find_nearest_nodes(nodes, orig_xy, 500, idx)\n",
        "\n",
        "      if len(candidate_dest) == 0:\n",
        "        candidate_dest.append(ox.get_nearest_node(G, target_xy))\n",
        "      \n",
        "      if len(candidate_source) == 0:\n",
        "        candidate_source.append(ox.get_nearest_node(G, orig_xy))\n",
        "      \n",
        "      tape_lengths = dict(get_length_dict(candidate_source, candidate_dest, method='dijkstra'))\n",
        "      real_lengths = dict(get_length_dict(candidate_source, candidate_dest, method='hybrid'))\n",
        "      euclidean = get_length_dict(candidate_source, candidate_dest)\n",
        "      \n",
        "      # value1: hybrid (in secs), value2: exhaustive tape length travel time (in secs)\n",
        "      value1 = hybrid_search_length(G, euclidean, real_lengths)\n",
        "      hybrid.append(value1)\n",
        "\n",
        "      key = next(iter(tape_lengths))    \n",
        "      value2 = real_lengths[(key[0], key[1])]\n",
        "      exhaustive.append(value2)\n",
        "\n",
        "      print(s, t, value1, value2)\n",
        "      \n",
        "  # return travel times\n",
        "  return hybrid, exhaustive"
      ],
      "execution_count": 0,
      "outputs": []
    },
    {
      "cell_type": "code",
      "metadata": {
        "colab_type": "code",
        "id": "CVprJshmD59h",
        "outputId": "cd318a19-9fdd-45aa-93c7-3ff5a381c1b1",
        "colab": {
          "base_uri": "https://localhost:8080/",
          "height": 191
        }
      },
      "source": [
        "hybrid, exhaustive = lets_do_this()"
      ],
      "execution_count": 11,
      "outputs": [
        {
          "output_type": "stream",
          "text": [
            "4868234655 1318514087 2746.9503441677525 5430.75631638578\n",
            "3736513310 2674329547 4790.702397248608 9560.700984672627\n",
            "6273396368 5214956045 262.48332789889855 1169.5243778550505\n",
            "1845246503 6047755848 2686.5565785484846 3115.6053887749026\n",
            "1849457982 4598835264 768.4147241507226 769.2457163504603\n",
            "241598308 5256723273 2140.7260924989846 155735.09184564374\n",
            "1637003430 2577843872 2795.8482121361462 3211.1113277158065\n",
            "2385488983 1711614613 2399.627973597399 3675.6843504395597\n",
            "4605000856 4600582772 6165.9878930517925 6165.9878930517925\n",
            "1360143410 4713792476 745.402867368042 501305.82250181044\n"
          ],
          "name": "stdout"
        }
      ]
    },
    {
      "cell_type": "code",
      "metadata": {
        "id": "0v5SrSVHtaIs",
        "colab_type": "code",
        "outputId": "f717ab38-7672-4f6b-b6c0-b355879067d1",
        "colab": {
          "base_uri": "https://localhost:8080/",
          "height": 369
        }
      },
      "source": [
        "# Plot them\n",
        "\n",
        "labels = [x for x in range(1,10)]\n",
        "\n",
        "x = np.arange(len(labels))  # the label locations\n",
        "width = 0.35  # the width of the bars\n",
        "\n",
        "fig, ax = plt.subplots(figsize=(10,5))\n",
        "rects1 = ax.bar(x - width/2, exhaustive[:-1], width, label='Exhaustive')\n",
        "rects2 = ax.bar(x + width/2, hybrid[:-1], width, label='Hybrid')\n",
        "\n",
        "# Add some text for labels, title and custom x-axis tick labels, etc.\n",
        "ax.set_ylabel('Travel times (in sec)')\n",
        "ax.set_xlabel('Customer requests')\n",
        "ax.set_title('Travel time between Hybrid and Shortest Path length travel time')\n",
        "ax.set_xticks(x)\n",
        "ax.set_xticklabels(labels)\n",
        "ax.legend()\n",
        "\n",
        "fig.tight_layout()"
      ],
      "execution_count": 20,
      "outputs": [
        {
          "output_type": "display_data",
          "data": {
            "image/png": "[encoded data removed]",
            "text/plain": [
              "<Figure size 720x360 with 1 Axes>"
            ]
          },
          "metadata": {
            "tags": []
          }
        }
      ]
    },
    {
      "cell_type": "code",
      "metadata": {
        "id": "NU8uBp02y1hk",
        "colab_type": "code",
        "colab": {}
      },
      "source": [
        ""
      ],
      "execution_count": 0,
      "outputs": []
    }
  ]
}