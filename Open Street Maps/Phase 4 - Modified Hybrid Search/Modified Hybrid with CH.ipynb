{
 "cells": [
  {
   "cell_type": "code",
   "execution_count": 1,
   "metadata": {
    "colab": {
     "base_uri": "https://localhost:8080/",
     "height": 627
    },
    "colab_type": "code",
    "id": "Anm_vCtg02sJ",
    "outputId": "0c28fba4-cd5a-4117-c879-deb2fd650842"
   },
   "outputs": [],
   "source": [
    "# !apt-get install -y libspatialindex-c4v5\n",
    "# !pip3.6 install osmnx\n",
    "\n",
    "import osmnx as ox\n",
    "import networkx as nx\n",
    "import pandas as pd\n",
    "import json\n",
    "import requests\n",
    "\n",
    "from rtree import index\n",
    "from shapely.geometry import box\n",
    "from utils import *"
   ]
  },
  {
   "cell_type": "code",
   "execution_count": 2,
   "metadata": {
    "colab": {
     "base_uri": "https://localhost:8080/",
     "height": 52
    },
    "colab_type": "code",
    "id": "RShXcYwX02sk",
    "outputId": "58552f50-8d53-40f8-d879-ad656cef7a2f"
   },
   "outputs": [
    {
     "name": "stdout",
     "output_type": "stream",
     "text": [
      "<class 'networkx.classes.multidigraph.MultiDiGraph'>\n",
      "<class 'networkx.classes.multidigraph.MultiDiGraph'>\n"
     ]
    }
   ],
   "source": [
    "place_name = \"Singapore, Central, Singapore\"\n",
    "G = ox.save_load.load_graphml(filename=\"Singapore_drive_processed.graphml\")\n",
    "G_whole = ox.save_load.load_graphml(filename=\"Singapore_processed.graphml\")\n",
    "\n",
    "# Stores nodes and edges mapped with speed bands along with other attributes\n",
    "print(type(G))\n",
    "print(type(G_whole))"
   ]
  },
  {
   "cell_type": "code",
   "execution_count": 3,
   "metadata": {
    "colab": {},
    "colab_type": "code",
    "id": "S1NMV7e402s9"
   },
   "outputs": [],
   "source": [
    "edges = ox.graph_to_gdfs(G, nodes=False, edges=True)\n",
    "nodes = pd.read_pickle('data/nodes_drive.pkl')"
   ]
  },
  {
   "cell_type": "code",
   "execution_count": 4,
   "metadata": {},
   "outputs": [
    {
     "data": {
      "text/html": [
       "<div>\n",
       "<style scoped>\n",
       "    .dataframe tbody tr th:only-of-type {\n",
       "        vertical-align: middle;\n",
       "    }\n",
       "\n",
       "    .dataframe tbody tr th {\n",
       "        vertical-align: top;\n",
       "    }\n",
       "\n",
       "    .dataframe thead th {\n",
       "        text-align: right;\n",
       "    }\n",
       "</style>\n",
       "<table border=\"1\" class=\"dataframe\">\n",
       "  <thead>\n",
       "    <tr style=\"text-align: right;\">\n",
       "      <th></th>\n",
       "      <th>y</th>\n",
       "      <th>x</th>\n",
       "      <th>osmid</th>\n",
       "      <th>highway</th>\n",
       "      <th>geometry</th>\n",
       "      <th>ref</th>\n",
       "    </tr>\n",
       "  </thead>\n",
       "  <tbody>\n",
       "    <tr>\n",
       "      <th>1820000257</th>\n",
       "      <td>1.356580</td>\n",
       "      <td>103.932616</td>\n",
       "      <td>1820000257</td>\n",
       "      <td>traffic_signals</td>\n",
       "      <td>POINT (103.93262 1.35658)</td>\n",
       "      <td>NaN</td>\n",
       "    </tr>\n",
       "    <tr>\n",
       "      <th>3874553858</th>\n",
       "      <td>1.319182</td>\n",
       "      <td>103.921237</td>\n",
       "      <td>3874553858</td>\n",
       "      <td>NaN</td>\n",
       "      <td>POINT (103.92124 1.31918)</td>\n",
       "      <td>NaN</td>\n",
       "    </tr>\n",
       "    <tr>\n",
       "      <th>1820000259</th>\n",
       "      <td>1.356647</td>\n",
       "      <td>103.932745</td>\n",
       "      <td>1820000259</td>\n",
       "      <td>traffic_signals</td>\n",
       "      <td>POINT (103.93275 1.35665)</td>\n",
       "      <td>NaN</td>\n",
       "    </tr>\n",
       "    <tr>\n",
       "      <th>3874553857</th>\n",
       "      <td>1.319219</td>\n",
       "      <td>103.921661</td>\n",
       "      <td>3874553857</td>\n",
       "      <td>NaN</td>\n",
       "      <td>POINT (103.92166 1.31922)</td>\n",
       "      <td>NaN</td>\n",
       "    </tr>\n",
       "    <tr>\n",
       "      <th>2083586053</th>\n",
       "      <td>1.400663</td>\n",
       "      <td>103.872050</td>\n",
       "      <td>2083586053</td>\n",
       "      <td>NaN</td>\n",
       "      <td>POINT (103.87205 1.40066)</td>\n",
       "      <td>NaN</td>\n",
       "    </tr>\n",
       "  </tbody>\n",
       "</table>\n",
       "</div>"
      ],
      "text/plain": [
       "                   y           x       osmid          highway  \\\n",
       "1820000257  1.356580  103.932616  1820000257  traffic_signals   \n",
       "3874553858  1.319182  103.921237  3874553858              NaN   \n",
       "1820000259  1.356647  103.932745  1820000259  traffic_signals   \n",
       "3874553857  1.319219  103.921661  3874553857              NaN   \n",
       "2083586053  1.400663  103.872050  2083586053              NaN   \n",
       "\n",
       "                             geometry  ref  \n",
       "1820000257  POINT (103.93262 1.35658)  NaN  \n",
       "3874553858  POINT (103.92124 1.31918)  NaN  \n",
       "1820000259  POINT (103.93275 1.35665)  NaN  \n",
       "3874553857  POINT (103.92166 1.31922)  NaN  \n",
       "2083586053  POINT (103.87205 1.40066)  NaN  "
      ]
     },
     "execution_count": 4,
     "metadata": {},
     "output_type": "execute_result"
    }
   ],
   "source": [
    "nodes.head()"
   ]
  },
  {
   "cell_type": "code",
   "execution_count": 7,
   "metadata": {
    "colab": {
     "base_uri": "https://localhost:8080/",
     "height": 104
    },
    "colab_type": "code",
    "id": "yiJwQczp02ti",
    "outputId": "a4428a9c-25e5-455c-8c50-d527851fee00"
   },
   "outputs": [
    {
     "name": "stderr",
     "output_type": "stream",
     "text": [
      "/home/orionstar25/Semester-8-Major-Project/Open Street Maps/Phase 4 - Modified Hybrid Search/utils.py:51: SettingWithCopyWarning: \n",
      "A value is trying to be set on a copy of a slice from a DataFrame\n",
      "\n",
      "See the caveats in the documentation: https://pandas.pydata.org/pandas-docs/stable/user_guide/indexing.html#returning-a-view-versus-a-copy\n",
      "  df['MaximumSpeed'][i] = '80'\n"
     ]
    }
   ],
   "source": [
    "f = open(\"../../Traffic speed bands/Fri Feb 14 09_06_16 2020.json\", \"r\").read()\n",
    "x = json.loads(f)\n",
    "\n",
    "speed_bands = pd.DataFrame.from_dict(x, orient='columns')\n",
    "process_speed_band(speed_bands)"
   ]
  },
  {
   "cell_type": "code",
   "execution_count": 8,
   "metadata": {
    "colab": {},
    "colab_type": "code",
    "id": "j4ucj9bU02uI"
   },
   "outputs": [],
   "source": [
    "calculate_congestion(G, edges, speed_bands)"
   ]
  },
  {
   "cell_type": "code",
   "execution_count": 9,
   "metadata": {},
   "outputs": [],
   "source": [
    "# ox.save_load.save_graph_shapefile(G, filename='graph')"
   ]
  },
  {
   "cell_type": "markdown",
   "metadata": {
    "colab_type": "text",
    "id": "5GdlUOcM02uV"
   },
   "source": [
    "### Middle mile routing"
   ]
  },
  {
   "cell_type": "code",
   "execution_count": 10,
   "metadata": {
    "colab": {
     "base_uri": "https://localhost:8080/",
     "height": 34
    },
    "colab_type": "code",
    "id": "OpAR_hir02ua",
    "outputId": "6814e866-5ed3-47b0-8112-14747b8cd234"
   },
   "outputs": [
    {
     "name": "stdout",
     "output_type": "stream",
     "text": [
      "POINT (103.82129505 1.3515309)\n"
     ]
    }
   ],
   "source": [
    "# Boundary Box of entire area\n",
    "bbox = box(*edges.unary_union.bounds)\n",
    "orig_point = bbox.centroid\n",
    "print(orig_point)"
   ]
  },
  {
   "cell_type": "code",
   "execution_count": 11,
   "metadata": {
    "colab": {
     "base_uri": "https://localhost:8080/",
     "height": 34
    },
    "colab_type": "code",
    "id": "Sja5C9E_02uo",
    "outputId": "5ed6f802-badf-4970-d207-7d71eec87353"
   },
   "outputs": [
    {
     "name": "stdout",
     "output_type": "stream",
     "text": [
      "POINT (103.9326163 1.3565805)\n"
     ]
    }
   ],
   "source": [
    "target_point = nodes[nodes['osmid'] == 1820000257].geometry.values[0]\n",
    "print(target_point)"
   ]
  },
  {
   "cell_type": "code",
   "execution_count": 12,
   "metadata": {
    "colab": {},
    "colab_type": "code",
    "id": "ngLGhn4802u2"
   },
   "outputs": [],
   "source": [
    "orig_xy = (orig_point.y, orig_point.x)\n",
    "target_xy = (target_point.y, target_point.x)"
   ]
  },
  {
   "cell_type": "code",
   "execution_count": 13,
   "metadata": {
    "colab": {},
    "colab_type": "code",
    "id": "kEtSgaJo02vE"
   },
   "outputs": [],
   "source": [
    "# Filter out all bus stop nodes\n",
    "# key: node label ,value: location\n",
    "idx = index.Index()\n",
    "\n",
    "xx = nodes['x'].astype(float)\n",
    "yy = nodes['y'].astype(float)\n",
    "node_id = nodes['osmid']\n",
    "node_type = nodes['highway']\n",
    "\n",
    "# nan = 18823\n",
    "\n",
    "# speed_camera = 2\n",
    "# motorway_junction = 222\n",
    "# turning_circle = 79\n",
    "# crossing = 27\n",
    "# turning_loop = 26\n",
    "# mini_roundabout = 6\n",
    "# traffic signals = 4031\n",
    "\n",
    "for node, x, y, kind in zip(node_id, xx, yy, node_type):\n",
    "    if type(kind) == float:\n",
    "        idx.insert(int(node), (x,y,x,y))"
   ]
  },
  {
   "cell_type": "code",
   "execution_count": 14,
   "metadata": {
    "colab": {},
    "colab_type": "code",
    "id": "idiH1dZb02vU"
   },
   "outputs": [],
   "source": [
    "def find_nearest_nodes(nodes, source, dist, idx):\n",
    "    # Create a bounding box around source of min distance in all directions\n",
    "    (north, south, east, west) = ox.bbox_from_point(point=source, distance=dist)\n",
    "    \n",
    "    candidate_nodes = []\n",
    "    initial = list(idx.intersection((west, south, east, north)))   \n",
    "    for node in initial:\n",
    "        x = haversine_distance(nodes, node, source)\n",
    "        if x <= dist:\n",
    "            candidate_nodes.append(node)\n",
    "\n",
    "    return candidate_nodes"
   ]
  },
  {
   "cell_type": "code",
   "execution_count": 15,
   "metadata": {
    "colab": {},
    "colab_type": "code",
    "id": "zgyXu9z402vi"
   },
   "outputs": [],
   "source": [
    "# Max distance for walking is 720m (10 min * 1.2 m/s)\n",
    "# Find all nodes within 720 m from candidate sources and candidate destinations\n",
    "candidate_dest = find_nearest_nodes(nodes, target_xy, 720, idx)\n",
    "candidate_source = find_nearest_nodes(nodes, orig_xy, 720, idx)"
   ]
  },
  {
   "cell_type": "code",
   "execution_count": 16,
   "metadata": {
    "colab": {
     "base_uri": "https://localhost:8080/",
     "height": 52
    },
    "colab_type": "code",
    "id": "aPDwFi1bCuyE",
    "outputId": "0a7bcacd-868a-46ec-c00f-bd8e40568eee"
   },
   "outputs": [
    {
     "name": "stdout",
     "output_type": "stream",
     "text": [
      "57\n",
      "8\n"
     ]
    }
   ],
   "source": [
    "print(len(candidate_dest))\n",
    "print(len(candidate_source))"
   ]
  },
  {
   "cell_type": "code",
   "execution_count": 17,
   "metadata": {
    "colab": {},
    "colab_type": "code",
    "id": "nksfriVYSR_t"
   },
   "outputs": [],
   "source": [
    "def euclidean_length(sources, destinations):\n",
    "    distances = dict()\n",
    "    \n",
    "    for source in sources:\n",
    "        for dest in destinations:\n",
    "            ed = haversine_distance(nodes, source, dest)\n",
    "            # Convert to secs\n",
    "            distances[source,dest] = ed/13.8889 \n",
    "       \n",
    "    # sort the dictionary in ascending order using distances\n",
    "    x = sorted(distances.items(), key = lambda kv:(kv[1], kv[0]))\n",
    "    return x    "
   ]
  },
  {
   "cell_type": "code",
   "execution_count": 18,
   "metadata": {
    "colab": {},
    "colab_type": "code",
    "id": "plvgqhcZSSHX"
   },
   "outputs": [],
   "source": [
    "x = euclidean_length(candidate_source, candidate_dest)"
   ]
  },
  {
   "cell_type": "code",
   "execution_count": 26,
   "metadata": {
    "colab": {},
    "colab_type": "code",
    "id": "s7IYc--5SgpT"
   },
   "outputs": [],
   "source": [
    "def modified_hybrid_routing(x, G):\n",
    "    n = len(x)\n",
    "    cutoff = math.floor(n/math.exp(1))\n",
    "    min_pair = x[0]\n",
    "    source = min_pair[0][0]\n",
    "    dest = min_pair[0][1]\n",
    "    min_tt = float('inf')\n",
    "    final_route = []\n",
    "    count = 0\n",
    "\n",
    "    for i in range(n):\n",
    "        try:\n",
    "            source_x = nodes[nodes['osmid'] == source]['x'].values[0]\n",
    "            source_y = nodes[nodes['osmid'] == source]['y'].values[0]\n",
    "            dest_x = nodes[nodes['osmid'] == dest]['x'].values[0]\n",
    "            dest_y = nodes[nodes['osmid'] == dest]['y'].values[0]\n",
    "            \n",
    "            url = \"http://0.0.0.0:5000/route/v1/driving/{},{};{},{}\".format(source_x, source_y, dest_x, dest_y)\n",
    "            r = requests.get(url)\n",
    "            json = r.json()\n",
    "            \n",
    "            travel_time = json['routes'][0]['weight']\n",
    "            count = count + 1\n",
    "        except nx.NetworkXUnfeasible:\n",
    "            continue\n",
    "\n",
    "        # have reached cutoff and didnt find optimal yet\n",
    "        if i > cutoff:\n",
    "            if travel_time < min_tt:\n",
    "                min_tt = travel_time\n",
    "                min_pair = x[i]\n",
    "                break\n",
    "\n",
    "            if i < n-1:\n",
    "                if min_tt < x[i+1][1]:\n",
    "                    break\n",
    "                else:\n",
    "                    source = x[i+1][0][0]\n",
    "                    dest = x[i+1][0][1]\n",
    "            else:\n",
    "                break\n",
    "        else:\n",
    "            if travel_time < min_tt:\n",
    "                min_tt = travel_time\n",
    "                min_pair = x[i]\n",
    "\n",
    "                if i < n-1:\n",
    "                    if travel_time < x[i+1][1]:\n",
    "                        break\n",
    "                    else:\n",
    "                        source = x[i+1][0][0]\n",
    "                        dest = x[i+1][0][1]\n",
    "                else:\n",
    "                    break\n",
    "            else:\n",
    "                if i < n-1:\n",
    "                    if min_tt < x[i+1][1]:\n",
    "                        break\n",
    "                    else:\n",
    "                        source = x[i+1][0][0]\n",
    "                        dest = x[i+1][0][1]\n",
    "                else:\n",
    "                    break\n",
    "    \n",
    "    print(\"Number of iterations:\", count)\n",
    "    final_route = nx.shortest_path(G, min_pair[0][0], min_pair[0][1], weight='BPR', method='dijkstra')\n",
    "    return final_route, min_tt, min_pair"
   ]
  },
  {
   "cell_type": "code",
   "execution_count": 27,
   "metadata": {
    "colab": {
     "base_uri": "https://localhost:8080/",
     "height": 52
    },
    "colab_type": "code",
    "id": "kI844RO002vr",
    "outputId": "d140d1f0-4879-4787-9d43-55484639413f",
    "scrolled": true
   },
   "outputs": [
    {
     "name": "stdout",
     "output_type": "stream",
     "text": [
      "Number of iterations: 456\n",
      "16.21333333333333\n"
     ]
    }
   ],
   "source": [
    "middle_mile, travel_cost, sd_pair = modified_hybrid_routing(x, G)\n",
    "print(travel_cost/60)"
   ]
  },
  {
   "cell_type": "code",
   "execution_count": 29,
   "metadata": {
    "colab": {
     "base_uri": "https://localhost:8080/",
     "height": 357
    },
    "colab_type": "code",
    "id": "NxHP3ZGC02wM",
    "outputId": "68d708d3-f643-4152-eb74-15f83b68326c"
   },
   "outputs": [
    {
     "data": {
      "image/png": "[encoded data removed]",
      "text/plain": [
       "<Figure size 754.994x432 with 1 Axes>"
      ]
     },
     "metadata": {},
     "output_type": "display_data"
    }
   ],
   "source": [
    "fig, ax = ox.plot_graph_route(G, middle_mile, origin_point=orig_xy, destination_point=target_xy)"
   ]
  },
  {
   "cell_type": "markdown",
   "metadata": {
    "colab_type": "text",
    "id": "KYKbhy7YB5QM"
   },
   "source": [
    "## First mile"
   ]
  },
  {
   "cell_type": "code",
   "execution_count": 30,
   "metadata": {
    "colab": {},
    "colab_type": "code",
    "id": "KmaI4xB0h9P7"
   },
   "outputs": [],
   "source": [
    "def print_route(route):\n",
    "  i = 0\n",
    "  n = len(route)\n",
    "\n",
    "  for i in range(n):\n",
    "    for nei,w in G_whole[route[i]].items():\n",
    "      if i+1 != n:\n",
    "        if nei == route[i+1]:\n",
    "          print(w[0].get('highway'), w[0].get('length'))"
   ]
  },
  {
   "cell_type": "code",
   "execution_count": 31,
   "metadata": {
    "colab": {
     "base_uri": "https://localhost:8080/",
     "height": 139
    },
    "colab_type": "code",
    "id": "3tZfPILUdfcV",
    "outputId": "090cb355-ed73-4bf1-92a0-e812179c0a11"
   },
   "outputs": [
    {
     "name": "stdout",
     "output_type": "stream",
     "text": [
      "residential 102.051\n",
      "residential 7.747\n",
      "residential 32.174\n",
      "residential 124.57300000000001\n",
      "residential 56.33\n",
      "Distance from X to A:  482.23028553412615\n",
      "Distance from A to B:  322.875\n"
     ]
    }
   ],
   "source": [
    "orig_node, dist = ox.get_nearest_node(G_whole, orig_xy, method='haversine', return_dist = True)\n",
    "first_mile = nx.shortest_path(G_whole, orig_node, sd_pair[0][0], weight='length', method='dijkstra')\n",
    "first_mile_length = nx.shortest_path_length(G_whole, orig_node, sd_pair[0][0], weight='length', method='dijkstra')\n",
    "\n",
    "print_route(first_mile)\n",
    "print(\"Distance from X to A: \", dist) # in metres\n",
    "print(\"Distance from A to B: \", first_mile_length) # in metres"
   ]
  },
  {
   "cell_type": "markdown",
   "metadata": {
    "colab_type": "text",
    "id": "J7fMJfToCaRX"
   },
   "source": [
    "### Last Mile"
   ]
  },
  {
   "cell_type": "code",
   "execution_count": 32,
   "metadata": {
    "colab": {
     "base_uri": "https://localhost:8080/",
     "height": 225
    },
    "colab_type": "code",
    "id": "dvp8SlVrj3ji",
    "outputId": "8f006230-837f-4064-c26b-557298b67465"
   },
   "outputs": [
    {
     "name": "stdout",
     "output_type": "stream",
     "text": [
      "primary 561.0409999999999\n",
      "primary 31.486\n",
      "primary 10.98\n",
      "primary 17.553\n",
      "primary 11.666\n",
      "primary 26.612\n",
      "primary 256.842\n",
      "primary 9.377\n",
      "tertiary 13.573\n",
      "primary 8.92\n",
      "Distance from C to D:  948.0499999999998\n",
      "Distance from D to Y:  0.0\n"
     ]
    }
   ],
   "source": [
    "target_node, dist = ox.get_nearest_node(G_whole, target_xy, method='haversine', return_dist= True)\n",
    "last_mile = nx.shortest_path(G_whole, sd_pair[0][1], target_node, weight='length', method='dijkstra')\n",
    "last_mile_length = nx.shortest_path_length(G_whole, sd_pair[0][1], target_node, weight='length', method='dijkstra')\n",
    "\n",
    "print_route(last_mile)\n",
    "print(\"Distance from C to D: \", last_mile_length)\n",
    "print(\"Distance from D to Y: \", dist)"
   ]
  },
  {
   "cell_type": "code",
   "execution_count": null,
   "metadata": {},
   "outputs": [],
   "source": []
  }
 ],
 "metadata": {
  "accelerator": "GPU",
  "colab": {
   "collapsed_sections": [],
   "name": "Hybrid_congestion_aware_routing.ipynb",
   "provenance": []
  },
  "kernelspec": {
   "display_name": "Python 3",
   "language": "python",
   "name": "python3"
  },
  "language_info": {
   "codemirror_mode": {
    "name": "ipython",
    "version": 3
   },
   "file_extension": ".py",
   "mimetype": "text/x-python",
   "name": "python",
   "nbconvert_exporter": "python",
   "pygments_lexer": "ipython3",
   "version": "3.6.10"
  }
 },
 "nbformat": 4,
 "nbformat_minor": 1
}
